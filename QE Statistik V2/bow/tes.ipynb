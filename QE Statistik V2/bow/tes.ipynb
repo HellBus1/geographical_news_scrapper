{
 "cells": [
  {
   "cell_type": "code",
   "execution_count": 1,
   "metadata": {},
   "outputs": [],
   "source": [
    "import pandas as pd\n",
    "# df = pd.read_csv(\"bow_where_b.csv\")\n",
    "# df2 = pd.read_csv(\"bow_where_daerah.csv\")\n",
    "\n",
    "# df2.head()\n",
    "# frames = [df, df2]\n",
    "# result = pd.concat(frames)\n",
    "# result.info()\n",
    "\n",
    "# result.to_csv('bow_where_concat.csv', index=False)\n",
    "\n",
    "df_new = pd.read_csv('bow_what3.csv')\n",
    "# df_new = df_new.loc[:, ~df_new.columns.str.contains('^Unnamed')]\n",
    "df_new.drop_duplicates(subset=\"parent\", keep=\"first\", inplace=True)\n",
    "df_new.duplicated()\n",
    "df_new.head()\n",
    "df_new.to_csv('bow_what_new.csv')"
   ]
  }
 ],
 "metadata": {
  "interpreter": {
   "hash": "8e3bfc5ac744054c9787902a0204d3692d88f436b6cb2cc0caf0518cc03255ac"
  },
  "kernelspec": {
   "display_name": "Python 3.9.9 ('venv': venv)",
   "language": "python",
   "name": "python3"
  },
  "language_info": {
   "codemirror_mode": {
    "name": "ipython",
    "version": 3
   },
   "file_extension": ".py",
   "mimetype": "text/x-python",
   "name": "python",
   "nbconvert_exporter": "python",
   "pygments_lexer": "ipython3",
   "version": "3.9.9"
  },
  "orig_nbformat": 4
 },
 "nbformat": 4,
 "nbformat_minor": 2
}
