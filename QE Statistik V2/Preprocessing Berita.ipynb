{
 "cells": [
  {
   "cell_type": "code",
   "execution_count": 1,
   "metadata": {},
   "outputs": [
    {
     "name": "stderr",
     "output_type": "stream",
     "text": [
      "[nltk_data] Downloading package stopwords to\n",
      "[nltk_data]     /Users/syubbanfakhriya/nltk_data...\n",
      "[nltk_data]   Package stopwords is already up-to-date!\n"
     ]
    }
   ],
   "source": [
    "# Import library-library\n",
    "import os\n",
    "import glob\n",
    "import string\n",
    "\n",
    "# Data Preparation and Preprocessing\n",
    "import pandas as pd\n",
    "import re\n",
    "import nltk\n",
    "nltk.download('stopwords')\n",
    "from nltk.corpus import stopwords\n",
    "\n",
    "# Word Embedding\n",
    "import joblib\n",
    "from sklearn.feature_extraction.text import TfidfVectorizer\n",
    "import scipy.sparse\n",
    "\n",
    "from sklearn.metrics.pairwise import cosine_similarity\n",
    "\n",
    "# Input and Expansion Query\n",
    "from textblob import TextBlob\n",
    "from nltk.tokenize import wordpunct_tokenize\n",
    "#from googletrans import Translator\n",
    "\n",
    "#Split to train and test\n",
    "from sklearn.model_selection import train_test_split"
   ]
  },
  {
   "cell_type": "code",
   "execution_count": 2,
   "metadata": {},
   "outputs": [],
   "source": [
    "excluded_words = [\"tempat\", \"waktu\", \"gempa\", \"banjir\"]\n",
    "\n",
    "NLTK_StopWords = stopwords.words('indonesian')\n",
    "NLTK_StopWords.extend([\"detik\", \"detikjatim\", \"detikjateng\", \"detikjabar\", \"detiksulsel\", \"detiksumbar\", \"detikbali\", \"detikpapua\", \"detiksulteng\", \"detikmaluku\", \"detjatim\", \"detikcom\", \"allahumma\", \"aamiin\", \"aamiin\", \"allah\", \"bismillah\"])\n",
    "NLTK_StopWords.extend([\"yg\", \"dg\", \"rt\", \"dgn\", \"ny\", \"d\", 'klo', \n",
    "                       'kalo', 'amp', 'biar', 'bikin', 'bilang', \n",
    "                       'gak', 'ga', 'krn', 'nya', 'nih', 'sih', \n",
    "                       'si', 'tau', 'tdk', 'tuh', 'utk', 'ya', \n",
    "                       'jd', 'jgn', 'sdh', 'aja', 'n', 't', \n",
    "                       'nyg', 'hehe', 'pen', 'u', 'nan', 'loh', 'rt',\n",
    "                       '&amp', 'yah'])\n",
    "txt_stopword = pd.read_csv(\"stopwords.txt\", names= [\"stopwords\"], header = None)\n",
    "\n",
    "# convert stopword string to list & append additional stopword\n",
    "NLTK_StopWords.extend(txt_stopword[\"stopwords\"][0].split(' '))\n",
    "NLTK_StopWords = set(NLTK_StopWords)"
   ]
  },
  {
   "cell_type": "code",
   "execution_count": 3,
   "metadata": {},
   "outputs": [],
   "source": [
    "def preprocessing(berita):\n",
    "    # Preprocessing\n",
    "    s = berita.lower()\n",
    "    s = s.replace('\\\\t',\" \").replace('\\\\n',\" \").replace('\\\\u',\" \").replace('\\\\',\"\")\n",
    "    s = s.encode('ascii', 'replace').decode('ascii')\n",
    "    ' '.join(re.sub(\"([@#][A-Za-z0-9]+)|(\\w+:\\/\\/\\S+)\",\" \", s).split())\n",
    "    s.replace(\"http://\", \" \").replace(\"https://\", \" \")\n",
    "    s = re.sub('\\s+', ' ', s)\n",
    "    s = s.strip()\n",
    "    s = s.translate(str.maketrans(\"\",\"\", string.punctuation))\n",
    "    s = re.sub(r'[^a-zA-Z0-9\\s]', ' ', s)\n",
    "    s = re.sub(r'\\b\\w{1,1}\\b', '', s)\n",
    "    tokens = [token for token in s.split(\" \") if token != \"\"]\n",
    "\n",
    "    # Stopwords checking\n",
    "    T = [t for t in tokens if ((t in excluded_words) or (t not in NLTK_StopWords))]\n",
    "    return T"
   ]
  },
  {
   "cell_type": "code",
   "execution_count": 4,
   "metadata": {},
   "outputs": [
    {
     "name": "stdout",
     "output_type": "stream",
     "text": [
      "<class 'pandas.core.frame.DataFrame'>\n",
      "RangeIndex: 1655 entries, 0 to 1654\n",
      "Data columns (total 4 columns):\n",
      " #   Column       Non-Null Count  Dtype \n",
      "---  ------       --------------  ----- \n",
      " 0   title        1655 non-null   object\n",
      " 1   date         1655 non-null   object\n",
      " 2   description  1655 non-null   object\n",
      " 3   source       1655 non-null   object\n",
      "dtypes: object(4)\n",
      "memory usage: 51.8+ KB\n"
     ]
    }
   ],
   "source": [
    "df =pd.read_csv(\"news.csv\")\n",
    "df.info()\n",
    "# df.head()"
   ]
  },
  {
   "cell_type": "code",
   "execution_count": 5,
   "metadata": {},
   "outputs": [],
   "source": [
    "column = ['Title', 'Date', 'Description', 'Source']\n",
    "df_total = pd.DataFrame()\n",
    "\n",
    "df = pd.read_csv(\"news.csv\")\n",
    "df = df.dropna(subset=['description'], axis=0)\n",
    "df.sort_values(\"description\", inplace = True)\n",
    "df.drop_duplicates(subset =\"description\", keep = False, inplace = True)\n",
    "\n",
    "df.head()\n",
    "df_train_unprocessed, df_test_unprocessed = train_test_split(df,test_size=0.1)"
   ]
  },
  {
   "cell_type": "code",
   "execution_count": 6,
   "metadata": {},
   "outputs": [],
   "source": [
    "for x in range(0, df.shape[0]):\n",
    "    text = preprocessing(df.iloc[x, -2])\n",
    "    df.iloc[x, -2] = (' '.join(text)) "
   ]
  },
  {
   "cell_type": "code",
   "execution_count": 7,
   "metadata": {},
   "outputs": [
    {
     "data": {
      "text/html": [
       "<div>\n",
       "<style scoped>\n",
       "    .dataframe tbody tr th:only-of-type {\n",
       "        vertical-align: middle;\n",
       "    }\n",
       "\n",
       "    .dataframe tbody tr th {\n",
       "        vertical-align: top;\n",
       "    }\n",
       "\n",
       "    .dataframe thead th {\n",
       "        text-align: right;\n",
       "    }\n",
       "</style>\n",
       "<table border=\"1\" class=\"dataframe\">\n",
       "  <thead>\n",
       "    <tr style=\"text-align: right;\">\n",
       "      <th></th>\n",
       "      <th>title</th>\n",
       "      <th>date</th>\n",
       "      <th>description</th>\n",
       "      <th>source</th>\n",
       "    </tr>\n",
       "  </thead>\n",
       "  <tbody>\n",
       "    <tr>\n",
       "      <th>1295</th>\n",
       "      <td>\\n        Atap Plafon Mal di Kemang Jaksel Amb...</td>\n",
       "      <td>Sabtu, 05 Mar 2022 15:33 WIB</td>\n",
       "      <td>kawasan kemang jakarta selatan ambruk peristiw...</td>\n",
       "      <td>www.detik.com</td>\n",
       "    </tr>\n",
       "    <tr>\n",
       "      <th>608</th>\n",
       "      <td>\\n        Kemarau Datang, Petani di Klaten Cur...</td>\n",
       "      <td>Senin, 13 Jul 2020 13:15 WIB</td>\n",
       "      <td>datangnya musim seminggu air air ponggok kecam...</td>\n",
       "      <td>www.detik.com</td>\n",
       "    </tr>\n",
       "    <tr>\n",
       "      <th>735</th>\n",
       "      <td>\\n        Bencana Alam, Pandemi dan Urgensi Pe...</td>\n",
       "      <td>Minggu, 24 Jan 2021 16:04 WIB</td>\n",
       "      <td>rentetan bencana alam berulang pandemi covid19...</td>\n",
       "      <td>www.detik.com</td>\n",
       "    </tr>\n",
       "    <tr>\n",
       "      <th>1613</th>\n",
       "      <td>\\n        Gunung Merapi Muntahkan Awan Panas S...</td>\n",
       "      <td>Minggu, 09 Jan 2022 14:58 WIB</td>\n",
       "      <td>gunung merapi memuntahkan awan panas minggu si...</td>\n",
       "      <td>www.detik.com</td>\n",
       "    </tr>\n",
       "    <tr>\n",
       "      <th>1551</th>\n",
       "      <td>\\n        Melihat Perjuangan Damkar Jinakkan K...</td>\n",
       "      <td>Kamis, 12 Agu 2021 09:37 WIB</td>\n",
       "      <td>kebakaran lahan desa rawa jaya pemulutan ogan ...</td>\n",
       "      <td>www.detik.com</td>\n",
       "    </tr>\n",
       "  </tbody>\n",
       "</table>\n",
       "</div>"
      ],
      "text/plain": [
       "                                                  title  \\\n",
       "1295  \\n        Atap Plafon Mal di Kemang Jaksel Amb...   \n",
       "608   \\n        Kemarau Datang, Petani di Klaten Cur...   \n",
       "735   \\n        Bencana Alam, Pandemi dan Urgensi Pe...   \n",
       "1613  \\n        Gunung Merapi Muntahkan Awan Panas S...   \n",
       "1551  \\n        Melihat Perjuangan Damkar Jinakkan K...   \n",
       "\n",
       "                               date  \\\n",
       "1295   Sabtu, 05 Mar 2022 15:33 WIB   \n",
       "608    Senin, 13 Jul 2020 13:15 WIB   \n",
       "735   Minggu, 24 Jan 2021 16:04 WIB   \n",
       "1613  Minggu, 09 Jan 2022 14:58 WIB   \n",
       "1551   Kamis, 12 Agu 2021 09:37 WIB   \n",
       "\n",
       "                                            description         source  \n",
       "1295  kawasan kemang jakarta selatan ambruk peristiw...  www.detik.com  \n",
       "608   datangnya musim seminggu air air ponggok kecam...  www.detik.com  \n",
       "735   rentetan bencana alam berulang pandemi covid19...  www.detik.com  \n",
       "1613  gunung merapi memuntahkan awan panas minggu si...  www.detik.com  \n",
       "1551  kebakaran lahan desa rawa jaya pemulutan ogan ...  www.detik.com  "
      ]
     },
     "execution_count": 7,
     "metadata": {},
     "output_type": "execute_result"
    }
   ],
   "source": [
    "df.head()\n",
    "df_train, df_test = train_test_split(df,test_size=0.1)\n",
    "df_train.head()"
   ]
  },
  {
   "cell_type": "code",
   "execution_count": 8,
   "metadata": {},
   "outputs": [
    {
     "data": {
      "text/plain": [
       "['corpus/model/desc_text_test_unprocessed.pkl']"
      ]
     },
     "execution_count": 8,
     "metadata": {},
     "output_type": "execute_result"
    }
   ],
   "source": [
    "desc_text_test_unprocessed = []\n",
    "\n",
    "for x in range(0, df_test_unprocessed.shape[0]):\n",
    "  desc_text_test_unprocessed.append(df_test_unprocessed.iloc[x, -2])\n",
    "\n",
    "joblib.dump(desc_text_test_unprocessed, \"corpus/model/desc_text_test_unprocessed.pkl\")"
   ]
  },
  {
   "cell_type": "code",
   "execution_count": 9,
   "metadata": {},
   "outputs": [],
   "source": [
    "desc_text_train = []\n",
    "desc_text_test = []\n",
    "\n",
    "for x in range(0, df_train.shape[0]):\n",
    "  desc_text_train.append(df_train.iloc[x, -2])\n",
    "\n",
    "for x in range(0, df_test.shape[0]):\n",
    "  desc_text_test.append(df_test.iloc[x, -2])"
   ]
  },
  {
   "cell_type": "code",
   "execution_count": 10,
   "metadata": {},
   "outputs": [
    {
     "name": "stdout",
     "output_type": "stream",
     "text": [
      "Panjang Dokumen Test :  166\n",
      "------------------------------------------------------------------------------------------\n",
      "Panjang Dokumen Train :  1489\n"
     ]
    }
   ],
   "source": [
    "# print(df_test.info())\n",
    "print(\"Panjang Dokumen Test : \", len(desc_text_test))\n",
    "\n",
    "print ('-'*90)\n",
    "\n",
    "# print(df_train.info())\n",
    "print(\"Panjang Dokumen Train : \", len(desc_text_train))"
   ]
  },
  {
   "cell_type": "code",
   "execution_count": 11,
   "metadata": {},
   "outputs": [],
   "source": [
    "# Simpan teks asli dokumen\n",
    "joblib.dump(desc_text_test, \"corpus/model/desc_text_test.pkl\")\n",
    "joblib.dump(desc_text_train, \"corpus/model/desc_text_train.pkl\")\n",
    "\n",
    "# Simpan dataframe hasil text processing sebelum TF-IDF Vectorizer\n",
    "df.to_csv('corpus/dataset/df_total.csv', index=False)\n",
    "df_test.to_csv('corpus/dataset/df_test.csv', index=False)\n",
    "df_train.to_csv('corpus/dataset/df_train.csv', index=False)\n"
   ]
  },
  {
   "cell_type": "code",
   "execution_count": 12,
   "metadata": {},
   "outputs": [
    {
     "name": "stdout",
     "output_type": "stream",
     "text": [
      "tfidf_test_matrix\n",
      "(166, 4393)\n",
      "tfidf_train_matrix\n",
      "(1489, 16943)\n"
     ]
    }
   ],
   "source": [
    "# Fit transform menggunakan TF-IDF Vectorizer\n",
    "tfidf_vectorizer = TfidfVectorizer()\n",
    "tfidf_test_matrix = tfidf_vectorizer.fit_transform(desc_text_test)\n",
    "tfidf_train_matrix = tfidf_vectorizer.fit_transform(desc_text_train)\n",
    "\n",
    "print('tfidf_test_matrix')\n",
    "print(tfidf_test_matrix.shape)\n",
    "print('tfidf_train_matrix')\n",
    "print(tfidf_train_matrix.shape)"
   ]
  },
  {
   "cell_type": "code",
   "execution_count": 13,
   "metadata": {},
   "outputs": [
    {
     "data": {
      "text/plain": [
       "['corpus/matrix/tfidf_train.pkl']"
      ]
     },
     "execution_count": 13,
     "metadata": {},
     "output_type": "execute_result"
    }
   ],
   "source": [
    "joblib.dump(tfidf_vectorizer, \"corpus/vectorizer/vectorizer.pkl\")\n",
    "joblib.dump(tfidf_test_matrix, \"corpus/matrix/tfidf_test.pkl\")\n",
    "joblib.dump(tfidf_train_matrix, \"corpus/matrix/tfidf_train.pkl\")"
   ]
  },
  {
   "cell_type": "markdown",
   "metadata": {},
   "source": [
    "### Pencarian "
   ]
  },
  {
   "cell_type": "code",
   "execution_count": 14,
   "metadata": {},
   "outputs": [
    {
     "name": "stdout",
     "output_type": "stream",
     "text": [
      "<class 'pandas.core.frame.DataFrame'>\n",
      "Int64Index: 1655 entries, 0 to 1654\n",
      "Data columns (total 4 columns):\n",
      " #   Column       Non-Null Count  Dtype \n",
      "---  ------       --------------  ----- \n",
      " 0   title        1655 non-null   object\n",
      " 1   date         1655 non-null   object\n",
      " 2   description  1655 non-null   object\n",
      " 3   source       1655 non-null   object\n",
      "dtypes: object(4)\n",
      "memory usage: 64.6+ KB\n",
      "None\n",
      "------------------------------------------------------------------------------------------\n",
      "166\n",
      "1489\n"
     ]
    }
   ],
   "source": [
    "df_total = pd.read_csv('corpus/dataset/df_total.csv')\n",
    "df_total = df_total[pd.notnull(df_total['description'])]\n",
    "print(df_total.info())\n",
    "print ('-'*90)\n",
    "\n",
    "document_text_train= joblib.load('corpus/model/desc_text_train.pkl')\n",
    "document_text_test= joblib.load('corpus/model/desc_text_test.pkl')\n",
    "print(len(document_text_test))\n",
    "print(len(document_text_train))"
   ]
  },
  {
   "cell_type": "code",
   "execution_count": 15,
   "metadata": {},
   "outputs": [
    {
     "name": "stdout",
     "output_type": "stream",
     "text": [
      "['gempa']\n",
      "\n",
      "======================\n",
      "\n",
      "Top 10 most similar documents in corpus:\n",
      "No ID Dokumen  :  248\n",
      "Tanggal        :  Kamis, 27 Mei  2021 10:21 WIB\n",
      "Isi berita     :  beredar pesan singkat berisi peringatan gempa berkekuatan 85 potensi tsunami badan meteorologi klimatologi geofisika pusat gempa nasionalinatews peringatan kesalahan pengiriman daryono bmkg menginvestigasi investigasi beredar pesan singkat berisi peringatan gempa berkekuatan 85 badan meteorologi klimatologi geofisika bmkg bmkg kesalahan sistem pengiriman pesan peringatan tsunami tangkapan layar pesan singkat berisi peringatan gempa diunggah warganet twitter pesan berisi peringatan tsunami provinsi jawa timur ntb bali ntt jawa gempa berkekuatan 85 magnitudo peringatan tsunami jatim ntb bali ntt jateng gempa mag85 04jun21 101445wib lok1050ls 11480bt kdlmn10kmbmkg bunyi pesan dikirim kominfobmkg pesan terkirim kesalahan sistem pengiriman test maaf kesalahan system pengiriman testperingatan tsunami jatimntbbalinttjatengbmkg kepala pusat gempa bumi tsunami rahmat triyono dikonfirmasi kamis 275\n",
      "(Score: 0.6223) \n",
      "No ID Dokumen  :  663\n",
      "Tanggal        :  Selasa, 06 Apr 2021 17:39 WIB\n",
      "Isi berita     :  juta rumah bisnis kawasan industri dilansir perusahaan air negara memotong pasokan wilayah taichung miaoli distrik changhua utara seminggu pemerintah memperingatkan menghadapi terburuk penjatahan air diterapkan pembatasan diberlakukan perawatan sampo salon pencucian mobil pom bensin kekeringan melanda angin topan menerjang taiwan kalinya 56 kota tainan badan sumber daya air level ketinggian air bendungan terbesar tsengwen mencapai 12 persen bendungan baihe benarbenar kering kekurangan air memburuk berpotensi merusak rencana taiwan mengatasi kekurangan microship global dipicu pandemi\n",
      "(Score: 0.5844) \n",
      "No ID Dokumen  :  795\n",
      "Tanggal        :  Kamis, 27 Jan 2022 23:06 WIB\n",
      "Isi berita     :  pergerakan tanah kamis 2712022 1500 wib kampung kebon kelapa desa cilangkap kecamatan kalanganyar lebak rumah rumah produksi rusak akibat fenomena pantauan lokasi tanah bergerak turun mencapai 15 meter lantai rumah berjarak tanah retakan dinding rumah tiang rumah miring lokasi kejadian benang kuning menandakan garis aman pantauan pemilik rumah karman kejadian 1500 wib tanah bergerak pelan retakan ringan kamar mandi tanah bergerak turun retakan kamar mandi menjalar lantai dapur rumahnya perlahanlahan suara karman bercerita kejadian rumah produksi mendengar anaknya memanggil lantas menghampiri anak asbes berjatuhan kamar mandi pas kamar mandi dapur retak suka bunyi trektrek trek jaro cilangkap ahmad roni membenarkan pergerakan tanah wilayahnya rumah rumah produksi terdampak roni kejadian murni pergerakan tanah hujan deras mengantisipasi pergerakan tanah susulan roni pemilik rumah diungsikan desa menunggu bpbd lebak menangani kejadian diungsikan terpaksa diungsikan keselamatan pungkasnya\n",
      "(Score: 0.5686) \n",
      "No ID Dokumen  :  1435\n",
      "Tanggal        :  Rabu, 19 Jan 2022 22:17 WIB\n",
      "Isi berita     :  bumi magnitudo 45 mengguncang bima pusat gempa laut 64 barat laut bima tulis bmkg situs resminya rabu 1912022 gempa dilaporkan 2148 wib titik koordinat gempa 788 ls11859 bt kedalaman 37 tulis bmkg gempa dirasakan bima dompu skala iii modified mercalli intensity mmi getaran dirasakan rumah getaran seakanakan truk informasi dampak gempa bmkg mengimbau masyarakat waspada gempa susulan\n",
      "(Score: 0.5651) \n",
      "No ID Dokumen  :  846\n",
      "Tanggal        :  Senin, 07 Feb 2022 21:34 WIB\n",
      "Isi berita     :  proyek galian perusahaan air minum pam legok kelapa kapolsek kelapa kompol tribuana roseno membenarkan peristiwa peristiwa senin 72 1400 wib tkpnya proyek galian pdam raya legok kelapa korban nama dafa muhammad 21 garut meninggal dunia tribuana dihubungi wartawan senin 722022 korban tewas berasa rsud kabupaten tangerang korban luka bernama nurdin 37 korban nama nurdin mengalami lukaluka dirawat rs mitra keluarga imbuhnya korban pekerja harian lepas phl korban tewas pekerja harian lepas penggali pipa imbuhnya tribuana korban dafa nurdin membersihkan tanah samping pipa pdam disambung belah korban membersihkan galian pekerja longsor tanah dibersihkan pekerja berjalan teman korban ketimpa longsoran tanah pipanya ambruk ditangani kepolisian polisi menyelidiki kejadian\n",
      "(Score: 0.5485) \n",
      "No ID Dokumen  :  664\n",
      "Tanggal        :  Selasa, 22 Sep 2020 15:27 WIB\n",
      "Isi berita     :  letak geografis kabupaten kuningan dikelilingi perbukitan keberadaan gunung ciremai wilayah rawan bencana alam banjir longsor tanah bergerak kepala pelaksana bpbd kabupaten kuningan indra bayu 15 kecamatan wilayah rawa bencana kecamatan rawan bencana kecamatan kadugede karangkancana selajambe nusaherang hantara darma subang cilebak ciniru ciwaru cimahi cibeureum cibingbin luragung cidahu indra ditemui kantornya selasa 2292020 keberadaan sesar baribis segmen ciremai salah penyebab gempa bumi rawan kabupaten kuningan menurutnya gempa bumi pergerakan tanah periodik longsor banjir rawan gempa bumi tanah bergerak periodik antisipasinya longsor banjir indra upaya antisipasi sodetan sungai cijangkelok seringkali meluap hujan turun intensitas bencana banjir kuningan pertengahan februari 2020 desa kecamatan cibingbin terendam akibat meluapnya sungai cijangkelok\n",
      "(Score: 0.5405) \n",
      "No ID Dokumen  :  767\n",
      "Tanggal        :  Senin, 17 Jan 2022 18:11 WIB\n",
      "Isi berita     :  pemprov dki jakarta mengirimkan bantuan logistik personel gabungan membantu penanganan bencana pemprov dki senantiasa bergerak cepat menyalurkan bantuan penanganan bencana alam daerah terkena musibah bencana alam bentuk kolaborasi jajaran pemprov dki jakarta membantu anak bangsa plt kepala bpbd dki jakarta sabdo kurnianto keterangannya senin 1712022 sabdo truk bantuan logistik berisikan 26 membenahi rumah warga rusak akibat gempa berkoordinasi bupati pandeglang kepala pelaksana kalak bpbd camat sumur wakil bupati pandeglang tanto warsono arban menerima bantuan logistik pemprov dki serahterima bantuan pendopo kantor pemerintah kabupaten pemkab pandeglang berterima kasih bantuan logistik disalurkan pemprov dki jakarta bantuan dibutuhkan bermanfaat penanganan musibah gempa bumi tanto tanto pemkab pandeglang mendistribusikan bantuan logistik warga rumahnya mengalami kerusakan akibat gempa bumi tim reaksi cepat pemprov dki jakarta ditempatkan lokasi gempa mobil ambulans membantu pemkab pandeglang penanggulangan bencana bantuan logistik tim reaksi cepat dikerahkan pemprov dki jakarta bersinergi lapangan penanganan pemulihan pascabencana pandeglang tim bpbd provinsi\n",
      "(Score: 0.5352) \n",
      "No ID Dokumen  :  303\n",
      "Tanggal        :  Jumat, 05 Jun 2020 17:11 WIB\n",
      "Isi berita     :  pandemi mendasarkan surat kepala stasiun klimatologi bmkg semarang nomor hm0200007ksmgiii2020 tanggal 30 maret surat kepala pelaksana bpbd provinsi kabupatenkota jateng kabid logistik kedaruratan bpbd pemkab klaten sri yuwana haris yulianto haris surat wilayah klaten kemarau mei november puncaknya diprediksi agustus wilayah kabupaten klaten kemarau dasarian mei pekan kecamatan hujan intensitas bpbd merencanakan pengiriman air tanggal 29 juni haris bpbd memproses persetujuan sk bupati klaten status siaga darurat bencana kekeringan 2020 status siaga kekeringan tanggal juni status rencananya berlaku tanggal juni 30 november 2020 undang camat 2019 sasaran pengiriman air bersih haris mengundang sembilan camat realita lapangan berbeda realisasinya menyesuaikan situasi lapangan realisasi 2020 tergantung kondisi lapangan 42 desa kecamatan sasaran 2019 bertambah berkurang terang haris\n",
      "(Score: 0.5293) \n",
      "No ID Dokumen  :  1166\n",
      "Tanggal        :  Kamis, 03 Sep 2020 21:30 WIB\n",
      "Isi berita     :  badan penanggulangan bencana daerah bpbd provinsi jawa barat mencatat kekeringan wilayah bogor indramayu cirebon\n",
      "(Score: 0.5235) \n",
      "No ID Dokumen  :  272\n",
      "Tanggal        :  Selasa, 28 Des 2021 12:20 WIB\n",
      "Isi berita     :  pekan fenomena cuaca hujan es puting beliung waterspout fenomena puting beliung permukaan air luas angin kencang menumbangkan pohon rumah kasi data bmkg klas juanda surabaya teguh susanto fenomena berasal awan cumulonimbus cb pertumbuhan awan masif menjelang puncak musim hujan fenomena berasal awan rendah jenis cumulonimbus cb puncak musim hujan pertumbuhan awan cb massive teguh surabaya selasa 28122021 teguh menyebut puncak musim hujan periode akumulasi curah hujan tertinggi dasarian berturutturut wilayah jawa timur diprediksi januari februari 2022 imbuhnya kesempatan teguh mengimbau masyarakat senantiasa waspada potensi bencana hidrometeorologi masyarakat diimbau waspada periode fenomena bencana hidrometeorologi menyertai contohnya banjir tanah longsor\n",
      "(Score: 0.5196) \n"
     ]
    }
   ],
   "source": [
    "kueri='gempa'\n",
    "kueri=preprocessing(kueri)\n",
    "kueri= [\" \".join (kueri)]\n",
    "print (kueri)\n",
    "\n",
    "tfidf_matrix =joblib.load( \"corpus/matrix/tfidf_train.pkl\" )\n",
    "tfidf_vectorizer = joblib.load( \"corpus/vectorizer/vectorizer.pkl\" ) \n",
    "query_vec= tfidf_vectorizer.transform(kueri)\n",
    "results=cosine_similarity(tfidf_matrix, query_vec).reshape((-1))\n",
    "#print (results)\n",
    "print(\"\\n======================\\n\")\n",
    "print(\"Top 10 most similar documents in corpus:\")\n",
    "\n",
    "j = 1\n",
    "\n",
    "for i in results.argsort()[-10:][::-1]:\n",
    "    print(\"No ID Dokumen  : \", i)\n",
    "    print(\"Tanggal        : \", df_total.iloc[i,1])\n",
    "    print(\"Isi berita     : \", df_total.iloc[i,2])\n",
    "    print(\"(Score: %.4f) \" % results[i])"
   ]
  }
 ],
 "metadata": {
  "kernelspec": {
   "display_name": "Python 3",
   "language": "python",
   "name": "python3"
  },
  "language_info": {
   "codemirror_mode": {
    "name": "ipython",
    "version": 3
   },
   "file_extension": ".py",
   "mimetype": "text/x-python",
   "name": "python",
   "nbconvert_exporter": "python",
   "pygments_lexer": "ipython3",
   "version": "3.9.9"
  }
 },
 "nbformat": 4,
 "nbformat_minor": 2
}
