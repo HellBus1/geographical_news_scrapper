{
  "cells": [
    {
      "cell_type": "code",
      "execution_count": 1,
      "metadata": {
        "colab": {
          "base_uri": "https://localhost:8080/"
        },
        "id": "8uQdtf4qBI1J",
        "outputId": "44afa638-142f-4dab-d608-d51e6ebb508b"
      },
      "outputs": [
        {
          "output_type": "stream",
          "name": "stdout",
          "text": [
            "[nltk_data] Downloading package stopwords to /root/nltk_data...\n",
            "[nltk_data]   Unzipping corpora/stopwords.zip.\n"
          ]
        }
      ],
      "source": [
        "# Import library-library\n",
        "import os\n",
        "import glob\n",
        "\n",
        "# Data Preparation and Preprocessing\n",
        "import pandas as pd\n",
        "import re\n",
        "import nltk\n",
        "nltk.download('stopwords')\n",
        "from nltk.corpus import stopwords\n",
        "NLTK_StopWords = stopwords.words('indonesian')\n",
        "NLTK_StopWords = set(NLTK_StopWords)\n",
        "\n",
        "# Word Embedding\n",
        "import joblib\n",
        "from sklearn.feature_extraction.text import TfidfVectorizer\n",
        "import scipy.sparse\n",
        "\n",
        "from sklearn.metrics.pairwise import cosine_similarity\n",
        "\n",
        "# Input and Expansion Query\n",
        "from textblob import TextBlob\n",
        "from nltk.tokenize import wordpunct_tokenize\n",
        "#from googletrans import Translator\n",
        "\n",
        "#Split to train and test\n",
        "from sklearn.model_selection import train_test_split"
      ]
    },
    {
      "cell_type": "code",
      "source": [
        "excluded_words = [\"tempat\", \"waktu\"]\n",
        "NLTK_StopWords.update([\"detik\", \"detikjatim\", \"detikjateng\", \"detikjabar\", \"detiksulsel\", \"detiksumbar\", \"detikbali\", \"detikpapua\", \"detiksulteng\", \"detikmaluku\", \"detjatim\", \"detikcom\"])"
      ],
      "metadata": {
        "id": "QMl0qcEudqzn"
      },
      "execution_count": 2,
      "outputs": []
    },
    {
      "cell_type": "code",
      "execution_count": 3,
      "metadata": {
        "id": "d-nge4e9Ce_P"
      },
      "outputs": [],
      "source": [
        "def preprocessing(berita):\n",
        "    s = berita.lower()\n",
        "    s = s.replace('\\n', ' ')\n",
        "    s = s.replace('\\r', ' ')\n",
        "    s = s.replace(' o ', ' ')\n",
        "    s = re.sub(r'[^a-zA-Z0-9\\s]', ' ', s)\n",
        "    s = re.sub(r'[0-9]', ' ', s)\n",
        "    tokens = [token for token in s.split(\" \") if token != \"\"]\n",
        "    T = [t for t in tokens if ((t in excluded_words) or (t not in NLTK_StopWords))]\n",
        "    return T"
      ]
    },
    {
      "cell_type": "code",
      "execution_count": 5,
      "metadata": {
        "colab": {
          "base_uri": "https://localhost:8080/",
          "height": 402
        },
        "id": "prVrtuPNDLXw",
        "outputId": "e40173b8-ea5f-4673-fbdd-b694ccfb4748"
      },
      "outputs": [
        {
          "output_type": "stream",
          "name": "stdout",
          "text": [
            "<class 'pandas.core.frame.DataFrame'>\n",
            "RangeIndex: 1804 entries, 0 to 1803\n",
            "Data columns (total 4 columns):\n",
            " #   Column       Non-Null Count  Dtype \n",
            "---  ------       --------------  ----- \n",
            " 0   title        1804 non-null   object\n",
            " 1   date         1804 non-null   object\n",
            " 2   description  1804 non-null   object\n",
            " 3   source       1804 non-null   object\n",
            "dtypes: object(4)\n",
            "memory usage: 56.5+ KB\n"
          ]
        },
        {
          "output_type": "execute_result",
          "data": {
            "text/plain": [
              "                                               title  \\\n",
              "0  Usai Kampung Bahari, Kini Kampung Boncos 'Diob...   \n",
              "1  5 Fakta Razia Kampung Bahari Berujung Terkuak ...   \n",
              "2  Bandar Narkoba di Kampung Bahari Sembunyikan S...   \n",
              "3  Kampung Narkoba di Deli Serdang Sumut Digerebe...   \n",
              "4  Kode Bandar Narkoba Kampung Bahari, Nyalakan P...   \n",
              "\n",
              "                               date  \\\n",
              "0  Kamis, 10 Mar 2022 17:43 WIB\\n\\n   \n",
              "1  Kamis, 10 Mar 2022 08:04 WIB\\n\\n   \n",
              "2   Rabu, 09 Mar 2022 20:59 WIB\\n\\n   \n",
              "3  Kamis, 10 Mar 2022 04:30 WIB\\n\\n   \n",
              "4   Rabu, 09 Mar 2022 16:50 WIB\\n\\n   \n",
              "\n",
              "                                         description         source  \n",
              "0  Penindakan terhadap peredaran\\n\\n Kapolsek Pal...  www.detik.com  \n",
              "1  , Tanjung Priok, Jakarta Utara, kembali digere...  www.detik.com  \n",
              "2  Polisi menyita 22 unit motor dalam penggerebek...  www.detik.com  \n",
              "3  Polisi menggerebek\\n\\n Penggerebekan itu dilak...  www.detik.com  \n",
              "4  Polisi mengungkapkan\\n\\n \"Ada petasan sebagai ...  www.detik.com  "
            ],
            "text/html": [
              "\n",
              "  <div id=\"df-16c8baa6-1943-441f-9063-9241d38f9838\">\n",
              "    <div class=\"colab-df-container\">\n",
              "      <div>\n",
              "<style scoped>\n",
              "    .dataframe tbody tr th:only-of-type {\n",
              "        vertical-align: middle;\n",
              "    }\n",
              "\n",
              "    .dataframe tbody tr th {\n",
              "        vertical-align: top;\n",
              "    }\n",
              "\n",
              "    .dataframe thead th {\n",
              "        text-align: right;\n",
              "    }\n",
              "</style>\n",
              "<table border=\"1\" class=\"dataframe\">\n",
              "  <thead>\n",
              "    <tr style=\"text-align: right;\">\n",
              "      <th></th>\n",
              "      <th>title</th>\n",
              "      <th>date</th>\n",
              "      <th>description</th>\n",
              "      <th>source</th>\n",
              "    </tr>\n",
              "  </thead>\n",
              "  <tbody>\n",
              "    <tr>\n",
              "      <th>0</th>\n",
              "      <td>Usai Kampung Bahari, Kini Kampung Boncos 'Diob...</td>\n",
              "      <td>Kamis, 10 Mar 2022 17:43 WIB\\n\\n</td>\n",
              "      <td>Penindakan terhadap peredaran\\n\\n Kapolsek Pal...</td>\n",
              "      <td>www.detik.com</td>\n",
              "    </tr>\n",
              "    <tr>\n",
              "      <th>1</th>\n",
              "      <td>5 Fakta Razia Kampung Bahari Berujung Terkuak ...</td>\n",
              "      <td>Kamis, 10 Mar 2022 08:04 WIB\\n\\n</td>\n",
              "      <td>, Tanjung Priok, Jakarta Utara, kembali digere...</td>\n",
              "      <td>www.detik.com</td>\n",
              "    </tr>\n",
              "    <tr>\n",
              "      <th>2</th>\n",
              "      <td>Bandar Narkoba di Kampung Bahari Sembunyikan S...</td>\n",
              "      <td>Rabu, 09 Mar 2022 20:59 WIB\\n\\n</td>\n",
              "      <td>Polisi menyita 22 unit motor dalam penggerebek...</td>\n",
              "      <td>www.detik.com</td>\n",
              "    </tr>\n",
              "    <tr>\n",
              "      <th>3</th>\n",
              "      <td>Kampung Narkoba di Deli Serdang Sumut Digerebe...</td>\n",
              "      <td>Kamis, 10 Mar 2022 04:30 WIB\\n\\n</td>\n",
              "      <td>Polisi menggerebek\\n\\n Penggerebekan itu dilak...</td>\n",
              "      <td>www.detik.com</td>\n",
              "    </tr>\n",
              "    <tr>\n",
              "      <th>4</th>\n",
              "      <td>Kode Bandar Narkoba Kampung Bahari, Nyalakan P...</td>\n",
              "      <td>Rabu, 09 Mar 2022 16:50 WIB\\n\\n</td>\n",
              "      <td>Polisi mengungkapkan\\n\\n \"Ada petasan sebagai ...</td>\n",
              "      <td>www.detik.com</td>\n",
              "    </tr>\n",
              "  </tbody>\n",
              "</table>\n",
              "</div>\n",
              "      <button class=\"colab-df-convert\" onclick=\"convertToInteractive('df-16c8baa6-1943-441f-9063-9241d38f9838')\"\n",
              "              title=\"Convert this dataframe to an interactive table.\"\n",
              "              style=\"display:none;\">\n",
              "        \n",
              "  <svg xmlns=\"http://www.w3.org/2000/svg\" height=\"24px\"viewBox=\"0 0 24 24\"\n",
              "       width=\"24px\">\n",
              "    <path d=\"M0 0h24v24H0V0z\" fill=\"none\"/>\n",
              "    <path d=\"M18.56 5.44l.94 2.06.94-2.06 2.06-.94-2.06-.94-.94-2.06-.94 2.06-2.06.94zm-11 1L8.5 8.5l.94-2.06 2.06-.94-2.06-.94L8.5 2.5l-.94 2.06-2.06.94zm10 10l.94 2.06.94-2.06 2.06-.94-2.06-.94-.94-2.06-.94 2.06-2.06.94z\"/><path d=\"M17.41 7.96l-1.37-1.37c-.4-.4-.92-.59-1.43-.59-.52 0-1.04.2-1.43.59L10.3 9.45l-7.72 7.72c-.78.78-.78 2.05 0 2.83L4 21.41c.39.39.9.59 1.41.59.51 0 1.02-.2 1.41-.59l7.78-7.78 2.81-2.81c.8-.78.8-2.07 0-2.86zM5.41 20L4 18.59l7.72-7.72 1.47 1.35L5.41 20z\"/>\n",
              "  </svg>\n",
              "      </button>\n",
              "      \n",
              "  <style>\n",
              "    .colab-df-container {\n",
              "      display:flex;\n",
              "      flex-wrap:wrap;\n",
              "      gap: 12px;\n",
              "    }\n",
              "\n",
              "    .colab-df-convert {\n",
              "      background-color: #E8F0FE;\n",
              "      border: none;\n",
              "      border-radius: 50%;\n",
              "      cursor: pointer;\n",
              "      display: none;\n",
              "      fill: #1967D2;\n",
              "      height: 32px;\n",
              "      padding: 0 0 0 0;\n",
              "      width: 32px;\n",
              "    }\n",
              "\n",
              "    .colab-df-convert:hover {\n",
              "      background-color: #E2EBFA;\n",
              "      box-shadow: 0px 1px 2px rgba(60, 64, 67, 0.3), 0px 1px 3px 1px rgba(60, 64, 67, 0.15);\n",
              "      fill: #174EA6;\n",
              "    }\n",
              "\n",
              "    [theme=dark] .colab-df-convert {\n",
              "      background-color: #3B4455;\n",
              "      fill: #D2E3FC;\n",
              "    }\n",
              "\n",
              "    [theme=dark] .colab-df-convert:hover {\n",
              "      background-color: #434B5C;\n",
              "      box-shadow: 0px 1px 3px 1px rgba(0, 0, 0, 0.15);\n",
              "      filter: drop-shadow(0px 1px 2px rgba(0, 0, 0, 0.3));\n",
              "      fill: #FFFFFF;\n",
              "    }\n",
              "  </style>\n",
              "\n",
              "      <script>\n",
              "        const buttonEl =\n",
              "          document.querySelector('#df-16c8baa6-1943-441f-9063-9241d38f9838 button.colab-df-convert');\n",
              "        buttonEl.style.display =\n",
              "          google.colab.kernel.accessAllowed ? 'block' : 'none';\n",
              "\n",
              "        async function convertToInteractive(key) {\n",
              "          const element = document.querySelector('#df-16c8baa6-1943-441f-9063-9241d38f9838');\n",
              "          const dataTable =\n",
              "            await google.colab.kernel.invokeFunction('convertToInteractive',\n",
              "                                                     [key], {});\n",
              "          if (!dataTable) return;\n",
              "\n",
              "          const docLinkHtml = 'Like what you see? Visit the ' +\n",
              "            '<a target=\"_blank\" href=https://colab.research.google.com/notebooks/data_table.ipynb>data table notebook</a>'\n",
              "            + ' to learn more about interactive tables.';\n",
              "          element.innerHTML = '';\n",
              "          dataTable['output_type'] = 'display_data';\n",
              "          await google.colab.output.renderOutput(dataTable, element);\n",
              "          const docLink = document.createElement('div');\n",
              "          docLink.innerHTML = docLinkHtml;\n",
              "          element.appendChild(docLink);\n",
              "        }\n",
              "      </script>\n",
              "    </div>\n",
              "  </div>\n",
              "  "
            ]
          },
          "metadata": {},
          "execution_count": 5
        }
      ],
      "source": [
        "df =pd.read_csv(\"scrapped_news.csv\")\n",
        "df.info()\n",
        "df.head()"
      ]
    },
    {
      "cell_type": "code",
      "execution_count": 7,
      "metadata": {
        "id": "9-vwx0uoDPSB"
      },
      "outputs": [],
      "source": [
        "column = ['Title', 'Date', 'Description', 'Source']\n",
        "df_total = pd.DataFrame()\n",
        "\n",
        "df =pd.read_csv(\"scrapped_news.csv\")\n",
        "isi=df['description']\n",
        "df = df.dropna(subset=['description'], axis=0)\n",
        "for x in range(0, df.shape[0]):\n",
        "    text = preprocessing (df.iloc[x, -2])\n",
        "    df.iloc[x, -2] = (' '.join(text)) "
      ]
    },
    {
      "cell_type": "code",
      "execution_count": 8,
      "metadata": {
        "id": "JePQlL4xDTA0",
        "colab": {
          "base_uri": "https://localhost:8080/",
          "height": 206
        },
        "outputId": "fd932787-b603-4281-95a9-ed9cebb4a9fe"
      },
      "outputs": [
        {
          "output_type": "execute_result",
          "data": {
            "text/plain": [
              "                                                  title  \\\n",
              "1170  9 Penadah Motor Hasil Curian di Probolinggo Di...   \n",
              "182   Polda Metro Ikut Terjun Selidiki Perampokan Rp...   \n",
              "637   Polisi Periksa 12 Saksi Terkait Penembakan Ust...   \n",
              "1426  Ulah Oknum Polisi Peras Wanita Berujung Jadi T...   \n",
              "1351  Vonis 2,5 Tahun Bui untuk Polisi Pemeras PSK d...   \n",
              "\n",
              "                                   date  \\\n",
              "1170  Minggu, 23 Jan 2022 08:09 WIB\\n\\n   \n",
              "182     Rabu, 10 Nov 2021 21:32 WIB\\n\\n   \n",
              "637    Jumat, 24 Sep 2021 19:44 WIB\\n\\n   \n",
              "1426  Selasa, 22 Des 2020 05:22 WIB\\n\\n   \n",
              "1351   Jumat, 04 Jun 2021 22:21 WIB\\n\\n   \n",
              "\n",
              "                                            description         source  \n",
              "1170  sembilan kamis polisi menangkap m hodli mengak...  www.detik.com  \n",
              "182   milik warga pantai indah kapuk pik jakarta uta...  www.detik.com  \n",
              "637   polisi mendalami saksi pemeriksaan ya menganal...  www.detik.com  \n",
              "1426  mis didampingi kuasa hukumnya melaporkan oknum...  www.detik.com  \n",
              "1351  wanita berinisial mis tenang korban mis diperg...  www.detik.com  "
            ],
            "text/html": [
              "\n",
              "  <div id=\"df-a838a81f-3b1a-4556-83e1-b267cf21528d\">\n",
              "    <div class=\"colab-df-container\">\n",
              "      <div>\n",
              "<style scoped>\n",
              "    .dataframe tbody tr th:only-of-type {\n",
              "        vertical-align: middle;\n",
              "    }\n",
              "\n",
              "    .dataframe tbody tr th {\n",
              "        vertical-align: top;\n",
              "    }\n",
              "\n",
              "    .dataframe thead th {\n",
              "        text-align: right;\n",
              "    }\n",
              "</style>\n",
              "<table border=\"1\" class=\"dataframe\">\n",
              "  <thead>\n",
              "    <tr style=\"text-align: right;\">\n",
              "      <th></th>\n",
              "      <th>title</th>\n",
              "      <th>date</th>\n",
              "      <th>description</th>\n",
              "      <th>source</th>\n",
              "    </tr>\n",
              "  </thead>\n",
              "  <tbody>\n",
              "    <tr>\n",
              "      <th>1170</th>\n",
              "      <td>9 Penadah Motor Hasil Curian di Probolinggo Di...</td>\n",
              "      <td>Minggu, 23 Jan 2022 08:09 WIB\\n\\n</td>\n",
              "      <td>sembilan kamis polisi menangkap m hodli mengak...</td>\n",
              "      <td>www.detik.com</td>\n",
              "    </tr>\n",
              "    <tr>\n",
              "      <th>182</th>\n",
              "      <td>Polda Metro Ikut Terjun Selidiki Perampokan Rp...</td>\n",
              "      <td>Rabu, 10 Nov 2021 21:32 WIB\\n\\n</td>\n",
              "      <td>milik warga pantai indah kapuk pik jakarta uta...</td>\n",
              "      <td>www.detik.com</td>\n",
              "    </tr>\n",
              "    <tr>\n",
              "      <th>637</th>\n",
              "      <td>Polisi Periksa 12 Saksi Terkait Penembakan Ust...</td>\n",
              "      <td>Jumat, 24 Sep 2021 19:44 WIB\\n\\n</td>\n",
              "      <td>polisi mendalami saksi pemeriksaan ya menganal...</td>\n",
              "      <td>www.detik.com</td>\n",
              "    </tr>\n",
              "    <tr>\n",
              "      <th>1426</th>\n",
              "      <td>Ulah Oknum Polisi Peras Wanita Berujung Jadi T...</td>\n",
              "      <td>Selasa, 22 Des 2020 05:22 WIB\\n\\n</td>\n",
              "      <td>mis didampingi kuasa hukumnya melaporkan oknum...</td>\n",
              "      <td>www.detik.com</td>\n",
              "    </tr>\n",
              "    <tr>\n",
              "      <th>1351</th>\n",
              "      <td>Vonis 2,5 Tahun Bui untuk Polisi Pemeras PSK d...</td>\n",
              "      <td>Jumat, 04 Jun 2021 22:21 WIB\\n\\n</td>\n",
              "      <td>wanita berinisial mis tenang korban mis diperg...</td>\n",
              "      <td>www.detik.com</td>\n",
              "    </tr>\n",
              "  </tbody>\n",
              "</table>\n",
              "</div>\n",
              "      <button class=\"colab-df-convert\" onclick=\"convertToInteractive('df-a838a81f-3b1a-4556-83e1-b267cf21528d')\"\n",
              "              title=\"Convert this dataframe to an interactive table.\"\n",
              "              style=\"display:none;\">\n",
              "        \n",
              "  <svg xmlns=\"http://www.w3.org/2000/svg\" height=\"24px\"viewBox=\"0 0 24 24\"\n",
              "       width=\"24px\">\n",
              "    <path d=\"M0 0h24v24H0V0z\" fill=\"none\"/>\n",
              "    <path d=\"M18.56 5.44l.94 2.06.94-2.06 2.06-.94-2.06-.94-.94-2.06-.94 2.06-2.06.94zm-11 1L8.5 8.5l.94-2.06 2.06-.94-2.06-.94L8.5 2.5l-.94 2.06-2.06.94zm10 10l.94 2.06.94-2.06 2.06-.94-2.06-.94-.94-2.06-.94 2.06-2.06.94z\"/><path d=\"M17.41 7.96l-1.37-1.37c-.4-.4-.92-.59-1.43-.59-.52 0-1.04.2-1.43.59L10.3 9.45l-7.72 7.72c-.78.78-.78 2.05 0 2.83L4 21.41c.39.39.9.59 1.41.59.51 0 1.02-.2 1.41-.59l7.78-7.78 2.81-2.81c.8-.78.8-2.07 0-2.86zM5.41 20L4 18.59l7.72-7.72 1.47 1.35L5.41 20z\"/>\n",
              "  </svg>\n",
              "      </button>\n",
              "      \n",
              "  <style>\n",
              "    .colab-df-container {\n",
              "      display:flex;\n",
              "      flex-wrap:wrap;\n",
              "      gap: 12px;\n",
              "    }\n",
              "\n",
              "    .colab-df-convert {\n",
              "      background-color: #E8F0FE;\n",
              "      border: none;\n",
              "      border-radius: 50%;\n",
              "      cursor: pointer;\n",
              "      display: none;\n",
              "      fill: #1967D2;\n",
              "      height: 32px;\n",
              "      padding: 0 0 0 0;\n",
              "      width: 32px;\n",
              "    }\n",
              "\n",
              "    .colab-df-convert:hover {\n",
              "      background-color: #E2EBFA;\n",
              "      box-shadow: 0px 1px 2px rgba(60, 64, 67, 0.3), 0px 1px 3px 1px rgba(60, 64, 67, 0.15);\n",
              "      fill: #174EA6;\n",
              "    }\n",
              "\n",
              "    [theme=dark] .colab-df-convert {\n",
              "      background-color: #3B4455;\n",
              "      fill: #D2E3FC;\n",
              "    }\n",
              "\n",
              "    [theme=dark] .colab-df-convert:hover {\n",
              "      background-color: #434B5C;\n",
              "      box-shadow: 0px 1px 3px 1px rgba(0, 0, 0, 0.15);\n",
              "      filter: drop-shadow(0px 1px 2px rgba(0, 0, 0, 0.3));\n",
              "      fill: #FFFFFF;\n",
              "    }\n",
              "  </style>\n",
              "\n",
              "      <script>\n",
              "        const buttonEl =\n",
              "          document.querySelector('#df-a838a81f-3b1a-4556-83e1-b267cf21528d button.colab-df-convert');\n",
              "        buttonEl.style.display =\n",
              "          google.colab.kernel.accessAllowed ? 'block' : 'none';\n",
              "\n",
              "        async function convertToInteractive(key) {\n",
              "          const element = document.querySelector('#df-a838a81f-3b1a-4556-83e1-b267cf21528d');\n",
              "          const dataTable =\n",
              "            await google.colab.kernel.invokeFunction('convertToInteractive',\n",
              "                                                     [key], {});\n",
              "          if (!dataTable) return;\n",
              "\n",
              "          const docLinkHtml = 'Like what you see? Visit the ' +\n",
              "            '<a target=\"_blank\" href=https://colab.research.google.com/notebooks/data_table.ipynb>data table notebook</a>'\n",
              "            + ' to learn more about interactive tables.';\n",
              "          element.innerHTML = '';\n",
              "          dataTable['output_type'] = 'display_data';\n",
              "          await google.colab.output.renderOutput(dataTable, element);\n",
              "          const docLink = document.createElement('div');\n",
              "          docLink.innerHTML = docLinkHtml;\n",
              "          element.appendChild(docLink);\n",
              "        }\n",
              "      </script>\n",
              "    </div>\n",
              "  </div>\n",
              "  "
            ]
          },
          "metadata": {},
          "execution_count": 8
        }
      ],
      "source": [
        "df.head()\n",
        "df_train, df_test=train_test_split(df,test_size=0.1)\n",
        "df_train.head()"
      ]
    },
    {
      "cell_type": "code",
      "execution_count": 9,
      "metadata": {
        "id": "D2lH92zUDXsC"
      },
      "outputs": [],
      "source": [
        "desc_text_train = []\n",
        "desc_text_test = []\n",
        "\n",
        "for x in range(0, df_train.shape[0]):\n",
        "  desc_text_train.append(df_train.iloc[x, -2])\n",
        "\n",
        "for x in range(0, df_test.shape[0]):\n",
        "  desc_text_test.append(df_test.iloc[x, -2])"
      ]
    },
    {
      "cell_type": "code",
      "execution_count": 10,
      "metadata": {
        "colab": {
          "base_uri": "https://localhost:8080/"
        },
        "id": "mhFbpAmoDdmE",
        "outputId": "169ffa3b-994e-46de-c18c-48b3ce900b52"
      },
      "outputs": [
        {
          "output_type": "stream",
          "name": "stdout",
          "text": [
            "<class 'pandas.core.frame.DataFrame'>\n",
            "Int64Index: 181 entries, 1457 to 1393\n",
            "Data columns (total 4 columns):\n",
            " #   Column       Non-Null Count  Dtype \n",
            "---  ------       --------------  ----- \n",
            " 0   title        181 non-null    object\n",
            " 1   date         181 non-null    object\n",
            " 2   description  181 non-null    object\n",
            " 3   source       181 non-null    object\n",
            "dtypes: object(4)\n",
            "memory usage: 7.1+ KB\n",
            "None\n",
            "Panjang Dokumen Test :  181\n",
            "------------------------------------------------------------------------------------------\n",
            "<class 'pandas.core.frame.DataFrame'>\n",
            "Int64Index: 1623 entries, 1170 to 830\n",
            "Data columns (total 4 columns):\n",
            " #   Column       Non-Null Count  Dtype \n",
            "---  ------       --------------  ----- \n",
            " 0   title        1623 non-null   object\n",
            " 1   date         1623 non-null   object\n",
            " 2   description  1623 non-null   object\n",
            " 3   source       1623 non-null   object\n",
            "dtypes: object(4)\n",
            "memory usage: 63.4+ KB\n",
            "None\n",
            "Panjang Dokumen Train :  1623\n"
          ]
        }
      ],
      "source": [
        "print(df_test.info())\n",
        "print(\"Panjang Dokumen Test : \", len(desc_text_test))\n",
        "\n",
        "print ('-'*90)\n",
        "\n",
        "print(df_train.info())\n",
        "print(\"Panjang Dokumen Train : \", len(desc_text_train))"
      ]
    },
    {
      "cell_type": "code",
      "execution_count": 11,
      "metadata": {
        "id": "P9xq5Qnnoo0-"
      },
      "outputs": [],
      "source": [
        "# Simpan teks asli dokumen\n",
        "joblib.dump(desc_text_test, \"desc_text_test.pkl\")\n",
        "joblib.dump(desc_text_train, \"desc_text_train.pkl\")\n",
        "\n",
        "# Simpan dataframe hasil text processing sebelum TF-IDF Vectorizer\n",
        "df.to_csv('df_total.csv',index=False )\n",
        "df_test.to_csv('df_test.csv', index=False)\n",
        "df_train.to_csv('df_train.csv', index=False)"
      ]
    },
    {
      "cell_type": "code",
      "execution_count": 12,
      "metadata": {
        "id": "IvHZaK23oyCJ",
        "colab": {
          "base_uri": "https://localhost:8080/"
        },
        "outputId": "cb5b4ddc-585b-4daa-fd50-215551ba5cbd"
      },
      "outputs": [
        {
          "output_type": "stream",
          "name": "stdout",
          "text": [
            "tfidf_test_matrix\n",
            "(181, 4378)\n",
            "tfidf_train_matrix\n",
            "(1623, 14576)\n"
          ]
        }
      ],
      "source": [
        "# Fit transform menggunakan TF-IDF Vectorizer\n",
        "tfidf_vectorizer = TfidfVectorizer()\n",
        "tfidf_test_matrix = tfidf_vectorizer.fit_transform(desc_text_test)\n",
        "tfidf_train_matrix = tfidf_vectorizer.fit_transform(desc_text_train)\n",
        "\n",
        "print('tfidf_test_matrix')\n",
        "print(tfidf_test_matrix.shape)\n",
        "print('tfidf_train_matrix')\n",
        "print(tfidf_train_matrix.shape)\n"
      ]
    },
    {
      "cell_type": "code",
      "execution_count": 13,
      "metadata": {
        "colab": {
          "base_uri": "https://localhost:8080/"
        },
        "id": "r57L16Mto6Wm",
        "outputId": "88472efa-452b-4c71-af27-dc71c9735ad4"
      },
      "outputs": [
        {
          "output_type": "execute_result",
          "data": {
            "text/plain": [
              "['tfidf_train.pkl']"
            ]
          },
          "metadata": {},
          "execution_count": 13
        }
      ],
      "source": [
        "joblib.dump(tfidf_vectorizer, \"vectorizer.pkl\")\n",
        "joblib.dump(tfidf_test_matrix, \"tfidf_test.pkl\")\n",
        "joblib.dump(tfidf_train_matrix, \"tfidf_train.pkl\")"
      ]
    },
    {
      "cell_type": "code",
      "execution_count": 14,
      "metadata": {
        "colab": {
          "base_uri": "https://localhost:8080/"
        },
        "id": "8bw1Gczpo-tb",
        "outputId": "e2ada45c-9fbd-4883-9d7d-b70921ee95d5"
      },
      "outputs": [
        {
          "output_type": "stream",
          "name": "stdout",
          "text": [
            "<class 'pandas.core.frame.DataFrame'>\n",
            "Int64Index: 1804 entries, 0 to 1803\n",
            "Data columns (total 4 columns):\n",
            " #   Column       Non-Null Count  Dtype \n",
            "---  ------       --------------  ----- \n",
            " 0   title        1804 non-null   object\n",
            " 1   date         1804 non-null   object\n",
            " 2   description  1804 non-null   object\n",
            " 3   source       1804 non-null   object\n",
            "dtypes: object(4)\n",
            "memory usage: 70.5+ KB\n",
            "None\n",
            "------------------------------------------------------------------------------------------\n",
            "181\n",
            "1623\n"
          ]
        }
      ],
      "source": [
        "df_total = pd.read_csv('df_total.csv')\n",
        "df_total = df_total[pd.notnull(df_total['description'])]\n",
        "print(df_total.info())\n",
        "print ('-'*90)\n",
        "\n",
        "document_text_train= joblib.load('desc_text_train.pkl')\n",
        "document_text_test= joblib.load('desc_text_test.pkl')\n",
        "print(len(document_text_test))\n",
        "print(len(document_text_train))"
      ]
    },
    {
      "cell_type": "code",
      "execution_count": 15,
      "metadata": {
        "colab": {
          "base_uri": "https://localhost:8080/"
        },
        "id": "ZfffRyxKpEKe",
        "outputId": "0835b2cd-79cd-4265-a3d8-62f8403d0f21"
      },
      "outputs": [
        {
          "output_type": "stream",
          "name": "stdout",
          "text": [
            "['pencurian']\n",
            "\n",
            "======================\n",
            "\n",
            "Top 10 most similar documents in corpus:\n",
            "1\n",
            "No ID Dokumen  :  492\n",
            "Tanggal        :  Jumat, 04 Mar 2022 18:14 WIB\n",
            "\n",
            "\n",
            "Isi berita     :  wanita muda berinisial aw ditemukan tewas busana kamar kos sawah jakarta barat korban diduga diperkosa dibunuh pelaku kapolsek sawah kompol maulana mukarom membenarkan penemuan mayat diduga korban pembunuhan korban ditemukan tewas wib sore hasil olah tkp dugaannya korban dibunuh diperkosa kompol maulana dihubungi peristiwa kawasan mangga selatan sawah jakarta pusat ketua rt kamarut zaman korban kali ditemukan kakaknya wib nggak kronologis posisinya informasi kakaknya pagi korban ditelepon nggak kakak korban kosan korban pas kakaknya kamarut aw diduga korban pemerkosaan korban ditemukan busana diduga korban pemerkosaan posisi korban meninggal menyebut korban meninggal kamar kosnya bantuan ya posisinya si korban\n",
            "(Score: 0.3856) \n",
            "2\n",
            "No ID Dokumen  :  420\n",
            "Tanggal        :  Selasa, 22 Feb 2022 01:06 WIB\n",
            "\n",
            "\n",
            "Isi berita     :  orang pria perempuan ditangkap polisi menggelar gerebek kampung tim gabungan polres binjai amankan pria wanita gerebek kampung narkoba kasi humas polres binjai iptu junaidi wartawan senin petugas gabungan menggerebek perkampungan narkoba terletak desa emplasmen kuala mencirim kecamatan sei bingai senin siang penggerebekan dipimpin kasatres narkoba polres binjai akp firman imanuel keenam orang diboyong polres binjai dites urine hasilnya diamankan positif narkoba tes urine mapolres binjai orang diamankan hasilnya positif pengguna narkotika asesmen bnnk binjai rehabilitasi junaidi diamankan r j f ri egg perempuan berinisial p\n",
            "(Score: 0.2785) \n",
            "3\n",
            "No ID Dokumen  :  1491\n",
            "Tanggal        :  Rabu, 09 Mar 2022 11:01 WIB\n",
            "\n",
            "\n",
            "Isi berita     :  dakwaan dibacakan pengadilan militer ii jakarta selasa kemarin dakwaan dibacakan oditur militer kolonel sus wirdel boy sidang perdana sidang dipimpin hakim ketua brigjen tni faridah faisal sidang kolonel sus wirdel boy membuktikan unsur dakwaan primer pasal kuhp buktikan pasal pembunuhan berencananya setelahnya pasal pembunuhan kolonel wirdel boy dilansir terdakwa kolonel priyanto didakwa pasal kuhp pasal kuhp pasal kuhp pasal kuhp pasal kuhp pasal kuhp mengatur hukuman pidana pasal kuhp mengatur terkait pidana pembunuhan dimaknai perbuatan sengaja merampas nyawa orang ancaman pidana maksimal penjara pasal kuhp mengatur pidana penculikan ancaman hukuman maksimal pasal kuhp mengatur pidana perampasan kemerdekaan orang ancaman hukuman penjara pasal kuhp terkait pidana menghilangkan mayat maksud menyembunyikan kematian ancaman pidananya maksimal kolonel priyanto mengikuti sidang pengadilan militer ii jakarta pelaku kopral kopda andreas dwi atmoko kopral koptu a sholeh menjalani persidangan pengadilan berbeda persidangan prajurit tni pelaku pembunuhan remaja nagreg desember digelar terpisah berkas perkaranya berbeda kolonel priyanto menjalani persidangan pengadilan militer ii jakarta berstatus perwira menengah tni oditur militer kolonel wirdel sidang dijadwalkan pekan agenda pemeriksaan saksi minggu membagi pemeriksaan saksi saksinya orang barangkali panggil enam tujuh orang saksi kopral tempat kecelakaan oditur militer berencana menghadirkan dokter autopsi visum jenazah korban saksi ahli persidangan kolonel priyanto anak buahnya menabrak handi salsa nagreg jawa barat jabar menolong korban kolobel priyanto cs membawa jabar membuang tubuh korban anak sungai serayu salsa dibuang sungai kondisi meninggal dunia handi dibuang sungai kondisi hidup jasad korban ditemukan sungai serayu ketiga tersangka kolonel priyanto menolak membawa handi salsa rumah sakit kecelakaan akibat tabrakan mobilnya memiliki ide keji membuang tubuh handi salsa sungai\n",
            "(Score: 0.2494) \n",
            "4\n",
            "No ID Dokumen  :  465\n",
            "Tanggal        :  Selasa, 21 Des 2021 17:16 WIB\n",
            "\n",
            "\n",
            "Isi berita     :  ahli residu mabes azizah menemukan sisa tembakan senjata baju eks laskar fpi baju terdakwa km tim ahli menemukan sisa residu senjata api jenis cz sig sauer senjata api residu cz sig sauer positif mengandung residu tembakan sig sauer negatif mengandung residu ditembakkan ipda m yusmin ohorella briptu fikri ramadhan didakwa pembunuhan penganiayaan menyebabkan kematian km polisi didakwa ipda elwira priadi bersangkutan meninggal dunia kecelakaan akibat perbuatan terdakwa ipda yusmin briptu fikri ramadhan ipda elwira priadi almarhum mengakibatkan meninggalnya luthfi hakim akhmad sofyan m reza m suci khadavi poetra jaksa membacakan surat dakwaan pengadilan negeri jakarta selatan pn jaksel senin\n",
            "(Score: 0.2445) \n",
            "5\n",
            "No ID Dokumen  :  1325\n",
            "Tanggal        :  Kamis, 26 Agu 2021 18:57 WIB\n",
            "\n",
            "\n",
            "Isi berita     :  polisi menangkap db luruskan hasil penyelidikan ditemukan oknum ormas bermain aktivitas pemain tunggal kanit reskrim polsek kembangan akp ferdo elfianto wartawan polsek kembangan jakarta barat kamis pernyataan polisi menyebut pelaku waktu bilang oknum kemarin bilang ormas bilangnya dalami ormas ferdo pemalakan pelaku tangan pelaku uang rp ribu uang disanggupi perusahaan staf amplop disobek waktu kejadian tersangka keberatan rp juta dikasih rp ribu ferdo ferdo meluruskan pernyataan staf proyek mengaku waktu diduga korban saksi tkp sajam waktu amankan tongkat ferdo db diamankan polres jakarta barat db dijerat pasal ayat kuhp ancaman maksimal penjara\n",
            "(Score: 0.2325) \n",
            "6\n",
            "No ID Dokumen  :  40\n",
            "Tanggal        :  Sabtu, 05 Mar 2022 13:48 WIB\n",
            "\n",
            "\n",
            "Isi berita     :  orang terduga korban selamat serangan maut kelompok kriminal bersenjata kkb kabupaten puncak papua berhasil dievakuasi tim cartenz damai papua mengevakuasi korban mapolres timika menjalani pemeriksaan kesehatan korban selamat bernama nelson sarira satunya korban selamat penyerangan proses evakuasi nelson emosional wit tim melaksanakan evakuasi berhasil evakuasi korban selamat nama nelson karo penmas divhumas polri brigjen ahmad ramadhan nelson mengenakan sweater oranye dibawa menangis mengusap air mata dibawa petugas helikopter nelson dibawa mapolres mimika perawatan waktu pemulihan keterangan terkait insiden menimpa rekan rekannya serangan kkb rabu dilaporkan karyawan pt palapa ring timur telematika ptt tewas\n",
            "(Score: 0.2221) \n",
            "7\n",
            "No ID Dokumen  :  569\n",
            "Tanggal        :  Selasa, 16 Nov 2021 16:08 WIB\n",
            "\n",
            "\n",
            "Isi berita     :  warga diberitakan kantor berita operasi menangkap tersangka tubas semalam peluru asli ditembakkan arah pasukan israel alat peledak dilemparkan kendaraan pasukan membalas tembakan arah kendaraan mencurigakan pernyataan militer israel tentara terluka militer laporan warga palestina tewas bentrokan rutin yerusalem timur dicaplok warga israel tinggal permukiman tepi barat juta warga palestina permukiman yahudi dianggap ilegal hukum internasional\n",
            "(Score: 0.2221) \n",
            "8\n",
            "No ID Dokumen  :  665\n",
            "Tanggal        :  Selasa, 08 Feb 2022 14:52 WIB\n",
            "\n",
            "\n",
            "Isi berita     :  polisi resmi menghentikan penyelidikan mahasiswi melaporkan seniornya berinisial fa tuduhan pemerkosaan kota bukti kasubag humas polres palopo iptu patobun mahasiswi berusia mengaku diperkosa seniornya fa hotel kota palopo november fa berpura pura ditemani hotel korban mengaku mengambil laptop perjalanannya penyidik kepolisian mendalami bukti petunjuk pemerkosaan berkoordinasi medis hasilnya tanda tanda kekerasan seksual dilaporkan korban alasannya bukti keterangan ahli psikologi ditemukan kekerasan seksual patobun hasil visum diambil penyidik ditemukan hasil kekerasan fisik kejadian luka patobun hasil rekaman cctv paksaan korban hotel kamar hotel gambar cctv diambil petugas penyelidikan belah pelapor terlapor masuk hotel masuk bersamaan unsur paksaan polisi alasan melanjutkan patobun menyebut penyelidikan dilanjutkan ditemukan bukti penanganan\n",
            "(Score: 0.2109) \n",
            "9\n",
            "No ID Dokumen  :  1196\n",
            "Tanggal        :  Sabtu, 26 Feb 2022 05:30 WIB\n",
            "\n",
            "\n",
            "Isi berita     :  temannya gr jatibening kota bekasi menyisakan tanda keluarga kejanggalan dirasakan keluarga korban rekonstruksi keluarga polisi menggelar rekonstruksi pembunuhan jumat kemarin proses rekonstruksi korban gomgom hs gr berteman gomgom kecurigaan pertemanan tersangka orangnya hilangkan kebaikannya makannya tanda motifnya pembunuhan gomgom wartawan bekasi jumat gomgom membantah pernyataan polisi korban rumah tersangka dikerok gomgom korban dikerok korban dibunuh percaya korban dikerok istri tolong orang dikerokin berobat rumah kerokan bekas kerokan ponakan rumah dikerok iya kejadian iya rumah dikerok saksinya imbuhnya gomgom menceritakan selasa wib kejadian korban bolak menerima panggilan telepon tersangka memintanya korban tersangka teman buktinya handphone nya panggilan terjawab kali nggak kali tersangka telepon istri ditelepon anak pekerjaannya gimana hs diantarkan anaknya rumah kakak tersangka tkp korban dibunuh mengantar hs sang anak pulang rumahnya wib\n",
            "(Score: 0.2024) \n",
            "10\n",
            "No ID Dokumen  :  975\n",
            "Tanggal        :  Rabu, 02 Feb 2022 22:35 WIB\n",
            "\n",
            "\n",
            "Isi berita     :  pencurian jumat wib ra aksinya rekannya berinisial c ra mengajak temannya berinisial c pencurian berkeliling daerah karang anyar menentukan target ra beraksi c memantau situasi maulana keterangannya rabu tersangka ra masuk pagar rumah korban dikunci membuka jendela masuk rumah korban tersangka mengambil barang hp tablet laptop korban berhasil mengambil barang tersangka langsung kabur tersangka ra c membagi hasil uang kejahatan menghabiskan uang hasil kejahatan kebutuhan sehari uang dibagi pembagian ra rp ribu c rp ribu uang tersangka habis kebutuhan sehari laporan korban kepolisian mencari pelaku tersangka diamankan polsek sawah pemeriksaan penangkapan polisi berhasil menyita barang bukti rekaman cctv kejadian kardus hp merek vivo kardus hp merk redmi note pro akibat perbuatannya tersangka dikenai pasal kuhp tindak pidana pencurian\n",
            "(Score: 0.1932) \n"
          ]
        }
      ],
      "source": [
        "kueri='pencurian'\n",
        "kueri=preprocessing(kueri)\n",
        "kueri= [\" \".join (kueri)]\n",
        "print (kueri)\n",
        "\n",
        "tfidf_matrix =joblib.load( \"tfidf_train.pkl\" )\n",
        "tfidf_vectorizer = joblib.load( \"vectorizer.pkl\" ) \n",
        "query_vec= tfidf_vectorizer.transform(kueri)\n",
        "results=cosine_similarity(tfidf_matrix, query_vec).reshape((-1))\n",
        "#print (results)\n",
        "print(\"\\n======================\\n\")\n",
        "print(\"Top 10 most similar documents in corpus:\")\n",
        "\n",
        "j = 1\n",
        "\n",
        "for i in results.argsort()[-10:][::-1]:\n",
        "    print(j)\n",
        "    print(\"No ID Dokumen  : \", i)\n",
        "    print(\"Tanggal        : \", df_total.iloc[i,1])\n",
        "    print(\"Isi berita     : \", df_total.iloc[i,2])\n",
        "    print(\"(Score: %.4f) \" % results[i])\n",
        "    j += 1"
      ]
    }
  ],
  "metadata": {
    "colab": {
      "collapsed_sections": [],
      "name": "Preprocessing_berita.ipynb",
      "provenance": []
    },
    "kernelspec": {
      "display_name": "Python 3",
      "name": "python3"
    },
    "language_info": {
      "codemirror_mode": {
        "name": "ipython",
        "version": 3
      },
      "file_extension": ".py",
      "mimetype": "text/x-python",
      "name": "python",
      "nbconvert_exporter": "python",
      "pygments_lexer": "ipython3",
      "version": "3.10.2"
    }
  },
  "nbformat": 4,
  "nbformat_minor": 0
}