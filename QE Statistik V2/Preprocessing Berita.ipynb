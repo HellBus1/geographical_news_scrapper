{
 "cells": [
  {
   "cell_type": "code",
   "execution_count": 36,
   "metadata": {},
   "outputs": [
    {
     "name": "stderr",
     "output_type": "stream",
     "text": [
      "[nltk_data] Downloading package stopwords to\n",
      "[nltk_data]     /Users/syubbanfakhriya/nltk_data...\n",
      "[nltk_data]   Package stopwords is already up-to-date!\n"
     ]
    }
   ],
   "source": [
    "# Import library-library\n",
    "import os\n",
    "import glob\n",
    "\n",
    "# Data Preparation and Preprocessing\n",
    "import pandas as pd\n",
    "import re\n",
    "import nltk\n",
    "nltk.download('stopwords')\n",
    "from nltk.corpus import stopwords\n",
    "NLTK_StopWords = stopwords.words('indonesian')\n",
    "NLTK_StopWords = set(NLTK_StopWords)\n",
    "\n",
    "# Word Embedding\n",
    "import joblib\n",
    "from sklearn.feature_extraction.text import TfidfVectorizer\n",
    "import scipy.sparse\n",
    "\n",
    "from sklearn.metrics.pairwise import cosine_similarity\n",
    "\n",
    "# Input and Expansion Query\n",
    "from textblob import TextBlob\n",
    "from nltk.tokenize import wordpunct_tokenize\n",
    "#from googletrans import Translator\n",
    "\n",
    "#Split to train and test\n",
    "from sklearn.model_selection import train_test_split"
   ]
  },
  {
   "cell_type": "code",
   "execution_count": 37,
   "metadata": {},
   "outputs": [],
   "source": [
    "excluded_words = [\"tempat\", \"waktu\"]\n",
    "NLTK_StopWords.update([\"detik\", \"detikjatim\", \"detikjateng\", \"detikjabar\", \"detiksulsel\", \"detiksumbar\", \"detikbali\", \"detikpapua\", \"detiksulteng\", \"detikmaluku\", \"detjatim\", \"detikcom\"])"
   ]
  },
  {
   "cell_type": "code",
   "execution_count": 38,
   "metadata": {},
   "outputs": [],
   "source": [
    "def preprocessing(berita):\n",
    "    s = berita.lower()\n",
    "    s = s.replace('\\n', ' ')\n",
    "    s = s.replace('\\r', ' ')\n",
    "    s = s.replace(' o ', ' ')\n",
    "    s = re.sub(r'[^a-zA-Z0-9\\s]', ' ', s)\n",
    "    s = re.sub(r'[0-9]', ' ', s)\n",
    "    tokens = [token for token in s.split(\" \") if token != \"\"]\n",
    "    T = [t for t in tokens if ((t in excluded_words) or (t not in NLTK_StopWords))]\n",
    "    return T"
   ]
  },
  {
   "cell_type": "code",
   "execution_count": 53,
   "metadata": {},
   "outputs": [
    {
     "name": "stdout",
     "output_type": "stream",
     "text": [
      "<class 'pandas.core.frame.DataFrame'>\n",
      "RangeIndex: 1790 entries, 0 to 1789\n",
      "Data columns (total 4 columns):\n",
      " #   Column       Non-Null Count  Dtype \n",
      "---  ------       --------------  ----- \n",
      " 0   title        1790 non-null   object\n",
      " 1   date         1790 non-null   object\n",
      " 2   description  1790 non-null   object\n",
      " 3   source       1790 non-null   object\n",
      "dtypes: object(4)\n",
      "memory usage: 56.1+ KB\n"
     ]
    }
   ],
   "source": [
    "df =pd.read_csv(\"news.csv\")\n",
    "df.info()\n",
    "# df.head()"
   ]
  },
  {
   "cell_type": "code",
   "execution_count": 40,
   "metadata": {},
   "outputs": [],
   "source": [
    "column = ['Title', 'Date', 'Description', 'Source']\n",
    "df_total = pd.DataFrame()\n",
    "\n",
    "df =pd.read_csv(\"news.csv\")\n",
    "isi=df['description']\n",
    "df = df.dropna(subset=['description'], axis=0)\n",
    "for x in range(0, df.shape[0]):\n",
    "    text = preprocessing (df.iloc[x, -2])\n",
    "    df.iloc[x, -2] = (' '.join(text)) "
   ]
  },
  {
   "cell_type": "code",
   "execution_count": 41,
   "metadata": {},
   "outputs": [
    {
     "data": {
      "text/html": [
       "<div>\n",
       "<style scoped>\n",
       "    .dataframe tbody tr th:only-of-type {\n",
       "        vertical-align: middle;\n",
       "    }\n",
       "\n",
       "    .dataframe tbody tr th {\n",
       "        vertical-align: top;\n",
       "    }\n",
       "\n",
       "    .dataframe thead th {\n",
       "        text-align: right;\n",
       "    }\n",
       "</style>\n",
       "<table border=\"1\" class=\"dataframe\">\n",
       "  <thead>\n",
       "    <tr style=\"text-align: right;\">\n",
       "      <th></th>\n",
       "      <th>title</th>\n",
       "      <th>date</th>\n",
       "      <th>description</th>\n",
       "      <th>source</th>\n",
       "    </tr>\n",
       "  </thead>\n",
       "  <tbody>\n",
       "    <tr>\n",
       "      <th>813</th>\n",
       "      <td>\\n        Ini 9 Gempa Dahsyat Pernah Terjadi d...</td>\n",
       "      <td>Senin, 12 Apr 2021 11:22 WIB</td>\n",
       "      <td>wilayah selatan jawa timur dikenal kawasan sei...</td>\n",
       "      <td>www.detik.com</td>\n",
       "    </tr>\n",
       "    <tr>\n",
       "      <th>1654</th>\n",
       "      <td>\\n        Shopee Ajak Pengguna Donasi ke Korba...</td>\n",
       "      <td>Jumat, 22 Jan 2021 17:39 WIB</td>\n",
       "      <td>pandemi covid dunia indonesia selesai wabah pe...</td>\n",
       "      <td>www.detik.com</td>\n",
       "    </tr>\n",
       "    <tr>\n",
       "      <th>1038</th>\n",
       "      <td>\\n        2 Penjaga Alat Berat di Aceh Tewas T...</td>\n",
       "      <td>Kamis, 02 Des 2021 15:24 WIB</td>\n",
       "      <td>penjaga alat berat bireuen aceh tewas tertimbu...</td>\n",
       "      <td>www.detik.com</td>\n",
       "    </tr>\n",
       "    <tr>\n",
       "      <th>1658</th>\n",
       "      <td>\\n        Distribusi Bantuan untuk Korban Banj...</td>\n",
       "      <td>Sabtu, 23 Jan 2021 12:37 WIB</td>\n",
       "      <td>wilayah jember jawa timur mengalami bencana ba...</td>\n",
       "      <td>www.detik.com</td>\n",
       "    </tr>\n",
       "    <tr>\n",
       "      <th>99</th>\n",
       "      <td>\\n        Di SOFO 2020, KLHK Sebut Deforestasi...</td>\n",
       "      <td>Jumat, 22 Mei  2020 21:48 WIB</td>\n",
       "      <td>menteri lingkungan hidup kehutanan lhk siti nu...</td>\n",
       "      <td>www.detik.com</td>\n",
       "    </tr>\n",
       "  </tbody>\n",
       "</table>\n",
       "</div>"
      ],
      "text/plain": [
       "                                                  title  \\\n",
       "813   \\n        Ini 9 Gempa Dahsyat Pernah Terjadi d...   \n",
       "1654  \\n        Shopee Ajak Pengguna Donasi ke Korba...   \n",
       "1038  \\n        2 Penjaga Alat Berat di Aceh Tewas T...   \n",
       "1658  \\n        Distribusi Bantuan untuk Korban Banj...   \n",
       "99    \\n        Di SOFO 2020, KLHK Sebut Deforestasi...   \n",
       "\n",
       "                               date  \\\n",
       "813    Senin, 12 Apr 2021 11:22 WIB   \n",
       "1654   Jumat, 22 Jan 2021 17:39 WIB   \n",
       "1038   Kamis, 02 Des 2021 15:24 WIB   \n",
       "1658   Sabtu, 23 Jan 2021 12:37 WIB   \n",
       "99    Jumat, 22 Mei  2020 21:48 WIB   \n",
       "\n",
       "                                            description         source  \n",
       "813   wilayah selatan jawa timur dikenal kawasan sei...  www.detik.com  \n",
       "1654  pandemi covid dunia indonesia selesai wabah pe...  www.detik.com  \n",
       "1038  penjaga alat berat bireuen aceh tewas tertimbu...  www.detik.com  \n",
       "1658  wilayah jember jawa timur mengalami bencana ba...  www.detik.com  \n",
       "99    menteri lingkungan hidup kehutanan lhk siti nu...  www.detik.com  "
      ]
     },
     "execution_count": 41,
     "metadata": {},
     "output_type": "execute_result"
    }
   ],
   "source": [
    "df.head()\n",
    "df_train, df_test=train_test_split(df,test_size=0.1)\n",
    "df_train.head()"
   ]
  },
  {
   "cell_type": "code",
   "execution_count": 42,
   "metadata": {},
   "outputs": [],
   "source": [
    "desc_text_train = []\n",
    "desc_text_test = []\n",
    "\n",
    "for x in range(0, df_train.shape[0]):\n",
    "  desc_text_train.append(df_train.iloc[x, -2])\n",
    "\n",
    "for x in range(0, df_test.shape[0]):\n",
    "  desc_text_test.append(df_test.iloc[x, -2])"
   ]
  },
  {
   "cell_type": "code",
   "execution_count": 43,
   "metadata": {},
   "outputs": [
    {
     "name": "stdout",
     "output_type": "stream",
     "text": [
      "<class 'pandas.core.frame.DataFrame'>\n",
      "Int64Index: 179 entries, 1537 to 592\n",
      "Data columns (total 4 columns):\n",
      " #   Column       Non-Null Count  Dtype \n",
      "---  ------       --------------  ----- \n",
      " 0   title        179 non-null    object\n",
      " 1   date         179 non-null    object\n",
      " 2   description  179 non-null    object\n",
      " 3   source       179 non-null    object\n",
      "dtypes: object(4)\n",
      "memory usage: 7.0+ KB\n",
      "None\n",
      "Panjang Dokumen Test :  179\n",
      "------------------------------------------------------------------------------------------\n",
      "<class 'pandas.core.frame.DataFrame'>\n",
      "Int64Index: 1611 entries, 813 to 931\n",
      "Data columns (total 4 columns):\n",
      " #   Column       Non-Null Count  Dtype \n",
      "---  ------       --------------  ----- \n",
      " 0   title        1611 non-null   object\n",
      " 1   date         1611 non-null   object\n",
      " 2   description  1611 non-null   object\n",
      " 3   source       1611 non-null   object\n",
      "dtypes: object(4)\n",
      "memory usage: 62.9+ KB\n",
      "None\n",
      "Panjang Dokumen Train :  1611\n"
     ]
    }
   ],
   "source": [
    "print(df_test.info())\n",
    "print(\"Panjang Dokumen Test : \", len(desc_text_test))\n",
    "\n",
    "print ('-'*90)\n",
    "\n",
    "print(df_train.info())\n",
    "print(\"Panjang Dokumen Train : \", len(desc_text_train))"
   ]
  },
  {
   "cell_type": "code",
   "execution_count": 44,
   "metadata": {},
   "outputs": [],
   "source": [
    "# Simpan teks asli dokumen\n",
    "joblib.dump(desc_text_test, \"corpus/model/desc_text_test.pkl\")\n",
    "joblib.dump(desc_text_train, \"corpus/model/desc_text_train.pkl\")\n",
    "\n",
    "# Simpan dataframe hasil text processing sebelum TF-IDF Vectorizer\n",
    "df.to_csv('corpus/dataset/df_total.csv',index=False )\n",
    "df_test.to_csv('corpus/dataset/df_test.csv', index=False)\n",
    "df_train.to_csv('corpus/dataset/df_train.csv', index=False)\n"
   ]
  },
  {
   "cell_type": "code",
   "execution_count": 45,
   "metadata": {},
   "outputs": [
    {
     "name": "stdout",
     "output_type": "stream",
     "text": [
      "tfidf_test_matrix\n",
      "(179, 4718)\n",
      "tfidf_train_matrix\n",
      "(1611, 15903)\n"
     ]
    }
   ],
   "source": [
    "# Fit transform menggunakan TF-IDF Vectorizer\n",
    "tfidf_vectorizer = TfidfVectorizer()\n",
    "tfidf_test_matrix = tfidf_vectorizer.fit_transform(desc_text_test)\n",
    "tfidf_train_matrix = tfidf_vectorizer.fit_transform(desc_text_train)\n",
    "\n",
    "print('tfidf_test_matrix')\n",
    "print(tfidf_test_matrix.shape)\n",
    "print('tfidf_train_matrix')\n",
    "print(tfidf_train_matrix.shape)"
   ]
  },
  {
   "cell_type": "code",
   "execution_count": 46,
   "metadata": {},
   "outputs": [
    {
     "data": {
      "text/plain": [
       "['corpus/matrix/tfidf_train.pkl']"
      ]
     },
     "execution_count": 46,
     "metadata": {},
     "output_type": "execute_result"
    }
   ],
   "source": [
    "joblib.dump(tfidf_vectorizer, \"corpus/vectorizer/vectorizer.pkl\")\n",
    "joblib.dump(tfidf_test_matrix, \"corpus/matrix/tfidf_test.pkl\")\n",
    "joblib.dump(tfidf_train_matrix, \"corpus/matrix/tfidf_train.pkl\")"
   ]
  },
  {
   "cell_type": "markdown",
   "metadata": {},
   "source": [
    "### Pencarian "
   ]
  },
  {
   "cell_type": "code",
   "execution_count": 47,
   "metadata": {},
   "outputs": [
    {
     "name": "stdout",
     "output_type": "stream",
     "text": [
      "<class 'pandas.core.frame.DataFrame'>\n",
      "Int64Index: 1790 entries, 0 to 1789\n",
      "Data columns (total 4 columns):\n",
      " #   Column       Non-Null Count  Dtype \n",
      "---  ------       --------------  ----- \n",
      " 0   title        1790 non-null   object\n",
      " 1   date         1790 non-null   object\n",
      " 2   description  1790 non-null   object\n",
      " 3   source       1790 non-null   object\n",
      "dtypes: object(4)\n",
      "memory usage: 69.9+ KB\n",
      "None\n",
      "------------------------------------------------------------------------------------------\n",
      "179\n",
      "1611\n"
     ]
    }
   ],
   "source": [
    "df_total = pd.read_csv('corpus/dataset/df_total.csv')\n",
    "df_total = df_total[pd.notnull(df_total['description'])]\n",
    "print(df_total.info())\n",
    "print ('-'*90)\n",
    "\n",
    "document_text_train= joblib.load('corpus/model/desc_text_train.pkl')\n",
    "document_text_test= joblib.load('corpus/model/desc_text_test.pkl')\n",
    "print(len(document_text_test))\n",
    "print(len(document_text_train))"
   ]
  },
  {
   "cell_type": "code",
   "execution_count": 52,
   "metadata": {},
   "outputs": [
    {
     "name": "stdout",
     "output_type": "stream",
     "text": [
      "['gempa']\n",
      "\n",
      "======================\n",
      "\n",
      "Top 10 most similar documents in corpus:\n",
      "1\n",
      "No ID Dokumen  :  257\n",
      "Tanggal        :  Rabu, 11 Agu 2021 02:58 WIB\n",
      "Isi berita     :  melanda dilansir foto foto tersebar media sosial menampilkan kepulan asap api membumbung pepohonan hutan terbakar wilayah kabylie sebelah timur kota aljir presiden aljazair abdelmadjid tebboune berbelasungkawa tentara tewas tentara tentara menyelamatkan pria wanita anak anak sedih kematian tentara berhasil menyelamatkan warga kobaran api pegunungan bejaia tizi ouzou tulis tebboune via twitternya dilansir salah radio pemerintah aljazair mengabarkan pembakar ditangkap distrik utara medea annaba kebakaran negara aljazair ahli meteorologi suhu aljazair mencapai derajat celcius selasa aljazair salah sekian negara dilanda kebakaran pekan aljazair yunani turki siprus amerika serikat barat\n",
      "(Score: 0.6479) \n",
      "2\n",
      "No ID Dokumen  :  1172\n",
      "Tanggal        :  Jumat, 25 Feb 2022 13:42 WIB\n",
      "Isi berita     :  magnitudo m mengguncang pasaman barat sumatera barat kepala bmkg dwikorita karnawati mengungkap sumatera memiliki sejarah gempa bumi merusak menimbulkan korban jiwa menurutnya gempa bumi merusak sumatera sembilan kali daerah sumatera barat mengalami sejarah gempa bumi gempa gempa kejadian gempa dwikorita konferensi pers virtual jumat data gempa sumatera agustus lokasi gempa padang sumbar dampaknya kerusakan ringan retakkan bangunan gempa m pasaman barat sumbar menimbulkan kerusakan wilayah getarannya malaysia gempa parameternya diupdate bmkg m gempa wib talamau pasaman barat sumbar hasil analisis bmkg episenter gempa bumi terletak koordinat lintang utara bujur timur tepatnya berlokasi darat jarak km timur laut wilayah pasaman barat sumatera barat kedalaman km bmkg mencatat kali gempa susulan mengguncang pasaman barat sumbar kekuatan gempa susulan bervariasi rendah gempa utama magnitudo m wib hasil monitoring bmkg kali gempa susulan magnitudo bervariasi terbesar m gempa utama m m didahului kali kejadian gempa bumi pendahuluan magnitudo dwikorita\n",
      "(Score: 0.6078) \n",
      "3\n",
      "No ID Dokumen  :  1399\n",
      "Tanggal        :  Jumat, 07 Mei  2021 18:59 WIB\n",
      "Isi berita     :  banjir rob menerjang pantai desa eretan kulon indramayu rumah warga rusak terkikis ombak siang angin bertiup kencang embusan angin menggulung gelombang menerpa batu bibir pantai deburan ombak sarmin tangan kosong berupaya memperbaiki bebatuan pemecah ombak breakwater rusak berserakan terhantam gelombang laut deretan batu air laut menerjang rumah banjir rob merendam halaman rumahnya desa eretan kulon kecamatan kandanghaur kabupaten indramayu rumah sarmin banjir rob kian meluas desa eretan wetan desa kertawinangun kecamatan kandanghaur sekolah masjid puluhan rumah warga terendam banjir rob cm cm sarmin minggu kena banjir rob musim angin baratan sarmin istri orang anaknya tinggal daerah pesisir pantai daerah permukiman warga berkerja nelayan banjir rob menerjang rumah warga rusak terkikis ombak kawasan pesisir eretan kulon dipasang batu pemecah ombak seiring berjalannya waktu batu tergerus pasang surut air laut air meluap masuk permukiman warga banjir rob kerap warga tinggal disekitar pantai desa was was rumah warga menyisakan pondasi akibat hancur terhantam ombak rumah warga hilang akibat terjangan gelombang dinas perikanan kelautan kabupaten indramayu mencatat garis pantai kabupaten indramayu mencapai kilometer km mengalami abrasi parah data bertambah luasnya akibat efek pemanasan global sarmin memilih bertahan rumahnya pilihan banjir rob berharap pemerintah menangani banjir rob mengancam warga terpaksa bertahan hidupnya diselimuti was was terdampak banjir rob hidup pasang surut air laut\n",
      "(Score: 0.5830) \n",
      "4\n",
      "No ID Dokumen  :  936\n",
      "Tanggal        :  Rabu, 15 Des 2021 07:00 WIB\n",
      "Isi berita     :  seratus ribu batang bibit pohon konservasi jenis bibit pohon rincian ribu batang bibit pohon bambu ribu batang bibit pohon beringin ribu batang bibit pohon aren ketua pp pemuda muhammadiyah cak nanto gerakan bentuk tindak gerakan kader pohon pelaksanaan program pemkab temanggung bernama gerakan sabuk gunung pemerintah masyarakat kabupaten temanggung melaksanakan selaras gerakan kader pohon canangkan kabupaten tegal waktu cak nanto keterangan tertulis diterima detikedu selasa cak nanto gerakan wujud komitmen pemuda muhammadiyah utamanya bidang ekologi lingkungan hidup gerakan wujud komitmen pemuda gerakan cak nanto berharap pemuda muhammadiyah wilayah jawa memotivasi daerah disebutnya wadah dakwah ekologi pemuda muhammadiyah ikhtiar dakwah ekologi pemuda muhammadiyah kewajiban khalifatullah fil ardh menjaga lingkungan antroposentrisme paparnya semoga giat dakwah menghasilkan resonansi positif kader pemuda muhammadiyah penjuru negeri pemuda muhammadiyah mari merawat alam menebar manfaat sambung gerakan sabuk gunung pemkab temanggung gerakan konservasi penanaman ratusan ribu batang pohon lereng gunung sumbing sindoro prahu gerakan menyelamatkan mata air mencegah longsor bencana alam kawasan jawa gerakan selaras gerakan kader pohon dicanangkan pp pemuda\n",
      "(Score: 0.5813) \n",
      "5\n",
      "No ID Dokumen  :  165\n",
      "Tanggal        :  Rabu, 15 Des 2021 18:35 WIB\n",
      "Isi berita     :  atap kanopi tua umurnya tahunan kejadian angin deras disertai angin kencang kanopi sekretariat poli bedah ambruk langsung ambruk meliuk liuk ambruk rusak direktur rsd dr soebandi jember dr hendro soelistijono rabu beruntung kejadian ambruknya kanopi orang bawahnya kejadian ambruknya atap kanopi wib alhamdulillah mengakibatkan jatuhnya korban pengunjung mengantar pasien igd lokasinya igd alhamdulillah aman tua umur menjaga keamanan akibat kanopi ambruk dr hendro atap kanopi dipindahkan dipindahkan tempat aman melukai orang mengganggu pelayanan kondisi sekretariat terang bekas kanopi ambruk dibersihkan pungkasnya\n",
      "(Score: 0.5803) \n",
      "6\n",
      "No ID Dokumen  :  905\n",
      "Tanggal        :  Senin, 07 Feb 2022 01:38 WIB\n",
      "Isi berita     :  tebing longsor titik jalan tembus tawangmangu kabupaten karanganyar ditutup malam arus lintas dialihkan jalan penutupan kawasan bundaran sekipan arus lintas dialihkan jalan relawan lintas tawangmangu dimas dihubungi wartawan minggu malam penutupan jalan pengendara bepergian arah magetan via cemoro kandang dialihkan jalan pengendara arah dimas menyebut longsor akibat curah hujan melanda wilayah tawangmangu tebing mengalami longsor menutup jalan tembus tawangmangu longsor tebing titik kawasan desa gondosuli longsor wib hujan dihubungi terpisah kepala pelaksana harian badan penanggulangan bencana daerah bpbd karanganyar bagoes darmadi membenarkan kejadian longsor menyebut pembersihan jalur esok kondisi hujan kondisi cuaca hujan khawatir longsor susulan besok pagi evakuasi pembersihan lakukan personil gabungan\n",
      "(Score: 0.5795) \n",
      "7\n",
      "No ID Dokumen  :  1404\n",
      "Tanggal        :  Jumat, 25 Feb 2022 11:06 WIB\n",
      "Isi berita     :  m pasaman barat sumatera barat gempa wib pusat gempa timur laut pasaman barat kedalaman kilometer km manager hubungan masyarakat airnav indonesia yohanes harry douglas sirait penerbangan pelayanan navigasi penerbangan lokasi berdasarkan hasil koordinasi pemeriksaan lokasi lokasi kondisi personel bangunan fasilitas navigasi penerbangan kondisi aman yohanes keterangannya jumat airnav indonesia menghimpun keterangan data operasional area kerja fasilitas penerbangan pusat airnav indonesia berkoordinasi\n",
      "(Score: 0.5682) \n",
      "8\n",
      "No ID Dokumen  :  68\n",
      "Tanggal        :  Jumat, 14 Agu 2020 21:00 WIB\n",
      "Isi berita     :  kebakaran melanda taman nasional coronado arizona mereda dinas kehutanan mengecek puing puing pasca kebakaran personel dinas kehutanan berjalan melewati bekas luka bakar disebabkan bighorn fire taman nasional coronado tucson arizona bighorn fire sebutan kebakaran hutan aktif pegunungan santa catalina utara tucson arizona kebakaran membakar hektar hutan penyebab kebakaran akibat sambaran petir badai tanggal sore national multi agency coordinating group nmac nama kebakaran bighorn fire sesuai tempat api sisi barat laut gunung bighorn reda petugas pemadam kebakaran berjuang keras memadamkan api panas cuaca kering gregg sasek salah personel dinas kehutanan tanah jalur terbakar habis akibat kebakaran bighorn jalur taman nasional coronado diakses berbahaya tanaman pakis tumbuh tanah area terbakar akibat kebakaran bighorn tanaman tumbuh harapan hutan lestari sedia\n",
      "(Score: 0.5614) \n",
      "9\n",
      "No ID Dokumen  :  897\n",
      "Tanggal        :  Jumat, 15 Mar 2019 09:24 WIB\n",
      "Isi berita     :  pemukiman warga desa timbulsloko sayung demak jawa dikepung air laut akibat abrasi penampakan fotonya udara\n",
      "(Score: 0.5588) \n",
      "10\n",
      "No ID Dokumen  :  553\n",
      "Tanggal        :  Jumat, 02 Agu 2019 09:34 WIB\n",
      "Isi berita     :  musim kemarau berdampak hutan kota bekasi pohon mengalami kekeringan mati penampakannya musim tanaman hutan kota bekasi mengering jumat daun pohon rontok batangnya pohon pohon mengering pohon pohon mengering kekurangan air akibat musim kemarau pohon hutan kota mengering pohon menghijaukan hutan kota bekasi daun daun pohon rontok datangnya musim kemarau daun daun kering berserakan pohon mengering pohon pohon tumbuh tinggal menyisakan batangnya daun daun pohon rontok akibat musim kemarau\n",
      "(Score: 0.5556) \n"
     ]
    }
   ],
   "source": [
    "kueri='gempa'\n",
    "kueri=preprocessing(kueri)\n",
    "kueri= [\" \".join (kueri)]\n",
    "print (kueri)\n",
    "\n",
    "tfidf_matrix =joblib.load( \"corpus/matrix/tfidf_train.pkl\" )\n",
    "tfidf_vectorizer = joblib.load( \"corpus/vectorizer/vectorizer.pkl\" ) \n",
    "query_vec= tfidf_vectorizer.transform(kueri)\n",
    "results=cosine_similarity(tfidf_matrix, query_vec).reshape((-1))\n",
    "#print (results)\n",
    "print(\"\\n======================\\n\")\n",
    "print(\"Top 10 most similar documents in corpus:\")\n",
    "\n",
    "j = 1\n",
    "\n",
    "for i in results.argsort()[-10:][::-1]:\n",
    "    print(j)\n",
    "    print(\"No ID Dokumen  : \", i)\n",
    "    print(\"Tanggal        : \", df_total.iloc[i,1])\n",
    "    print(\"Isi berita     : \", df_total.iloc[i,2])\n",
    "    print(\"(Score: %.4f) \" % results[i])\n",
    "    j += 1"
   ]
  }
 ],
 "metadata": {
  "kernelspec": {
   "display_name": "Python 3",
   "language": "python",
   "name": "python3"
  },
  "language_info": {
   "codemirror_mode": {
    "name": "ipython",
    "version": 3
   },
   "file_extension": ".py",
   "mimetype": "text/x-python",
   "name": "python",
   "nbconvert_exporter": "python",
   "pygments_lexer": "ipython3",
   "version": "3.9.9"
  }
 },
 "nbformat": 4,
 "nbformat_minor": 2
}
