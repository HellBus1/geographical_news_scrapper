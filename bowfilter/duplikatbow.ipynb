{
 "cells": [
  {
   "cell_type": "code",
   "execution_count": 1,
   "metadata": {},
   "outputs": [],
   "source": [
    "import pandas as pd\n",
    "# df = pd.read_csv(\"bow_where_b.csv\")\n",
    "# df2 = pd.read_csv(\"bow_where_daerah.csv\")\n",
    "\n",
    "# df2.head()\n",
    "# frames = [df, df2]\n",
    "# result = pd.concat(frames)\n",
    "# result.info()\n",
    "\n",
    "# result.to_csv('bow_where_concat.csv', index=False)\n",
    "\n",
    "df_new = pd.read_csv('/Users/adi/Desktop/TA_Adi_V2/QE Statistik V2/bowfilter/ner_dataset.csv')\n",
    "# df_new = df_new.loc[:, ~df_new.columns.str.contains('^Unnamed')]\n",
    "df_new.drop_duplicates(subset=\"parent\", keep=\"first\", inplace=True)\n",
    "df_new.duplicated()\n",
    "df_new.head()\n",
    "df_new.to_csv('ner_dataset_filter.csv')"
   ]
  }
 ],
 "metadata": {
  "interpreter": {
   "hash": "14d135845b4420f182ac77ee6b5c0deec044b592a80e9353f0df39bb07f4e36b"
  },
  "kernelspec": {
   "display_name": "Python 3.9.7 ('base')",
   "language": "python",
   "name": "python3"
  },
  "language_info": {
   "codemirror_mode": {
    "name": "ipython",
    "version": 3
   },
   "file_extension": ".py",
   "mimetype": "text/x-python",
   "name": "python",
   "nbconvert_exporter": "python",
   "pygments_lexer": "ipython3",
   "version": "3.9.7"
  }
 },
 "nbformat": 4,
 "nbformat_minor": 2
}
