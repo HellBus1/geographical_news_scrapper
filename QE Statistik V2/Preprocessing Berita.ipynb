{
 "cells": [
  {
   "cell_type": "code",
   "execution_count": 1,
   "metadata": {},
   "outputs": [
    {
     "name": "stderr",
     "output_type": "stream",
     "text": [
      "[nltk_data] Downloading package stopwords to\n",
      "[nltk_data]     /Users/syubbanfakhriya/nltk_data...\n",
      "[nltk_data]   Package stopwords is already up-to-date!\n"
     ]
    }
   ],
   "source": [
    "# Import library-library\n",
    "import os\n",
    "import glob\n",
    "\n",
    "# Data Preparation and Preprocessing\n",
    "import pandas as pd\n",
    "import re\n",
    "import nltk\n",
    "nltk.download('stopwords')\n",
    "from nltk.corpus import stopwords\n",
    "NLTK_StopWords = stopwords.words('indonesian')\n",
    "NLTK_StopWords = set(NLTK_StopWords)\n",
    "\n",
    "# Word Embedding\n",
    "import joblib\n",
    "from sklearn.feature_extraction.text import TfidfVectorizer\n",
    "import scipy.sparse\n",
    "\n",
    "from sklearn.metrics.pairwise import cosine_similarity\n",
    "\n",
    "# Input and Expansion Query\n",
    "from textblob import TextBlob\n",
    "from nltk.tokenize import wordpunct_tokenize\n",
    "#from googletrans import Translator\n",
    "\n",
    "#Split to train and test\n",
    "from sklearn.model_selection import train_test_split"
   ]
  },
  {
   "cell_type": "code",
   "execution_count": 4,
   "metadata": {},
   "outputs": [],
   "source": [
    "def preprocessing(berita):\n",
    "    s = berita.lower()\n",
    "    s = s.replace('\\n', ' ')\n",
    "    s = s.replace('\\r', ' ')\n",
    "    s = re.sub(r'[^a-zA-Z0-9\\s]', ' ', s)\n",
    "    tokens = [token for token in s.split(\" \") if token != \"\"]\n",
    "    T = [t for t in tokens if (((t.lower() == \"tempat\") or (t.lower() == \"waktu\")) or (t not in NLTK_StopWords))]\n",
    "    return T"
   ]
  },
  {
   "cell_type": "code",
   "execution_count": 5,
   "metadata": {},
   "outputs": [
    {
     "data": {
      "text/html": [
       "<div>\n",
       "<style scoped>\n",
       "    .dataframe tbody tr th:only-of-type {\n",
       "        vertical-align: middle;\n",
       "    }\n",
       "\n",
       "    .dataframe tbody tr th {\n",
       "        vertical-align: top;\n",
       "    }\n",
       "\n",
       "    .dataframe thead th {\n",
       "        text-align: right;\n",
       "    }\n",
       "</style>\n",
       "<table border=\"1\" class=\"dataframe\">\n",
       "  <thead>\n",
       "    <tr style=\"text-align: right;\">\n",
       "      <th></th>\n",
       "      <th>title</th>\n",
       "      <th>date</th>\n",
       "      <th>description</th>\n",
       "      <th>source</th>\n",
       "    </tr>\n",
       "  </thead>\n",
       "  <tbody>\n",
       "    <tr>\n",
       "      <th>0</th>\n",
       "      <td>\\n        6 Kios Terminal Lama Bojonegoro lude...</td>\n",
       "      <td>Jumat, 28 Jan 2022 09:24 WIB</td>\n",
       "      <td>Lokasi itu dikenal warga sebagai pasar ayam. D...</td>\n",
       "      <td>www.detik.com</td>\n",
       "    </tr>\n",
       "    <tr>\n",
       "      <th>1</th>\n",
       "      <td>\\n        Gempa M 5,1 Guncang Enggano Bengkulu...</td>\n",
       "      <td>Sabtu, 26 Feb 2022 07:09 WIB</td>\n",
       "      <td>berkekuatan magnitudo (M) 5,1 terjadi di Engga...</td>\n",
       "      <td>www.detik.com</td>\n",
       "    </tr>\n",
       "    <tr>\n",
       "      <th>2</th>\n",
       "      <td>\\r\\n        Sumbar Dilanda Gempa, BUMN Ikut Tu...</td>\n",
       "      <td>Sabtu, 26 Feb 2022 18:58 WIB</td>\n",
       "      <td>Gempa mengguncang wilayah Sumatera Barat denga...</td>\n",
       "      <td>www.detik.com</td>\n",
       "    </tr>\n",
       "    <tr>\n",
       "      <th>3</th>\n",
       "      <td>\\n        Kandang Ayam di Blitar Ludes Terbaka...</td>\n",
       "      <td>Jumat, 28 Jan 2022 12:26 WIB</td>\n",
       "      <td>Api terlihat mulai melahap bangunan dua lantai...</td>\n",
       "      <td>www.detik.com</td>\n",
       "    </tr>\n",
       "    <tr>\n",
       "      <th>4</th>\n",
       "      <td>\\n        Tewaskan 3 Orang, Begini Penampakan ...</td>\n",
       "      <td>Sabtu, 29 Jan 2022 12:31 WIB</td>\n",
       "      <td>rumah di Kebon Baru, Tebet, Jakarta Selatan (J...</td>\n",
       "      <td>www.detik.com</td>\n",
       "    </tr>\n",
       "  </tbody>\n",
       "</table>\n",
       "</div>"
      ],
      "text/plain": [
       "                                               title  \\\n",
       "0  \\n        6 Kios Terminal Lama Bojonegoro lude...   \n",
       "1  \\n        Gempa M 5,1 Guncang Enggano Bengkulu...   \n",
       "2  \\r\\n        Sumbar Dilanda Gempa, BUMN Ikut Tu...   \n",
       "3  \\n        Kandang Ayam di Blitar Ludes Terbaka...   \n",
       "4  \\n        Tewaskan 3 Orang, Begini Penampakan ...   \n",
       "\n",
       "                           date  \\\n",
       "0  Jumat, 28 Jan 2022 09:24 WIB   \n",
       "1  Sabtu, 26 Feb 2022 07:09 WIB   \n",
       "2  Sabtu, 26 Feb 2022 18:58 WIB   \n",
       "3  Jumat, 28 Jan 2022 12:26 WIB   \n",
       "4  Sabtu, 29 Jan 2022 12:31 WIB   \n",
       "\n",
       "                                         description         source  \n",
       "0  Lokasi itu dikenal warga sebagai pasar ayam. D...  www.detik.com  \n",
       "1  berkekuatan magnitudo (M) 5,1 terjadi di Engga...  www.detik.com  \n",
       "2  Gempa mengguncang wilayah Sumatera Barat denga...  www.detik.com  \n",
       "3  Api terlihat mulai melahap bangunan dua lantai...  www.detik.com  \n",
       "4  rumah di Kebon Baru, Tebet, Jakarta Selatan (J...  www.detik.com  "
      ]
     },
     "execution_count": 5,
     "metadata": {},
     "output_type": "execute_result"
    }
   ],
   "source": [
    "df =pd.read_csv(\"news.csv\")\n",
    "df.head()"
   ]
  },
  {
   "cell_type": "code",
   "execution_count": 6,
   "metadata": {},
   "outputs": [],
   "source": [
    "column = ['Title', 'Date', 'Description', 'Source']\n",
    "df_total = pd.DataFrame()\n",
    "\n",
    "df =pd.read_csv(\"news.csv\")\n",
    "isi=df['description']\n",
    "df = df.dropna(subset=['description'], axis=0)\n",
    "for x in range(0, df.shape[0]):\n",
    "    text = preprocessing (df.iloc[x, -2])\n",
    "    df.iloc[x, -2] = (' '.join(text)) "
   ]
  },
  {
   "cell_type": "code",
   "execution_count": 7,
   "metadata": {},
   "outputs": [
    {
     "data": {
      "text/html": [
       "<div>\n",
       "<style scoped>\n",
       "    .dataframe tbody tr th:only-of-type {\n",
       "        vertical-align: middle;\n",
       "    }\n",
       "\n",
       "    .dataframe tbody tr th {\n",
       "        vertical-align: top;\n",
       "    }\n",
       "\n",
       "    .dataframe thead th {\n",
       "        text-align: right;\n",
       "    }\n",
       "</style>\n",
       "<table border=\"1\" class=\"dataframe\">\n",
       "  <thead>\n",
       "    <tr style=\"text-align: right;\">\n",
       "      <th></th>\n",
       "      <th>title</th>\n",
       "      <th>date</th>\n",
       "      <th>description</th>\n",
       "      <th>source</th>\n",
       "    </tr>\n",
       "  </thead>\n",
       "  <tbody>\n",
       "    <tr>\n",
       "      <th>1446</th>\n",
       "      <td>\\n        Kebakaran Rumah di Ngagel Jaya Tenga...</td>\n",
       "      <td>Jumat, 25 Feb 2022 16:38 WIB</td>\n",
       "      <td>dalamnya orang terjebak rumah berlantai 2 iya ...</td>\n",
       "      <td>www.detik.com</td>\n",
       "    </tr>\n",
       "    <tr>\n",
       "      <th>1583</th>\n",
       "      <td>\\n                                    Jakarta ...</td>\n",
       "      <td>Jumat, 30 Jul 2021 16:53 WIB</td>\n",
       "      <td>jakarta terancam tenggelam penelitian global s...</td>\n",
       "      <td>www.detik.com</td>\n",
       "    </tr>\n",
       "    <tr>\n",
       "      <th>270</th>\n",
       "      <td>\\n        Atap Rumah Warga Trenggalek Runtuh D...</td>\n",
       "      <td>Selasa, 18 Jan 2022 20:36 WIB</td>\n",
       "      <td>kapolsek panggul akp budi hartoyo bencana ruma...</td>\n",
       "      <td>www.detik.com</td>\n",
       "    </tr>\n",
       "    <tr>\n",
       "      <th>890</th>\n",
       "      <td>\\n        Melihat Lagi Ancaman Abrasi di Utara...</td>\n",
       "      <td>Selasa, 21 Jan 2020 16:09 WIB</td>\n",
       "      <td>ancaman abrasi pesisir utara bekasi salah terd...</td>\n",
       "      <td>www.detik.com</td>\n",
       "    </tr>\n",
       "    <tr>\n",
       "      <th>332</th>\n",
       "      <td>\\n        Potret Warga Gunungkidul Cari Air Be...</td>\n",
       "      <td>Selasa, 29 Okt 2019 19:35 WIB</td>\n",
       "      <td>krisis air bersih melanda dusun bulurejo kepek...</td>\n",
       "      <td>www.detik.com</td>\n",
       "    </tr>\n",
       "  </tbody>\n",
       "</table>\n",
       "</div>"
      ],
      "text/plain": [
       "                                                  title  \\\n",
       "1446  \\n        Kebakaran Rumah di Ngagel Jaya Tenga...   \n",
       "1583  \\n                                    Jakarta ...   \n",
       "270   \\n        Atap Rumah Warga Trenggalek Runtuh D...   \n",
       "890   \\n        Melihat Lagi Ancaman Abrasi di Utara...   \n",
       "332   \\n        Potret Warga Gunungkidul Cari Air Be...   \n",
       "\n",
       "                               date  \\\n",
       "1446   Jumat, 25 Feb 2022 16:38 WIB   \n",
       "1583   Jumat, 30 Jul 2021 16:53 WIB   \n",
       "270   Selasa, 18 Jan 2022 20:36 WIB   \n",
       "890   Selasa, 21 Jan 2020 16:09 WIB   \n",
       "332   Selasa, 29 Okt 2019 19:35 WIB   \n",
       "\n",
       "                                            description         source  \n",
       "1446  dalamnya orang terjebak rumah berlantai 2 iya ...  www.detik.com  \n",
       "1583  jakarta terancam tenggelam penelitian global s...  www.detik.com  \n",
       "270   kapolsek panggul akp budi hartoyo bencana ruma...  www.detik.com  \n",
       "890   ancaman abrasi pesisir utara bekasi salah terd...  www.detik.com  \n",
       "332   krisis air bersih melanda dusun bulurejo kepek...  www.detik.com  "
      ]
     },
     "execution_count": 7,
     "metadata": {},
     "output_type": "execute_result"
    }
   ],
   "source": [
    "df.head()\n",
    "df_train, df_test=train_test_split(df,test_size=0.1)\n",
    "df_train.head()"
   ]
  },
  {
   "cell_type": "code",
   "execution_count": 8,
   "metadata": {},
   "outputs": [],
   "source": [
    "desc_text_train = []\n",
    "desc_text_test = []\n",
    "\n",
    "for x in range(0, df_train.shape[0]):\n",
    "  desc_text_train.append(df_train.iloc[x, -2])\n",
    "\n",
    "for x in range(0, df_test.shape[0]):\n",
    "  desc_text_test.append(df_test.iloc[x, -2])"
   ]
  },
  {
   "cell_type": "code",
   "execution_count": 9,
   "metadata": {},
   "outputs": [
    {
     "name": "stdout",
     "output_type": "stream",
     "text": [
      "<class 'pandas.core.frame.DataFrame'>\n",
      "Int64Index: 179 entries, 1268 to 1527\n",
      "Data columns (total 4 columns):\n",
      " #   Column       Non-Null Count  Dtype \n",
      "---  ------       --------------  ----- \n",
      " 0   title        179 non-null    object\n",
      " 1   date         179 non-null    object\n",
      " 2   description  179 non-null    object\n",
      " 3   source       179 non-null    object\n",
      "dtypes: object(4)\n",
      "memory usage: 7.0+ KB\n",
      "None\n",
      "Panjang Dokumen Test :  179\n",
      "------------------------------------------------------------------------------------------\n",
      "<class 'pandas.core.frame.DataFrame'>\n",
      "Int64Index: 1611 entries, 1446 to 1250\n",
      "Data columns (total 4 columns):\n",
      " #   Column       Non-Null Count  Dtype \n",
      "---  ------       --------------  ----- \n",
      " 0   title        1611 non-null   object\n",
      " 1   date         1611 non-null   object\n",
      " 2   description  1611 non-null   object\n",
      " 3   source       1611 non-null   object\n",
      "dtypes: object(4)\n",
      "memory usage: 62.9+ KB\n",
      "None\n",
      "Panjang Dokumen Train :  1611\n"
     ]
    }
   ],
   "source": [
    "print(df_test.info())\n",
    "print(\"Panjang Dokumen Test : \", len(desc_text_test))\n",
    "\n",
    "print ('-'*90)\n",
    "\n",
    "print(df_train.info())\n",
    "print(\"Panjang Dokumen Train : \", len(desc_text_train))"
   ]
  },
  {
   "cell_type": "code",
   "execution_count": 10,
   "metadata": {},
   "outputs": [],
   "source": [
    "# Simpan teks asli dokumen\n",
    "joblib.dump(desc_text_test, \"corpus/model/desc_text_test.pkl\")\n",
    "joblib.dump(desc_text_train, \"corpus/model/desc_text_train.pkl\")\n",
    "\n",
    "# Simpan dataframe hasil text processing sebelum TF-IDF Vectorizer\n",
    "df.to_csv('corpus/dataset/df_total.csv',index=False )\n",
    "df_test.to_csv('corpus/dataset/df_test.csv', index=False)\n",
    "df_train.to_csv('corpus/dataset/df_train.csv', index=False)\n"
   ]
  },
  {
   "cell_type": "code",
   "execution_count": 11,
   "metadata": {},
   "outputs": [
    {
     "name": "stdout",
     "output_type": "stream",
     "text": [
      "tfidf_test_matrix\n",
      "(179, 4819)\n",
      "tfidf_train_matrix\n",
      "(1611, 16588)\n"
     ]
    }
   ],
   "source": [
    "# Fit transform menggunakan TF-IDF Vectorizer\n",
    "tfidf_vectorizer = TfidfVectorizer()\n",
    "tfidf_test_matrix = tfidf_vectorizer.fit_transform(desc_text_test)\n",
    "tfidf_train_matrix = tfidf_vectorizer.fit_transform(desc_text_train)\n",
    "\n",
    "print('tfidf_test_matrix')\n",
    "print(tfidf_test_matrix.shape)\n",
    "print('tfidf_train_matrix')\n",
    "print(tfidf_train_matrix.shape)"
   ]
  },
  {
   "cell_type": "code",
   "execution_count": 12,
   "metadata": {},
   "outputs": [
    {
     "data": {
      "text/plain": [
       "['corpus/matrix/tfidf_train.pkl']"
      ]
     },
     "execution_count": 12,
     "metadata": {},
     "output_type": "execute_result"
    }
   ],
   "source": [
    "joblib.dump(tfidf_vectorizer, \"corpus/vectorizer/vectorizer.pkl\")\n",
    "joblib.dump(tfidf_test_matrix, \"corpus/matrix/tfidf_test.pkl\")\n",
    "joblib.dump(tfidf_train_matrix, \"corpus/matrix/tfidf_train.pkl\")"
   ]
  },
  {
   "cell_type": "markdown",
   "metadata": {},
   "source": [
    "### Pencarian "
   ]
  },
  {
   "cell_type": "code",
   "execution_count": 13,
   "metadata": {},
   "outputs": [
    {
     "name": "stdout",
     "output_type": "stream",
     "text": [
      "<class 'pandas.core.frame.DataFrame'>\n",
      "Int64Index: 1790 entries, 0 to 1789\n",
      "Data columns (total 4 columns):\n",
      " #   Column       Non-Null Count  Dtype \n",
      "---  ------       --------------  ----- \n",
      " 0   title        1790 non-null   object\n",
      " 1   date         1790 non-null   object\n",
      " 2   description  1790 non-null   object\n",
      " 3   source       1790 non-null   object\n",
      "dtypes: object(4)\n",
      "memory usage: 69.9+ KB\n",
      "None\n",
      "------------------------------------------------------------------------------------------\n",
      "179\n",
      "1611\n"
     ]
    }
   ],
   "source": [
    "df_total = pd.read_csv('corpus/dataset/df_total.csv')\n",
    "df_total = df_total[pd.notnull(df_total['description'])]\n",
    "print(df_total.info())\n",
    "print ('-'*90)\n",
    "\n",
    "document_text_train= joblib.load('corpus/model/desc_text_train.pkl')\n",
    "document_text_test= joblib.load('corpus/model/desc_text_test.pkl')\n",
    "print(len(document_text_test))\n",
    "print(len(document_text_train))"
   ]
  },
  {
   "cell_type": "code",
   "execution_count": 15,
   "metadata": {},
   "outputs": [
    {
     "name": "stdout",
     "output_type": "stream",
     "text": [
      "['banjir']\n",
      "\n",
      "======================\n",
      "\n",
      "Top 10 most similar documents in corpus:\n",
      "1\n",
      "No ID Dokumen  :  577\n",
      "Tanggal        :  Sabtu, 29 Jan 2022 09:57 WIB\n",
      "Isi berita     :  kawasan surabaya raya kota surabaya sidoarjo gresik turun hujan intensitas ringan siang sore malamnya kota surabaya sidoarjo turun hujan intensitas lebat disertai angin petir status banjir masuk kategori waspada wilayah pantura daerah lamongan bojonegoro tuban turun hujan ringan sore daerah wisata kota batu mojokerto turun hujan ringan sore hujan deras turun malang ponorogo trenggalek magetan lumajang jombang lumajang jember bondowoso siang sore kawasan madura raya hujan turun intensitas ringan siang sore daerah jatim turun detikers beraktivitas menikmati pekan waspada pengguna jalan mengendarai roda lupa sedia payung jas hujan\n",
      "(Score: 0.6952) \n",
      "2\n",
      "No ID Dokumen  :  1306\n",
      "Tanggal        :  Senin, 21 Feb 2022 09:19 WIB\n",
      "Isi berita     :  gempa pacitan 07 58 31 wib cuit bmkgjogja laman twitternya senin 21 2 2022 berlokasi 9 02 lintang selatan 111 28 bujur timur 17 km tenggara pacitan gempa berkedalaman 18 km\n",
      "(Score: 0.4542) \n",
      "3\n",
      "No ID Dokumen  :  1340\n",
      "Tanggal        :  Sabtu, 26 Feb 2022 09:40 WIB\n",
      "Isi berita     :  gempa berkekuatan 6 2 sr pasaman barat mengakibatkan 7 warga meninggal dunia korban meninggal gempa mengakibatkan ribuan orang mengungsi warga mengungsi tempat aman pascagempa nagari pinagar kecamatan pasaman kabupaten pasaman barat sumatra barat jumat 25 2 2022 badan nasional penanggulangan bencana bnpb gempa berkekuatan magnitudo 6 2 pasaman barat mengakibatkan tujuh warga meninggal dunia korban meninggal luka gempa mengakibatkan ribuan orang mengungsi menggelar tikar halaman lokasi dijadikan posko warga mengungsi mengaku pakaian badan tertimbun rumah ambruk\n",
      "(Score: 0.3882) \n",
      "4\n",
      "No ID Dokumen  :  244\n",
      "Tanggal        :  Kamis, 05 Agu 2021 12:11 WIB\n",
      "Isi berita     :  petugas penyelamat dilansir ratusan warga desa kebanyakan meninggalkan rumah mendengar peringatan evakuasi membawa tas berisi barang barang milik kapal cepat milik patroli pantai turki disiagakan pelabuhan oren otoritas bahan kimia bersifat eksplosif material berbahaya dipindahkan pembangkit listrik risiko api menyebar ribuan ton batu bara wali kota osman gurun wartawan pejabat tangki tangki hidrogen mendinginkan pembangkit listrik dikosongkan diisi air pencegahan laporan media media lokal turki menyebut batu bara dipindahkan pembangkit listrik tempat penyimpanan berjarak 5 kilometer langkah pencegahan api kali bergerak mendekat pekan\n",
      "(Score: 0.3614) \n",
      "5\n",
      "No ID Dokumen  :  175\n",
      "Tanggal        :  Kamis, 09 Des 2021 20:06 WIB\n",
      "Isi berita     :  hujan deras disertai angin kencang menerjang wilayah kota cimahi kamis 9 12 2021 sore tenda pedagang makanan area lapang tembak gunung bohong porak poranda tenda berdiri pinggir lapangan tersapu angin barang dagangan dijajakan berjatuhan gerobak lantaran angin berhembus kencang salah pedagang terdampak hujan angin krismon 24 peristiwa pedagang pembeli panik kejadiannya 5 menit anginnya kencang banget tenda dagang ambruk barang dagangan berjatuhan krismon hujan angin menahan tenda gerobak dalamnya kakinya tersiram air panas panci kompor tersapu angin nahan besi tenda gerobak terguling panci air panas ketahan tumpah nyiram kaki ya aja lukanya terang krismon akibat peristiwa total tenda 10 tenda dagang porak poranda mengalami kerusakan akibat terpal tenda berwarna putih sobek besi kerangkanya patah terdampak 5 tenda parah tukang sosis sebelah terangkat tendanya krismon jenal 42 pedagang menyebut tendanya terbang disapu angin kencang memperbaiki kerangkanya patah kuat menahan bobot tenda berat patah diperbaiki besok dilas kerugian ya lumayan rp 500 ribu rp 1 juta barang dagangan rusak jenal\n",
      "(Score: 0.3348) \n",
      "6\n",
      "No ID Dokumen  :  733\n",
      "Tanggal        :  Jumat, 15 Okt 2021 13:45 WIB\n",
      "Isi berita     :  letusan menimbulkan korban rumah warga hancur diterjang gelombang letusan gunung berapi memicu tsunami ditampilkan latihan disimulasikan bencana tsunami diprediksi latihan mencoba pengambilan keputusan cepat menanggulangi bencana langkah langkah tindakan diambil melaksanakan penanggulangan bencana cepat mengevakuasi korban panglima koarmada i laksamana muda tni arsyad abdullah wartawan pelabuhan indah kiat jumat 15 10 2021 pelaksanaan tsunami tni al mengerahkan kapal perang helikopter mengevakuasi korban unsur sar dikerahkan personel bpbd basarnas dinas kesehatan mengalami luka luka dievakuasi posko kesehatan lokasi kejadian korban membutuhkan penanganan cepat dievakuasi helikopter kendaraan kendaraan ambulans kendaraan sar kendaraan kendaraan mengevakuasi korban helikopter mengevakuasi korban cepat korban korban kritis tangani latihan arsyad bertujuan meningkatkan kesiapsiagaan menghadapi kontingensi berkaitan bencana alam mengecek kesiapan personel kelengkapan sarana prasarana pendukung keterpaduan rangka kesiapsiagaan penanggulangan bencana alam\n",
      "(Score: 0.3299) \n",
      "7\n",
      "No ID Dokumen  :  605\n",
      "Tanggal        :  Rabu, 23 Feb 2022 22:03 WIB\n",
      "Isi berita     :  insiden ledakan pabrik kimia pt mcci cilegon menyebabkan 6 orang sesak napas trauma pabrik berdasarkan pengecekan lapangan kebakaran korban lingkungan pt mitsubishi chemical indonesia pabrik dimatikan ditutup kondisi terkendali public relations pt mcci reza maulana keterangan resmi wartawan rabu 23 2 2022 reza ledakan kebocoran pipa reaktor pabrik insiden mengakibatkan semburan fluida campuran material pta air pipa pta menganalisis menyelidiki penyebab ledakan perusahaan berkoordinasi kepolisian dinas terkait area ledakan dipasang garis polisi mempermudah penyelidikan perusahaan melaporkan kejadian berwenang penyelidikan internal terkait\n",
      "(Score: 0.3289) \n",
      "8\n",
      "No ID Dokumen  :  778\n",
      "Tanggal        :  Kamis, 10 Des 2020 18:31 WIB\n",
      "Isi berita     :  kepala balai bmkg wilayah 3 denpasar mohammad taufik gunawan tambahan ews melengkapi alat terpasang desa tasikmadu kecamatan watulimo bantuan sistem peringatan tsunami sirine serahkan bpbd alat peringatan warga evakuasi tsunami m taufik gunawan kamis 10 12 2020 menurutnya sistem kendali ews dikendalikan langsung pusdalops teknisnya gempa berpotensi tsunami bmkg mengirim pesan bpbd menombol ews instruksi pengendali wilayah maksimal membutuhkan waktu menit mengembangkan alat waktu 2 menit menerima informasi potensi tsunami kecepatan alat mempengaruhi tindakan evakuasi pemasangan ews pesisir selatan trenggalek dinilai kecamatan masuk daerah rawan terdampak alat pendukung kesiapsiagaan masyarakat gempa masyarakat hadus sigap mengevakuasi menunggu peringatan ews taufik menurutnya menambah ews bmkg penguatan sisi pengetahuan elemen masyarakat pesisir selatan trenggalek terkait tsunami sistem peringatan bertujuan meningkatkan pengetahuan masyarakat stakeholder informasi gempa bumi tsunami informasi diterjemahkan terkait stakeholder masyarakat data bpbd trenggalek kecamatan pesisir trenggalek terpasang 8 ews rincian titik kecamatan watulimo titik kecamatan panggul titik kecamatan munjungan\n",
      "(Score: 0.3120) \n",
      "9\n",
      "No ID Dokumen  :  1600\n",
      "Tanggal        :  Minggu, 11 Apr 2021 17:08 WIB\n",
      "Isi berita     :  ratusan korban longsor waimatan ntt direlokasi direlokasi bangkit keterpurukan pascabencana\n",
      "(Score: 0.3093) \n",
      "10\n",
      "No ID Dokumen  :  1296\n",
      "Tanggal        :  Rabu, 02 Feb 2022 10:50 WIB\n",
      "Isi berita     :  gempa berkekuatan magnitudo 4 2 mengguncang wilayah pangandaran jawa barat gempa daerah terdekat gempa mag 4 2 barat daya kabupaten pangandaran jabar tulis badan meteorologi klimatologi geofisika bmkg bandung keterangannya rabu 2 2 2022 gempa 10 23 wib berlokasi 82 kilometer barat daya pangandaran kedalaman 18 kilometer dirasakan ciamis tasikmalaya bmkg keterangannya\n",
      "(Score: 0.3071) \n"
     ]
    }
   ],
   "source": [
    "kueri='Banjir'\n",
    "kueri=preprocessing(kueri)\n",
    "kueri= [\" \".join (kueri)]\n",
    "print (kueri)\n",
    "\n",
    "tfidf_matrix =joblib.load( \"corpus/matrix/tfidf_train.pkl\" )\n",
    "tfidf_vectorizer = joblib.load( \"corpus/vectorizer/vectorizer.pkl\" ) \n",
    "query_vec= tfidf_vectorizer.transform(kueri)\n",
    "results=cosine_similarity(tfidf_matrix, query_vec).reshape((-1))\n",
    "#print (results)\n",
    "print(\"\\n======================\\n\")\n",
    "print(\"Top 10 most similar documents in corpus:\")\n",
    "\n",
    "j = 1\n",
    "\n",
    "for i in results.argsort()[-10:][::-1]:\n",
    "    print(j)\n",
    "    print(\"No ID Dokumen  : \", i)\n",
    "    print(\"Tanggal        : \", df_total.iloc[i,1])\n",
    "    print(\"Isi berita     : \", df_total.iloc[i,2])\n",
    "    print(\"(Score: %.4f) \" % results[i])\n",
    "    j += 1"
   ]
  }
 ],
 "metadata": {
  "kernelspec": {
   "display_name": "Python 3",
   "language": "python",
   "name": "python3"
  },
  "language_info": {
   "codemirror_mode": {
    "name": "ipython",
    "version": 3
   },
   "file_extension": ".py",
   "mimetype": "text/x-python",
   "name": "python",
   "nbconvert_exporter": "python",
   "pygments_lexer": "ipython3",
   "version": "3.9.9"
  }
 },
 "nbformat": 4,
 "nbformat_minor": 2
}
