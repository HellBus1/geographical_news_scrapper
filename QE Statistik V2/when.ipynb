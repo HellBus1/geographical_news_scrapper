{
 "cells": [
  {
   "cell_type": "code",
   "execution_count": 1,
   "id": "a9eccc32",
   "metadata": {},
   "outputs": [
    {
     "name": "stderr",
     "output_type": "stream",
     "text": [
      "[nltk_data] Downloading package punkt to /usr/local/share/nltk_data...\n",
      "[nltk_data]   Package punkt is already up-to-date!\n"
     ]
    }
   ],
   "source": [
    "# Import library-library\n",
    "import os\n",
    "import glob\n",
    "from tqdm import tqdm\n",
    "import numpy as np\n",
    "\n",
    "# Data Preparation and Preprocessing\n",
    "import pandas as pd\n",
    "import re\n",
    "from string import digits\n",
    "\n",
    "# Word Embedding\n",
    "import joblib\n",
    "from keybert import KeyBERT\n",
    "kw_extractor = KeyBERT('distilbert-base-nli-mean-tokens')\n",
    "from sklearn.feature_extraction.text import TfidfVectorizer\n",
    "import scipy.sparse\n",
    "from sklearn.metrics.pairwise import cosine_similarity\n",
    "import matplotlib.pyplot as plt\n",
    "from sentence_transformers import SentenceTransformer\n",
    "embedder = SentenceTransformer('xlm-r-distilroberta-base-paraphrase-v1')\n",
    "\n",
    "# Input and Expansion Query\n",
    "import nltk\n",
    "nltk.download('punkt')\n",
    "import math\n",
    "from textblob import TextBlob\n",
    "from yake import KeywordExtractor\n",
    "from nltk.tokenize import wordpunct_tokenize\n",
    "from nltk.corpus import stopwords\n",
    "from nltk import tokenize\n",
    "from operator import itemgetter\n",
    "from nltk.tokenize import word_tokenize\n",
    "from textblob import TextBlob\n",
    "NLTK_StopWords = stopwords.words('indonesian')"
   ]
  },
  {
   "cell_type": "code",
   "execution_count": 2,
   "id": "80d64203",
   "metadata": {},
   "outputs": [],
   "source": [
    "def preprocessing(berita):\n",
    "    s = berita.lower()\n",
    "    s = s.replace('\\n', ' ')\n",
    "    s = s.replace('\\r', ' ')\n",
    "    s = re.sub(r'[^a-zA-Z0-9\\s]', ' ', s)\n",
    "    tokens = [token for token in s.split(\" \") if token != \"\"]\n",
    "    T = [t for t in tokens if (((t.lower() == \"tempat\") or (t.lower() == \"waktu\") or (t.lower() == \"hari\")) or (t not in NLTK_StopWords))]\n",
    "    return T"
   ]
  },
  {
   "cell_type": "code",
   "execution_count": 3,
   "id": "ee7d2ad4",
   "metadata": {},
   "outputs": [
    {
     "name": "stdout",
     "output_type": "stream",
     "text": [
      "<class 'pandas.core.frame.DataFrame'>\n",
      "Int64Index: 221 entries, 0 to 220\n",
      "Data columns (total 4 columns):\n",
      " #   Column       Non-Null Count  Dtype \n",
      "---  ------       --------------  ----- \n",
      " 0   title        221 non-null    object\n",
      " 1   date         221 non-null    object\n",
      " 2   description  221 non-null    object\n",
      " 3   source       221 non-null    object\n",
      "dtypes: object(4)\n",
      "memory usage: 8.6+ KB\n",
      "None\n",
      "------------------------------------------------------------------------------------------\n",
      "221\n"
     ]
    }
   ],
   "source": [
    "df_test = pd.read_csv('df_test.csv')\n",
    "df_test = df_test[pd.notnull(df_test['description'])]\n",
    "print(df_test.info())\n",
    "print ('-'*90)\n",
    "document_text_test= joblib.load('desc_text_test.pkl')\n",
    "print(len(document_text_test))"
   ]
  },
  {
   "cell_type": "code",
   "execution_count": 4,
   "id": "621999ed",
   "metadata": {},
   "outputs": [
    {
     "name": "stdout",
     "output_type": "stream",
     "text": [
      "<class 'pandas.core.frame.DataFrame'>\n",
      "Int64Index: 1979 entries, 0 to 1979\n",
      "Data columns (total 4 columns):\n",
      " #   Column       Non-Null Count  Dtype \n",
      "---  ------       --------------  ----- \n",
      " 0   title        1979 non-null   object\n",
      " 1   date         1979 non-null   object\n",
      " 2   description  1979 non-null   object\n",
      " 3   source       1979 non-null   object\n",
      "dtypes: object(4)\n",
      "memory usage: 77.3+ KB\n",
      "None\n",
      "------------------------------------------------------------------------------------------\n",
      "1980\n"
     ]
    }
   ],
   "source": [
    "df_train = pd.read_csv('df_train.csv')\n",
    "df_train = df_train[pd.notnull(df_train['description'])]\n",
    "print(df_train.info())\n",
    "print ('-'*90)\n",
    "document_text_train= joblib.load('desc_text_train.pkl')\n",
    "print(len(document_text_train))"
   ]
  },
  {
   "cell_type": "code",
   "execution_count": 5,
   "id": "552beb30",
   "metadata": {},
   "outputs": [],
   "source": [
    "def bow_read(bow):\n",
    "    bow_read = pd.read_csv(bow)\n",
    "    bow_text = []\n",
    "\n",
    "    for i in range(0,bow_read.shape[0]):\n",
    "        bow_text.append(bow_read.iloc[i,1])\n",
    "        \n",
    "    return(bow_read,bow_text)"
   ]
  },
  {
   "cell_type": "code",
   "execution_count": 6,
   "id": "7484e66b",
   "metadata": {},
   "outputs": [],
   "source": [
    "def cari_dokpertama(kueriAsli):\n",
    "    kueriPre=preprocessing(kueriAsli)\n",
    "    kueriPre= \" \".join (kueriPre)\n",
    "    hasilSearch=[]\n",
    "    tfidf_train = joblib.load('tfidf_train.pkl')\n",
    "    tfidf_vectorizer = joblib.load('vectorizer.pkl')\n",
    "    query_vec= tfidf_vectorizer.transform([kueriPre])\n",
    "    # print('queryvec')\n",
    "    print(query_vec)\n",
    "    results=cosine_similarity(tfidf_train, query_vec).reshape((-1))\n",
    "    # print(results)\n",
    "    for i in results.argsort()[-5:][::-1]:\n",
    "        hasilSearch.append(df_train.iloc[i,-2])\n",
    "    hasilSearch=\". \".join(hasilSearch)\n",
    "    return hasilSearch"
   ]
  },
  {
   "cell_type": "code",
   "execution_count": 7,
   "id": "2791b7e0",
   "metadata": {},
   "outputs": [],
   "source": [
    "##Keywords Extraction with YAKE\n",
    "def keyword_yake(hasilSearch):\n",
    "    # print(hasilSearch)\n",
    "    keywordYake=[]\n",
    "\n",
    "    k_extractor = KeywordExtractor(lan=\"id\", n=1, top=50)\n",
    "    # print(k_extractor)\n",
    "    k_extractor2 = KeywordExtractor(lan=\"id\", n=2, top=50)\n",
    "    # print(k_extractor2)\n",
    "    keywords = k_extractor.extract_keywords(text=hasilSearch)\n",
    "    # print(\"pertama : \",keywords)\n",
    "    keywords = k_extractor2.extract_keywords(text=hasilSearch)\n",
    "    # print(\"kedua : \",keywords)\n",
    "    keywordYake = [x for x, y in keywords]\n",
    "    # print(keywordYake)\n",
    "    #keywordYake.append(keywords)\n",
    "    # print (keywordYake)\n",
    "    return keywordYake\n",
    "#print(\"Keywords of article\\n\", keywords)"
   ]
  },
  {
   "cell_type": "code",
   "execution_count": 8,
   "id": "fe65a27f",
   "metadata": {},
   "outputs": [],
   "source": [
    "#Keywords Extraction with TFIDF\n",
    "def keyword_tfidf(hasilSearch):\n",
    "\n",
    "    keywordtfidf=[]\n",
    "    keywordtfidf2=[]\n",
    "\n",
    "    #doc = 'بَاب فرض الْوضُوء وسننه وهيآته وَفرض الْوضُوء سِتّ خِصَال النِّيَّة عمند غسل الْوَجْه وَغسل الْوَجْه وَغسل الذراعين مَعَ الْمرْفقين وَمسح مَا قل من الرَّأْس وَغسل الرجلَيْن مَعَ الْكَعْبَيْنِ وَالتَّرْتِيب وعَلى قَول الْوَلَاء وسننه عشر خِصَال خمس مِنْهَا قبل غسل الْوَجْه وَهِي التَّسْمِيَة وَغسل الْكَفَّيْنِ والمضمضة وَالِاسْتِنْشَاق وَالْمُبَالغَة فيههما إِلَّا للصَّائِم وَخمْس بعد غسل الْوَجْه وَهِي تَقْدِيم الْيُمْنَى على ليسرى وَمسح جَمِيع الرَّأْس وَمسح الْأُذُنَيْنِ ظاهرهما وباطنهما وَإِدْخَال الأصبعين فيهمَا وتخليل أَصَابِع الرجلَيْن . وَغسل دَاخل الْكَعْبَيْنِ وَلَيْسَ مسح لعنق من سنَنه وفضيلته تكراره ثَلَاثًا وزالواجب فِيهِ مرّة والمرتان أفضل وَالثَّلَاث أكمل وهيآته أَن يبْدَأ فِي تَطْهِير الْأَعْضَاء بمواضع الِابْتِدَاء . فَإِن اقْتصر على فروضه استة أَجزَأَهُ وَإِن ضيع حَظّ نَفسه فِيمَا ترك'\n",
    "    total_words = re.sub(r'[^\\w]', ' ', hasilSearch)\n",
    "    total_words = total_words.lower().split()\n",
    "    #print (total_words)\n",
    "    total_word_length = len(total_words)\n",
    "    total_sentences = tokenize.sent_tokenize(hasilSearch)\n",
    "    total_sent_len = len(total_sentences)\n",
    "\n",
    "    tf_score = {}\n",
    "    for each_word in total_words:\n",
    "        #print (each_word)\n",
    "        each_word = each_word.replace('.','')\n",
    "        if each_word not in NLTK_StopWords:\n",
    "            if each_word in tf_score:\n",
    "                tf_score[each_word] += 1\n",
    "            else:\n",
    "                tf_score[each_word] = 1\n",
    "\n",
    "    # Dividing by total_word_length for each dictionary element\n",
    "    tf_score.update((x, y/int(total_word_length)) for x, y in tf_score.items())\n",
    "    #print(tf_score)\n",
    "    def check_sent(word, sentences): \n",
    "        final = [all([w in x for w in word]) for x in sentences] \n",
    "        sent_len = [sentences[i] for i in range(0, len(final)) if final[i]]\n",
    "        return int(len(sent_len))\n",
    "\n",
    "    idf_score = {}\n",
    "    for each_word in total_words:\n",
    "        #print (each_word)\n",
    "        each_word = each_word.replace('.','')\n",
    "        if each_word not in NLTK_StopWords:\n",
    "            if each_word in idf_score:\n",
    "                idf_score[each_word] = check_sent(each_word, total_sentences)\n",
    "            else:\n",
    "                idf_score[each_word] = 1\n",
    "\n",
    "    # Performing a log and divide\n",
    "    idf_score.update((x, math.log(int(total_sent_len)/y)) for x, y in idf_score.items())\n",
    "\n",
    "    #print(idf_score)\n",
    "    tf_idf_score = {key: tf_score[key] * idf_score.get(key, 0) for key in tf_score.keys()}\n",
    "    #print(tf_idf_score)\n",
    "    def get_top_n(dict_elem, n):\n",
    "        result = dict(sorted(dict_elem.items(), key = itemgetter(1), reverse = True)[:n]) \n",
    "        hasil =list(result.keys())\n",
    "        #print(list(result.keys()))        \n",
    "        return hasil\n",
    "    #print(get_top_n(tf_idf_score, 25))\n",
    "    #print(len(get_top_n(tf_idf_score, 1)))\n",
    "    keywordtfidf.append(get_top_n(tf_idf_score, 35))\n",
    "    for i in range(len(keywordtfidf)):\n",
    "        #print (i)\n",
    "        totalKw=0\n",
    "        totalKw=len(keywordtfidf[i])\n",
    "        for j in range(totalKw):\n",
    "            #print (j)\n",
    "            keywordtfidf2.append(keywordtfidf[i][j])\n",
    "    #print (keywordtfidf2)\n",
    "    return keywordtfidf2"
   ]
  },
  {
   "cell_type": "code",
   "execution_count": 9,
   "id": "3911188f",
   "metadata": {},
   "outputs": [],
   "source": [
    "#Keywords Extraction with BERT\n",
    "def keyword_bert(hasilSearch):\n",
    "    # print(hasilSearch)\n",
    "\n",
    "    keywordbert=[]\n",
    "\n",
    "    #for j in range(len(array_text)):\n",
    "    keyword1 = kw_extractor.extract_keywords(hasilSearch, top_n=50, keyphrase_ngram_range=(1, 1))\n",
    "    # print(keyword1)\n",
    "    keyword2 = kw_extractor.extract_keywords(hasilSearch, top_n=50, keyphrase_ngram_range=(1, 2))\n",
    "    # print(keyword2)\n",
    "    # keyword3 = kw_extractor.extract_keywords(hasilSearch, top_n=50, keyphrase_ngram_range=(1, 5))\n",
    "    # print(keyword3)\n",
    "\n",
    "    #print(\"Keywords of article\\n\", keywords)\n",
    "    for i in range (0,len (keyword1)):\n",
    "        keywordbert.append(keyword1[i][0])\n",
    "        keywordbert.append(keyword2[i][0])\n",
    "    # print (keywordbert)\n",
    "    return keywordbert"
   ]
  },
  {
   "cell_type": "code",
   "execution_count": 10,
   "id": "8f272942",
   "metadata": {},
   "outputs": [],
   "source": [
    "def rangking (keywordGabung):\n",
    "    keywordTemp=[]\n",
    "    keywordFinal=[]\n",
    "\n",
    "    def borda_sort(lists):\n",
    "        scores = {}\n",
    "        for l in lists:\n",
    "            for idx, elem in enumerate(reversed(l)):\n",
    "                if not elem in scores:\n",
    "                    scores[elem] = 0\n",
    "                scores[elem] += idx\n",
    "        return sorted(scores.keys(), key=lambda elem: scores[elem], reverse=True)\n",
    "\n",
    "    keywordTemp.append(borda_sort(keywordGabung))\n",
    "    print ('kandidat temp',keywordTemp)\n",
    "    print ('Total Kandidat temp: ',len(keywordTemp[0]))\n",
    "\n",
    "    if len(keywordTemp[0])>30:\n",
    "        print ('kurang dari 80')\n",
    "        for i in range (0,80):\n",
    "            keywordFinal.append(keywordTemp[0][i])\n",
    "    elif len(keywordTemp[0])<80:\n",
    "        print ('lebih dari 80')\n",
    "        for i in range (0,len(keywordTemp)):\n",
    "            for j in range (0,len(keywordTemp[0])):\n",
    "                keywordFinal.append(keywordTemp[0][j])\n",
    "    print ('Total Kandidat final: ',len(keywordFinal))\n",
    "    print ('Kandidat final: ',keywordFinal)\n",
    "    return keywordFinal"
   ]
  },
  {
   "cell_type": "code",
   "execution_count": 11,
   "id": "653304f7",
   "metadata": {},
   "outputs": [],
   "source": [
    "def keyword_BOW(keywordBOW, kueriAsli):\n",
    "    cekDuplicate = []\n",
    "    kandidatFix = []\n",
    "\n",
    "    for i in keywordBOW:\n",
    "        if(i not in cekDuplicate and i!=0):\n",
    "            cekDuplicate.append(i)\n",
    "\n",
    "    # queries=[kueriAsli]\n",
    "    queries=kueriAsli\n",
    "    query_embeddings = embedder.encode(queries)\n",
    "    corpus_embeddings4 = embedder.encode(cekDuplicate)\n",
    "    \n",
    "    # Find the closest 5 sentences of the corpus for each query sentence based on cosine similarity\n",
    "    closest_n = 1000\n",
    "    for query, query_embedding in zip(queries, query_embeddings):\n",
    "        distances = scipy.spatial.distance.cdist([query_embedding], corpus_embeddings4, 'cosine')[0]\n",
    "        results = zip(range(len(distances)), distances)\n",
    "        results = sorted(results, key=lambda x: x[1])\n",
    "        for idx, distance in results[0:closest_n]:\n",
    "            kandidatFix.append(cekDuplicate[idx])\n",
    "    return kandidatFix"
   ]
  },
  {
   "cell_type": "code",
   "execution_count": 12,
   "id": "9038f464",
   "metadata": {},
   "outputs": [],
   "source": [
    "def kandidatFix(kueriAsli,bow):\n",
    "    #kueri what\n",
    "    # kueriAsli='apa sebenarnya kejadian yang terjadi diberita tersebut'\n",
    "    kueri=preprocessing(kueriAsli)\n",
    "    kueri= [\" \".join (kueri)]\n",
    "    print (kueri)\n",
    "    hasilkandidat=[]\n",
    "    keywordGabung=[]\n",
    "    kandidatFix=[]\n",
    "    kueriFix=[]\n",
    "    kueriFixWithDelimiter=[]\n",
    "    \n",
    "\n",
    "\n",
    "    hasilSearch=cari_dokpertama(kueriAsli)\n",
    "    keywordYake=keyword_yake(hasilSearch)\n",
    "    keywordtfidf2=keyword_tfidf(hasilSearch)\n",
    "    keywordbert=keyword_bert (hasilSearch)\n",
    "    keywordBOW=keyword_BOW(bow, kueri)\n",
    "\n",
    "    keywordGabung.append(keywordYake)\n",
    "    keywordGabung.append(keywordtfidf2)\n",
    "    keywordGabung.append(keywordbert)\n",
    "    # keywordGabung.append(keywordBOW)\n",
    "    hasilrank=rangking(keywordGabung)\n",
    "\n",
    "    for i in hasilrank:\n",
    "        kueriFix.append(i)\n",
    "    for x in keywordBOW:\n",
    "        kueriFix.append(x)\n",
    "    for j in kueriFix:\n",
    "        hasilkandidat.append(j)\n",
    "    kueriFixWithDelimiter=kueriFix\n",
    "    kueriFix=[preprocessing(i) for i in kueriFix]\n",
    "    for i in kueriFix:\n",
    "        for j in i:\n",
    "            kandidatFix.append(j)\n",
    "    kandidatFix= [\" \".join (kandidatFix)]\n",
    "    \n",
    "    print ('*'*120)\n",
    "    return(kandidatFix,keywordGabung,keywordBOW,hasilrank,kueriFixWithDelimiter)"
   ]
  },
  {
   "cell_type": "code",
   "execution_count": 13,
   "id": "83bd5207",
   "metadata": {},
   "outputs": [],
   "source": [
    "bow_when_read,bow_when_text = bow_read('bow_when.csv')\n",
    "\n"
   ]
  },
  {
   "cell_type": "code",
   "execution_count": 14,
   "id": "bcbd6554",
   "metadata": {},
   "outputs": [
    {
     "name": "stdout",
     "output_type": "stream",
     "text": [
      "When     :  hari\n"
     ]
    }
   ],
   "source": [
    "print(\"When     : \", bow_when_text[0])\n"
   ]
  },
  {
   "cell_type": "code",
   "execution_count": 15,
   "id": "840043f0",
   "metadata": {},
   "outputs": [
    {
     "name": "stdout",
     "output_type": "stream",
     "text": [
      "['hari waktu']\n",
      "  (0, 16713)\t1.0\n",
      "kandidat temp [['ohio', 'tragedi ohio', 'menghubungi', 'ohio rabu', 'panggilan darurat', 'columbus', 'melepaskan', 'menghubungi layanan', 'mengembuskan', 'dunia mengembuskan', 'mengidentifikasi', 'tega membunuh', 'tertembak ayahnya', 'panggilan', 'berboncengan pelaku', 'pemberitahuan', 'ayah melepaskan', 'mengidentifikasi terkait', 'mengirimkan', 'pangestu', 'merilis pemberitahuan', 'menunggu', 'putrinya jane', 'tergeletak', 'mengidentifikasi pelaku', 'korban menghubungi', 'keberadaan', 'pelaku', 'tertembak', 'tersangka', 'kabar columbus', 'columbus dispatch', 'pelaku membunuh', 'berboncengan', 'korban anggota', 'anggota', 'mengembuskan napas', 'mengklaim', 'hubungan', 'ditembak', 'insyaallah', 'korban membunuh', 'tugasnya', 'kendaraan tugasnya', 'bangun petugas', 'waktu sang', 'waktu', 'penembakan', 'dunia', 'sudjana mengidentifikasi', 'membunuh', 'kolonel pangestu', 'penyelidikan', 'pangestu pelaku', 'metro jaya', 'berjanji', 'rekaman panggilan', 'dibawa petugas', 'petugas darurat', 'motor berboncengan', 'publik', 'layanan darurat', 'salah anggota', 'ditembak putrinya', 'sang ayah', 'maulana', 'darurat orang', 'pelaku berjanji', 'darurat rumah', 'berjarak', 'sosok garasi', 'garasi sosok', 'pusat', 'insyaallah waktu', 'korban', 'metro', 'polisi mengidentifikasi', 'keempat', 'menunggu mendekati', 'anggota tni', 'putrinya', 'darurat', 'virginia', 'virginia kepolisian', 'jaya', 'identifikasi', 'diungkap', 'ayah tragedi', 'tragedi', 'virginia pelaku', 'rabu', 'mengklaim kapolda', 'pelor sosok', 'sang', 'ditangkap', 'sosok ditembak', 'waktu jam', 'pelor', 'dinyatakan', 'hairston tergeletak', 'operasi pencarian', 'lantai garasi', 'jane', 'mapolda', 'putrinya sengaja', 'hairston', 'kapolda metro', 'jenazah', 'polda metro', 'lantai', 'pemberitahuan situasi', 'jaya irjen', 'terdengar', 'ibunda', 'penembak', 'berjarak jam', 'layanan', 'melepaskan pelor', 'sengaja', 'jane hairston', 'berharap', 'ayahnya', 'menyebut pelaku', 'tergeletak lantai', 'surat', 'kabar', 'sengaja tertembak', 'the', 'busana', 'surat kabar', 'dispatch', 'operasi', 'kabar the', 'rekaman', 'the columbus', 'pencarian', 'orang', 'berusaha merebut', 'dispatch rekaman', 'tua', 'kakaknya', 'penyelidikan polisi', 'orang tua', 'panik', 'petugas', 'terdengar panik', 'memohon', 'korban dinyatakan', 'panik memohon', 'putri', 'merilis', 'memohon putri', 'bangun', 'kali ditemukan', 'putri bangun', 'selang', 'ayah', 'selang menit', 'menit', 'menyebut putrinya']]\n",
      "Total Kandidat temp:  160\n",
      "kurang dari 80\n",
      "Total Kandidat final:  80\n",
      "Kandidat final:  ['ohio', 'tragedi ohio', 'menghubungi', 'ohio rabu', 'panggilan darurat', 'columbus', 'melepaskan', 'menghubungi layanan', 'mengembuskan', 'dunia mengembuskan', 'mengidentifikasi', 'tega membunuh', 'tertembak ayahnya', 'panggilan', 'berboncengan pelaku', 'pemberitahuan', 'ayah melepaskan', 'mengidentifikasi terkait', 'mengirimkan', 'pangestu', 'merilis pemberitahuan', 'menunggu', 'putrinya jane', 'tergeletak', 'mengidentifikasi pelaku', 'korban menghubungi', 'keberadaan', 'pelaku', 'tertembak', 'tersangka', 'kabar columbus', 'columbus dispatch', 'pelaku membunuh', 'berboncengan', 'korban anggota', 'anggota', 'mengembuskan napas', 'mengklaim', 'hubungan', 'ditembak', 'insyaallah', 'korban membunuh', 'tugasnya', 'kendaraan tugasnya', 'bangun petugas', 'waktu sang', 'waktu', 'penembakan', 'dunia', 'sudjana mengidentifikasi', 'membunuh', 'kolonel pangestu', 'penyelidikan', 'pangestu pelaku', 'metro jaya', 'berjanji', 'rekaman panggilan', 'dibawa petugas', 'petugas darurat', 'motor berboncengan', 'publik', 'layanan darurat', 'salah anggota', 'ditembak putrinya', 'sang ayah', 'maulana', 'darurat orang', 'pelaku berjanji', 'darurat rumah', 'berjarak', 'sosok garasi', 'garasi sosok', 'pusat', 'insyaallah waktu', 'korban', 'metro', 'polisi mengidentifikasi', 'keempat', 'menunggu mendekati', 'anggota tni']\n",
      "************************************************************************************************************************\n"
     ]
    }
   ],
   "source": [
    "hasilDokumenWhen=[]\n",
    "kueriAsliWhen='hari apa waktu terjadinya'\n",
    "kandidatFixWhen,keywordGabungWhen,keywordBOW_When, hasilrankWhen, kueriFixWithDelimiter_When = kandidatFix(kueriAsliWhen, bow_when_text)"
   ]
  },
  {
   "cell_type": "code",
   "execution_count": 16,
   "id": "c9763e01",
   "metadata": {},
   "outputs": [
    {
     "name": "stdout",
     "output_type": "stream",
     "text": [
      "['harinya', 'seharinya', 'hari', 'zamannya', 'berhari', 'sehari', 'siangnya', 'masanya', 'ajalku', 'ajalnya', 'waktunya', 'jamannya', 'seharian', 'zaman', 'diwaktu', 'dizaman', 'siang', 'waktu', 'besoknya', 'jaman', 'dinihari', 'sejam', 'masa', 'hariku', '時間', 'bermasa', 'harimu', 'semasa', 'saat', 'menitnya', 'daytona', 'detik', 'saatnya', 'jamnya', 'dimasa', 'subuh', 'pekan', 'detiknya', 'tempoh', 'attimo', 'pertanggal', 'sesaat', 'pagi', 'berjam', 'bertanggal', 'mideen', 'paginya', 'latach', 'rayanya', 'tahunya', 'tahunnya', 'seiringnya', 'ketika', 'wieku', 'senna', 'sewaktu', 'eranya', 'termenung', 'kisaran', 'tahun', 'dzieje', 'penayangannya', 'segmennya', 'sempat', 'sebelum', 'heydeni', 'sekon', 'kemarin', 'deret', 'yadnya', 'aksinya', 'kondangan', 'nurlan', 'sabtu', 'dita', 'ramadan', 'kapan', 'urutan', 'sundulan', 'tayangan', 'penanyangannya', 'timing', 'dhesta', 'sepandjang', 'menit', 'mehdi', 'pospenas', 'imbang', 'antriannya', 'minggu', 'soeltanaat', 'awaludin', 'hitungan', 'kaltara', 'perpangkatan', 'yekini', 'berselang', 'secondes', 'jam', 'takterhingga', 'ruwatan', 'era', 'pementasannya', 'bermusim', 'tikungan', 'berbulan', 'perkuliahan', 'penanggalan', 'qof', 'tersedu', 'ngaran', 'tersisih', 'dipertandingan', 'dipertandingkan', 'lembarnya', 'bersuhu', 'raihaanun', 'menjelang', 'sekuelnya', 'penyandi', 'pravec', 'kemanangan', 'kemiringan', 'berangka', 'berlangsungnya', 'raikkonen', 'nyaris', 'verteks', 'babak', 'jarige', 'jumat', 'pembangoenan', 'pekannya', 'selagi', 'menandai', 'smansa', 'đán', 'baitnya', 'dziejów', 'gebyar', 'τα', 'disiang', 'munculnya', 'dasarnya', 'manakala', 'sejenak', 'danang', 'berbadai', 'epok', 'moments', 'persitara', 'dibintangi', 'mementaskan', 'keputrian', 'vaikom', 'seulamat', 'cakupan', 'dilangsungkan', 'dayori', 'mereda', 'kerap', 'puluhan', 'τριτη', 'ketebalannya', 'bainai', 'kejuaran', 'arakan', 'ribu', 'paruhan', 'dipagi', 'kartana', 'kumys', 'setalah', 'tarangan', 'tvone', 'pemutarannya', 'chansung', 'mengamuk', 'gelaran', 'samsunspor', 'malaman', 'marquez', 'andraini', 'lintasan', 'berlaga', 'ditanjak', 'nández', 'gündoğan', 'kesanga', 'penayangan', 'apertura', 'menyantap', 'pengda', 'primera', 'nikujaga', 'anderlecht', 'beslit', 'menyiram', 'semalam', 'kedai', 'kusumahdinata', 'sambaran', 'tkut', 'diarak', 'dimaknai', 'ngaben', 'diperas', 'sesingkat', 'meratap', 'pemogokan', 'estet', 'pengeditan', 'onsd', 'berpranala', 'hajatan', 'tendangannya', 'penumpasan', 'λε', 'ditayang', 'buka', 'ditaburi', 'padusan', 'suntuk', 'saparan', 'mendiknas', 'lesti', 'tasogare', 'berudara', 'svið', 'bedhaya', 'khitanan', 'diminggu', 'tefillin', 'volt', 'sisiran', 'levert', 'semenjak', 'terkesiap', 'pamujaan', 'urata', 'petang', 'شعب', 'turubah', 'penahbisan', 'ďurica', 'perangan', 'kustono', 'prost', 'nieminen', 'tarmina', 'ketebalan', 'menorehkan', 'piala', 'kalmas', 'tyas', 'berujung', 'kupilih', 'kesundaan', 'panunggangan', 'terharu', 'sajau', 'digelar', 'maksimum', 'sekarat', 'zachor', 'timnas', 'almamaternya', 'foibe', 'tepakyang', 'berhawa', 'lintasnya', 'senandung', 'dungulan', 'satkamhanlan', 'mabukan', 'nadhr', 'modra', 'supratman', 'kored', 'pentas', 'rajaban', 'auzon', 'sabtunya', 'irdam', 'danlantamal', 'meraup', 'ladrang', 'rapatan', 'ytse', 'pakan', 'perseman', 'strata', 'jamuan', 'sanadnya', 'barongan', 'salayar', 'manganya', 'burnama', 'kejurda', 'diiringi', 'tanggal', 'nahdliyah', 'kasur', 'nggara', 'cungkring', 'eest', 'menjebak', 'hawanya', 'panahan', 'pemkab', 'bisikan', 'kemunculan', 'tatkala', 'dijemur', 'suca', 'iyatul', 'قوم', 'dimatangkan', 'perjumlahan', 'janko', 'umam', 'dasdasdazd', 'mengetes', 'teks', 'persebaya', 'angsuran', 'uhud', 'smasa', 'sakuni', 'memeden', 'يك', 'barisnya', 'haripun', 'satuannya', 'sutarmadi', 'tebit', 'temui', 'jumadil', 'resepsi', 'שבת', 'mogok', 'pada', 'kejurnas', 'bermalam', 'trna', 'prov', 'kecermatan', 'pemda', 'πο', 'bergulirnya', 'ketajaman', 'renggut', 'ταδε', 'dirasah', 'siuman', 'μηδε', 'trnava', 'pemutaran', 'tendangan', 'penghadang', 'süd', 'tawarikh', 'cembung', 'dejan', 'kepmendagri', 'fikr', 'permendagri', 'terkenang', 'lâmadh', 'mince', 'sepekan', 'paskib', 'rokot', 'οπου', 'diedarkan', 'menyekap', 'sabri', 'jateng', 'lesnar', 'berjoget', 'nenad', 'pakasa', 'kujelang', 'pementasan', 'witir', 'pamedangan', 'děčín', 'nyepi', 'agustuse', 'nadanya', 'melabrak', 'perjalannya', 'savioi', 'ιαματων', 'imac', 'nawas', 'jahutar', 'kesukesan', 'msme', 'guntur', 'dikala', 'belasnya', 'persipare', 'bidayatul', 'sitiran', 'valdosta', 'awal', 'soprintendenza', 'bindass', 'pakualam', 'πονηρα', 'kemunculannya', 'seraya', 'lencam', 'pomnas', 'dikocok', 'menagis', 'gubuk', 'mengudara', 'dihaluskan', 'adlen', 'cet', 'saptenno', 'motzei', 'kadensa', 'bekangdam', 'paska', 'mengadakan', 'kurva', 'kaamatan', 'maret', 'publikasi', 'staatblaad', 'mencelakai', 'sumbar', 'estafet', 'ressel', 'δαυειδ', 'ditangga', 'οικον', 'malah', 'zamrun', 'ketepatan', 'pelataran', 'dasarian', 'tirakatan', 'lomba', 'galamai', 'sabat', 'χειρος', 'tölu', 'dihelat', 'robiul', 'mudjito', 'aksi', 'mengarak', 'tese', 'pohul', 'starteen', 'proliga', 'κατα', 'diperingkat', 'saklar', 'melangsungkan', 'diadu', 'kurindu', 'tersambar', 'kegirangan', 'berucap', 'berangin', 'mbyte', 'dipasarkan', 'binatu', 'ketelitian', 'bitnya', 'εργα', 'jaipongan', 'porcheresse', 'knip', 'acaranya', 'neca', 'sputnik', 'persewar', 'berlangsung', 'jātaka', 'psim', 'bijutsukan', 'ngabuburit', 'atraksi', 'kenduri', 'kovalainen', 'temuai', 'tayangnya', 'merti', 'pratiwi', '周年記念', 'kapsis', 'ketimus', 'manganan', 'porseni', 'gejang', 'pingsan', 'sékou', 'doaku', 'warui', 'perselisihan', 'diaduk', 'khoir', 'perdelapan', 'mentebah', 'dipan', 'suntingan', 'askus', 'nja', 'purnima', 'menjamu', 'beregu', 'terpingkal', 'jabar', 'berperingkat', 'pagerwesi', 'percekcokan', 'mulud', 'gemuhblanten', 'kalinya', 'ratap', 'almanak', 'mrna', 'žemlja', 'poin', 'isuk', 'idil', 'prsi', 'penyisihan', 'kusumadinata', 'hadirnya', 'loketa', 'sapar', 'dimarahi', 'peiode', 'kabisat', 'kasmaran', 'selang', 'popnas', 'bihu', 'tumbilo', 'zarkasih', 'distinsif', 'invers', 'penurun', 'ombus', 'nuestras', 'jamnas', 'penyerbuan', 'diurutan', 'jangkauannya', 'smanik', 'kelengkungan', 'hayat', 'memekikkan', 'rasio', 'dzuhur', 'yazid', 'ditunda', 'dianut', 'pertandingan', 'smanda', 'ronde', 'gering', 'digoreng', 'komura', 'século', 'jurić', 'loteng', 'skor', 'acara', 'dealbata', 'gogoriki', 'sesi', 'belur', 'sedari', 'odori', 'kerbau', 'periode', 'פני', 'abut', 'terlelap', 'σιν', 'לאמר', 'stardut', 'cena', 'jeulmun', 'ageila', 'kapasitansi', 'seollal', 'salun', 'pancawara', 'caturti', 'mengerang', 'sambat', 'abat', 'לפני', 'galungan', 'nadal', 'birkat', 'kalistus', 'idrissa', 'lpis', 'takbiran', 'kāf', 'דרך', 'menguap', 'aruh', 'klab', 'iesp', 'fii', 'djufri', 'menayangkan', 'cuacanya', 'kapolresta', 'rohkris', 'selenggarakan', 'resor', 'konperensi', 'yonmarhanlan', 'sepersejuta', 'napak', 'popda', 'rahayu', 'tumpeng', 'wanci', 'sebelas', 'sukaesih', 'durasinya', 'durasi', 'nurvita', 'obrić', 'prekuelnya', 'diperagakan', 'kowak', 'kala', 'τρικούπης', 'maror', 'sekuel', 'persekap', 'dhandhangan', 'landung', 'kecak', 'osis', 'kend', 'pertemuan', 'ulambana', 'takbir', 'durr', 'mangkat', 'juve', 'telak', 'unagi', 'oberliga', 'mno', 'dekade', 'kaylani', 'jangkauan', 'πατρὸς', 'zuhur', 'bersiaran', 'dikalikan', 'الظاهر', 'grega', 'belantikan', 'dipuncak', 'torsi', 'menyegi', 'terengah', 'honto', 'inci', 'udy', 'direbus', 'jeda', 'minggunya', 'hallel', 'nusoul', 'minhyuk', 'לילה', 'meniduri', 'potito', 'terpeleset', 'buklet', 'lukáš', 'vrh', 'hulubalangs', 'dimasak', 'kalbar', 'puasa', 'rigen', 'segunda', 'tết', 'putaran', 'ternak', 'brečko', 'keributan', 'sehar', 'tingkatan', 'tergeletak', 'persin', 'pulogadung', 'malamnya', 'kli', 'diadakan', 'musim', 'rentang', 'penjumlahan', 'untai', 'lodaya', 'supangat', 'sukatma', 'pendampingan', 'esuk', 'sandiwara', 'sidang', 'bercuaca', 'menyusul', 'sebanyak', 'adar', 'nyemek', 'zeret', 'kurun', 'ankaragücü', 'esoknya', 'selisih', 'kowilud', 'estrangela', 'kepramukaan', 'waisak', 'pemirsa', 'per', 'muharam', 'maksimal', 'selama', 'sekuens', 'suvadhana', 'silur', 'pitik', 'iveta', 'terkapar', 'erg', 'wadanlantamal', 'susyana', 'προηλθον', 'smada', 'sundal', 'pertina', 'itv', 'pemboikotan', 'stanza', 'kuis', 'abulos', 'turah', 'tetapan', 'curhat', 'mallei', 'kleť', 'direndam', 'tayub', 'pembahasan', 'ketam', 'pertandigan', 'pembalap', 'harmin', 'akhirnya', 'pergelaran', 'lumpuh', 'divas', 'hilir', 'vasek', 'amadou', 'فيه', 'perseru', 'nyadran', 'penyebut', 'pasca', 'nuraver', 'bulutangkis', 'ardit', 'mucharam', 'penyet', 'rijksblad', 'larung', 'nesya', 'dubica', 'berjangkauan', 'putarna', 'peluk', 'negai', 'sesto', 'memaki', 'kelajuan', 'periodenya', 'kodya', 'λεγοντες', 'mudik', 'malam', 'kariem', 'νe', 'rakik', 'olusegun', 'ivone', 'cest', 'bireun', 'sausan', 'esok', 'senggangnya', 'jenjang', 'pengcab', 'pon', 'traoré', 'ngeplang', 'ktt', 'klasemen', 'kemaduhbatur', 'tecău', 'pausa', 'perioda', 'sore', 'menegur', 'boshin', 'suharsono', 'siaran', 'dipentaskan', 'perbasi', 'kst', 'termehek', 'menyamai', 'moekti', 'penaltinya', 'ndas', 'bambangan', 'rayakan', 'าสรรเพชญ', 'sunatan', 'ndhek', 'mengalamati', 'menyusuri', 'pengenalannya', 'dibabak', 'dikemudian', 'pustaha', 'iesum', 'dasdasdasd', 'lte', 'ukuran', 'branciforte', 'taça', 'gemetar', 'dimalam', 'tabaroh', 'hamazon', 'memeriahkan', 'mev', 'kontrakan', 'berfase', 'muktamar', 'adep', 'lcen', 'menjaringkan', 'serie', 'stbl', 'nimpei', 'ovidus', 'aprida', 'kuartal', 'terabit', 'kuplet', 'perorangan', 'serimpi', 'nukrashi', 'سيرة', 'merilis', 'pora', 'membalap', 'centime', 'persma', 'terdampar', 'plawad', 'puluhnya', 'ktsp', 'mengelus', 'ロコローション', 'lovro', 'tawur', 'kroscek', 'lima', 'sarasehan', 'יב', 'bantarpanjang', 'debat', 'tpi', 'kotež', 'seri', 'αυτους', 'ketukan', 'brzić', 'wisuda', 'الوليد', 'tahajud', 'ζαΐμης', 'misrawi', 'dasawarsa', 'genap', 'abad', 'štěpánek', 'menusuk', 'kusejr', 'sana', 'perseteruan', 'kandang', 'nsert', 'melucu', 'sisinya', 'bahang', 'pembubarannya', 'segera', 'persigo', 'hurufnya', 'seblang', 'persiraja', 'seaba', 'rebo', 'menampar', 'dzul', 'razgrad', 'percasi', 'bubarnya', 'adven', 'adada', 'tawuran', 'bercengkerama', 'tripelnya', 'jumadal', 'barikan', 'peparnas', 'jakaya', 'atrisi', 'gunungan', 'anvari', 'neergaard', 'gardanne', 'kericuhan', 'hunut', 'odas', 'sukat', 'memergoki', 'baharin', 'pelatnas', 'kibun', 'noersamsoe', 'upacara', 'nuedc', 'bogienya', 'soksi', 'presentasi', 'grafirat', 'skep', 'honghu', 'berfoya', 'penerbitannya', 'ofensif', 'ovj', 'delri', 'kebabak', 'diproses', 'gomak', 'azzurri', 'sekaten', 'infotama', 'dipelihara', 'maksimumnya', 'seder', 'храни', 'bisara', 'zovko', 'dicetaknya', 'sekul', 'roket', 'menunda', 'presesi', 'maghrib', 'kecepatan', 'tayang', 'situ', 'putrakama', 'paskah', 'kepergian', 'tersingkat', 'bubat', 'tahap', 'ldks', 'tangis', 'zadul', 'diseruduk']\n",
      "['ohio', 'tragedi ohio', 'menghubungi', 'ohio rabu', 'panggilan darurat', 'columbus', 'melepaskan', 'menghubungi layanan', 'mengembuskan', 'dunia mengembuskan', 'mengidentifikasi', 'tega membunuh', 'tertembak ayahnya', 'panggilan', 'berboncengan pelaku', 'pemberitahuan', 'ayah melepaskan', 'mengidentifikasi terkait', 'mengirimkan', 'pangestu', 'merilis pemberitahuan', 'menunggu', 'putrinya jane', 'tergeletak', 'mengidentifikasi pelaku', 'korban menghubungi', 'keberadaan', 'pelaku', 'tertembak', 'tersangka', 'kabar columbus', 'columbus dispatch', 'pelaku membunuh', 'berboncengan', 'korban anggota', 'anggota', 'mengembuskan napas', 'mengklaim', 'hubungan', 'ditembak', 'insyaallah', 'korban membunuh', 'tugasnya', 'kendaraan tugasnya', 'bangun petugas', 'waktu sang', 'waktu', 'penembakan', 'dunia', 'sudjana mengidentifikasi', 'membunuh', 'kolonel pangestu', 'penyelidikan', 'pangestu pelaku', 'metro jaya', 'berjanji', 'rekaman panggilan', 'dibawa petugas', 'petugas darurat', 'motor berboncengan', 'publik', 'layanan darurat', 'salah anggota', 'ditembak putrinya', 'sang ayah', 'maulana', 'darurat orang', 'pelaku berjanji', 'darurat rumah', 'berjarak', 'sosok garasi', 'garasi sosok', 'pusat', 'insyaallah waktu', 'korban', 'metro', 'polisi mengidentifikasi', 'keempat', 'menunggu mendekati', 'anggota tni']\n"
     ]
    }
   ],
   "source": [
    "print(keywordBOW_When)\n",
    "print(hasilrankWhen)"
   ]
  },
  {
   "cell_type": "code",
   "execution_count": 17,
   "id": "a36cd2c6",
   "metadata": {},
   "outputs": [],
   "source": [
    "testing_data = []\n",
    "\n",
    "tfidf_vectorizer = joblib.load('vectorizer.pkl')\n",
    "\n",
    "for i in range(0, len(document_text_test)-1):\n",
    "\n",
    "    hasilWhen=[]\n",
    "\n",
    "    teks=df_test.iloc[i,-2]\n",
    "    tfidf_matrix = tfidf_vectorizer.fit_transform([teks])\n",
    "\n",
    "    query_vec_When= tfidf_vectorizer.transform(kandidatFixWhen)\n",
    "    results_when=cosine_similarity(tfidf_matrix, query_vec_When).reshape((-1))\n",
    "    hasilDokumenWhen.append(df_test.iloc[i,2])\n",
    "    for a in kueriFixWithDelimiter_When:\n",
    "        cariW = re.findall(a,hasilDokumenWhen[i])\n",
    "        #print(cariW)\n",
    "        if cariW:\n",
    "            hasilWhen.append(a)\n",
    "    \n",
    "    data = [i,df_test.iloc[i,2],'when',kueriAsliWhen,keywordBOW_When , keywordGabungWhen, kandidatFixWhen, hasilWhen, results_when,' ',' ']\n",
    "\n",
    "    testing_data.append(data)"
   ]
  },
  {
   "cell_type": "code",
   "execution_count": 18,
   "id": "5c3a1c9b",
   "metadata": {},
   "outputs": [],
   "source": [
    "#write to csv\n",
    "writer = pd.DataFrame(testing_data, columns=['No Document','Description', 'W','Pertanyaan', 'Keyword BOW', 'Keyword Gabung','kandidat fix','hasilW', 'Kemiripan', 'True Positif', 'True Negative'])\n",
    "writer.to_csv('QE_Stat_testing_whenTes_result.csv', index=False, sep=',')"
   ]
  },
  {
   "cell_type": "code",
   "execution_count": null,
   "id": "10a0f853",
   "metadata": {},
   "outputs": [],
   "source": []
  }
 ],
 "metadata": {
  "kernelspec": {
   "display_name": "Python 3 (ipykernel)",
   "language": "python",
   "name": "python3"
  },
  "language_info": {
   "codemirror_mode": {
    "name": "ipython",
    "version": 3
   },
   "file_extension": ".py",
   "mimetype": "text/x-python",
   "name": "python",
   "nbconvert_exporter": "python",
   "pygments_lexer": "ipython3",
   "version": "3.9.7"
  }
 },
 "nbformat": 4,
 "nbformat_minor": 5
}
