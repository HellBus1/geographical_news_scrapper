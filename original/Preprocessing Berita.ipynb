{
 "cells": [
  {
   "cell_type": "code",
   "execution_count": 2,
   "metadata": {},
   "outputs": [],
   "source": [
    "# Import library-library\n",
    "import os\n",
    "import glob\n",
    "\n",
    "# Data Preparation and Preprocessing\n",
    "import pandas as pd\n",
    "import re\n",
    "from nltk.corpus import stopwords\n",
    "NLTK_StopWords = stopwords.words('indonesian')\n",
    "NLTK_StopWords = set(NLTK_StopWords)\n",
    "\n",
    "# Word Embedding\n",
    "import joblib\n",
    "from sklearn.feature_extraction.text import TfidfVectorizer\n",
    "import scipy.sparse\n",
    "\n",
    "from sklearn.metrics.pairwise import cosine_similarity\n",
    "\n",
    "# Input and Expansion Query\n",
    "from textblob import TextBlob\n",
    "import nltk\n",
    "from nltk.tokenize import wordpunct_tokenize\n",
    "#from googletrans import Translator"
   ]
  },
  {
   "cell_type": "code",
   "execution_count": 5,
   "metadata": {},
   "outputs": [],
   "source": [
    "def preprocessing(berita):\n",
    "    s = berita.lower()\n",
    "    s = s.replace('\\n', ' ')\n",
    "    s = re.sub(r'[^a-zA-Z0-9\\s]', ' ', s)\n",
    "    tokens = [token for token in s.split(\" \") if token != \"\"]\n",
    "    T = [t for t in tokens if t not in NLTK_StopWords]\n",
    "    return T"
   ]
  },
  {
   "cell_type": "code",
   "execution_count": 3,
   "metadata": {
    "scrolled": true
   },
   "outputs": [
    {
     "name": "stdout",
     "output_type": "stream",
     "text": [
      "['mencoba', 'preprocessing']\n"
     ]
    }
   ],
   "source": [
    "text=preprocessing('saya mencoba menggunakan preprocessing')\n",
    "print (text)"
   ]
  },
  {
   "cell_type": "code",
   "execution_count": 4,
   "metadata": {},
   "outputs": [
    {
     "data": {
      "text/html": [
       "<div>\n",
       "<style scoped>\n",
       "    .dataframe tbody tr th:only-of-type {\n",
       "        vertical-align: middle;\n",
       "    }\n",
       "\n",
       "    .dataframe tbody tr th {\n",
       "        vertical-align: top;\n",
       "    }\n",
       "\n",
       "    .dataframe thead th {\n",
       "        text-align: right;\n",
       "    }\n",
       "</style>\n",
       "<table border=\"1\" class=\"dataframe\">\n",
       "  <thead>\n",
       "    <tr style=\"text-align: right;\">\n",
       "      <th></th>\n",
       "      <th>title</th>\n",
       "      <th>date</th>\n",
       "      <th>description</th>\n",
       "    </tr>\n",
       "  </thead>\n",
       "  <tbody>\n",
       "    <tr>\n",
       "      <th>0</th>\n",
       "      <td>Bikin Atap Bus 'Raib' Usai Tabrak Flyover, Sop...</td>\n",
       "      <td>Minggu, 30 Jan 2022 18:41 WIB\\n\\n</td>\n",
       "      <td>Bikin Atap Bus 'Raib' Usai Tabrak Flyover, Sop...</td>\n",
       "    </tr>\n",
       "    <tr>\n",
       "      <th>1</th>\n",
       "      <td>Mobil Tabrak Pembatas Jalan Tol Jakarta-Tanger...</td>\n",
       "      <td>Minggu, 30 Jan 2022 17:35 WIB\\n\\n</td>\n",
       "      <td>Mobil Tabrak Pembatas Jalan Tol Jakarta-Tanger...</td>\n",
       "    </tr>\n",
       "    <tr>\n",
       "      <th>2</th>\n",
       "      <td>Tabrak Pembatas Jalan Tol Cisumwadu, Bagian De...</td>\n",
       "      <td>Minggu, 30 Jan 2022 16:27 WIB\\n\\n</td>\n",
       "      <td>Tabrak Pembatas Jalan Tol Cisumwadu, Bagian De...</td>\n",
       "    </tr>\n",
       "    <tr>\n",
       "      <th>3</th>\n",
       "      <td>Mobil Masuk Jurang di Ciamis, 2 Orang Tewas\\n\\n</td>\n",
       "      <td>Minggu, 30 Jan 2022 15:43 WIB\\n\\n</td>\n",
       "      <td>Mobil Masuk Jurang di Ciamis, 2 Orang Tewas\\n\\...</td>\n",
       "    </tr>\n",
       "    <tr>\n",
       "      <th>4</th>\n",
       "      <td>2 Insiden Kecelakaan Tunggal, Ada Apa di Km 16...</td>\n",
       "      <td>Minggu, 30 Jan 2022 17:21 WIB\\n\\n</td>\n",
       "      <td>2 Insiden Kecelakaan Tunggal, Ada Apa di Km 16...</td>\n",
       "    </tr>\n",
       "  </tbody>\n",
       "</table>\n",
       "</div>"
      ],
      "text/plain": [
       "                                               title  \\\n",
       "0  Bikin Atap Bus 'Raib' Usai Tabrak Flyover, Sop...   \n",
       "1  Mobil Tabrak Pembatas Jalan Tol Jakarta-Tanger...   \n",
       "2  Tabrak Pembatas Jalan Tol Cisumwadu, Bagian De...   \n",
       "3    Mobil Masuk Jurang di Ciamis, 2 Orang Tewas\\n\\n   \n",
       "4  2 Insiden Kecelakaan Tunggal, Ada Apa di Km 16...   \n",
       "\n",
       "                                date  \\\n",
       "0  Minggu, 30 Jan 2022 18:41 WIB\\n\\n   \n",
       "1  Minggu, 30 Jan 2022 17:35 WIB\\n\\n   \n",
       "2  Minggu, 30 Jan 2022 16:27 WIB\\n\\n   \n",
       "3  Minggu, 30 Jan 2022 15:43 WIB\\n\\n   \n",
       "4  Minggu, 30 Jan 2022 17:21 WIB\\n\\n   \n",
       "\n",
       "                                         description  \n",
       "0  Bikin Atap Bus 'Raib' Usai Tabrak Flyover, Sop...  \n",
       "1  Mobil Tabrak Pembatas Jalan Tol Jakarta-Tanger...  \n",
       "2  Tabrak Pembatas Jalan Tol Cisumwadu, Bagian De...  \n",
       "3  Mobil Masuk Jurang di Ciamis, 2 Orang Tewas\\n\\...  \n",
       "4  2 Insiden Kecelakaan Tunggal, Ada Apa di Km 16...  "
      ]
     },
     "execution_count": 4,
     "metadata": {},
     "output_type": "execute_result"
    }
   ],
   "source": [
    "df =pd.read_csv(\"news.csv\")\n",
    "df.head()"
   ]
  },
  {
   "cell_type": "code",
   "execution_count": 17,
   "metadata": {},
   "outputs": [],
   "source": [
    "column = ['Title', 'Date', 'Description',]\n",
    "df_total = pd.DataFrame()\n",
    "document_text = []\n",
    "df =pd.read_csv(\"news.csv\")\n",
    "isi=df['description']\n",
    "df = df.dropna(subset=['description'], axis=0)\n",
    "for x in range(0, df.shape[0]):\n",
    "    text = preprocessing (df.iloc[x, -1])\n",
    "    document_text.append(df.iloc[x, -1])\n",
    "    df.iloc[x, -1] = (' '.join(text)) "
   ]
  },
  {
   "cell_type": "code",
   "execution_count": 6,
   "metadata": {},
   "outputs": [],
   "source": [
    "teks = []\n",
    "\n",
    "for i in range(df.shape[0]):\n",
    "        teks.append(df.iloc[i, -1])"
   ]
  },
  {
   "cell_type": "code",
   "execution_count": 7,
   "metadata": {},
   "outputs": [
    {
     "name": "stdout",
     "output_type": "stream",
     "text": [
      "['bikin atap bus raib tabrak flyover sopir diburu polisi sopir bus berkelir merah menabrak kapolres padang akbp novianto taryono sopir bus bernama manalu kabur tabrakan jalan soekarno hatta simpang lapan kota pengendara bus kabur kecelakaan pencarian novianto dikutip peristiwa mengakibatkan atap bus terlepas 17 penumpang mengalami luka luka dirawat rsud padang bus dievakuasi petugas polres kabid humas polda sumbar kombes satake bayu bus melaju arah bukittinggi kota padang sopir bus rute menerobos jalan dilengkapi marka jalan satake dikutip kecepatan bus menghindari tabrakan korban jiwa penumpang mengalami luka luka akibat benturan keras mobil hilang atasnya', 'mobil tabrak pembatas jalan tol jakarta tangerang pengemudi luka mobil kepala induk pjr tol bitung akp suwito membenarkan kejadian tepatnya km 21 600 b arah jakarta kecelakaan minggu 30 1 2022 14 30 wib minibus bernopol a 1281 xw dikendarai abdul hafid bersenggolan mobil dikenal kaget banting setir mengakibatkan menabrak pembatas tol median jalan akp suwito wartawan pengemudi mobil mengalami luka ringan beruntung korban jiwa peristiwa pengemudi minibus alami luka ringan korban jiwa mobil disenggol kabur melarikan suwito korban mengalami luka ringan dadanya terbentur setir mobil korban dibawa rumah sakit ditangani mobil dievakuasi mobil korban melintang menghadang jalan bersenggolan', 'tabrak pembatas jalan tol cisumwadu mobil rusak kecelakaan tunggal tol cisumdawu kali menimpa unit minibus menabrak pembatas jalan km 165 arah bandung sumedang minggu 30 1 2022 mobil avanza warna putih nomor polisi d 1443 aca menabrak pembatas jalan beruntung kendaraan dikendalikan mengalami kerusakan korban panit 2 unit 3 jatiwangi iptu ervan kecelakaan 15 20 wib mobil diisi sang sopir arah bandung sumedang gerbang tol pamulihan diduga akibat mengantuk mobil menabrak pembatas jalan lokasi kejadian mobil bergerak bandung sumedang sang sopir mengantuk lokasi kejadian menabrak pembatas jalan terangnya dihubungi korban peristiwa mobil langsung berhenti kecelakaan alhamdulillah korban mobil dikendalikan dihentikan pungkasnya mobil sedan mengalami kecelakaan tunggal terbalik tol cisumdawu km 166 arah bandung sumedang jawa barat sabtu 29 1 2022 malam korban tewas kejadian orang mengalami luka ringan pantauan petugas kepolisian lokasi mengatur jalannya arus lintas terhambat akibat kejadian panit i unit 3 pjr cisumdawu ipda deny ruchyat kecelakaan tunggal km 166 22 04 wib mobil sedan ditumpangi orang meluncur arah bandung arah sumedang pintu gerbang tol pamulihan deny lokasi kejadian deny mobil menabrak pembatas jalan mobil terpental sebelah kiri mobil terbalik pas km 166 200 mobil menabrak pembatas sisi kiri jalan terpental terbalik terangnya', 'mobil masuk jurang ciamis 2 orang tewas mobil kijang berpenumpang 13 orang jatuh jurang jalan desa panjalu kecamatan panjalu kabupaten ciamis jawa barat minggu 30 1 2022 akibat kecelakaan tunggal 2 orang meninggal dunia sopir 11 orang terluka informasi mobil kijang melaju arah majalengka tasikmalaya turunan diduga rem blong mobil menabrak pohon pinggir jalan masuk jurang terguling mobil mengangkut rombongan keluarga desa sindangwangi kecamatan cikijing kabupaten majalengka warga kejadian langsung menolong korban dievakuasi puskesmas panjalu dirujuk rumah sakit jasa kartini tasikmalaya orang meninggal dunia kapolsek panjalu iptu yaya koswara membenarkan kejadian kecelakaan keterangan saksi mobil rombongan sekeluarga majalengka rencananya mengantar kuliah universitas siliwangi tasikmalaya dugaan mobil mengalami rem blong turunan terguling jurang rumah warga yaya mobil 13 orang penumpang 2 orang meninggal dunia sopir mobil 11 orang terluka dibawa puskesmas panjalu 3 orang dirujuk jasa kartini tasikmalaya kecelakaan ditangani satuan lintas polres ciamis data penumpang mobil kijang mengalami kecelakaan panjalu ciamis 1 wafa aulia 29 alamat dusun sindangpanji desa cikijing majalengka', '2 insiden kecelakaan tunggal km 165 166 tol cisumdawu dioperasikan 6 selasa 25 1 2022 tercatat kali kecelakaan tunggal tol cisumdawu penyebab pastinya kecelakaan lokasinya km 165 km 166 arah bandung sumedang kecelakaan menimpa sedan toyota vios warna silver bernomor polisi d 1152 jn sabtu 29 1 2022 malam mobil arah bandung sumedang lokasi kejadian km 166 mobil menghantam pembatas jalan terpental posisi mobil terbalik badan jalan korban tewas kejadian orang kendaraan mengalami luka ringan terpaksa dilarikan rumah sakit terdekat perawatan kecelakaan minggu 30 2 2022 sore dimana lokasi kecelakaannya lokasi kecelakaan minibus arah bandung sumedang mengalami kecelakaan tunggal km 165 tol cisundawu sopir mobil avanza warna putih nomor polisi d 1443 aca diduga mengantuk berujung kecelakaan menabrak pembatas jalan beruntung kendaraan dikendali mengalami kerusakan korban panit 2 unit 3 jatiwangi iptu ervan kecelakaan 15 20 wib mobil diisi sang sopir arah bandung sumedang gerbang tol pamulihan diduga akibat mengantuk mobil menabrak pembatas jalan lokasi kejadian mobil bergerak bandung sumedang sang sopir mengantuk lokasi kejadian menabrak pembatas jalan terangnya dihubungi detikcom korban peristiwa mobil langsung berhenti kecelakaan alhamdulillah korban mobil dikendalikan dihentikan pungkasnya', 'sedan terbalik tabrak pembatas jalan tol cisumdawu mobil sedan mengalami kecelakaan sabtu 29 1 malam pantauan petugas kepolisian lokasi mengatur jalannya arus lintas terhambat akibat kejadian panit i unit 3 pjr cisumdawu ipda deny ruchyat kecelakaan tunggal km 166 22 04 wib mobil sedan ditumpangi orang meluncur arah bandung arah lokasi kejadian deny mobil menabrak pembatas jalan mobil oleng sebelah kiri mobil terbalik pas km 166 200 mobil menabrak pembatas sisi kiri jalan terpental terbalik terangnya korban tewas kejadian orang kendaraan mengalami luka ringan terpaksa dilarikan rumah sakit amc cileunyi diperiksa orang selamat orang luka ringan dibawa rumah sakit amc cileunyi pengecekan', 'sedan terbalik kecelakaan tol cisumdawu kecelakaan tunggal dialami mobil sedan km 166 kecelakaan panit panit i unit 3 pjr cisumdawu ipda deny ruchyat kecelakaan menimpa mobil sedan toyota vios kecelakaan tol cisumdawu dioperasikan 5 selasa 25 1 iya kecelakaan penyebab kecelakaan mobil sedan mengalami kecelakaan dievakuasi kantor pjr cisumdawu gerbang tol pamulihan sedan mengalami kerusakan parah bemper kaca pecah atap mobilnya penyok diberitakan mobil sedan mengalami kecelakaan tunggal terbalik kecelakaan sabtu 29 1 malam pantauan petugas kepolisian lokasi mengatur jalannya arus lintas terhambat akibat kejadian panit i unit 3 pjr cisumdawu ipda deny ruchyat kecelakaan tunggal km 166 22 04 wib mobil sedan ditumpangi orang meluncur arah bandung arah sumedang pintu gerbang tol pamulihan deny', 'pelajaran kejadian mercy diamuk massa bantul viral media sosial perusakan mobil mercedes benz bantul perusakan dipicu pengendara mobil kabur menabrak pemotor perusakan dipicu pengemudi sedan terlibat cekcok warung makan ayam tancap gas dikejar massa pengemudi terlibat cekcok warung ayam berhenti mendadak selesai permasalahan mobil mercy meninggalkan lokasi langsung dikejar orang tujuan menyelesaikan permasalahan mobil melaju kecepatan arah kasongan pedukuhan gedongan mobil masuk kampung menabrak motor teriakan maling kapolsek kasihan kompol anton nugroho wibowo akibatnya warga meneriaki pengemudi mobil maling pengejaran pemobil melajukan kendaraannya menabrak pemotor daerah pasar gamping memicu kemarahan warga belajar praktisi keselamatan berkendara director training safety defensive consultant indonesia sdci sony susmana pengemudi kooperatif berhenti terlibat kecelakaan menyarankan kabur terlibat kecelakaan kooperatif berhenti kunci mobil kosong selesaikan kantor polisi terdekat sony detikcom minggu 30 1 2022 arahkan kendaraan kantor polisi terdekat hindari emosi provokasi sengaja diciptakan sony menyebut pemilik kendaraan memasang kamera dasbor dashcam bukti penunjang dibutuhkan pengemudi berhati hati serangan kejahatan memilih pilih rute perjalanan menjaga kecepatan jarak mudah menuduh', 'mobil terguling km 15 tol jelambar lalin arah tomang macet kecelakaan melibatkan kendaraan tol kota mobil terlibat terguling melintang jalan kecelakaan km 15 400 posisi pluit arah cawang petugas dilaporkan 13 54 wib kecelakaan jalur 2 3 jalur kanan kendaraan terlibat kecelakaan dievakuasi lokasi kejadian penanganan kecelakaan selesai 14 30 wib kondisi lintas terpantau ramai lancar kepadatan tomang slipi peningkatan volume kendaraan penyebab kronologi kecelakaan petugas informasi terkait korban kendaraan terlibat terima informasi kecelakaan beruntun melaporkan kondisi lintas arah pluit cawang dilaporkan lancar kepadatan keluaran semanggi volume kendaraan sisanya lancar berdasarkan postingan jasa marga akun twitter ptjasamarga kendaraan posisi terguling kendaraan ringsek rifki rafitasa pengendara melintas lokasi kendaraan terlibat kecelakaan kendaraan terlibat kecelakaan kejadiannya 13 33 wib rifki dihubungi terpisah 13 54 wib', 'kecelakaan tol jelambar fortuner ringsek hantam pembatas mobil mobil jenis suv terguling kendaraan fortuner km 15 600 b tol kota ruas jalan pluit cawang kecelakaan siang 13 15 wib mobil fortuner bernopol b 2698 sje dikemudikan nizar 27 terguling menutup 2 lajur tol kota mobil avanza b 2476 tkd dikemudikan alzuardi 49 mengalami kerusakan kendaraan fortuner kiri samping kiri rusak kendaraan avanza samping kanan rusak diberitakan mobil lajur 2 3 lajur kanan kendaraan terlibat kecelakaan dievakuasi lokasi kejadian 14 30 wib berdasarkan postingan jasa marga akun twitter ptjasamarga kendaraan posisi terguling kendaraan ringsek', 'mobil diamuk massa terulang lakukan kecelakaan mobil mercedes benz diamuk massa bantul pemicu perusakan pengendara mobil kabur menabrak pemotor perusakan dipicu pengemudi sedan terlibat cekcok warung makan ayam tancap gas dikejar massa pengemudi terlibat cekcok warung ayam berhenti mendadak selesai permasalahan mobil mercy meninggalkan lokasi langsung dikejar orang tujuan menyelesaikan permasalahan mobil melaju kecepatan arah kasongan pedukuhan gedongan mobil masuk kampung menabrak motor teriakan maling kapolsek kasihan kompol anton nugroho wibowo akibatnya warga meneriaki pengemudi mobil maling pengejaran pemobil melajukan kendaraannya menabrak pemotor daerah pasar gamping memicu kemarahan warga pelajaran terlibat kecelakaan melarikan terlepas salah praktisi keselamatan berkendara director training safety defensive consultant indonesia sdci sony susmana pengendara bertanggung jalan raya ya salah salah ya berhenti bertanggung sony detikcom minggu 30 1 2022 terkadang kekhawatiran pengendara menabrak takut diamuk massa mencoba melarikan sony pengemudi kooperatif sikap tanggung massa berbuat anarkis takut cerminan pengemudi kompeten menimbulkan persepsi jelek masyarakat reaksi ditimbulkan masyarakat merusak dihindari karakter daerah sadis merata beringas menyarankan pengemudi menyelesaikan permasalahan kantor polisi terdekat khawatir diamuk massa arahkan kendaraan kantor polisi terdekat hindari emosi provokasi sengaja diciptakan', 'sopir diduga ngantuk 2 truk tabrakan terperosok tol janger truk menabrak truk bermuatan barang berhenti bahu jalan kepala induk pjr tol bitung akp suwito kecelakaan sabtu 29 1 04 45 wib kecelakaan tepatnya km 14 200 a tol jakarta tangerang suwito kronologi kendaraan jakarta serang kendaraan mengecek ban bahu jalan suwito truk mengecek ban truk nomor polisi b 9449 nn berjalan kondisi sopir mengantuk menabrak truk kendaraan berjalan lajur mengantuk menabrak kendaraan kendaraan masuk kejadian truk terperosok selokan samping bahu jalan tol kejadian mengakibatkan kernet truk mengalami luka luka posisi kendaraan bahu jalan kendaraan masuk korban orang', 'terobos traffic light bus mira tabrak pemotor tewas madiun kanit gakkum satlantas polres madiun kota iptu aris winarko kecelakaan 20 00 wib jumat 28 1 pengendara motor dilaporkan tewas kecelakaan aris korban melintas berboncengan anaknya spa 16 anak korban mengalami luka ringan kecelakaan malam melibatkan bus mira menabrak pemotor simpang utara terminal bus kota madiun aris detikjatim sabtu 29 1 2022 aris korban tewas dwi sayuti 37 warga jalan kyai tabri desa tiron kabupaten madiun sopir bus mira mochamad mukson 48 warga kunjang kediri aris kecelakaan nahas motor dikendarai korban melintas tabrakan terhindarkan akibat tabrakan korban mengalami luka patah kaki kepala diduga kecerobohan bus menerabas lampu merah menabrak pemotor melaju arah timur barat aris', 'dump truck melintang km 48 tol jorr lalin macet cikunir lintas km 48 kecelakaan 14 50 wib lintas lokasi kecelakaan padat padatnya posisinya cikunir bintara lokasi kecelakaan km 45 km 48 terangnya petugas lokasi mengevakuasi foto diunggah akun twitter tmcpoldametro truk melintang lajur kanan jalan tol satunya celah dilewati kendaraan lajur kiri out of control kendaraan dump truk b 9869 keh jalan tol jorr km 48 bintara pulogebang penanganan petugas situasi arus lintas terpantau padat tulis akun tmcpoldametro', 'viral mercy dirusak massa bantul pemicunya video kapolsek kasihan kompol anton nugroho wibowo pengemudi pemotor ditabrak berdamai kerugian pemotor ditanggung pengendara mobil pengendara sepeda motor ditanggung pengemudi mobil pemilik pengemudi memperbaiki perkara diselesaikan kekeluargaan anton nugroho wibowo dikutip anton menyebut pengemudi mobil kabur menabrak pemotor pengaruh minuman keras miras menduga pemobil panik diteriaki maling mabuk pengemudi sadar kabur menabrak motor dikejar video perusakan mobil sedan berjenis mercy tipe e 260 warna hitam pinggir jalan daerah kapanewon kasihan bantul viral perusakan dipicu pengemudi terlibat cekcok warung makan ayam tancap gas dikejar massa pengemudi terlibat cekcok warung ayam berhenti mendadak menyelesaikan pemobil tancap gas pengejaran selesai permasalahan mobil mercy meninggalkan lokasi langsung dikejar orang tujuan menyelesaikan permasalahan mobil melaju kecepatan arah kasongan pedukuhan gedongan mobil masuk kampung menabrak motor teriakan maling anton nugroho wibowo detikjateng akibatnya warga meneriaki pengemudi mobil maling pengejaran pemobil melajukan kendaraannya menabrak pemotor daerah pasar gamping memicu kemarahan warga pertigaan gamping sleman u turn putar pasar gamping pecah kaca menabrak pengendara sepeda motor mobil arah perempatan tamantirto situ berhenti lampu merah mobil dirusak massa sambung baca berita selengkapnya viral perusakan mobil bantul', 'oleng nyalip pemotor tanjung priok jakut tewas terlindas kopaja maut peristiwa jalan re martadinata tanjung priok kamis 27 1 2022 malam korban motor suzuki skywave menyalip kopaja sisi kanan korban terserempet pemotor sisi kanan kopaja korban hilang keseimbangan terjatuh tubuh korban terseret kopaja korban oleng terjatuh kiri terlindas roda kanan kopaja kasubdit gakkum polda metro jaya kompol arga keterangannya jumat 28 1 akibat kejadian pengendara sepeda motor suzuki skywave meninggal dunia kendaraan motor korban rusak berat diusut polda metro jaya', 'tuduhan sopir taksi online playing victim terbantahkan bukti cctv nya polisi rekaman cctv berdurasi 29 detik kabid humas polda metro jaya kombes e zulpan membenarkan rekaman cctv berkaitan peristiwa penjambretan iya pelaku penjambretan ya zulpan dihubungi rekaman cctv mobil sopir taksi berselang arah muncul pemotor berboncengan mendekati mobil taksi benda diambil pemotor pemotor langsung melarikan meninggalkan sopir taksi berselang sopir taksi dihubungi terpisah kapolres metro jakarta selatan kombes budhi herdi susianto ditutup penyidikannya pasalnya pelaku meninggal dunia tersangka meninggal dunia dihentikan alasan tersangka meninggal dunia terbukti budhi', 'pria as ditangkap polisi tabrak paksa masuk kediaman taylor swift polisi dilansir afp sabtu 29 1 2022 kepolisian menangkap pria gedung taylor swift pria berupaya paksa masuk bangunan milik taylor swift menabrakan mobilnya didakwa polisi mengemudi salah jalan manhattan menghadapi tuduhan mengemudi mabuk kemampuan terganggu taylor swift dikabarkan perhatian penguntit mengakui ancaman keselamatannya salah ketakutan terbesarnya taylor swift menyebut teknologi pengenalan wajah konser mengidentifikasi penguntit potensial kerumunan penguntit mencoba masuk rumah buruk tulisnya esai 2019 elle mencoba kebaikan dunia cinta saksikan keyakinan miliki kemanusiaan berdasarkan informasi juni 2019 pria iowa ditangkap bepergian rhode island diduga perampokan mengunjungi taylor swift peralatan tongkat bisbol aluminium pria bernama roger alvarado ditangkap kali membobol rumah taylor swift manhattan', '3 kendaraan tabrakan karambol gegara berhenti mendadak 1 luka kejadian bus bagong identitasnya melaju selatan utara jombang babat lokasi kejadian bus mendadak berhenti menurunkan penumpang bersamaan melaju truk identitasnya berhenti mendadak bus depannya berhenti berhenti mendadak melibatkan kendaraan kanit gakkum satlantas polres lamongan iptu anang purwo dikonfirmasi wartawan sabtu 29 1 2022 akibat truk berhenti mendadak bus menurunkan penumpang terang anang kendaraan pikap nopol s 9830 sb dikemudikan aula miftakhul basir penumpang m ridwan berhenti mendadak menabrak truk identitasnya pikap tertabrak truk bernopol s 9022 uw dikemudikan dion ridwanda anang penumpang pikap bernama m ridwan mengalami luka memar nyeri dada korban dibawa rumah sakit perawatan medis korban larikan rumah sakit perawatan medis kendaraan terlibat evakuasi menghindari kemacetan anang tersendat', 'truk muat sayur terguling raya trosobo sidoarjo diduga sopir ngantuk informasi dihimpun kecelakaan tunggal jumat 28 1 2022 05 00 wib truk wing box bernopol b 9973 fxt dikemudikan anggi budi pradana 30 warga balong besuk jombang kanit turjawali polresta sidoarjo iptu kholil truk bermuatan sayur melaju arah mojokerto surabaya pengakuan pengemudi mengantuk kemudiannya kaget banting setir terguling kholil telepon selulernya jumat 28 1 2022 kholil terguling truk menabrak tiang listrik warung aliran listrik lokasi padam terguling truk menabrak warung menabrak tiang listrik alhamdulillah peristiwa korban jiwa kholil kejadian lajur kiri jalur utama lancar kholil mengimbau pengendara melintas menonton kecelakaan menimbulkan kemacetan memperlambat kendaraan menimbulkan kemacetan pesan kholil', 'terungkap sidang vanessa angel berhenti 3 kali tol kecelakaan informasi terungkap sidang perdana agenda pembacaan dakwaan jaksa penuntut umun jpu adi presetyo 10 10 wib sidang daring dipimpin ketua majelis hakim bambang setiawan hakim anggota joni mauluddin saputra sudirman rungan kusuma atmadja pn jombang adi rombongan keluarga vanessa angel bertolak jakarta surabaya kamis 4 november 2021 05 00 wib rumah mendiang vanessa perumahan permata mediterania kelurahan srengseng kecamatan kembangan jakarta barat rombongan keluarga vanessa mengendarai mobil mitsubishi pajero sport dakar warna putih nopol b 1264 bju terdakwa joddy mengemudi km 80 ruas tol jakarta surabaya berhenti rest area 07 00 wib buang air adi membacakan dakwaannya kantor kejaksaan negeri jombang kamis 27 1 2022 rombongan keluarga vanessa angel melanjutkan perjalanan surabaya kali giliran bibi mengemudikan mobil suami vanessa berhenti km 379 tol jakarta surabaya 09 00 wib sarapan 45 menit rest area sarapan bibi mengemudikan mobilnya melanjutkan perjalanan surabaya mengantuk menepi km 400 tol jakarta surabaya kali giliran joddy mengemudikan mobil mendiang vanessa 12 20 wib terdakwa mengemudi km 555 ruas tol jakarta surabaya terdakwa handphone update instastrory whatsapp milik terdakwa terdakwa pesan aplikasi whatsapp orang tua terdakwa saksi tubagus endang lesmana terdakwa membalas pesan orang tua terdakwa mengemudikan mobil terang jpu adi adi mengemudi km 555 lokasi kecelakaan km 672 300a joddy memperhatikan rambu lintas batas kecepatan maksimal 80 km jam terdakwa melaju kecepatan 125 km jam kondisi mengantuk melintas km 672 300a terdakwa mengemudi kondisi mengantuk berat kecepatan 125 km jam kendaraan hilang kendali terdakwa banting setir kiri menghantam pembatas jalan akibatnya mobil berputar arah kali berhenti posisi menghadap arah berlawanan adi sidang perdana selesai 10 33 wib joddy didakwa pasal berlapis dakwaan dijerat pasal 311 ayat 5 pasal 311 ayat 3 uu ri nomor 22 2009 lintas angkutan jalan dakwaan joddy dijerat pasal 310 ayat 4 pasal 310 ayat 3 uu ri nomor 22 2009 lintas angkutan jalan menerima dakwaan memilih mengajukan eksepsi vanesza adzania alias mobil sport warna putih dikemudikan tubagus joddy 24 warga kelurahan bubulak kecamatan bogor barat bogor vanesa perjalanan jakarta surabaya putranya gala sky andriansyah 1 7 pengasuh gala siska lorensa 21 warga cililin bandung barat gala selamat luka mata kiri lecet dahi kanan joddy mengeluh nyeri pinggul siska menderita luka tangan jari giginya patah penyidik satlantas polres jombang menetapkan tubagus joddy tersangka 10 november 2021 dinilai lalai menyebabkan kecelakaan menewaskan vanessa bibi joddy dijerat pasal 310 ayat 4 pasal 311 ayat 5 uu ri nomor 22 2009 lintas angkutan jalan keesokan harinya kamis 11 11 joddy ditahan rutan polres jombang penyidik tahap 2 menyerahkan tersangka barang bukti kejaksaan negeri jombang senin 10 1 berkas penyidikan perkara kecelakaan maut dinyatakan lengkap p21', 'pikap bermuatan strawberry tabrak truk tol cipularang 1 tewas mobil jenis pikap menabrak truk tronton ruas jalan tol cipularang km 87 wilayah sukatani kabupaten purwakarta orang tewas akibat kejadian berdasarkan informasi kecelakaan jumat 28 1 2022 01 05 wib sopir mobil pikap tewas lokasi kejadian terjepit badan kendaraan kernetnya alami luka berat korban dibawa rumah sakit radjak purwakarta diduga pengemudi mengantuk menguasai kendaraannya menabrak kendaraan depannya bripka jaka s ditemui kantor pjr tol cipularang gt jatiluhur jumat 28 01 2022 jaka kendaraan terlibat kecelakaan lajur ruas jalan tol arah bandung jakarta pasca kecelakaan truk ditabrak pikap melarikan kendaraan truk terlibat kecelakaan identitasnya identitas korban tewas bernama dasep cukoman 42 warga kecamatan rancabali kabupaten bandung korban korban luka korban tewas rumah sakit abdul radjak purwakarta dilimpahkan ditangani unit laka lantas polres purwakarta', 'terungkap pesepeda tewas jaksel ditabrak lari pengendara motor korban tabrak lari jl raya pasar minggu jakarta selatan dugaan polisi korban ditabrak pengendara motor kendaraan terlibat kecelakaan sepeda kayuh kendaraan sepeda motor jenis nopol kasubdit gakkum ditlantas polda metro jaya kompol arga dija putra wartawan kamis 27 1 2022 peristiwa 05 00 wib korban pemeriksaan saksi saksi korban melaju arah selatan utara jalan raya pasar minggu korban ditabrak pelaku tepatnya seberang sumber mas motor identitas informasi meninggalnya korban diunggah akun resmi media sosial bike to work b2w unggahannya komunitas ucapan belasungkawa menyebut erry wijaya korban tabrak lari innalillahi wa inna ilaihi raji un berpulang rahmatullah sahabat pesepeda tercinta erry wijaya wafat pagi kamis 27 januari 2022 05 30 wib kecelakaan bersepeda tabrak lari jalan raya pasar minggu bunyi keterangan bike to work kamis 27 1 2022', 'tabrak truk tol cipularang pikap ringsek mobil jenis pikap menabrak truk tronton ruas jalan tol cipularang km 87 purwakarta orang tewas akibat kejadian', 'viral postingan korban jambret jaksel playing victim polisi sopir taksi unggahan pemotor ditabrak sopir taksi inget berita viral ga 3 yg ojol car menabrak orang jambret you have to know the facts yg ditabrak si eko jambret yes si eko yg mengaku korban playing victim fitnah si pengendara yg udah meninggal bunyi unggahan medsos jumat 28 1 2022 postingan muncul akun tiktok radensurya939 diduga ayah terduga jambret detikcom menghubungi bersangkutan berita diturunkan tanggapan mengkonfirmasi unggahan kabid humas polda metro jaya kombes e zulpan zulpan penanganan profesional menyebut pemotor ditabrak sopir taksi pemotor jambret cctv nya jambret zulpan zulpan rekaman cctv menguatkan tindakan penjambretan pemotor keterangan saksi memperkuat penyelidikan polisi terkait tindakan jambret zulpan membantah narasi beredar pemotor pelaku penjambretan rekaman cctv saksi diperiksa zulpan', 'buru pemotor pelaku tabrak lari pesepeda jaksel polisi sisir cctv polisi menyelidiki cctv sisir ya tim turun kanit laka lantas polres metro jakarta selatan akp sigit dihubungi jumat 28 1 2022 sigit identitas pemotor menabrak korban pelat nomor motor pelaku teridentifikasi sigit diusut kepolisian polisi sigit fokus mengumpulkan rekaman cctv runutan peristiwa tabrak lari cctv sisir perkembangannya taa traffic accident analysis nggak lihat cctv peristiwa korban ditabrak pengendara motor korban kritis lokasi pengendara motor melarikan tepatnya seberang sumber mas motor tertabrak kendaraan sepeda motor jenis nopol melarikan korban terjatuh kasubdit gakkum ditlantas polda metro jaya kompol arga dija putra dihubungi kamis 27 1 identitas pemotor menabrak korban meninggal dunia polisi penyelidikan terkait informasi meninggalnya korban diunggah akun resmi media sosial bike to work b2w unggahannya komunitas ucapan belasungkawa menyebut erry wijaya korban tabrak lari innalillahi wa inna ilaihi raji un berpulang rahmatullah sahabat pesepeda tercinta erry wijaya wafat pagi kamis 27 januari 2022 05 30 wib kecelakaan bersepeda tabrak lari jalan raya pasar minggu bunyi keterangan bike to work kamis 27 1', 'truk muatan kimia tabrak truk kontainer tol tangerang sopir tewas menabrak truk kontainer berhenti bahu jalan tol jakarta tangerang kecelakaan mengakibatkan sopir truk muatan kimia bernama kepala induk pjr tol bitung akp suwito kecelakaan jumat 28 1 2022 03 50 wib truk bernopol b 9532 bc dikemudikan endi melaju km 22 tol jakarta tangerang bitung truk muatan kimia dikendarai endi arah jakarta bitung tkp endi mengantuk kendaraannya oleng kiri langsung menabrak truk kontainer berhenti bahu jalan suwito dihubungi jumat 28 1 2022 menabrak truk kontainer berhenti bahu jalan kecelakaan lintas endi tewas endi tewas dibawa rsud tangerang korban luka truk muatan kimia kernetnya suwito 10 28 wib truk dievakuasi bahu jalan tol arus lintas hambatan dievakuasi tangkinya bahan kimia ditarik takut membahayakan menunggu mobil tangki takutnya terbakar jalur lancar bahu jalan dilintasi']\n"
     ]
    }
   ],
   "source": [
    "print (teks)"
   ]
  },
  {
   "cell_type": "code",
   "execution_count": 8,
   "metadata": {},
   "outputs": [
    {
     "name": "stdout",
     "output_type": "stream",
     "text": [
      "<class 'pandas.core.frame.DataFrame'>\n",
      "Int64Index: 27 entries, 0 to 26\n",
      "Data columns (total 3 columns):\n",
      " #   Column       Non-Null Count  Dtype \n",
      "---  ------       --------------  ----- \n",
      " 0   title        27 non-null     object\n",
      " 1   date         27 non-null     object\n",
      " 2   description  27 non-null     object\n",
      "dtypes: object(3)\n",
      "memory usage: 864.0+ bytes\n",
      "None\n",
      "------------------------------------------------------------------------------------------\n",
      "Panjang Dokumen Teks :  27\n"
     ]
    }
   ],
   "source": [
    "print(df.info())\n",
    "print ('-'*90)\n",
    "print(\"Panjang Dokumen Teks : \", len(document_text))\n",
    "#print(len(document_text))"
   ]
  },
  {
   "cell_type": "code",
   "execution_count": 9,
   "metadata": {},
   "outputs": [
    {
     "data": {
      "text/html": [
       "<div>\n",
       "<style scoped>\n",
       "    .dataframe tbody tr th:only-of-type {\n",
       "        vertical-align: middle;\n",
       "    }\n",
       "\n",
       "    .dataframe tbody tr th {\n",
       "        vertical-align: top;\n",
       "    }\n",
       "\n",
       "    .dataframe thead th {\n",
       "        text-align: right;\n",
       "    }\n",
       "</style>\n",
       "<table border=\"1\" class=\"dataframe\">\n",
       "  <thead>\n",
       "    <tr style=\"text-align: right;\">\n",
       "      <th></th>\n",
       "      <th>title</th>\n",
       "      <th>date</th>\n",
       "      <th>description</th>\n",
       "    </tr>\n",
       "  </thead>\n",
       "  <tbody>\n",
       "    <tr>\n",
       "      <th>0</th>\n",
       "      <td>Bikin Atap Bus 'Raib' Usai Tabrak Flyover, Sop...</td>\n",
       "      <td>Minggu, 30 Jan 2022 18:41 WIB\\n\\n</td>\n",
       "      <td>bikin atap bus raib tabrak flyover sopir dibur...</td>\n",
       "    </tr>\n",
       "    <tr>\n",
       "      <th>1</th>\n",
       "      <td>Mobil Tabrak Pembatas Jalan Tol Jakarta-Tanger...</td>\n",
       "      <td>Minggu, 30 Jan 2022 17:35 WIB\\n\\n</td>\n",
       "      <td>mobil tabrak pembatas jalan tol jakarta tanger...</td>\n",
       "    </tr>\n",
       "    <tr>\n",
       "      <th>2</th>\n",
       "      <td>Tabrak Pembatas Jalan Tol Cisumwadu, Bagian De...</td>\n",
       "      <td>Minggu, 30 Jan 2022 16:27 WIB\\n\\n</td>\n",
       "      <td>tabrak pembatas jalan tol cisumwadu mobil rusa...</td>\n",
       "    </tr>\n",
       "    <tr>\n",
       "      <th>3</th>\n",
       "      <td>Mobil Masuk Jurang di Ciamis, 2 Orang Tewas\\n\\n</td>\n",
       "      <td>Minggu, 30 Jan 2022 15:43 WIB\\n\\n</td>\n",
       "      <td>mobil masuk jurang ciamis 2 orang tewas mobil ...</td>\n",
       "    </tr>\n",
       "    <tr>\n",
       "      <th>4</th>\n",
       "      <td>2 Insiden Kecelakaan Tunggal, Ada Apa di Km 16...</td>\n",
       "      <td>Minggu, 30 Jan 2022 17:21 WIB\\n\\n</td>\n",
       "      <td>2 insiden kecelakaan tunggal km 165 166 tol ci...</td>\n",
       "    </tr>\n",
       "  </tbody>\n",
       "</table>\n",
       "</div>"
      ],
      "text/plain": [
       "                                               title  \\\n",
       "0  Bikin Atap Bus 'Raib' Usai Tabrak Flyover, Sop...   \n",
       "1  Mobil Tabrak Pembatas Jalan Tol Jakarta-Tanger...   \n",
       "2  Tabrak Pembatas Jalan Tol Cisumwadu, Bagian De...   \n",
       "3    Mobil Masuk Jurang di Ciamis, 2 Orang Tewas\\n\\n   \n",
       "4  2 Insiden Kecelakaan Tunggal, Ada Apa di Km 16...   \n",
       "\n",
       "                                date  \\\n",
       "0  Minggu, 30 Jan 2022 18:41 WIB\\n\\n   \n",
       "1  Minggu, 30 Jan 2022 17:35 WIB\\n\\n   \n",
       "2  Minggu, 30 Jan 2022 16:27 WIB\\n\\n   \n",
       "3  Minggu, 30 Jan 2022 15:43 WIB\\n\\n   \n",
       "4  Minggu, 30 Jan 2022 17:21 WIB\\n\\n   \n",
       "\n",
       "                                         description  \n",
       "0  bikin atap bus raib tabrak flyover sopir dibur...  \n",
       "1  mobil tabrak pembatas jalan tol jakarta tanger...  \n",
       "2  tabrak pembatas jalan tol cisumwadu mobil rusa...  \n",
       "3  mobil masuk jurang ciamis 2 orang tewas mobil ...  \n",
       "4  2 insiden kecelakaan tunggal km 165 166 tol ci...  "
      ]
     },
     "execution_count": 9,
     "metadata": {},
     "output_type": "execute_result"
    }
   ],
   "source": [
    "df.head()"
   ]
  },
  {
   "cell_type": "code",
   "execution_count": 10,
   "metadata": {},
   "outputs": [],
   "source": [
    "# Simpan teks asli dokumen\n",
    "joblib.dump(document_text, \"document_text.pkl\")\n",
    "# Simpan dataframe hasil text processing sebelum TF-IDF Vectorizer\n",
    "df.to_csv('df_total.csv',index=False )\n"
   ]
  },
  {
   "cell_type": "code",
   "execution_count": 11,
   "metadata": {},
   "outputs": [
    {
     "name": "stdout",
     "output_type": "stream",
     "text": [
      "tfidf_matrix\n",
      "(27, 1057)\n"
     ]
    }
   ],
   "source": [
    "# Fit transform menggunakan TF-IDF Vectorizer\n",
    "tfidf_vectorizer = TfidfVectorizer()\n",
    "tfidf_matrix = tfidf_vectorizer.fit_transform(teks)\n",
    "\n",
    "print('tfidf_matrix')\n",
    "print(tfidf_matrix.shape)"
   ]
  },
  {
   "cell_type": "code",
   "execution_count": 12,
   "metadata": {},
   "outputs": [
    {
     "data": {
      "text/plain": [
       "['tfidf.pkl']"
      ]
     },
     "execution_count": 12,
     "metadata": {},
     "output_type": "execute_result"
    }
   ],
   "source": [
    "joblib.dump(tfidf_vectorizer, \"vectorizer.pkl\")\n",
    "joblib.dump(tfidf_matrix, \"tfidf.pkl\")"
   ]
  },
  {
   "cell_type": "markdown",
   "metadata": {},
   "source": [
    "### Pencarian "
   ]
  },
  {
   "cell_type": "code",
   "execution_count": 3,
   "metadata": {},
   "outputs": [
    {
     "name": "stdout",
     "output_type": "stream",
     "text": [
      "<class 'pandas.core.frame.DataFrame'>\n",
      "Int64Index: 27 entries, 0 to 26\n",
      "Data columns (total 3 columns):\n",
      " #   Column       Non-Null Count  Dtype \n",
      "---  ------       --------------  ----- \n",
      " 0   title        27 non-null     object\n",
      " 1   date         27 non-null     object\n",
      " 2   description  27 non-null     object\n",
      "dtypes: object(3)\n",
      "memory usage: 864.0+ bytes\n",
      "None\n",
      "------------------------------------------------------------------------------------------\n",
      "27\n"
     ]
    }
   ],
   "source": [
    "df_total = pd.read_csv('df_total.csv')\n",
    "df_total = df_total[pd.notnull(df_total['description'])]\n",
    "print(df_total.info())\n",
    "print ('-'*90)\n",
    "document_text= joblib.load('document_text.pkl')\n",
    "print(len(document_text))"
   ]
  },
  {
   "cell_type": "code",
   "execution_count": 6,
   "metadata": {},
   "outputs": [
    {
     "name": "stdout",
     "output_type": "stream",
     "text": [
      "['lalin truk jakarta']\n",
      "\n",
      "======================\n",
      "\n",
      "Top 10 most similar documents in corpus:\n",
      "1\n",
      "No ID Dokumen  :  11\n",
      "Tanggal        :  Sabtu, 29 Jan 2022 20:52 WIB\n",
      "\n",
      "\n",
      "Isi berita     :  sopir diduga ngantuk 2 truk tabrakan terperosok tol janger truk menabrak truk bermuatan barang berhenti bahu jalan kepala induk pjr tol bitung akp suwito kecelakaan sabtu 29 1 04 45 wib kecelakaan tepatnya km 14 200 a tol jakarta tangerang suwito kronologi kendaraan jakarta serang kendaraan mengecek ban bahu jalan suwito truk mengecek ban truk nomor polisi b 9449 nn berjalan kondisi sopir mengantuk menabrak truk kendaraan berjalan lajur mengantuk menabrak kendaraan kendaraan masuk kejadian truk terperosok selokan samping bahu jalan tol kejadian mengakibatkan kernet truk mengalami luka luka posisi kendaraan bahu jalan kendaraan masuk korban orang\n",
      "(Score: 0.2990) \n",
      "2\n",
      "No ID Dokumen  :  26\n",
      "Tanggal        :  Jumat, 28 Jan 2022 10:34 WIB\n",
      "\n",
      "\n",
      "Isi berita     :  truk muatan kimia tabrak truk kontainer tol tangerang sopir tewas menabrak truk kontainer berhenti bahu jalan tol jakarta tangerang kecelakaan mengakibatkan sopir truk muatan kimia bernama kepala induk pjr tol bitung akp suwito kecelakaan jumat 28 1 2022 03 50 wib truk bernopol b 9532 bc dikemudikan endi melaju km 22 tol jakarta tangerang bitung truk muatan kimia dikendarai endi arah jakarta bitung tkp endi mengantuk kendaraannya oleng kiri langsung menabrak truk kontainer berhenti bahu jalan suwito dihubungi jumat 28 1 2022 menabrak truk kontainer berhenti bahu jalan kecelakaan lintas endi tewas endi tewas dibawa rsud tangerang korban luka truk muatan kimia kernetnya suwito 10 28 wib truk dievakuasi bahu jalan tol arus lintas hambatan dievakuasi tangkinya bahan kimia ditarik takut membahayakan menunggu mobil tangki takutnya terbakar jalur lancar bahu jalan dilintasi\n",
      "(Score: 0.2655) \n",
      "3\n",
      "No ID Dokumen  :  23\n",
      "Tanggal        :  Jumat, 28 Jan 2022 11:27 WIB\n",
      "\n",
      "\n",
      "Isi berita     :  tabrak truk tol cipularang pikap ringsek mobil jenis pikap menabrak truk tronton ruas jalan tol cipularang km 87 purwakarta orang tewas akibat kejadian\n",
      "(Score: 0.1658) \n",
      "4\n",
      "No ID Dokumen  :  21\n",
      "Tanggal        :  Jumat, 28 Jan 2022 09:28 WIB\n",
      "\n",
      "\n",
      "Isi berita     :  pikap bermuatan strawberry tabrak truk tol cipularang 1 tewas mobil jenis pikap menabrak truk tronton ruas jalan tol cipularang km 87 wilayah sukatani kabupaten purwakarta orang tewas akibat kejadian berdasarkan informasi kecelakaan jumat 28 1 2022 01 05 wib sopir mobil pikap tewas lokasi kejadian terjepit badan kendaraan kernetnya alami luka berat korban dibawa rumah sakit radjak purwakarta diduga pengemudi mengantuk menguasai kendaraannya menabrak kendaraan depannya bripka jaka s ditemui kantor pjr tol cipularang gt jatiluhur jumat 28 01 2022 jaka kendaraan terlibat kecelakaan lajur ruas jalan tol arah bandung jakarta pasca kecelakaan truk ditabrak pikap melarikan kendaraan truk terlibat kecelakaan identitasnya identitas korban tewas bernama dasep cukoman 42 warga kecamatan rancabali kabupaten bandung korban korban luka korban tewas rumah sakit abdul radjak purwakarta dilimpahkan ditangani unit laka lantas polres purwakarta\n",
      "(Score: 0.1380) \n",
      "5\n",
      "No ID Dokumen  :  13\n",
      "Tanggal        :  Jumat, 28 Jan 2022 15:43 WIB\n",
      "\n",
      "\n",
      "Isi berita     :  dump truck melintang km 48 tol jorr lalin macet cikunir lintas km 48 kecelakaan 14 50 wib lintas lokasi kecelakaan padat padatnya posisinya cikunir bintara lokasi kecelakaan km 45 km 48 terangnya petugas lokasi mengevakuasi foto diunggah akun twitter tmcpoldametro truk melintang lajur kanan jalan tol satunya celah dilewati kendaraan lajur kiri out of control kendaraan dump truk b 9869 keh jalan tol jorr km 48 bintara pulogebang penanganan petugas situasi arus lintas terpantau padat tulis akun tmcpoldametro\n",
      "(Score: 0.1371) \n",
      "6\n",
      "No ID Dokumen  :  19\n",
      "Tanggal        :  Jumat, 28 Jan 2022 08:28 WIB\n",
      "\n",
      "\n",
      "Isi berita     :  truk muat sayur terguling raya trosobo sidoarjo diduga sopir ngantuk informasi dihimpun kecelakaan tunggal jumat 28 1 2022 05 00 wib truk wing box bernopol b 9973 fxt dikemudikan anggi budi pradana 30 warga balong besuk jombang kanit turjawali polresta sidoarjo iptu kholil truk bermuatan sayur melaju arah mojokerto surabaya pengakuan pengemudi mengantuk kemudiannya kaget banting setir terguling kholil telepon selulernya jumat 28 1 2022 kholil terguling truk menabrak tiang listrik warung aliran listrik lokasi padam terguling truk menabrak warung menabrak tiang listrik alhamdulillah peristiwa korban jiwa kholil kejadian lajur kiri jalur utama lancar kholil mengimbau pengendara melintas menonton kecelakaan menimbulkan kemacetan memperlambat kendaraan menimbulkan kemacetan pesan kholil\n",
      "(Score: 0.1351) \n",
      "7\n",
      "No ID Dokumen  :  18\n",
      "Tanggal        :  Sabtu, 29 Jan 2022 13:30 WIB\n",
      "\n",
      "\n",
      "Isi berita     :  3 kendaraan tabrakan karambol gegara berhenti mendadak 1 luka kejadian bus bagong identitasnya melaju selatan utara jombang babat lokasi kejadian bus mendadak berhenti menurunkan penumpang bersamaan melaju truk identitasnya berhenti mendadak bus depannya berhenti berhenti mendadak melibatkan kendaraan kanit gakkum satlantas polres lamongan iptu anang purwo dikonfirmasi wartawan sabtu 29 1 2022 akibat truk berhenti mendadak bus menurunkan penumpang terang anang kendaraan pikap nopol s 9830 sb dikemudikan aula miftakhul basir penumpang m ridwan berhenti mendadak menabrak truk identitasnya pikap tertabrak truk bernopol s 9022 uw dikemudikan dion ridwanda anang penumpang pikap bernama m ridwan mengalami luka memar nyeri dada korban dibawa rumah sakit perawatan medis korban larikan rumah sakit perawatan medis kendaraan terlibat evakuasi menghindari kemacetan anang tersendat\n",
      "(Score: 0.1000) \n",
      "8\n",
      "No ID Dokumen  :  1\n",
      "Tanggal        :  Minggu, 30 Jan 2022 17:35 WIB\n",
      "\n",
      "\n",
      "Isi berita     :  mobil tabrak pembatas jalan tol jakarta tangerang pengemudi luka mobil kepala induk pjr tol bitung akp suwito membenarkan kejadian tepatnya km 21 600 b arah jakarta kecelakaan minggu 30 1 2022 14 30 wib minibus bernopol a 1281 xw dikendarai abdul hafid bersenggolan mobil dikenal kaget banting setir mengakibatkan menabrak pembatas tol median jalan akp suwito wartawan pengemudi mobil mengalami luka ringan beruntung korban jiwa peristiwa pengemudi minibus alami luka ringan korban jiwa mobil disenggol kabur melarikan suwito korban mengalami luka ringan dadanya terbentur setir mobil korban dibawa rumah sakit ditangani mobil dievakuasi mobil korban melintang menghadang jalan bersenggolan\n",
      "(Score: 0.0618) \n",
      "9\n",
      "No ID Dokumen  :  20\n",
      "Tanggal        :  Kamis, 27 Jan 2022 16:33 WIB\n",
      "\n",
      "\n",
      "Isi berita     :  terungkap sidang vanessa angel berhenti 3 kali tol kecelakaan informasi terungkap sidang perdana agenda pembacaan dakwaan jaksa penuntut umun jpu adi presetyo 10 10 wib sidang daring dipimpin ketua majelis hakim bambang setiawan hakim anggota joni mauluddin saputra sudirman rungan kusuma atmadja pn jombang adi rombongan keluarga vanessa angel bertolak jakarta surabaya kamis 4 november 2021 05 00 wib rumah mendiang vanessa perumahan permata mediterania kelurahan srengseng kecamatan kembangan jakarta barat rombongan keluarga vanessa mengendarai mobil mitsubishi pajero sport dakar warna putih nopol b 1264 bju terdakwa joddy mengemudi km 80 ruas tol jakarta surabaya berhenti rest area 07 00 wib buang air adi membacakan dakwaannya kantor kejaksaan negeri jombang kamis 27 1 2022 rombongan keluarga vanessa angel melanjutkan perjalanan surabaya kali giliran bibi mengemudikan mobil suami vanessa berhenti km 379 tol jakarta surabaya 09 00 wib sarapan 45 menit rest area sarapan bibi mengemudikan mobilnya melanjutkan perjalanan surabaya mengantuk menepi km 400 tol jakarta surabaya kali giliran joddy mengemudikan mobil mendiang vanessa 12 20 wib terdakwa mengemudi km 555 ruas tol jakarta surabaya terdakwa handphone update instastrory whatsapp milik terdakwa terdakwa pesan aplikasi whatsapp orang tua terdakwa saksi tubagus endang lesmana terdakwa membalas pesan orang tua terdakwa mengemudikan mobil terang jpu adi adi mengemudi km 555 lokasi kecelakaan km 672 300a joddy memperhatikan rambu lintas batas kecepatan maksimal 80 km jam terdakwa melaju kecepatan 125 km jam kondisi mengantuk melintas km 672 300a terdakwa mengemudi kondisi mengantuk berat kecepatan 125 km jam kendaraan hilang kendali terdakwa banting setir kiri menghantam pembatas jalan akibatnya mobil berputar arah kali berhenti posisi menghadap arah berlawanan adi sidang perdana selesai 10 33 wib joddy didakwa pasal berlapis dakwaan dijerat pasal 311 ayat 5 pasal 311 ayat 3 uu ri nomor 22 2009 lintas angkutan jalan dakwaan joddy dijerat pasal 310 ayat 4 pasal 310 ayat 3 uu ri nomor 22 2009 lintas angkutan jalan menerima dakwaan memilih mengajukan eksepsi vanesza adzania alias mobil sport warna putih dikemudikan tubagus joddy 24 warga kelurahan bubulak kecamatan bogor barat bogor vanesa perjalanan jakarta surabaya putranya gala sky andriansyah 1 7 pengasuh gala siska lorensa 21 warga cililin bandung barat gala selamat luka mata kiri lecet dahi kanan joddy mengeluh nyeri pinggul siska menderita luka tangan jari giginya patah penyidik satlantas polres jombang menetapkan tubagus joddy tersangka 10 november 2021 dinilai lalai menyebabkan kecelakaan menewaskan vanessa bibi joddy dijerat pasal 310 ayat 4 pasal 311 ayat 5 uu ri nomor 22 2009 lintas angkutan jalan keesokan harinya kamis 11 11 joddy ditahan rutan polres jombang penyidik tahap 2 menyerahkan tersangka barang bukti kejaksaan negeri jombang senin 10 1 berkas penyidikan perkara kecelakaan maut dinyatakan lengkap p21\n",
      "(Score: 0.0603) \n",
      "10\n",
      "No ID Dokumen  :  8\n",
      "Tanggal        :  Jumat, 28 Jan 2022 15:38 WIB\n",
      "\n",
      "\n",
      "Isi berita     :  mobil terguling km 15 tol jelambar lalin arah tomang macet kecelakaan melibatkan kendaraan tol kota mobil terlibat terguling melintang jalan kecelakaan km 15 400 posisi pluit arah cawang petugas dilaporkan 13 54 wib kecelakaan jalur 2 3 jalur kanan kendaraan terlibat kecelakaan dievakuasi lokasi kejadian penanganan kecelakaan selesai 14 30 wib kondisi lintas terpantau ramai lancar kepadatan tomang slipi peningkatan volume kendaraan penyebab kronologi kecelakaan petugas informasi terkait korban kendaraan terlibat terima informasi kecelakaan beruntun melaporkan kondisi lintas arah pluit cawang dilaporkan lancar kepadatan keluaran semanggi volume kendaraan sisanya lancar berdasarkan postingan jasa marga akun twitter ptjasamarga kendaraan posisi terguling kendaraan ringsek rifki rafitasa pengendara melintas lokasi kendaraan terlibat kecelakaan kendaraan terlibat kecelakaan kejadiannya 13 33 wib rifki dihubungi terpisah 13 54 wib\n",
      "(Score: 0.0562) \n"
     ]
    }
   ],
   "source": [
    "kueri='lalin truk di jakarta'\n",
    "kueri=preprocessing(kueri)\n",
    "kueri= [\" \".join (kueri)]\n",
    "print (kueri)\n",
    "\n",
    "tfidf_matrix =joblib.load( \"tfidf.pkl\" )\n",
    "tfidf_vectorizer = joblib.load( \"vectorizer.pkl\" ) \n",
    "query_vec= tfidf_vectorizer.transform(kueri)\n",
    "results=cosine_similarity(tfidf_matrix, query_vec).reshape((-1))\n",
    "#print (results)\n",
    "print(\"\\n======================\\n\")\n",
    "print(\"Top 10 most similar documents in corpus:\")\n",
    "\n",
    "j = 1\n",
    "\n",
    "for i in results.argsort()[-10:][::-1]:\n",
    "    print(j)\n",
    "    print(\"No ID Dokumen  : \", i)\n",
    "    print(\"Tanggal        : \", df_total.iloc[i,1])\n",
    "    print(\"Isi berita     : \", df_total.iloc[i,2])\n",
    "    print(\"(Score: %.4f) \" % results[i])\n",
    "    j += 1"
   ]
  }
 ],
 "metadata": {
  "kernelspec": {
   "display_name": "Python 3",
   "language": "python",
   "name": "python3"
  },
  "language_info": {
   "codemirror_mode": {
    "name": "ipython",
    "version": 3
   },
   "file_extension": ".py",
   "mimetype": "text/x-python",
   "name": "python",
   "nbconvert_exporter": "python",
   "pygments_lexer": "ipython3",
   "version": "3.7.0"
  }
 },
 "nbformat": 4,
 "nbformat_minor": 2
}
