{
 "cells": [
  {
   "cell_type": "code",
   "execution_count": 11,
   "metadata": {},
   "outputs": [
    {
     "name": "stderr",
     "output_type": "stream",
     "text": [
      "[nltk_data] Downloading package stopwords to\n",
      "[nltk_data]     /Users/syubbanfakhriya/nltk_data...\n",
      "[nltk_data]   Package stopwords is already up-to-date!\n"
     ]
    }
   ],
   "source": [
    "# Import library-library\n",
    "import os\n",
    "import glob\n",
    "\n",
    "# Data Preparation and Preprocessing\n",
    "import pandas as pd\n",
    "import re\n",
    "import nltk\n",
    "nltk.download('stopwords')\n",
    "from nltk.corpus import stopwords\n",
    "NLTK_StopWords = stopwords.words('indonesian')\n",
    "NLTK_StopWords = set(NLTK_StopWords)\n",
    "\n",
    "# Word Embedding\n",
    "import joblib\n",
    "from sklearn.feature_extraction.text import TfidfVectorizer\n",
    "import scipy.sparse\n",
    "\n",
    "from sklearn.metrics.pairwise import cosine_similarity\n",
    "\n",
    "# Input and Expansion Query\n",
    "from textblob import TextBlob\n",
    "from nltk.tokenize import wordpunct_tokenize\n",
    "#from googletrans import Translator\n",
    "\n",
    "#Split to train and test\n",
    "from sklearn.model_selection import train_test_split"
   ]
  },
  {
   "cell_type": "code",
   "execution_count": 39,
   "metadata": {},
   "outputs": [],
   "source": [
    "def preprocessing(berita):\n",
    "    s = berita.lower()\n",
    "    s = s.replace('\\n', ' ')\n",
    "    s = s.replace('\\r', ' ')\n",
    "    s = re.sub(r'[^a-zA-Z0-9\\s]', ' ', s)\n",
    "    tokens = [token for token in s.split(\" \") if token != \"\"]\n",
    "    T = [t for t in tokens if t not in NLTK_StopWords]\n",
    "    return T"
   ]
  },
  {
   "cell_type": "code",
   "execution_count": 40,
   "metadata": {},
   "outputs": [
    {
     "data": {
      "text/html": [
       "<div>\n",
       "<style scoped>\n",
       "    .dataframe tbody tr th:only-of-type {\n",
       "        vertical-align: middle;\n",
       "    }\n",
       "\n",
       "    .dataframe tbody tr th {\n",
       "        vertical-align: top;\n",
       "    }\n",
       "\n",
       "    .dataframe thead th {\n",
       "        text-align: right;\n",
       "    }\n",
       "</style>\n",
       "<table border=\"1\" class=\"dataframe\">\n",
       "  <thead>\n",
       "    <tr style=\"text-align: right;\">\n",
       "      <th></th>\n",
       "      <th>title</th>\n",
       "      <th>date</th>\n",
       "      <th>description</th>\n",
       "      <th>source</th>\n",
       "    </tr>\n",
       "  </thead>\n",
       "  <tbody>\n",
       "    <tr>\n",
       "      <th>0</th>\n",
       "      <td>\\n        6 Kios Terminal Lama Bojonegoro lude...</td>\n",
       "      <td>Jumat, 28 Jan 2022 09:24 WIB</td>\n",
       "      <td>Lokasi itu dikenal warga sebagai pasar ayam. D...</td>\n",
       "      <td>www.detik.com</td>\n",
       "    </tr>\n",
       "    <tr>\n",
       "      <th>1</th>\n",
       "      <td>\\n        Gempa M 5,1 Guncang Enggano Bengkulu...</td>\n",
       "      <td>Sabtu, 26 Feb 2022 07:09 WIB</td>\n",
       "      <td>berkekuatan magnitudo (M) 5,1 terjadi di Engga...</td>\n",
       "      <td>www.detik.com</td>\n",
       "    </tr>\n",
       "    <tr>\n",
       "      <th>2</th>\n",
       "      <td>\\r\\n        Sumbar Dilanda Gempa, BUMN Ikut Tu...</td>\n",
       "      <td>Sabtu, 26 Feb 2022 18:58 WIB</td>\n",
       "      <td>Gempa mengguncang wilayah Sumatera Barat denga...</td>\n",
       "      <td>www.detik.com</td>\n",
       "    </tr>\n",
       "    <tr>\n",
       "      <th>3</th>\n",
       "      <td>\\n        Kandang Ayam di Blitar Ludes Terbaka...</td>\n",
       "      <td>Jumat, 28 Jan 2022 12:26 WIB</td>\n",
       "      <td>Api terlihat mulai melahap bangunan dua lantai...</td>\n",
       "      <td>www.detik.com</td>\n",
       "    </tr>\n",
       "    <tr>\n",
       "      <th>4</th>\n",
       "      <td>\\n        Tewaskan 3 Orang, Begini Penampakan ...</td>\n",
       "      <td>Sabtu, 29 Jan 2022 12:31 WIB</td>\n",
       "      <td>rumah di Kebon Baru, Tebet, Jakarta Selatan (J...</td>\n",
       "      <td>www.detik.com</td>\n",
       "    </tr>\n",
       "  </tbody>\n",
       "</table>\n",
       "</div>"
      ],
      "text/plain": [
       "                                               title  \\\n",
       "0  \\n        6 Kios Terminal Lama Bojonegoro lude...   \n",
       "1  \\n        Gempa M 5,1 Guncang Enggano Bengkulu...   \n",
       "2  \\r\\n        Sumbar Dilanda Gempa, BUMN Ikut Tu...   \n",
       "3  \\n        Kandang Ayam di Blitar Ludes Terbaka...   \n",
       "4  \\n        Tewaskan 3 Orang, Begini Penampakan ...   \n",
       "\n",
       "                           date  \\\n",
       "0  Jumat, 28 Jan 2022 09:24 WIB   \n",
       "1  Sabtu, 26 Feb 2022 07:09 WIB   \n",
       "2  Sabtu, 26 Feb 2022 18:58 WIB   \n",
       "3  Jumat, 28 Jan 2022 12:26 WIB   \n",
       "4  Sabtu, 29 Jan 2022 12:31 WIB   \n",
       "\n",
       "                                         description         source  \n",
       "0  Lokasi itu dikenal warga sebagai pasar ayam. D...  www.detik.com  \n",
       "1  berkekuatan magnitudo (M) 5,1 terjadi di Engga...  www.detik.com  \n",
       "2  Gempa mengguncang wilayah Sumatera Barat denga...  www.detik.com  \n",
       "3  Api terlihat mulai melahap bangunan dua lantai...  www.detik.com  \n",
       "4  rumah di Kebon Baru, Tebet, Jakarta Selatan (J...  www.detik.com  "
      ]
     },
     "execution_count": 40,
     "metadata": {},
     "output_type": "execute_result"
    }
   ],
   "source": [
    "df =pd.read_csv(\"news.csv\")\n",
    "df.head()"
   ]
  },
  {
   "cell_type": "code",
   "execution_count": 41,
   "metadata": {},
   "outputs": [],
   "source": [
    "column = ['Title', 'Date', 'Description', 'Source']\n",
    "df_total = pd.DataFrame()\n",
    "\n",
    "df =pd.read_csv(\"news.csv\")\n",
    "isi=df['description']\n",
    "df = df.dropna(subset=['description'], axis=0)\n",
    "for x in range(0, df.shape[0]):\n",
    "    text = preprocessing (df.iloc[x, -2])\n",
    "    df.iloc[x, -2] = (' '.join(text)) "
   ]
  },
  {
   "cell_type": "code",
   "execution_count": 42,
   "metadata": {},
   "outputs": [
    {
     "data": {
      "text/html": [
       "<div>\n",
       "<style scoped>\n",
       "    .dataframe tbody tr th:only-of-type {\n",
       "        vertical-align: middle;\n",
       "    }\n",
       "\n",
       "    .dataframe tbody tr th {\n",
       "        vertical-align: top;\n",
       "    }\n",
       "\n",
       "    .dataframe thead th {\n",
       "        text-align: right;\n",
       "    }\n",
       "</style>\n",
       "<table border=\"1\" class=\"dataframe\">\n",
       "  <thead>\n",
       "    <tr style=\"text-align: right;\">\n",
       "      <th></th>\n",
       "      <th>title</th>\n",
       "      <th>date</th>\n",
       "      <th>description</th>\n",
       "      <th>source</th>\n",
       "    </tr>\n",
       "  </thead>\n",
       "  <tbody>\n",
       "    <tr>\n",
       "      <th>1650</th>\n",
       "      <td>\\n        Ketum PAN Zulhas Minta Kader PAN Ber...</td>\n",
       "      <td>Senin, 18 Jan 2021 04:43 WIB</td>\n",
       "      <td>ketua menginstruksikan kader pan lokasi bencan...</td>\n",
       "      <td>www.detik.com</td>\n",
       "    </tr>\n",
       "    <tr>\n",
       "      <th>826</th>\n",
       "      <td>\\n        Blitar Berpotensi Tsunami, BPBD Mint...</td>\n",
       "      <td>Jumat, 04 Jun 2021 08:09 WIB</td>\n",
       "      <td>deretan pantai pesisir blitar selatan wilayah ...</td>\n",
       "      <td>www.detik.com</td>\n",
       "    </tr>\n",
       "    <tr>\n",
       "      <th>884</th>\n",
       "      <td>\\n        Cerita Satu Dekade Kampung Beting Pa...</td>\n",
       "      <td>Selasa, 18 Jun 2019 06:54 WIB</td>\n",
       "      <td>kampung beting desa pantai bahagia muara gembo...</td>\n",
       "      <td>www.detik.com</td>\n",
       "    </tr>\n",
       "    <tr>\n",
       "      <th>12</th>\n",
       "      <td>\\n        Hujan dan Angin Kencang Masih Mengan...</td>\n",
       "      <td>Kamis, 13 Jan 2022 09:00 WIB</td>\n",
       "      <td>bmkg klas i juanda surabaya mengimbau masyarak...</td>\n",
       "      <td>www.detik.com</td>\n",
       "    </tr>\n",
       "    <tr>\n",
       "      <th>270</th>\n",
       "      <td>\\n        Atap Rumah Warga Trenggalek Runtuh D...</td>\n",
       "      <td>Selasa, 18 Jan 2022 20:36 WIB</td>\n",
       "      <td>kapolsek panggul akp budi hartoyo bencana ruma...</td>\n",
       "      <td>www.detik.com</td>\n",
       "    </tr>\n",
       "  </tbody>\n",
       "</table>\n",
       "</div>"
      ],
      "text/plain": [
       "                                                  title  \\\n",
       "1650  \\n        Ketum PAN Zulhas Minta Kader PAN Ber...   \n",
       "826   \\n        Blitar Berpotensi Tsunami, BPBD Mint...   \n",
       "884   \\n        Cerita Satu Dekade Kampung Beting Pa...   \n",
       "12    \\n        Hujan dan Angin Kencang Masih Mengan...   \n",
       "270   \\n        Atap Rumah Warga Trenggalek Runtuh D...   \n",
       "\n",
       "                               date  \\\n",
       "1650   Senin, 18 Jan 2021 04:43 WIB   \n",
       "826    Jumat, 04 Jun 2021 08:09 WIB   \n",
       "884   Selasa, 18 Jun 2019 06:54 WIB   \n",
       "12     Kamis, 13 Jan 2022 09:00 WIB   \n",
       "270   Selasa, 18 Jan 2022 20:36 WIB   \n",
       "\n",
       "                                            description         source  \n",
       "1650  ketua menginstruksikan kader pan lokasi bencan...  www.detik.com  \n",
       "826   deretan pantai pesisir blitar selatan wilayah ...  www.detik.com  \n",
       "884   kampung beting desa pantai bahagia muara gembo...  www.detik.com  \n",
       "12    bmkg klas i juanda surabaya mengimbau masyarak...  www.detik.com  \n",
       "270   kapolsek panggul akp budi hartoyo bencana ruma...  www.detik.com  "
      ]
     },
     "execution_count": 42,
     "metadata": {},
     "output_type": "execute_result"
    }
   ],
   "source": [
    "df.head()\n",
    "df_train, df_test=train_test_split(df,test_size=0.1)\n",
    "df_train.head()"
   ]
  },
  {
   "cell_type": "code",
   "execution_count": 43,
   "metadata": {},
   "outputs": [],
   "source": [
    "desc_text_train = []\n",
    "desc_text_test = []\n",
    "\n",
    "for x in range(0, df_train.shape[0]):\n",
    "  desc_text_train.append(df_train.iloc[x, -2])\n",
    "\n",
    "for x in range(0, df_test.shape[0]):\n",
    "  desc_text_test.append(df_test.iloc[x, -2])"
   ]
  },
  {
   "cell_type": "code",
   "execution_count": 45,
   "metadata": {},
   "outputs": [
    {
     "name": "stdout",
     "output_type": "stream",
     "text": [
      "<class 'pandas.core.frame.DataFrame'>\n",
      "Int64Index: 179 entries, 1415 to 769\n",
      "Data columns (total 4 columns):\n",
      " #   Column       Non-Null Count  Dtype \n",
      "---  ------       --------------  ----- \n",
      " 0   title        179 non-null    object\n",
      " 1   date         179 non-null    object\n",
      " 2   description  179 non-null    object\n",
      " 3   source       179 non-null    object\n",
      "dtypes: object(4)\n",
      "memory usage: 7.0+ KB\n",
      "None\n",
      "Panjang Dokumen Test :  179\n",
      "------------------------------------------------------------------------------------------\n",
      "<class 'pandas.core.frame.DataFrame'>\n",
      "Int64Index: 1611 entries, 1650 to 1526\n",
      "Data columns (total 4 columns):\n",
      " #   Column       Non-Null Count  Dtype \n",
      "---  ------       --------------  ----- \n",
      " 0   title        1611 non-null   object\n",
      " 1   date         1611 non-null   object\n",
      " 2   description  1611 non-null   object\n",
      " 3   source       1611 non-null   object\n",
      "dtypes: object(4)\n",
      "memory usage: 62.9+ KB\n",
      "None\n",
      "Panjang Dokumen Train :  1611\n"
     ]
    }
   ],
   "source": [
    "print(df_test.info())\n",
    "print(\"Panjang Dokumen Test : \", len(desc_text_test))\n",
    "\n",
    "print ('-'*90)\n",
    "\n",
    "print(df_train.info())\n",
    "print(\"Panjang Dokumen Train : \", len(desc_text_train))"
   ]
  },
  {
   "cell_type": "code",
   "execution_count": 46,
   "metadata": {},
   "outputs": [],
   "source": [
    "# Simpan teks asli dokumen\n",
    "joblib.dump(desc_text_test, \"corpus/model/desc_text_test.pkl\")\n",
    "joblib.dump(desc_text_train, \"corpus/model/desc_text_train.pkl\")\n",
    "\n",
    "# Simpan dataframe hasil text processing sebelum TF-IDF Vectorizer\n",
    "df.to_csv('corpus/dataset/df_total.csv',index=False )\n",
    "df_test.to_csv('corpus/dataset/df_test.csv', index=False)\n",
    "df_train.to_csv('corpus/dataset/df_train.csv', index=False)\n"
   ]
  },
  {
   "cell_type": "code",
   "execution_count": 47,
   "metadata": {},
   "outputs": [
    {
     "name": "stdout",
     "output_type": "stream",
     "text": [
      "tfidf_test_matrix\n",
      "(179, 4843)\n",
      "tfidf_train_matrix\n",
      "(1611, 16508)\n"
     ]
    }
   ],
   "source": [
    "# Fit transform menggunakan TF-IDF Vectorizer\n",
    "tfidf_vectorizer = TfidfVectorizer()\n",
    "tfidf_test_matrix = tfidf_vectorizer.fit_transform(desc_text_test)\n",
    "tfidf_train_matrix = tfidf_vectorizer.fit_transform(desc_text_train)\n",
    "\n",
    "print('tfidf_test_matrix')\n",
    "print(tfidf_test_matrix.shape)\n",
    "print('tfidf_train_matrix')\n",
    "print(tfidf_train_matrix.shape)"
   ]
  },
  {
   "cell_type": "code",
   "execution_count": 48,
   "metadata": {},
   "outputs": [
    {
     "data": {
      "text/plain": [
       "['corpus/matrix/tfidf_train.pkl']"
      ]
     },
     "execution_count": 48,
     "metadata": {},
     "output_type": "execute_result"
    }
   ],
   "source": [
    "joblib.dump(tfidf_vectorizer, \"corpus/vectorizer/vectorizer.pkl\")\n",
    "joblib.dump(tfidf_test_matrix, \"corpus/matrix/tfidf_test.pkl\")\n",
    "joblib.dump(tfidf_train_matrix, \"corpus/matrix/tfidf_train.pkl\")"
   ]
  },
  {
   "cell_type": "markdown",
   "metadata": {},
   "source": [
    "### Pencarian "
   ]
  },
  {
   "cell_type": "code",
   "execution_count": 50,
   "metadata": {},
   "outputs": [
    {
     "name": "stdout",
     "output_type": "stream",
     "text": [
      "<class 'pandas.core.frame.DataFrame'>\n",
      "Int64Index: 1790 entries, 0 to 1789\n",
      "Data columns (total 4 columns):\n",
      " #   Column       Non-Null Count  Dtype \n",
      "---  ------       --------------  ----- \n",
      " 0   title        1790 non-null   object\n",
      " 1   date         1790 non-null   object\n",
      " 2   description  1790 non-null   object\n",
      " 3   source       1790 non-null   object\n",
      "dtypes: object(4)\n",
      "memory usage: 69.9+ KB\n",
      "None\n",
      "------------------------------------------------------------------------------------------\n",
      "179\n",
      "1611\n"
     ]
    }
   ],
   "source": [
    "df_total = pd.read_csv('corpus/dataset/df_total.csv')\n",
    "df_total = df_total[pd.notnull(df_total['description'])]\n",
    "print(df_total.info())\n",
    "print ('-'*90)\n",
    "\n",
    "document_text_train= joblib.load('corpus/model/desc_text_train.pkl')\n",
    "document_text_test= joblib.load('corpus/model/desc_text_test.pkl')\n",
    "print(len(document_text_test))\n",
    "print(len(document_text_train))"
   ]
  },
  {
   "cell_type": "code",
   "execution_count": 51,
   "metadata": {},
   "outputs": [
    {
     "name": "stdout",
     "output_type": "stream",
     "text": [
      "['banjir jakarta']\n",
      "\n",
      "======================\n",
      "\n",
      "Top 10 most similar documents in corpus:\n",
      "1\n",
      "No ID Dokumen  :  972\n",
      "Tanggal        :  Selasa, 16 Nov 2021 15:10 WIB\n",
      "Isi berita     :  gubernur jawa barat ridwan kamil mengimbau masyarakat mewaspadai bencana banjir longsor maret 2022 mengarahkan bupati walikota siaga menghadapi potensi bencana siklus cuaca maret potensi kebencanaan banjir longsor arahkan walikota bupati posisinya siaga 1 maret la nina gelombang gelombang iklim memengaruhi tingginya potensi kebencanaan ridwan kamil hotel horison kota bandung selasa 16 11 2021 kang emil sapaan ridwan kamil mengarahkan bpbd provinsi jawa barat mengecek 40 titik rawan banjir daerah daerah daerah aliran sungai das menunggu bencana korban bereaksi masyarakat waspada bantaran sungai kang emil basarnas kansar bandung jabar quick response jqr melatih relawan kebencanaan 27 kabupaten kota jabar pelatihan menunjang kesiapsiagaan menghadapi potensi bencana alam jabar mengunjungi sman 1 lembang pagi kang emil mengeluarkan surat bupati wali kota siaga 1 maret potensi ketidakstabilan cuaca la nina mengakibatkan curah hujan diprediksi meningkatkan risiko bencana contohnya kemarin daerah bandung utara 50 daerahnya longsor emil ketua jqr jqr arahan gubernur jabar memaksimalkan potensi relawan penanganan bencana bersifat mitigasi bencana penanganan kebencanaan bambang berdasarkan data bpbd provinsi jabar november 2021 wilayahnya 1877 kejadian bencana pemerintah merespons kejadian keterlibatan bambang jqr basarnas memfasilitasi pelatihan relawan kebencanaan targetnya kabupaten kota jabar potensi relawan bencana jawa barat lapangan membantu usaha pencarian korban memfasilitasi pengungsi proses pasca bencana trauma healing bambang keterangan resminya kepala kantor pencarian pertolongan bandung deden ridwansah kesiapan melatih relawan kebencanaan jabar memiliki tim materi pelatihan relawan deden kolaborasi kemanusiaan jqr contoh upaya penanganan bencana kejadian bencana manfaatkan kemampuan latihan deden latihan relawan kebencanaan daerah terhubung basarnas mempercepat informasi kordinasi operasi kemanusiaan basarnas jqr diisi internal jqr bb 1 west java chapter melaksanakan pelatihan pertolongan permukaan air awalan contoh kedepan pungkas deden\n",
      "(Score: 0.4754) \n",
      "2\n",
      "No ID Dokumen  :  35\n",
      "Tanggal        :  Selasa, 02 Mar 2021 20:05 WIB\n",
      "Isi berita     :  gubernur sumatera selatan herman deru hd kesuksesan sumsel pencegahan penanganan kebakaran hutan lahan karhutla 2020 acuan standarisasi penanganan karhutla 2021 rapat koordinasi mendukung kelancaran program pemerintah rangka penanganan karhutla sumsel 2021 gedung promoter mapolda sumsel standarisasi hd karhutla sumsel diminimalisir 2020 kemarin sukses apresiasi penanganan pencegahankarhutla harap dijadikan standar penanganan 2021 dankedepannya maksimal keterangan tertulis selasa 2 3 2021 2020 angka karhutla sumsel menurun signifikan titik panas pemicu karhutla 2020 terpantau 4 536 titik 2019 17 391 titik 140 desa rawan karhutla menurun 90 desa harapan ditekan imbuhnya menurutnya fokus pemadaman pencegahan spontanitas solusi jangka pendek jangka menurutnya larangan diterapkan solusi masyarakat pembakaran lahan penebasan membuka lahan hasil penebasan dikemanakan pupuk solusinya dipikirkan paparnya 1 3 juta hektare lahan sumsel kebakaran kerap lahan lahan produktif lahan kosong dimiliki negara lahan kosong milik korporasi tergarap lahan izin lokasi peruntukannya dibebaskan menurutnya dicarikan solusinya kebakaran diminimalisir hd sumsel menerapkan status siaga karhutla disosialisasikan pemprov sumsel menggelar apel siaga karhutla menurutnya menetapkan siaga keorganisasian bergerak personel peralatan hd penghargaan desa personel menekan potensi karhutla punishment hukuman pelanggar reward insentif desa menekankarhutla kecolongan karenakarhutla menghambat ekonomi kesehatan masyarakat kapolda sumsel irjen pol eko indra heri mendukung penuh upaya pemprov sumsel penanganan pencegahan karhutla pasalnya menurutnya tugas masyarakat mendorong pemberian reward desa menekan angka kebakaran lahan reward desa wilayah berpotensi karhutla personel berupaya penanganan pungkasnya informasi hadir rapat pangdam ii sriwijaya mayjen tni agus suhardi danrem 044 gapo brigjen tni jauhari agus suraji kajati sumsel m rum forkopimda sumsel\n",
      "(Score: 0.3011) \n",
      "3\n",
      "No ID Dokumen  :  1114\n",
      "Tanggal        :  Senin, 13 Sep 2021 11:19 WIB\n",
      "Isi berita     :  jawa timur surabaya prakiraan klimatologi iklim musim teguh hujan wilayah jatim akibat gangguan gelombang equatorial rossby gelombang fenomena gelombang fluida atmosfer lautan berotasi berpasangan bergerak arah barat kawasan ekuator menyebabkan wilayah dilaluinya cuaca buruk gelombang memiliki karakteristik membawa massa udara bersifat basah wilayah dilaluinya mengalami kondisi cuaca hujan mendung\n",
      "(Score: 0.2577) \n",
      "4\n",
      "No ID Dokumen  :  1287\n",
      "Tanggal        :  Minggu, 30 Jan 2022 08:43 WIB\n",
      "Isi berita     :  gempa bermagnitudo 1 4 kabupaten bantul daerah istimewa yogyakarta diy pagi pusat gempa 14 kilometer tenggara bantul info gempa mag 1 4 30 januari 2022 07 31 54 wib bmkg diy akun twitter bmkgjogja minggu 30 1 2022 pusat gempa 7 94 lintang selatan 110 48 bujur timur kedalaman 17 kilometer foto diposting bmkg pusat gempa darat laporan terkait dampak gempa\n",
      "(Score: 0.2485) \n",
      "5\n",
      "No ID Dokumen  :  265\n",
      "Tanggal        :  Selasa, 18 Jan 2022 08:46 WIB\n",
      "Isi berita     :  surabaya raya kota surabaya sidoarjo gresik turun hujan disertai angin kencang petir siang sore banjir masuk kategori waspada wilayah pantura daerah lamongan bojonegoro tuban turun hujan deras disertai angin kencang daerah wisata kota batu mojokerto turun hujan deras siang hujan ringan turun malang hujan deras disertai angin kencang petir jombang magetan madiun nganjuk kediri blitar tulungagung probolinggo lumajang jember situbondo sumenep banyuwangi bangkalan sampang bondowoso pamekasan pasuruan trenggalek ponorogo pacitan ngawi turun hujan intensitas ringan sore malam detikers beraktivitas waspada detikers mengendarai roda lupa sedia payung jas\n",
      "(Score: 0.2324) \n",
      "6\n",
      "No ID Dokumen  :  361\n",
      "Tanggal        :  Rabu, 19 Jan 2022 13:39 WIB\n",
      "Isi berita     :  berdasarkan informasi command center cc room 112 kebakaran dilaporkan 11 30 wib 12 unit mobil damkar diterjunkan api pokok padam 11 40 wib pembasahan selesai dinyatakan kondusif 12 00 wib terang petugas cc room 112 romi rabu 19 1 2022 romi restoran milik kahar terbakar diduga percikan api pengelasan api las menyambar instalansi listrik keterangan saksi mengelas situ percikan api alat las api menyambar instalasi listrik soto cak har terbakar merambat atap soto cak har terang romi kebakaran restoran soto cak har jalan kawasan merr ir soekarno hatta surabaya iya dilaporkan 11 30 wib petugas command center 112 romi dikonfirmasi\n",
      "(Score: 0.2255) \n",
      "7\n",
      "No ID Dokumen  :  1408\n",
      "Tanggal        :  Jumat, 25 Feb 2022 10:50 WIB\n",
      "Isi berita     :  magnitudo m 6 2 pasaman barat sumatera barat 09 35 wib hasil monitoring bmkg 1 kejadian gempa bumi pendahuluan foreshock magnitudo m 5 2 7 aktivitas gempa bumi susulan aftershock magnitudo terbesar m 3 9 kepala pusat gempabumi tsunami bmkg bambang setiyo prayitno keterangan tertulisnya jumat 25 2 2022 gempa 08 39 wib talamau pasaman barat sumatera barat hasil analisis bmkg episenter gempa bumi terletak koordinat 0 14 lintang utara 99 94 bujur timur tepatnya berlokasi darat jarak 12 km timur laut wilayah pasaman barat sumatera barat kedalaman 10 km memperhatikan lokasi episenter kedalaman hiposenternya gempa bumi jenis gempa bumi dangkal akibat aktivitas sesar sumatera hasil analisis mekanisme sumber gempa bumi memiliki mekanisme pergerakan geser strike slip bambang bambang gempa bumi berdampak dirasakan daerah pasaman skala intensitas v mmi getaran dirasakan penduduk orang terbangun gempa dirasakan agam bukitttinggi padang skala intensitas iv mmi siang dirasakan orang rumah wilayah padang payakumbuh aek godang gunung sitoli merasakan gempa skala intensitas iii mmi getaran dirasakan nyata rumah getaran seakan truk wilayah pesisir selatan rantau parapat nias selatan bangkinang gempa dirasakan skala intensitas ii mmi getaran dirasakan orang benda benda ringan digantung bergoyang laporan dampak kerusakan daerah pasaman barat ditimbulkan akibat gempa bumi hasil pemodelan gempa bumi berpotensi tsunami bmkg mengimbau masyarakat tenang terpengaruh isu dipertanggungjawabkan kebenarannya masyarakat menghindari bangunan retak rusak diakibatkan gempa periksa pastikan bangunan tinggal tahan gempa kerusakan akibat getaran gempa membahayakan kestabilan bangunan rumah pungkas bambang\n",
      "(Score: 0.2192) \n",
      "8\n",
      "No ID Dokumen  :  352\n",
      "Tanggal        :  Rabu, 19 Jan 2022 13:22 WIB\n",
      "Isi berita     :  keterangan saksi mengelas situ percikan api alat las romi petugas commad center 112 rabu 19 1 2022 percikan api romi menyambar instalasi listrik membakar bangunan api menyambar instalasi listrik soto cak har terbakar merambat atap soto cak har terang romi romi korban jiwa peristiwa api pokok dipadamkan petugas 11 40 wib korban jiwa nihil api pokok padam 11 40 wib pembasahan selesai dinyatakan kondusif 12 00 wib romi iya dilaporkan 11 30 wib\n",
      "(Score: 0.2190) \n",
      "9\n",
      "No ID Dokumen  :  567\n",
      "Tanggal        :  Selasa, 01 Feb 2022 15:32 WIB\n",
      "Isi berita     :  13 rumah 2 sepeda motor 1 truk dilaporkan rusak akibat puting beliung menerjang kecamatan kabupaten klaten senin 31 1 2022 2 warga dikabarkan luka ringan berat tertimpa pohon pendataan dampak puting beliung dilangsungkan tim gabungan 13 rumah 2 sepeda motor 1 truk rusak data kepala pelaksana bpbd pemkab klaten sri winoto winoto dampak kerusakan kategori rusak ringan pendataan tim gabungan pembersihan lokasi terdampak puting beliung kerugian akibat hujan deras disertai puting beliung ditaksir rp 108 juta pembersihan evakuasi tim gabungan relawan warga winoto mengimbau masyarakat mewaspadai hujan deras disertai angin kencang data pusdalops penanggulangan bencana bpbd klaten diperoleh detikjateng 13 rumah rusak tertimpa pohon tersebar kecamatan karangnongko kebonarum jatinom jogonalan kemalang tumbangnya pohon menimpa 2 warga desa ngemplak seneng manisrenggo melintas jalan jiwan kemalang sepeda motor korban giono 35 luka ringan tentrem 39 luka berat dirawat rsup dr soeradji tirtonegoro klaten menyebabkan 2 korban luka puting beliung kemarin menyebabkan 1 keluarga dusun tahunan desa jiwan karangnongko mengungsi rumah saudaranya salah warga kemalang tusina 70 kejadian rumah berobat dokter roboh pohon durian kelapa pohon durian tua usianya tusina wartawan lokasi\n",
      "(Score: 0.2098) \n",
      "10\n",
      "No ID Dokumen  :  1608\n",
      "Tanggal        :  Rabu, 20 Jan 2021 13:19 WIB\n",
      "Isi berita     :  indonesia menghadapi bencana alam gempa bumi majene mamuju sulawesi barat tanah longsor tasikmalaya sumedang cianjur jawa barat bencana banjir banjarmasin kalimantan selatan kawasan puncak bogor jawa barat merespons wakil ketua mpr ri lestari moerdijat fokus mengatasi dampak langsung bencana daerah tanah air prihatin bencana alam pekan tanah air duka mendalam saudara saudara terdampak bencana wanita akrab disapa rerie keterangannya rabu 20 01 2021 rerie menghadapi bencana masyarakat mengedepankan semangat membantu bersatu aliran bantuan korban bencana alam kelancarannya bantuan menyelamatkan korban bencana ancaman kelaparan penyakit anggota majelis partai nasdem penanganan korban bencana pandemi manajemen pengelolaan bantuan disiplin menerapkan protokol kesehatan posko posko pengungsian diatur klaster penyebaran covid 19 menyalahkan terkait bencana alami kondisi meningkatkan kewaspadaan kondisi cuaca ekstrem pekan berdasarkan prediksi badan meteorologi klimatologi geofisika bmkg puncak musim hujan januari februari 2021 94 persen wilayah indonesia memasuki musim hujan sisi berdasarkan penelitian geologi indonesia memiliki 500 gunung berapi 127 aktif potensi bencana gempa bumi indonesia memiliki 295 patahan indonesia timur memperbaiki langkah dinilai mengalami kondisi pungkasnya\n",
      "(Score: 0.2076) \n"
     ]
    }
   ],
   "source": [
    "kueri='Banjir jakarta'\n",
    "kueri=preprocessing(kueri)\n",
    "kueri= [\" \".join (kueri)]\n",
    "print (kueri)\n",
    "\n",
    "tfidf_matrix =joblib.load( \"corpus/matrix/tfidf_train.pkl\" )\n",
    "tfidf_vectorizer = joblib.load( \"corpus/vectorizer/vectorizer.pkl\" ) \n",
    "query_vec= tfidf_vectorizer.transform(kueri)\n",
    "results=cosine_similarity(tfidf_matrix, query_vec).reshape((-1))\n",
    "#print (results)\n",
    "print(\"\\n======================\\n\")\n",
    "print(\"Top 10 most similar documents in corpus:\")\n",
    "\n",
    "j = 1\n",
    "\n",
    "for i in results.argsort()[-10:][::-1]:\n",
    "    print(j)\n",
    "    print(\"No ID Dokumen  : \", i)\n",
    "    print(\"Tanggal        : \", df_total.iloc[i,1])\n",
    "    print(\"Isi berita     : \", df_total.iloc[i,2])\n",
    "    print(\"(Score: %.4f) \" % results[i])\n",
    "    j += 1"
   ]
  }
 ],
 "metadata": {
  "kernelspec": {
   "display_name": "Python 3",
   "language": "python",
   "name": "python3"
  },
  "language_info": {
   "codemirror_mode": {
    "name": "ipython",
    "version": 3
   },
   "file_extension": ".py",
   "mimetype": "text/x-python",
   "name": "python",
   "nbconvert_exporter": "python",
   "pygments_lexer": "ipython3",
   "version": "3.9.9"
  }
 },
 "nbformat": 4,
 "nbformat_minor": 2
}
