{
 "cells": [
  {
   "cell_type": "code",
   "execution_count": 17,
   "metadata": {},
   "outputs": [
    {
     "data": {
      "text/plain": [
       "0       False\n",
       "1       False\n",
       "2       False\n",
       "3       False\n",
       "4       False\n",
       "        ...  \n",
       "1722    False\n",
       "1723    False\n",
       "1724    False\n",
       "1725    False\n",
       "1726    False\n",
       "Length: 1727, dtype: bool"
      ]
     },
     "execution_count": 17,
     "metadata": {},
     "output_type": "execute_result"
    }
   ],
   "source": [
    "import pandas as pd\n",
    "# df = pd.read_csv(\"bow_where_b.csv\")\n",
    "# df2 = pd.read_csv(\"bow_where_daerah.csv\")\n",
    "\n",
    "# df2.head()\n",
    "# frames = [df, df2]\n",
    "# result = pd.concat(frames)\n",
    "# result.info()\n",
    "\n",
    "# result.to_csv('bow_where_concat.csv', index=False)\n",
    "\n",
    "df_new = pd.read_csv('bow_when.csv')\n",
    "# df_new = pd.read_csv('bow_who_new.csv', usecols=['Skimming News'])\n",
    "# df_new = df_new.loc[:, ~df_new.columns.str.contains('^Unnamed')]\n",
    "# df_new.drop_duplicates(subset=\"parent\", keep=\"first\", inplace=True)\n",
    "df_new.duplicated()\n",
    "# df_new.head()\n",
    "# pd.set_option('display.max_rows', df_new.shape[0]+1)\n",
    "# df_tes = df_new.rename(columns={'1': 'Tingkat setelah parent', 'pengungsi': 'Parent', \"[('imigran', 0.7085716128349304), ('migran', 0.6820387244224548), ('pemukim', 0.6161231994628906), ('peziarah', 0.599764347076416), ('gerilyawan', 0.5981399416923523), ('pengungsian', 0.5808784365653992), ('tahanan', 0.5777778029441833), ('transmigran', 0.5736098885536194), ('tawanan', 0.5661312937736511), ('sukarelawan', 0.5596505403518677)]\": 'Similarity'})\n",
    "# df_tes\n",
    "# df_new.to_csv('tes_new.csv', index=False)"
   ]
  }
 ],
 "metadata": {
  "interpreter": {
   "hash": "8e3bfc5ac744054c9787902a0204d3692d88f436b6cb2cc0caf0518cc03255ac"
  },
  "kernelspec": {
   "display_name": "Python 3.9.9 ('venv': venv)",
   "language": "python",
   "name": "python3"
  },
  "language_info": {
   "codemirror_mode": {
    "name": "ipython",
    "version": 3
   },
   "file_extension": ".py",
   "mimetype": "text/x-python",
   "name": "python",
   "nbconvert_exporter": "python",
   "pygments_lexer": "ipython3",
   "version": "3.9.9"
  },
  "orig_nbformat": 4
 },
 "nbformat": 4,
 "nbformat_minor": 2
}
