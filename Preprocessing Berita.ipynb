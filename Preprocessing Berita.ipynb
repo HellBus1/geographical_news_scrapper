{
 "cells": [
  {
   "cell_type": "code",
   "execution_count": 1,
   "metadata": {},
   "outputs": [
    {
     "name": "stderr",
     "output_type": "stream",
     "text": [
      "[nltk_data] Downloading package stopwords to\n",
      "[nltk_data]     /usr/local/share/nltk_data...\n",
      "[nltk_data]   Package stopwords is already up-to-date!\n"
     ]
    }
   ],
   "source": [
    "# Import library-library\n",
    "import os\n",
    "import glob\n",
    "import string\n",
    "\n",
    "# Data Preparation and Preprocessing\n",
    "import pandas as pd\n",
    "import re\n",
    "import nltk\n",
    "nltk.download('stopwords')\n",
    "from nltk.corpus import stopwords\n",
    "\n",
    "# Word Embedding\n",
    "import joblib\n",
    "from sklearn.feature_extraction.text import TfidfVectorizer\n",
    "import scipy.sparse\n",
    "\n",
    "from sklearn.metrics.pairwise import cosine_similarity\n",
    "\n",
    "# Input and Expansion Query\n",
    "from textblob import TextBlob\n",
    "from nltk.tokenize import wordpunct_tokenize\n",
    "#from googletrans import Translator\n",
    "\n",
    "#Split to train and test\n",
    "from sklearn.model_selection import train_test_split"
   ]
  },
  {
   "cell_type": "code",
   "execution_count": 2,
   "metadata": {},
   "outputs": [],
   "source": [
    "excluded_words = [\"tempat\", \"waktu\", \"mencuri\", \"rampok\"]\n",
    "\n",
    "NLTK_StopWords = stopwords.words('indonesian')\n",
    "NLTK_StopWords.extend([\"detik\", \"detikjatim\", \"detikjateng\", \"detikjabar\", \"detiksulsel\", \"detiksumbar\", \"detikbali\", \"detikpapua\", \"detiksulteng\", \"detikmaluku\", \"detjatim\", \"detikcom\", \"allahumma\", \"aamiin\", \"aamiin\", \"allah\", \"bismillah\"])\n",
    "NLTK_StopWords.extend([\"yg\", \"dg\", \"rt\", \"dgn\", \"ny\", \"d\", 'klo', \n",
    "                       'kalo', 'amp', 'biar', 'bikin', 'bilang', \n",
    "                       'gak', 'ga', 'krn', 'nya', 'nih', 'sih', \n",
    "                       'si', 'tau', 'tdk', 'tuh', 'utk', 'ya', \n",
    "                       'jd', 'jgn', 'sdh', 'aja', 'n', 't', \n",
    "                       'nyg', 'hehe', 'pen', 'u', 'nan', 'loh', 'rt',\n",
    "                       '&amp', 'yah'])\n",
    "txt_stopword = pd.read_csv(\"stopwords.txt\", names= [\"stopwords\"], header = None)\n",
    "\n",
    "# convert stopword string to list & append additional stopword\n",
    "NLTK_StopWords.extend(txt_stopword[\"stopwords\"][0].split(' '))\n",
    "NLTK_StopWords = set(NLTK_StopWords)"
   ]
  },
  {
   "cell_type": "code",
   "execution_count": 3,
   "metadata": {},
   "outputs": [],
   "source": [
    "def preprocessing(berita):\n",
    "    # Preprocessing\n",
    "    s = berita.lower()\n",
    "    s = s.replace('\\\\t',\" \").replace('\\\\n',\" \").replace('\\\\u',\" \").replace('\\\\',\"\")\n",
    "    s = s.encode('ascii', 'replace').decode('ascii')\n",
    "    ' '.join(re.sub(\"([@#][A-Za-z0-9]+)|(\\w+:\\/\\/\\S+)\",\" \", s).split())\n",
    "    s.replace(\"http://\", \" \").replace(\"https://\", \" \")\n",
    "    s = re.sub('\\s+', ' ', s)\n",
    "    s = s.strip()\n",
    "    s = s.translate(str.maketrans(\"\",\"\", string.punctuation))\n",
    "    s = re.sub(r'[^a-zA-Z0-9\\s]', ' ', s)\n",
    "    s = re.sub(r'\\b\\w{1,1}\\b', '', s)\n",
    "    tokens = [token for token in s.split(\" \") if token != \"\"]\n",
    "\n",
    "    # Stopwords checking\n",
    "    T = [t for t in tokens if ((t in excluded_words) or (t not in NLTK_StopWords))]\n",
    "    return T"
   ]
  },
  {
   "cell_type": "code",
   "execution_count": 5,
   "metadata": {},
   "outputs": [
    {
     "name": "stdout",
     "output_type": "stream",
     "text": [
      "<class 'pandas.core.frame.DataFrame'>\n",
      "RangeIndex: 2028 entries, 0 to 2027\n",
      "Data columns (total 4 columns):\n",
      " #   Column       Non-Null Count  Dtype \n",
      "---  ------       --------------  ----- \n",
      " 0   title        2028 non-null   object\n",
      " 1   date         2028 non-null   object\n",
      " 2   description  2028 non-null   object\n",
      " 3   source       2028 non-null   object\n",
      "dtypes: object(4)\n",
      "memory usage: 63.5+ KB\n"
     ]
    }
   ],
   "source": [
    "df =pd.read_csv(\"scrapped_news/scrapped_news2.csv\")\n",
    "df.info()\n",
    "# df.head()"
   ]
  },
  {
   "cell_type": "code",
   "execution_count": 6,
   "metadata": {},
   "outputs": [],
   "source": [
    "column = ['Title', 'Date', 'Description', 'Source']\n",
    "df_total = pd.DataFrame()\n",
    "\n",
    "df = pd.read_csv(\"scrapped_news/scrapped_news2.csv\")\n",
    "df = df.dropna(subset=['description'], axis=0)\n",
    "df.sort_values(\"description\", inplace = True)\n",
    "df.drop_duplicates(subset =\"description\", keep = False, inplace = True)\n",
    "\n",
    "df.head()\n",
    "df_train_unprocessed, df_test_unprocessed = train_test_split(df,test_size=0.1)"
   ]
  },
  {
   "cell_type": "code",
   "execution_count": 7,
   "metadata": {},
   "outputs": [],
   "source": [
    "for x in range(0, df.shape[0]):\n",
    "    text = preprocessing(df.iloc[x, -2])\n",
    "    df.iloc[x, -2] = (' '.join(text)) "
   ]
  },
  {
   "cell_type": "code",
   "execution_count": 8,
   "metadata": {},
   "outputs": [
    {
     "data": {
      "text/html": [
       "<div>\n",
       "<style scoped>\n",
       "    .dataframe tbody tr th:only-of-type {\n",
       "        vertical-align: middle;\n",
       "    }\n",
       "\n",
       "    .dataframe tbody tr th {\n",
       "        vertical-align: top;\n",
       "    }\n",
       "\n",
       "    .dataframe thead th {\n",
       "        text-align: right;\n",
       "    }\n",
       "</style>\n",
       "<table border=\"1\" class=\"dataframe\">\n",
       "  <thead>\n",
       "    <tr style=\"text-align: right;\">\n",
       "      <th></th>\n",
       "      <th>title</th>\n",
       "      <th>date</th>\n",
       "      <th>description</th>\n",
       "      <th>source</th>\n",
       "    </tr>\n",
       "  </thead>\n",
       "  <tbody>\n",
       "    <tr>\n",
       "      <th>1872</th>\n",
       "      <td>\\n        Akhir Tragis Dini Nurdiani Dilaporka...</td>\n",
       "      <td>Sabtu, 14 Mei  2022 22:15 WIB</td>\n",
       "      <td>warga cengkareng jakarta barat dinyatakan tewa...</td>\n",
       "      <td>www.detik.com</td>\n",
       "    </tr>\n",
       "    <tr>\n",
       "      <th>111</th>\n",
       "      <td>\\n        Sempat Diduga Salah Tangkap, 4 Terda...</td>\n",
       "      <td>Senin, 25 Apr 2022 15:27 WIB</td>\n",
       "      <td>terdakwa terdakwa fikry abdul rohman randy apr...</td>\n",
       "      <td>www.detik.com</td>\n",
       "    </tr>\n",
       "    <tr>\n",
       "      <th>155</th>\n",
       "      <td>\\n        Ulah Haji Gadungan di Makassar Curi ...</td>\n",
       "      <td>Jumat, 25 Mar 2022 07:00 WIB</td>\n",
       "      <td>basri haji gadungan ditangkap polisi wilayah b...</td>\n",
       "      <td>www.detik.com</td>\n",
       "    </tr>\n",
       "    <tr>\n",
       "      <th>1225</th>\n",
       "      <td>\\n        Kasus Narkotika dan Asusila Libatkan...</td>\n",
       "      <td>Rabu, 06 Apr 2022 09:19 WIB</td>\n",
       "      <td>ketua pn bengkulu jon sarman saragih perkara p...</td>\n",
       "      <td>www.detik.com</td>\n",
       "    </tr>\n",
       "    <tr>\n",
       "      <th>1549</th>\n",
       "      <td>\\n        Rampok-Paksa Wanita Buka Baju Modus ...</td>\n",
       "      <td>Kamis, 02 Des 2021 11:56 WIB</td>\n",
       "      <td>wanita labuhanbatu utara labura sumatera utara...</td>\n",
       "      <td>www.detik.com</td>\n",
       "    </tr>\n",
       "  </tbody>\n",
       "</table>\n",
       "</div>"
      ],
      "text/plain": [
       "                                                  title  \\\n",
       "1872  \\n        Akhir Tragis Dini Nurdiani Dilaporka...   \n",
       "111   \\n        Sempat Diduga Salah Tangkap, 4 Terda...   \n",
       "155   \\n        Ulah Haji Gadungan di Makassar Curi ...   \n",
       "1225  \\n        Kasus Narkotika dan Asusila Libatkan...   \n",
       "1549  \\n        Rampok-Paksa Wanita Buka Baju Modus ...   \n",
       "\n",
       "                               date  \\\n",
       "1872  Sabtu, 14 Mei  2022 22:15 WIB   \n",
       "111    Senin, 25 Apr 2022 15:27 WIB   \n",
       "155    Jumat, 25 Mar 2022 07:00 WIB   \n",
       "1225    Rabu, 06 Apr 2022 09:19 WIB   \n",
       "1549   Kamis, 02 Des 2021 11:56 WIB   \n",
       "\n",
       "                                            description         source  \n",
       "1872  warga cengkareng jakarta barat dinyatakan tewa...  www.detik.com  \n",
       "111   terdakwa terdakwa fikry abdul rohman randy apr...  www.detik.com  \n",
       "155   basri haji gadungan ditangkap polisi wilayah b...  www.detik.com  \n",
       "1225  ketua pn bengkulu jon sarman saragih perkara p...  www.detik.com  \n",
       "1549  wanita labuhanbatu utara labura sumatera utara...  www.detik.com  "
      ]
     },
     "execution_count": 8,
     "metadata": {},
     "output_type": "execute_result"
    }
   ],
   "source": [
    "df.head()\n",
    "df_train, df_test = train_test_split(df,test_size=0.1)\n",
    "df_train.head()"
   ]
  },
  {
   "cell_type": "code",
   "execution_count": 9,
   "metadata": {},
   "outputs": [
    {
     "data": {
      "text/plain": [
       "['corpus/model/desc_text_test_unprocessed.pkl']"
      ]
     },
     "execution_count": 9,
     "metadata": {},
     "output_type": "execute_result"
    }
   ],
   "source": [
    "desc_text_test_unprocessed = []\n",
    "\n",
    "for x in range(0, df_test_unprocessed.shape[0]):\n",
    "  desc_text_test_unprocessed.append(df_test_unprocessed.iloc[x, -2])\n",
    "\n",
    "joblib.dump(desc_text_test_unprocessed, \"corpus/model/desc_text_test_unprocessed.pkl\")"
   ]
  },
  {
   "cell_type": "code",
   "execution_count": 10,
   "metadata": {},
   "outputs": [],
   "source": [
    "desc_text_train = []\n",
    "desc_text_test = []\n",
    "\n",
    "for x in range(0, df_train.shape[0]):\n",
    "  desc_text_train.append(df_train.iloc[x, -2])\n",
    "\n",
    "for x in range(0, df_test.shape[0]):\n",
    "  desc_text_test.append(df_test.iloc[x, -2])"
   ]
  },
  {
   "cell_type": "code",
   "execution_count": 11,
   "metadata": {},
   "outputs": [
    {
     "name": "stdout",
     "output_type": "stream",
     "text": [
      "Panjang Dokumen Test :  203\n",
      "------------------------------------------------------------------------------------------\n",
      "Panjang Dokumen Train :  1825\n"
     ]
    }
   ],
   "source": [
    "# print(df_test.info())\n",
    "print(\"Panjang Dokumen Test : \", len(desc_text_test))\n",
    "\n",
    "print ('-'*90)\n",
    "\n",
    "# print(df_train.info())\n",
    "print(\"Panjang Dokumen Train : \", len(desc_text_train))"
   ]
  },
  {
   "cell_type": "code",
   "execution_count": 12,
   "metadata": {},
   "outputs": [],
   "source": [
    "# Simpan teks asli dokumen\n",
    "joblib.dump(desc_text_test, \"corpus/model/desc_text_test.pkl\")\n",
    "joblib.dump(desc_text_train, \"corpus/model/desc_text_train.pkl\")\n",
    "\n",
    "# Simpan dataframe hasil text processing sebelum TF-IDF Vectorizer\n",
    "df.to_csv('corpus/dataset/df_total.csv', index=False)\n",
    "df_test.to_csv('corpus/dataset/df_test.csv', index=False)\n",
    "df_train.to_csv('corpus/dataset/df_train.csv', index=False)\n"
   ]
  },
  {
   "cell_type": "code",
   "execution_count": 13,
   "metadata": {},
   "outputs": [
    {
     "name": "stdout",
     "output_type": "stream",
     "text": [
      "tfidf_test_matrix\n",
      "(203, 5444)\n",
      "tfidf_train_matrix\n",
      "(1825, 18476)\n"
     ]
    }
   ],
   "source": [
    "# Fit transform menggunakan TF-IDF Vectorizer\n",
    "tfidf_vectorizer = TfidfVectorizer()\n",
    "tfidf_test_matrix = tfidf_vectorizer.fit_transform(desc_text_test)\n",
    "tfidf_train_matrix = tfidf_vectorizer.fit_transform(desc_text_train)\n",
    "\n",
    "print('tfidf_test_matrix')\n",
    "print(tfidf_test_matrix.shape)\n",
    "print('tfidf_train_matrix')\n",
    "print(tfidf_train_matrix.shape)"
   ]
  },
  {
   "cell_type": "code",
   "execution_count": 14,
   "metadata": {},
   "outputs": [
    {
     "data": {
      "text/plain": [
       "['corpus/matrix/tfidf_train.pkl']"
      ]
     },
     "execution_count": 14,
     "metadata": {},
     "output_type": "execute_result"
    }
   ],
   "source": [
    "joblib.dump(tfidf_vectorizer, \"corpus/vectorizer/vectorizer.pkl\")\n",
    "joblib.dump(tfidf_test_matrix, \"corpus/matrix/tfidf_test.pkl\")\n",
    "joblib.dump(tfidf_train_matrix, \"corpus/matrix/tfidf_train.pkl\")"
   ]
  },
  {
   "cell_type": "markdown",
   "metadata": {},
   "source": [
    "### Pencarian "
   ]
  },
  {
   "cell_type": "code",
   "execution_count": 15,
   "metadata": {},
   "outputs": [
    {
     "name": "stdout",
     "output_type": "stream",
     "text": [
      "<class 'pandas.core.frame.DataFrame'>\n",
      "Int64Index: 2028 entries, 0 to 2027\n",
      "Data columns (total 4 columns):\n",
      " #   Column       Non-Null Count  Dtype \n",
      "---  ------       --------------  ----- \n",
      " 0   title        2028 non-null   object\n",
      " 1   date         2028 non-null   object\n",
      " 2   description  2028 non-null   object\n",
      " 3   source       2028 non-null   object\n",
      "dtypes: object(4)\n",
      "memory usage: 79.2+ KB\n",
      "None\n",
      "------------------------------------------------------------------------------------------\n",
      "203\n",
      "1825\n"
     ]
    }
   ],
   "source": [
    "df_total = pd.read_csv('corpus/dataset/df_total.csv')\n",
    "df_total = df_total[pd.notnull(df_total['description'])]\n",
    "print(df_total.info())\n",
    "print ('-'*90)\n",
    "\n",
    "document_text_train= joblib.load('corpus/model/desc_text_train.pkl')\n",
    "document_text_test= joblib.load('corpus/model/desc_text_test.pkl')\n",
    "print(len(document_text_test))\n",
    "print(len(document_text_train))"
   ]
  },
  {
   "cell_type": "code",
   "execution_count": 16,
   "metadata": {},
   "outputs": [
    {
     "name": "stdout",
     "output_type": "stream",
     "text": [
      "['curi']\n",
      "\n",
      "======================\n",
      "\n",
      "Top 10 most similar documents in corpus:\n",
      "No ID Dokumen  :  1223\n",
      "Tanggal        :  Jumat, 20 Mei  2022 17:20 WIB\n",
      "Isi berita     :  polisi menetapkan jahoor ul hassan tersangka pembunuhan juju juariyah 46 alias mamih juju warga kabupaten tasikmalaya dendam motif pria bunuh mamih juju tersangka warga negara pakistan mantan suami korban perbuatan kejinya pria 42 mendekam tahanan polres tasikmalaya kota motifnya dendam hasil pendalaman pemeriksaan saksisaksi ditemukan tersangka dendam dicerai dendam dibagi hasil usaha harta gonogini korban tersangka bercerai kabid humas polda jabar ibrahim tompo didampingi kapolres tasikmalaya kota akbp aszhari kurniawan mapolres jumat 2052022 kejadian pembunuhan ibrahim diawali kedatangan jahoor ruko milik mamih juju kedatangan jahoor mengajak rujuk pembagian hasil usaha gono gini bercerai ibrahim perbincangan diduga berujung kekesalan jahoor keinginannya dipenuhi korban pelaku aksi kekerasan korban meninggal dunia ibrahim terkait status kewarganegaraan tersangka ibrahim kendati warga negara asing tunduk patuh hukum negara indonesia undangundang diterapkan undangundang berlaku indonesia tersangkanya dihukum indonesia perkara diinformasikan kedutaan pakistan ibrahim\n",
      "(Score: 0.1805) \n",
      "No ID Dokumen  :  1716\n",
      "Tanggal        :  Sabtu, 14 Mei  2022 14:31 WIB\n",
      "Isi berita     :  wanita cengkareng jakarta barat jakbar bernama kakak riyan bercerita kabar tanggal 29 april kabar tewas riyan dihubungi sabtu 1452022 jenazah dibawa rumah sakit polri kramat jati jakarta timur jumat 135 kemarin riyan rumah sakit rumah sakit riyan mengaku jenazah adiknya mengurus dokumen membawa pulang jenazah rumah sakit nggak polsek cengkareng riyan sosok pelaku pembunuhan adiknya menyerahkan kepolisian pembunuhnya dikasih ditemukan tewas luka tusukan tanah kosong area perumahan bekasi polisi menyebut tewas dibunuh\n",
      "(Score: 0.1158) \n",
      "No ID Dokumen  :  86\n",
      "Tanggal        :  Kamis, 10 Mar 2022 12:04 WIB\n",
      "Isi berita     :  pelaku amankan perlawanan kapolsek alalak barito kuala iptu suhansyah eko wartawan kamis 1032022 pelaku diamankan kediamannya selasa 832022 malam pelaku anak suhansyah suhansyah pelaku membobol rumah warga bernama gisna saufita wilayah komplek cinta mulia kecamatan alalak rabu 23 akibat kejadian korban kehilangan unit laptop dell warna hitam handphone merek iphone plus warna putih nilai kerugian rp 123 juta diamankan mengaku pencurian tempat komplek cinta mulia jalan trans kalimantan handil bakti kompleks perumahan griya annisa permai pengembangan polisi meringkus penadah barang curian berinisial ar pria diciduk petugas barang bukti unit laptop merek dell warna hitam lembar nota pembelian laptop seharga rp 12 juta ketiga pelaku digelandang polsek alalak menjalani pemeriksaan\n",
      "(Score: 0.0921) \n",
      "No ID Dokumen  :  906\n",
      "Tanggal        :  Jumat, 24 Sep 2021 10:53 WIB\n",
      "Isi berita     :  perdamaian kerap dilambangkan gambar merpati membawa ranting zaitun orangorang berfokus merpati simbol perdamaian tradisi menggambarkan perdamaian merujuk ranting zaitun paruh merpati melambangkan kejayaan tradisi yunani romawi kuno memperkenalkan ranting zaitun simbol perdamaian eirene dewi perdamaian yunani kuno dikenal tradisi romawi kuno pax ranting zaitun salah atributnya tradisi romawi kuno kalah perang menggenggam ranting zaitun tanda permohonan damai tradisi kuno berbeda memaknai simbol merpati membawa ranting zaitun tradisi yahudi kuno simbol merpati ranting zaitun membawa kisah nabi diteruskan tradisi yahudi kuno tradisi religius abrahamik umat muslim kristiani akrab kisah nabi melepas burung merpati tuhan menghukum manusiamanusia berdosa mengirim air bumi merpati nabi membawa ranting zaitun menandakan surutnya air kisah nabi merpati ranting zaitun tanda damai tuhan manusia pemaknaan konsisten makna ranting zaitun tradisi tua mari simak pendapat gilad gevaryahu rabi yahudi akademisi gevaryahu 2015 menulis tafsirnya merpati membawa ranting zaitun alihalih simbol perdamaian gevaryahu memaknai tindakan burung merpati membawa ranting membangun sarang upaya membangun tatanan pemaknaan sesuai nabi dipercaya tuhan membangun tatanan dunia manusia beradab berperilaku hadapan tuhan menarik benang merah pemaknaan ranting zaitun simbol tatanan dunia perdamaian tananan diimpikan membutuhkan perdamaian landasannya memaknai ranting zaitun simbol perdamaian tatanan membutuhkan perdamaian mendekatkan gagasan pemaknaan kenyataan akhirakhir sulit disuguhkan upayaupaya penuh kekerasan membangun tatanan dunia menyebut peristiwa afghanistan sebulan kelompok taliban menguasai afghanistan kepergian tentara amerika serikat bertahap menyisakan goyahnya tatanan afghanistan pemerintahan presiden ashraf ghani membangun tatanan kokoh afghanistan taliban mencoba memperbarui tatanan sesuai keyakinan sayangnya janji membangun tatanan damai wujudkan mengeksekusi tentara perwira polisi milik rezim ashraf ghani militer warga sipil lembah panjshir basis pasukan anti taliban dibunuh daftar korban diperpanjang juta pengungsi afghanistan 10 juta anakanak afghanistan terancam gizi buruk akibat pendudukan taliban meminjam ungkapan kisah merpati nabi ranting zaitun paruhnya tantangan terbesar membangun sarang kokoh sarang kokoh ranting zaitun simbol membutuhkan tatanan kokoh stabil hidup berbangsa bernegara mengganti tatanan kekuatannya terbukti menaungi menyejahterakan jutaan masyarakat indonesia rendah hati mengakui tatanan kuat memiliki keretakan diperbaiki berkala rakyat mengupayakannya tindakan mendukung harmoni dibutuhkan bergotong royong membantu melewati masamasa sulit pandemi terpancing melontarkan kabar bohong ujaran kebencian memecah masyarakat ikhtiar diharapkan didukung penuh pemerintah mendengarkan suara rakyat membungkamnya berusaha memperbaiki tatanan indonesia pemerintah indonesia diharapkan corong suara rakyat indonesia merindukan perdamaian tempattempat rawan konflik bermodalkan politik bebas aktif pemerintah indonesia berperan dunia internasional mengusahakan tatanan berlandaskan perdamaian pemerintah ragu mendukung merpati ranting zaitun simbol abadi perdamaian tatanan kokoh simbol tetaplah gagasan kisah indah tergerak mewujudnyatakannya mengakui hidup tatanan dunia rapuh konflik pandemi merpati beristirahat ranting zaitun rapuh martini 1995 tugas merpati benarbenar beristirahat sarang kokoh\n",
      "(Score: 0.0715) \n",
      "No ID Dokumen  :  1824\n",
      "Tanggal        :  Kamis, 23 Apr 2020 13:26 WIB\n",
      "Isi berita     :  usep gandi 34 warga kecamatan lembang kanit reskrim polsek lembang ipda yuhadi usep mengaku dipepet pria mengendarai motor jalan tangkuban perahu tepatnya villa teratai desa cibogo kabupaten bandung barat usep menyebut motornya dibawa kabur begal usep merekayasa cerita polisi dihantam gagang golok begal terjungkal tempat kejadian warga menyangka aksi kriminal menolong usep melaporkan polsek lembang polisi mengecek tempat kejadian mengumpulkan bahan keterangan mencurigakan ditemukan polisi selagi penyelidikan mencurigai aneh kejadian pembegalan dialami korban interogasi lakukan olah tkp korban terkait pembegalan korban mengaku pembegalan dialaminya bohongan purapura korban yuhadi dihubungi kamis 2342020\n",
      "(Score: 0.0000) \n",
      "No ID Dokumen  :  609\n",
      "Tanggal        :  Jumat, 08 Apr 2022 15:39 WIB\n",
      "Isi berita     :  ditangkap tim cobra alpha sat resnarkoba polres bima kota kamis 742022 malam rumah kelurahan sambinae transaksi menikmati narkoba jenis sabu digerebek menikmati barang memabukkan kasat tangan polisi berhasil mengamankan barang bukti paket sabu lengkap alat hisapnya handphone uang tunai mempertanggungjawabkan perbuatannya ditahan mako polres bima kota terduga barang bukti diamankan ditindaklanjuti\n",
      "(Score: 0.0000) \n",
      "No ID Dokumen  :  599\n",
      "Tanggal        :  Kamis, 31 Mar 2022 06:01 WIB\n",
      "Isi berita     :  perampokan menewaskan sekuriti studio foto kota semarang supriyono 37 menemui titik terang polisi menangkap tersangka pria berinisial ris alias cipling 24 faktafakta terkini perampokan maut kabid humas polda jateng kombes iqbal alqudusy tersangka ris ditangkap pelariannya kabupaten kebumen polda jateng berdasarkan buktibukti tkp mengembangkan penyelidikan berhasil menangkap tersangka kebumen iqbal rilis diterima pelaku ditangkap 67 jam laporan diterima diamankan tim ditreskrimum polda jateng tangan pelaku polisi mengamankan barang bukti motor kamera lensa pelaku berhasil diamankan barang bukti unit sepeda motor honda supra 125 warna hitam buah lensa kamera merek sony warna hitam buah kamera drone warna hitam iqbal pelaku diperiksa ditreskrimum polda jateng kepolisian mendalami perampokan maut menewaskan sekuriti studio foto temuan faktafakta tahap pemeriksaan petugas rilis press conference lengkap terangnya direktur reserse kriminal polda jateng kombes djuhandhani rahardjo puro tersangka ris membunuh korban menggasak kamera toko jalan diponegoro semarang tersangka mengambil handphone hp korban dibuang sungai banjir kanal barat semarang terjunkan anggota mencari keberadaan handphone milik korban pembunuhan toko kamera jalan diponegoro pagi temukan kedalaman 50 djuhandhani dihubungi wartawan rabu 3032022 barang bukti diamankan kamera hasil curian dijual tersangka pelariannya amankan barang bukti hasil kejahatan dijual pelaku berhasil mendapatkannya djuhandhani diberitakan kejadian perampokan sadis salah studio fototoko kamera jalan diponegoro gajahmungkur kota semarang selasa 293 barang hilang sekuriti bernama supriyono 37 ditemukan tewas luka tusukan lokasi kejadian penyelidikan temui tandatanda tusukan korban temui barang bukti terkait pisau diduga menusuk kasat reskrim polrestabes semarang akbp donny lomban toruan lokasi selasa 293\n",
      "(Score: 0.0000) \n",
      "No ID Dokumen  :  600\n",
      "Tanggal        :  Rabu, 30 Mar 2022 12:25 WIB\n",
      "Isi berita     :  perampokan menewaskan sekuriti studio foto kota semarang supriyono 37 menemui titik terang polisi menangkap terkait menangkap polda jateng kasat reskrim polrestabes semarang rabu 3032022 konfirmasi kabid humas polda jateng kombes iqbal alqudusy membenarkan diamankan terkait diamankan iqbal konfirmasi mendalami rencananya polda jateng rilis besok kembangkan besok rillis iqbal diberitakan korban ditemukan selasa 293 pagi kondisi tewas luka tusuk barang studio foto tempat penemuan mayat supriyono dilaporkan hilang salah pegawai wahyu 33 menyebut pelaku mengambil barang lokasi menurutnya lokasi tempat penyimpanan barang terbilang mahal kayaknya nyuri lokasinya diambil lokasi tempatnya mahal wahyu ditemui lokasi selasa 293 pelaku perampokan diduga toko kamera area toilet lokasi lubang seukuran lingkar pinggang dewasa\n",
      "(Score: 0.0000) \n",
      "No ID Dokumen  :  601\n",
      "Tanggal        :  Senin, 21 Mar 2022 18:11 WIB\n",
      "Isi berita     :  pria semarang memerkosa anak kandungnya berusia tewas terungkap polisi memaparkan detail kronologi peristiwa memilukan pelaku korban bercerai 2017 silam korban tinggal ibunya ayahnya tinggal koskosan kota semarang kejadian jumat 183 korban kos pelaku diantar ibunya korban kondisi sakit demam pelaku memerkosa korban kejang jam korban dibawa klinik kondisinya parah korban dilarikan rs pantiwilasa citarum igd rumah sakit korban dinyatakan meninggal dunia polisi menerima laporan keluarga terkait kematian korban laporan keluarga berdasarkan surat keterangan dokter menyebut luka akibat kekerasan seksual vagina dubur korban jasad korban dimakamkan keluarga tindaklanjut laporan keluarga polisi memutuskan membongkar makam korban malam polisi menangkap pelaku ayah kandung korban polisi menggelar jumpa pers terkait pelaku pria berusia 41 dihadirkan jumpa pers memaparkan modus kronologi kasusnya polisi mengungkap pelaku terancam hukuman 20 bui wakil kepala polrestabes semarang akbp iga dwi perbawa nugraha pelaku dijerat pasal 81 ayat pasal 76 uu 35 2014 perlindungan anak pelaku wali korban ancaman hukuman ditambah sepertiganya ancaman hukuman 20 penjara iga mapolrestabes semarang kesempatan pelaku mengakui perbuatannya terpengaruh video porno memerkosa korban minggu seminggu pas kejadian pemaksaan pelaku\n",
      "(Score: 0.0000) \n",
      "No ID Dokumen  :  602\n",
      "Tanggal        :  Kamis, 21 Apr 2022 03:31 WIB\n",
      "Isi berita     :  kawanan polisi mengeluarkan rentetan tembakan peringatan berupaya membebaskan staf minimarket disandera peristiwa perampokan selasa 194 2200 wib toko tutup aksi perampokan pelaku berhasil menggondol akibat kejadian alfamart menderita kerugian uang rp 70 juta kabid humas polda metro jaya kombes zulpan mapolda metro jaya jakarta rabu 2042022 kabid humas polda metro jaya kombes endra zulpan pelaku alfamart pelaku berpurapura berbelanja alfamart kabid humas polda metro jaya kombes zulpan salah pelaku menodongkan senjata api staf minimarket pelaku staf minimarket lantai ruang penyimpanan brankas korban ditodong senjata api disuruh lantai ruang penyimpanan brankas\n",
      "(Score: 0.0000) \n"
     ]
    }
   ],
   "source": [
    "kueri='curi'\n",
    "kueri=preprocessing(kueri)\n",
    "kueri= [\" \".join (kueri)]\n",
    "print (kueri)\n",
    "\n",
    "tfidf_matrix =joblib.load( \"corpus/matrix/tfidf_train.pkl\" )\n",
    "tfidf_vectorizer = joblib.load( \"corpus/vectorizer/vectorizer.pkl\" ) \n",
    "query_vec= tfidf_vectorizer.transform(kueri)\n",
    "results=cosine_similarity(tfidf_matrix, query_vec).reshape((-1))\n",
    "#print (results)\n",
    "print(\"\\n======================\\n\")\n",
    "print(\"Top 10 most similar documents in corpus:\")\n",
    "\n",
    "j = 1\n",
    "\n",
    "for i in results.argsort()[-10:][::-1]:\n",
    "    print(\"No ID Dokumen  : \", i)\n",
    "    print(\"Tanggal        : \", df_total.iloc[i,1])\n",
    "    print(\"Isi berita     : \", df_total.iloc[i,2])\n",
    "    print(\"(Score: %.4f) \" % results[i])"
   ]
  }
 ],
 "metadata": {
  "interpreter": {
   "hash": "14d135845b4420f182ac77ee6b5c0deec044b592a80e9353f0df39bb07f4e36b"
  },
  "kernelspec": {
   "display_name": "Python 3 (ipykernel)",
   "language": "python",
   "name": "python3"
  },
  "language_info": {
   "codemirror_mode": {
    "name": "ipython",
    "version": 3
   },
   "file_extension": ".py",
   "mimetype": "text/x-python",
   "name": "python",
   "nbconvert_exporter": "python",
   "pygments_lexer": "ipython3",
   "version": "3.9.7"
  }
 },
 "nbformat": 4,
 "nbformat_minor": 2
}
