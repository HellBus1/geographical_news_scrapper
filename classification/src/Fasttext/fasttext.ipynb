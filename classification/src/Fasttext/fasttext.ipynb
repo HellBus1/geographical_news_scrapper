{
 "cells": [
  {
   "cell_type": "code",
   "execution_count": 2,
   "metadata": {},
   "outputs": [
    {
     "data": {
      "text/plain": [
       "'Load Model Done'"
      ]
     },
     "execution_count": 2,
     "metadata": {},
     "output_type": "execute_result"
    }
   ],
   "source": [
    "from gensim.models import fasttext\n",
    "\n",
    "fasttext.FastText.eprint = lambda x: None\n",
    "ft = fasttext.load_facebook_vectors('cc.id.300.bin')\n",
    "'Load Model Done'"
   ]
  },
  {
   "cell_type": "code",
   "execution_count": 3,
   "metadata": {},
   "outputs": [
    {
     "data": {
      "text/plain": [
       "[('ricek', 0.715877890586853),\n",
       " ('dicek', 0.7103325128555298),\n",
       " ('mengecek', 0.7015733122825623),\n",
       " ('recek', 0.7000443935394287),\n",
       " ('Cek', 0.6809049844741821),\n",
       " ('ngecek', 0.6794801354408264),\n",
       " ('mengecheck', 0.6698565483093262),\n",
       " ('cek-ricek', 0.6632009148597717),\n",
       " ('dicheck', 0.6578965783119202),\n",
       " ('periksa', 0.6485796570777893)]"
      ]
     },
     "execution_count": 3,
     "metadata": {},
     "output_type": "execute_result"
    }
   ],
   "source": [
    "ft.most_similar(\"cek\")"
   ]
  }
 ],
 "metadata": {
  "interpreter": {
   "hash": "8e3bfc5ac744054c9787902a0204d3692d88f436b6cb2cc0caf0518cc03255ac"
  },
  "kernelspec": {
   "display_name": "Python 3.9.7 64-bit ('venv': venv)",
   "language": "python",
   "name": "python3"
  },
  "language_info": {
   "codemirror_mode": {
    "name": "ipython",
    "version": 3
   },
   "file_extension": ".py",
   "mimetype": "text/x-python",
   "name": "python",
   "nbconvert_exporter": "python",
   "pygments_lexer": "ipython3",
   "version": "3.9.7"
  },
  "orig_nbformat": 4
 },
 "nbformat": 4,
 "nbformat_minor": 2
}
