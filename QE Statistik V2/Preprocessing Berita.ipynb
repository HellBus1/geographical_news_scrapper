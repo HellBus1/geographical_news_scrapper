{
 "cells": [
  {
   "cell_type": "code",
   "execution_count": 1,
   "metadata": {},
   "outputs": [
    {
     "name": "stderr",
     "output_type": "stream",
     "text": [
      "[nltk_data] Downloading package stopwords to\n",
      "[nltk_data]     /usr/local/share/nltk_data...\n",
      "[nltk_data]   Package stopwords is already up-to-date!\n"
     ]
    }
   ],
   "source": [
    "# Import library-library\n",
    "import os\n",
    "import glob\n",
    "import string\n",
    "\n",
    "# Data Preparation and Preprocessing\n",
    "import pandas as pd\n",
    "import re\n",
    "import nltk\n",
    "nltk.download('stopwords')\n",
    "from nltk.corpus import stopwords\n",
    "\n",
    "# Word Embedding\n",
    "import joblib\n",
    "from sklearn.feature_extraction.text import TfidfVectorizer\n",
    "import scipy.sparse\n",
    "\n",
    "from sklearn.metrics.pairwise import cosine_similarity\n",
    "\n",
    "# Input and Expansion Query\n",
    "from textblob import TextBlob\n",
    "from nltk.tokenize import wordpunct_tokenize\n",
    "#from googletrans import Translator\n",
    "\n",
    "#Split to train and test\n",
    "from sklearn.model_selection import train_test_split"
   ]
  },
  {
   "cell_type": "code",
   "execution_count": 2,
   "metadata": {},
   "outputs": [],
   "source": [
    "excluded_words = [\"tempat\", \"waktu\", \"mencuri\", \"rampok\"]\n",
    "\n",
    "NLTK_StopWords = stopwords.words('indonesian')\n",
    "NLTK_StopWords.extend([\"detik\", \"detikjatim\", \"detikjateng\", \"detikjabar\", \"detiksulsel\", \"detiksumbar\", \"detikbali\", \"detikpapua\", \"detiksulteng\", \"detikmaluku\", \"detjatim\", \"detikcom\", \"allahumma\", \"aamiin\", \"aamiin\", \"allah\", \"bismillah\"])\n",
    "NLTK_StopWords.extend([\"yg\", \"dg\", \"rt\", \"dgn\", \"ny\", \"d\", 'klo', \n",
    "                       'kalo', 'amp', 'biar', 'bikin', 'bilang', \n",
    "                       'gak', 'ga', 'krn', 'nya', 'nih', 'sih', \n",
    "                       'si', 'tau', 'tdk', 'tuh', 'utk', 'ya', \n",
    "                       'jd', 'jgn', 'sdh', 'aja', 'n', 't', \n",
    "                       'nyg', 'hehe', 'pen', 'u', 'nan', 'loh', 'rt',\n",
    "                       '&amp', 'yah'])\n",
    "txt_stopword = pd.read_csv(\"stopwords.txt\", names= [\"stopwords\"], header = None)\n",
    "\n",
    "# convert stopword string to list & append additional stopword\n",
    "NLTK_StopWords.extend(txt_stopword[\"stopwords\"][0].split(' '))\n",
    "NLTK_StopWords = set(NLTK_StopWords)"
   ]
  },
  {
   "cell_type": "code",
   "execution_count": 3,
   "metadata": {},
   "outputs": [],
   "source": [
    "def preprocessing(berita):\n",
    "    # Preprocessing\n",
    "    s = berita.lower()\n",
    "    s = s.replace('\\\\t',\" \").replace('\\\\n',\" \").replace('\\\\u',\" \").replace('\\\\',\"\")\n",
    "    s = s.encode('ascii', 'replace').decode('ascii')\n",
    "    ' '.join(re.sub(\"([@#][A-Za-z0-9]+)|(\\w+:\\/\\/\\S+)\",\" \", s).split())\n",
    "    s.replace(\"http://\", \" \").replace(\"https://\", \" \")\n",
    "    s = re.sub('\\s+', ' ', s)\n",
    "    s = s.strip()\n",
    "    s = s.translate(str.maketrans(\"\",\"\", string.punctuation))\n",
    "    s = re.sub(r'[^a-zA-Z0-9\\s]', ' ', s)\n",
    "    s = re.sub(r'\\b\\w{1,1}\\b', '', s)\n",
    "    tokens = [token for token in s.split(\" \") if token != \"\"]\n",
    "\n",
    "    # Stopwords checking\n",
    "    T = [t for t in tokens if ((t in excluded_words) or (t not in NLTK_StopWords))]\n",
    "    return T"
   ]
  },
  {
   "cell_type": "code",
   "execution_count": 4,
   "metadata": {},
   "outputs": [
    {
     "name": "stdout",
     "output_type": "stream",
     "text": [
      "<class 'pandas.core.frame.DataFrame'>\n",
      "RangeIndex: 1342 entries, 0 to 1341\n",
      "Data columns (total 4 columns):\n",
      " #   Column       Non-Null Count  Dtype \n",
      "---  ------       --------------  ----- \n",
      " 0   title        1342 non-null   object\n",
      " 1   date         1342 non-null   object\n",
      " 2   description  1342 non-null   object\n",
      " 3   source       1342 non-null   object\n",
      "dtypes: object(4)\n",
      "memory usage: 42.1+ KB\n"
     ]
    }
   ],
   "source": [
    "df =pd.read_csv(\"scrapped_news/scrapped_news.csv\")\n",
    "df.info()\n",
    "# df.head()"
   ]
  },
  {
   "cell_type": "code",
   "execution_count": 5,
   "metadata": {},
   "outputs": [],
   "source": [
    "column = ['Title', 'Date', 'Description', 'Source']\n",
    "df_total = pd.DataFrame()\n",
    "\n",
    "df = pd.read_csv(\"scrapped_news/scrapped_news.csv\")\n",
    "df = df.dropna(subset=['description'], axis=0)\n",
    "df.sort_values(\"description\", inplace = True)\n",
    "df.drop_duplicates(subset =\"description\", keep = False, inplace = True)\n",
    "\n",
    "df.head()\n",
    "df_train_unprocessed, df_test_unprocessed = train_test_split(df,test_size=0.1)"
   ]
  },
  {
   "cell_type": "code",
   "execution_count": 6,
   "metadata": {},
   "outputs": [],
   "source": [
    "for x in range(0, df.shape[0]):\n",
    "    text = preprocessing(df.iloc[x, -2])\n",
    "    df.iloc[x, -2] = (' '.join(text)) "
   ]
  },
  {
   "cell_type": "code",
   "execution_count": 7,
   "metadata": {},
   "outputs": [
    {
     "data": {
      "text/html": [
       "<div>\n",
       "<style scoped>\n",
       "    .dataframe tbody tr th:only-of-type {\n",
       "        vertical-align: middle;\n",
       "    }\n",
       "\n",
       "    .dataframe tbody tr th {\n",
       "        vertical-align: top;\n",
       "    }\n",
       "\n",
       "    .dataframe thead th {\n",
       "        text-align: right;\n",
       "    }\n",
       "</style>\n",
       "<table border=\"1\" class=\"dataframe\">\n",
       "  <thead>\n",
       "    <tr style=\"text-align: right;\">\n",
       "      <th></th>\n",
       "      <th>title</th>\n",
       "      <th>date</th>\n",
       "      <th>description</th>\n",
       "      <th>source</th>\n",
       "    </tr>\n",
       "  </thead>\n",
       "  <tbody>\n",
       "    <tr>\n",
       "      <th>1219</th>\n",
       "      <td>Gawat Kali! Pria Bermotor Terekam Curi Beras Z...</td>\n",
       "      <td>Sabtu, 30 Apr 2022 14:18 WIB</td>\n",
       "      <td>pria sepeda motor terekam cctv diduga mencuri ...</td>\n",
       "      <td>www.detik.com</td>\n",
       "    </tr>\n",
       "    <tr>\n",
       "      <th>323</th>\n",
       "      <td>Modus Kesurupan, Pria Bulungan Perkosa Anak Ti...</td>\n",
       "      <td>Rabu, 20 Apr 2022 03:29 WIB</td>\n",
       "      <td>pria inisial hp 41 kabupaten bulungan kalimant...</td>\n",
       "      <td>www.detik.com</td>\n",
       "    </tr>\n",
       "    <tr>\n",
       "      <th>1087</th>\n",
       "      <td>Dikepung Polisi, Staf Kampus STKIP Bima Pemerk...</td>\n",
       "      <td>Kamis, 16 Jun 2022 15:12 WIB</td>\n",
       "      <td>staf kampus stkip bima ditangkap polisi terkai...</td>\n",
       "      <td>www.detik.com</td>\n",
       "    </tr>\n",
       "    <tr>\n",
       "      <th>531</th>\n",
       "      <td>Pelajar di Luwu Diperkosa di Indekos, Pelaku D...</td>\n",
       "      <td>Jumat, 15 Apr 2022 03:28 WIB</td>\n",
       "      <td>pelajar inisial wn 13 kabupaten luwu sulawesi ...</td>\n",
       "      <td>www.detik.com</td>\n",
       "    </tr>\n",
       "    <tr>\n",
       "      <th>463</th>\n",
       "      <td>Pria Ditembak di Sumenep Diduga Begal</td>\n",
       "      <td>Minggu, 13 Mar 2022 21:55 WIB</td>\n",
       "      <td>video menampilkan pria ditembak beredar aplika...</td>\n",
       "      <td>www.detik.com</td>\n",
       "    </tr>\n",
       "  </tbody>\n",
       "</table>\n",
       "</div>"
      ],
      "text/plain": [
       "                                                  title  \\\n",
       "1219  Gawat Kali! Pria Bermotor Terekam Curi Beras Z...   \n",
       "323   Modus Kesurupan, Pria Bulungan Perkosa Anak Ti...   \n",
       "1087  Dikepung Polisi, Staf Kampus STKIP Bima Pemerk...   \n",
       "531   Pelajar di Luwu Diperkosa di Indekos, Pelaku D...   \n",
       "463               Pria Ditembak di Sumenep Diduga Begal   \n",
       "\n",
       "                               date  \\\n",
       "1219   Sabtu, 30 Apr 2022 14:18 WIB   \n",
       "323     Rabu, 20 Apr 2022 03:29 WIB   \n",
       "1087   Kamis, 16 Jun 2022 15:12 WIB   \n",
       "531    Jumat, 15 Apr 2022 03:28 WIB   \n",
       "463   Minggu, 13 Mar 2022 21:55 WIB   \n",
       "\n",
       "                                            description         source  \n",
       "1219  pria sepeda motor terekam cctv diduga mencuri ...  www.detik.com  \n",
       "323   pria inisial hp 41 kabupaten bulungan kalimant...  www.detik.com  \n",
       "1087  staf kampus stkip bima ditangkap polisi terkai...  www.detik.com  \n",
       "531   pelajar inisial wn 13 kabupaten luwu sulawesi ...  www.detik.com  \n",
       "463   video menampilkan pria ditembak beredar aplika...  www.detik.com  "
      ]
     },
     "execution_count": 7,
     "metadata": {},
     "output_type": "execute_result"
    }
   ],
   "source": [
    "df.head()\n",
    "df_train, df_test = train_test_split(df,test_size=0.1)\n",
    "df_train.head()"
   ]
  },
  {
   "cell_type": "code",
   "execution_count": 8,
   "metadata": {},
   "outputs": [
    {
     "data": {
      "text/plain": [
       "['corpus/model/desc_text_test_unprocessed.pkl']"
      ]
     },
     "execution_count": 8,
     "metadata": {},
     "output_type": "execute_result"
    }
   ],
   "source": [
    "desc_text_test_unprocessed = []\n",
    "\n",
    "for x in range(0, df_test_unprocessed.shape[0]):\n",
    "  desc_text_test_unprocessed.append(df_test_unprocessed.iloc[x, -2])\n",
    "\n",
    "joblib.dump(desc_text_test_unprocessed, \"corpus/model/desc_text_test_unprocessed.pkl\")"
   ]
  },
  {
   "cell_type": "code",
   "execution_count": 9,
   "metadata": {},
   "outputs": [],
   "source": [
    "desc_text_train = []\n",
    "desc_text_test = []\n",
    "\n",
    "for x in range(0, df_train.shape[0]):\n",
    "  desc_text_train.append(df_train.iloc[x, -2])\n",
    "\n",
    "for x in range(0, df_test.shape[0]):\n",
    "  desc_text_test.append(df_test.iloc[x, -2])"
   ]
  },
  {
   "cell_type": "code",
   "execution_count": 10,
   "metadata": {},
   "outputs": [
    {
     "name": "stdout",
     "output_type": "stream",
     "text": [
      "Panjang Dokumen Test :  135\n",
      "------------------------------------------------------------------------------------------\n",
      "Panjang Dokumen Train :  1207\n"
     ]
    }
   ],
   "source": [
    "# print(df_test.info())\n",
    "print(\"Panjang Dokumen Test : \", len(desc_text_test))\n",
    "\n",
    "print ('-'*90)\n",
    "\n",
    "# print(df_train.info())\n",
    "print(\"Panjang Dokumen Train : \", len(desc_text_train))"
   ]
  },
  {
   "cell_type": "code",
   "execution_count": 11,
   "metadata": {},
   "outputs": [],
   "source": [
    "# Simpan teks asli dokumen\n",
    "joblib.dump(desc_text_test, \"corpus/model/desc_text_test.pkl\")\n",
    "joblib.dump(desc_text_train, \"corpus/model/desc_text_train.pkl\")\n",
    "\n",
    "# Simpan dataframe hasil text processing sebelum TF-IDF Vectorizer\n",
    "df.to_csv('corpus/dataset/df_total.csv', index=False)\n",
    "df_test.to_csv('corpus/dataset/df_test.csv', index=False)\n",
    "df_train.to_csv('corpus/dataset/df_train.csv', index=False)\n"
   ]
  },
  {
   "cell_type": "code",
   "execution_count": 12,
   "metadata": {},
   "outputs": [
    {
     "name": "stdout",
     "output_type": "stream",
     "text": [
      "tfidf_test_matrix\n",
      "(135, 4939)\n",
      "tfidf_train_matrix\n",
      "(1207, 14708)\n"
     ]
    }
   ],
   "source": [
    "# Fit transform menggunakan TF-IDF Vectorizer\n",
    "tfidf_vectorizer = TfidfVectorizer()\n",
    "tfidf_test_matrix = tfidf_vectorizer.fit_transform(desc_text_test)\n",
    "tfidf_train_matrix = tfidf_vectorizer.fit_transform(desc_text_train)\n",
    "\n",
    "print('tfidf_test_matrix')\n",
    "print(tfidf_test_matrix.shape)\n",
    "print('tfidf_train_matrix')\n",
    "print(tfidf_train_matrix.shape)"
   ]
  },
  {
   "cell_type": "code",
   "execution_count": 13,
   "metadata": {},
   "outputs": [
    {
     "data": {
      "text/plain": [
       "['corpus/matrix/tfidf_train.pkl']"
      ]
     },
     "execution_count": 13,
     "metadata": {},
     "output_type": "execute_result"
    }
   ],
   "source": [
    "joblib.dump(tfidf_vectorizer, \"corpus/vectorizer/vectorizer.pkl\")\n",
    "joblib.dump(tfidf_test_matrix, \"corpus/matrix/tfidf_test.pkl\")\n",
    "joblib.dump(tfidf_train_matrix, \"corpus/matrix/tfidf_train.pkl\")"
   ]
  },
  {
   "cell_type": "markdown",
   "metadata": {},
   "source": [
    "### Pencarian "
   ]
  },
  {
   "cell_type": "code",
   "execution_count": 14,
   "metadata": {},
   "outputs": [
    {
     "name": "stdout",
     "output_type": "stream",
     "text": [
      "<class 'pandas.core.frame.DataFrame'>\n",
      "Int64Index: 1342 entries, 0 to 1341\n",
      "Data columns (total 4 columns):\n",
      " #   Column       Non-Null Count  Dtype \n",
      "---  ------       --------------  ----- \n",
      " 0   title        1342 non-null   object\n",
      " 1   date         1342 non-null   object\n",
      " 2   description  1342 non-null   object\n",
      " 3   source       1342 non-null   object\n",
      "dtypes: object(4)\n",
      "memory usage: 52.4+ KB\n",
      "None\n",
      "------------------------------------------------------------------------------------------\n",
      "135\n",
      "1207\n"
     ]
    }
   ],
   "source": [
    "df_total = pd.read_csv('corpus/dataset/df_total.csv')\n",
    "df_total = df_total[pd.notnull(df_total['description'])]\n",
    "print(df_total.info())\n",
    "print ('-'*90)\n",
    "\n",
    "document_text_train= joblib.load('corpus/model/desc_text_train.pkl')\n",
    "document_text_test= joblib.load('corpus/model/desc_text_test.pkl')\n",
    "print(len(document_text_test))\n",
    "print(len(document_text_train))"
   ]
  },
  {
   "cell_type": "code",
   "execution_count": 15,
   "metadata": {},
   "outputs": [
    {
     "name": "stdout",
     "output_type": "stream",
     "text": [
      "['curi']\n",
      "\n",
      "======================\n",
      "\n",
      "Top 10 most similar documents in corpus:\n",
      "No ID Dokumen  :  835\n",
      "Tanggal        :  Selasa, 17 Mei  2022 07:10 WIB\n",
      "Isi berita     :  pria berinisial alias aden 30 diduga membunuh wanita sukabumi eneng kulsum 35 kabur ditangkap polisi pelariannya aden menyamar wig peci dilansir selasa 1752022 lelaki disebutsebut mantan kekasih korban memakai peci biru rambut palsu terurai pelaku kabur daerah parungkuda selesai menusuk korban tersangka kabur wig kopiah peci menyamarkan pelarian pelaku lari daerah parungkuda bermalam daerah cibenda karang kasat reskrim polres sukabumi akp putu hasti hermawan keberadaan pelaku terlacak tim gabungan satreskrim polres sukabumi unit reskrim polsek cibadak mengantongi informasi saksi informasi keberadaan pelaku gubuk tim pengejaran berhasil menangkap pelaku posisinya mengarah gunung walat kabupaten sukabumi putu pembunuhan menggegerkan warga cibadak kabupaten sukabumi wanita tewas ditusuk pria rumahnya jumat 145 malam 2000 wib korban bernama eneng kulsum simak berita selengkapnyadi gambasvideo 20detik\n",
      "(Score: 0.1223) \n",
      "No ID Dokumen  :  745\n",
      "Tanggal        :  Jumat, 20 Mei  2022 12:24 WIB\n",
      "Isi berita     :  polisi meringkus pengutil spesialis toko swalayan lintas provinsi kabupaten bantul daerah istimewa yogyakarta diy aksinya berbagi tugas memindahkan barang curian non makanan minuman keranjang belanja tas selempang swalayan kasat reskrim polres bantul akp archye nevadha penangkapan sindikat petugas counter salah toko swalayan kalurahan ngestiharjo kapanewon kasihan bantul mendapati kejanggalan menghitung ketersediaan barang sabtu 145 pengecekan rekaman cctv kedapatan mengutil barang swalayan cek cctv hasilnya pelaku pencurian pemberatan swalayan lapor tindak lanjuti jumpa pers mapolres bantul jumat 2052022 penyelidikan polisi informasi komplotan salah hotel kemantren wirobrajan kota jogja berselang polisi penangkapan pelaku pelaku amankan salah hotel wirobrajan tanggal 14 malam pelaku diamankan sembilan archye berinisial ds 46 vk 33 yy 42 yf 48 iw 46 af 46 26 rf 30 mf 53 warga jakarta kecuali yf warga semarang jawa mengamankan pelaku polisi menyita 44 pelekat gigi palsu 37 buah lotion 17 minyak rambut unit mobil beraksi potong pakaian tas selempang pemeriksaan pelaku peran masingmasing mengawasi mengambil barang rf perannya sopir archye menyebut menjalankan aksinya pelaku berkumpul jakarta perjalanan darat tempat melintas mendapati toko swalayan mendatanginya situasi beraksi modusnya swalayan sembari membawa troli berisi keranjang belanja mengambil barangbarang tanggal kadaluarsanya memindahkan tas selempang memanfaatkan kelengahan petugas swalayan archye hasil pemeriksaan komplotan beraksi tempat lakukan pencaharian hasil pemeriksaan pelaku beraksi berulang ngestiharjo bantul beraksi sleman kota jogja jawa barat padang sumatera barat barangbarang hasil curian archye menyebut dijual jakarta jakarta penadah barangbarang curian sindikat ngutil lintas provinsi motifnya ekonomi perbuatannya ke9 disangkakan pasal 363 kuhp pencurian pemberatan ancaman hukumannya penjara pentolan komplotan ds mengaku menjalankan aksinya wanita berambut pirang mengaku mengajak tetangganya terbentur ekonomi beraksi beraksi jogja tempat pelaku tetanggatetangga jakarta kumpul berangkat pakai mobil rental jakarta jogja ds menyoal alasannya beraksi jogja ds mengaku berlibur penghasilan pelaku jatah ratusan ribu rupiah seharihari rumah tangga sengaja jogja liburan hasil curian dijual jakarta hasil tergantung pendapatannya rp 150 ribu dapatnya gambasvideo 20detik\n",
      "(Score: 0.0785) \n",
      "No ID Dokumen  :  1061\n",
      "Tanggal        :  Minggu, 29 Mei  2022 15:18 WIB\n",
      "Isi berita     :  petani desa lau perimbon kecamatan tanah pinem kabupaten dairi bernama naspita tarigan 34 tewas dibunuh tetangganya bernama josua semburing 51 pembunuhan lantaran dipicu batas tanah dilansir detiksumut peristiwa sabtu 2852022 kemarin 1830 wib dusun kuta nangka desa lau perimbon kecamatan tanah pinem tepatnya rumah ladang milik jasman karo karo polisi menerima laporan aksi penikaman turun lokasi pembunuhan kasat reskrim polres dairi akp rismanto purba keterangannya minggu 295 rismanto petugas lokasi korban tewas kondisi tergeletak jalan rumah ladang salah warga korban mengalami luka tikam tubuh berdasarkan informasi diterima peristiwa dilatarbelakangi permasalahan batas tanah terlapor korban perkelahian pergumulan pelaku berulang menusuk pisau tubuh korban korban meninggal dunia korban dibawa rsud bharat diautopsi pelaku ditangkap ditahan kantor polisi baca berita selengkapnya gambasvideo 20detik\n",
      "(Score: 0.0699) \n",
      "No ID Dokumen  :  850\n",
      "Tanggal        :  Jumat, 20 Mei  2022 17:20 WIB\n",
      "Isi berita     :  pria magetan berinisial 17 ditangkap polisi dilaporkan keluarga calon istrinya dugaan pemerkosaan menghilang menjelang pernikahannya mengamankan mempelai pria umur warga kecamatan poncol sesuai laporan keluarga persetubuhan umur perkosaan pria diduga calon mempelai pria kabur jelang akad nikah kasat reskrim polres magetan iptu rudy hidajanto dilansir jumat 2052022 rudy umur iktikad menikahi korban kekasihnya berjanji bertanggung menikahi korban hadir pelaksanaan akad nikah april 2022 terlapor bersedia menikahi korban tua korban mengurus surat pernikahan sidang pernikahan kamis april 2022 pelaku menghadiri sidang pernikahan rudy rudy pelaku memperkosa korban pengakuan pelaku pemerkosaan juli 2021 maret 2022 pengakuan pelaku persetubuhan juli 2021 maret 2022 terang rudy baca berita selengkapnya gambasvideo 20detik\n",
      "(Score: 0.0600) \n",
      "No ID Dokumen  :  50\n",
      "Tanggal        :  Sabtu, 16 Apr 2022 13:55 WIB\n",
      "Isi berita     :  aksi pencurian mobil pikap milik penjual keramik jalan sumatera ciputat tangerang selatan banten terekam cctv rekaman cctv pelaku membobol pintu mobil bak terbuka pemilik mobil njen mobilnya terparkir toko pemotongan keramik 0800 wib salah karyawannya mendapati mobil pikap raib mobil parkir toko pemotongan keramik jalan sumatera pas tanjakan sidik pas mobil nggak karyawan nurunin barang jam 0800 wib njen dihubungi sabtu 1642022 temanteman mobil make nggak kunci buka cctv kecurian imbuh njen pencurian jumat 154 rekaman cctv pelaku pencurian beraksi 0545 wib sepi pagi mobil dibawa jam 0555 wib njen njen berniat melaporkan kejadian kepolisian lapor polisi cctv sambung gambasvideo 20detik\n",
      "(Score: 0.0461) \n",
      "No ID Dokumen  :  1206\n",
      "Tanggal        :  Kamis, 16 Jun 2022 10:42 WIB\n",
      "Isi berita     :  staf salah kampus insial 36 kota bima nusa tenggara barat ntb ditangkap polisi diduga memerkosa mahasiswi inisial ph 21 korban diduga diperkosa mengikuti rapat peristiwa rumah pelaku tepatnya kelurahan penaraga kota bima minggu 126 kasi humas polres bima kota iptu jufri wartawan dilansir kamis 1662022 pelaku menggelar rapat kegiatan sosial dihadiri korban belasan mahasiswa rapat korban dibiarkan pulang pelaku kejadian pelapor korban mengikuti rapat bantuan sosial diadakan rumah pelaku selesai kegiatan korban ditahan terlapor pulang aksi bejat dilancarkan pelaku temanteman korban pulang kondisi rumah pelaku sepi pelaku memaksa korban menariknya kamar korban teriak berontak pelaku melancarkan aksi bejatnya pelaku staf kampus tempat korban berkuliah berhasil ditangkap tim puma sat reskrim polres bima kota ditangkap rumahnya perlawanan baca selengkapnyadi gambasvideo 20detik\n",
      "(Score: 0.0000) \n",
      "No ID Dokumen  :  398\n",
      "Tanggal        :  Minggu, 10 Apr 2022 12:20 WIB\n",
      "Isi berita     :  nama fayhan alghamdi memenuhi headline media massa arab saudi 2013 pria dikenal pendakwah tega membunuh putrinya dilansir bbc alghamdi menyiksa putrinya berusia memukulinya mati dijatuhi hukuman delapan penjara 600 cambukan 2013 fayhan alghamdi berita utama dunia 2013 aktivis berkampanye arab saudi menggaungkan kampanye im nama putri alghamdi dikenal pendakwah televisi alghamdi diakui ulama lembaga keagamaan saudi baca berita selengkapnya halaman gambasvideo 20detik halaman\n",
      "(Score: 0.0000) \n",
      "No ID Dokumen  :  399\n",
      "Tanggal        :  Selasa, 31 Mei  2022 08:00 WIB\n",
      "Isi berita     :  nasib apes dialami wakil ketua dprd bone andi wahyudi taqwa uang rp 12 miliar miliknya sengaja simpan gudang rumah ditemukan istrinya dicuri rp 820 juta andi wahyudi menyimpan uang rp 12 miliar miliknya gudang rumah menerima hasil pembayaran proyek dermaga bajoe 2011 andi menabung istrinya uang rp 12 disimpan gudang istrinya kapolsek tanete riattang kompol andi ikbal wartawan senin 305 polisi andi beralasan uang bertahan tangan istri ketahuan istrinya uang disimpan peristiwa uang andi dicuri rp 820 juta berusaha keras uang habis andi korban pencurian uang disimpan gudang dicuri rp 820 juta uang dicuri rp 820 juta pelaku mengembalikan rp 160 juta andi ikbal polisi menangkap pelaku 16 19 25 17 17 polisi pelaku mengaku uang milik korban membeli ponsel iphone foyafoya membeli sabu hasil pengembangan uang narkotika taruhan balapan liar ratusan juta balapan 20 taruhan minimal rp juta kanit reskrim polsek tanete riattang akp nurhayati wartawan senin 305 nurhayati andi nur taqwa gemar menabung bertambah total rp 12 miliar uang hasil pembayaran proyek dermaga bajoe 2011 ditabung maret korban uangnya hilang kota salah pelakunya sopirnya polisi pelaku mengambil uang korban uang diambil terkadang puas pelaku rumah korban jalan sungai musi kelurahan kecamatan tanete riattang mengambil uang bertahap total rp 820 juta polisi mengungkap pelaku mengambil uang periode desember 2021 januari 2022 beraksi gudang berjaga pintu mengambil uang pelaku gudang membagi uang tersangka pelaku berkumpul temantemannya rumah korban pelaku kerap menumpang wifi keterangannya pelaku menyangka uang ratusan juta disimpan ruangan kosong uangnya uang pecahan rp 100 ribu dibungkus paket barang uangnya diikat tali dibungkus plastik hitam dilakban polisi menyita barang bukti uang tunai rp 30 juta pecahan rp 100 ribu cetakan 2011 iphone motor perlengkapan balapan pakaian bermerek polisi menerapkan pasal 363 ayat ke3e 4e kuhpidana pencurian ancam hukuman penjara iqbal gambasvideo 20detik\n",
      "(Score: 0.0000) \n",
      "No ID Dokumen  :  400\n",
      "Tanggal        :  Jumat, 20 Mei  2022 20:20 WIB\n",
      "Isi berita     :  nasib apes dialami rm 27 iu 25 gu 38 warga nae barat kota bima nusa tenggara barat ntb barang dibeli hasil curian pria berinisial dl ditangkap diduga penadah tim puma mengamankan pelaku terlibat penadahan barang bukti laptop hasil curian kasat reskrim polres bima kota iptu rayendra jumat 2052022 ketiga pemuda ditangkap jumat sore tepatnya 1600 wita dl diduga pelaku pencurian pengejaran polisi dl pengejaran tim polisi rekanan membeli laptop senilai rp 800 ribu dijual dl barang hasil curiannya interogasi pelaku mengaku membeli laptop rp 800 ribu dl ketiga terduga penadah ditangkap penyelidikan laporan kehilangan barang diadukan korban nasution mei terduga diamankan mapolres bima kota keterangan pertanggungjawaban gambasvideo 20detik\n",
      "(Score: 0.0000) \n",
      "No ID Dokumen  :  401\n",
      "Tanggal        :  Kamis, 03 Sep 2020 21:54 WIB\n",
      "Isi berita     :  nasib apes dialami pelaku pembegalan inisial kampung babakan jampang 04 rw 02 kelurahan cisarua kecamatan cikole kota sukabumi hasil buruan pelaku terkapar babak belur dihajar korbannya peristiwa korban pria inisial 24 melintasi lokasi kejadian motor temantemannya kamis 392020 siang pelaku tibatiba mencegat korban membawa batang bambu golok mencegat korban batangan pohon menyuruh korban temantemannya turun motor pelaku mengeluarkan golok membacok korban kapolres sukabumi kota akbp sumarni tinggal diam korban melawan menangkis serangan golok pelaku upaya perlawanan siasia korban menderita luka tangan pipi sebelah kiri kawannya terluka temanteman korban melawan melumpuhkan pelaku teman korban membantu melawan pelaku kalah kejadian korban mengalami luka memar pipi sebelah kiri bibir korban melaporkan kejadian kepolisian pengusutan sumarni mengamankan pelaku polisi mengamankan bambu meter sebilah golok dipakai pelaku melumpuhkan korbannya\n",
      "(Score: 0.0000) \n"
     ]
    }
   ],
   "source": [
    "kueri='curi'\n",
    "kueri=preprocessing(kueri)\n",
    "kueri= [\" \".join (kueri)]\n",
    "print (kueri)\n",
    "\n",
    "tfidf_matrix =joblib.load( \"corpus/matrix/tfidf_train.pkl\" )\n",
    "tfidf_vectorizer = joblib.load( \"corpus/vectorizer/vectorizer.pkl\" ) \n",
    "query_vec= tfidf_vectorizer.transform(kueri)\n",
    "results=cosine_similarity(tfidf_matrix, query_vec).reshape((-1))\n",
    "#print (results)\n",
    "print(\"\\n======================\\n\")\n",
    "print(\"Top 10 most similar documents in corpus:\")\n",
    "\n",
    "j = 1\n",
    "\n",
    "for i in results.argsort()[-10:][::-1]:\n",
    "    print(\"No ID Dokumen  : \", i)\n",
    "    print(\"Tanggal        : \", df_total.iloc[i,1])\n",
    "    print(\"Isi berita     : \", df_total.iloc[i,2])\n",
    "    print(\"(Score: %.4f) \" % results[i])"
   ]
  }
 ],
 "metadata": {
  "interpreter": {
   "hash": "14d135845b4420f182ac77ee6b5c0deec044b592a80e9353f0df39bb07f4e36b"
  },
  "kernelspec": {
   "display_name": "Python 3 (ipykernel)",
   "language": "python",
   "name": "python3"
  },
  "language_info": {
   "codemirror_mode": {
    "name": "ipython",
    "version": 3
   },
   "file_extension": ".py",
   "mimetype": "text/x-python",
   "name": "python",
   "nbconvert_exporter": "python",
   "pygments_lexer": "ipython3",
   "version": "3.9.7"
  }
 },
 "nbformat": 4,
 "nbformat_minor": 2
}
