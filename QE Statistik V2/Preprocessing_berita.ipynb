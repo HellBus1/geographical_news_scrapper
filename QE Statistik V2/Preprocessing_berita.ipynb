{
 "cells": [
  {
   "cell_type": "code",
   "execution_count": 1,
   "metadata": {
    "colab": {
     "base_uri": "https://localhost:8080/"
    },
    "id": "8uQdtf4qBI1J",
    "outputId": "44afa638-142f-4dab-d608-d51e6ebb508b"
   },
   "outputs": [],
   "source": [
    "# Import library-library\n",
    "import os\n",
    "import glob\n",
    "\n",
    "# Data Preparation and Preprocessing\n",
    "import pandas as pd\n",
    "import re\n",
    "import nltk\n",
    "from nltk.corpus import stopwords\n",
    "NLTK_StopWords = stopwords.words('indonesian')\n",
    "NLTK_StopWords = set(NLTK_StopWords)\n",
    "\n",
    "# Word Embedding\n",
    "import joblib\n",
    "from sklearn.feature_extraction.text import TfidfVectorizer\n",
    "import scipy.sparse\n",
    "\n",
    "from sklearn.metrics.pairwise import cosine_similarity\n",
    "\n",
    "# Input and Expansion Query\n",
    "from textblob import TextBlob\n",
    "from nltk.tokenize import wordpunct_tokenize\n",
    "#from googletrans import Translator\n",
    "\n",
    "#Split to train and test\n",
    "from sklearn.model_selection import train_test_split"
   ]
  },
  {
   "cell_type": "code",
   "execution_count": 2,
   "metadata": {
    "id": "QMl0qcEudqzn"
   },
   "outputs": [],
   "source": [
    "excluded_words = [\"tempat\", \"waktu\"]\n",
    "NLTK_StopWords.update([\"detik\", \"detikjatim\", \"detikjateng\", \"detikjabar\", \"detiksulsel\", \"detiksumbar\", \"detikbali\", \"detikpapua\", \"detiksulteng\", \"detikmaluku\", \"detjatim\", \"detikcom\"])"
   ]
  },
  {
   "cell_type": "code",
   "execution_count": 3,
   "metadata": {
    "id": "d-nge4e9Ce_P"
   },
   "outputs": [],
   "source": [
    "def preprocessing(berita):\n",
    "    s = berita.lower()\n",
    "    s = s.replace('\\n', ' ')\n",
    "    s = s.replace('\\r', ' ')\n",
    "    s = s.replace(' o ', ' ')\n",
    "    s = re.sub(r'[^a-zA-Z0-9\\s]', ' ', s)\n",
    "    s = re.sub(r'[0-9]', ' ', s)\n",
    "    tokens = [token for token in s.split(\" \") if token != \"\"]\n",
    "    T = [t for t in tokens if ((t in excluded_words) or (t not in NLTK_StopWords))]\n",
    "    return T"
   ]
  },
  {
   "cell_type": "code",
   "execution_count": 4,
   "metadata": {
    "colab": {
     "base_uri": "https://localhost:8080/",
     "height": 402
    },
    "id": "prVrtuPNDLXw",
    "outputId": "e40173b8-ea5f-4673-fbdd-b694ccfb4748"
   },
   "outputs": [
    {
     "name": "stdout",
     "output_type": "stream",
     "text": [
      "<class 'pandas.core.frame.DataFrame'>\n",
      "RangeIndex: 2201 entries, 0 to 2200\n",
      "Data columns (total 4 columns):\n",
      " #   Column       Non-Null Count  Dtype \n",
      "---  ------       --------------  ----- \n",
      " 0   title        2201 non-null   object\n",
      " 1   date         2201 non-null   object\n",
      " 2   description  2201 non-null   object\n",
      " 3   source       2201 non-null   object\n",
      "dtypes: object(4)\n",
      "memory usage: 68.9+ KB\n"
     ]
    },
    {
     "data": {
      "text/html": [
       "<div>\n",
       "<style scoped>\n",
       "    .dataframe tbody tr th:only-of-type {\n",
       "        vertical-align: middle;\n",
       "    }\n",
       "\n",
       "    .dataframe tbody tr th {\n",
       "        vertical-align: top;\n",
       "    }\n",
       "\n",
       "    .dataframe thead th {\n",
       "        text-align: right;\n",
       "    }\n",
       "</style>\n",
       "<table border=\"1\" class=\"dataframe\">\n",
       "  <thead>\n",
       "    <tr style=\"text-align: right;\">\n",
       "      <th></th>\n",
       "      <th>title</th>\n",
       "      <th>date</th>\n",
       "      <th>description</th>\n",
       "      <th>source</th>\n",
       "    </tr>\n",
       "  </thead>\n",
       "  <tbody>\n",
       "    <tr>\n",
       "      <th>0</th>\n",
       "      <td>IRT di Badung Bali Curi Perhiasan Senilai Rp 8...</td>\n",
       "      <td>Senin, 28 Feb 2022 13:32 WIB\\n\\n</td>\n",
       "      <td>Seorang ibu rumah tangga (IRT) di Kabupaten Ba...</td>\n",
       "      <td>www.detik.com</td>\n",
       "    </tr>\n",
       "    <tr>\n",
       "      <th>1</th>\n",
       "      <td>Jejak 'Protagonis' Doni Salmanan Sebelum Terje...</td>\n",
       "      <td>Jumat, 04 Mar 2022 09:31 WIB\\n\\n</td>\n",
       "      <td>Soreang itu sempat menjadi bulan-bulanan warga...</td>\n",
       "      <td>www.detik.com</td>\n",
       "    </tr>\n",
       "    <tr>\n",
       "      <th>2</th>\n",
       "      <td>Kisah Kejinya Si Pembunuh Berantai 'Twitter'\\n\\n</td>\n",
       "      <td>Minggu, 06 Mar 2022 07:09 WIB\\n\\n</td>\n",
       "      <td>Media sosial bisa menjadi alat yang berbahaya ...</td>\n",
       "      <td>www.detik.com</td>\n",
       "    </tr>\n",
       "    <tr>\n",
       "      <th>3</th>\n",
       "      <td>Wanita Diperkosa 2 Pria Gemparkan Singapura, P...</td>\n",
       "      <td>Minggu, 13 Mar 2022 12:00 WIB\\n\\n</td>\n",
       "      <td>Seorang wanita berusia 32 tahun menjadi korban...</td>\n",
       "      <td>www.detik.com</td>\n",
       "    </tr>\n",
       "    <tr>\n",
       "      <th>4</th>\n",
       "      <td>Bawa Kabur Mobil Mewah Pelanggan, Karyawan Car...</td>\n",
       "      <td>Jumat, 18 Mar 2022 16:04 WIB\\n\\n</td>\n",
       "      <td>Karyawan\\n\\n Dilansir dari\\n\\n \"Pelaku merupak...</td>\n",
       "      <td>www.detik.com</td>\n",
       "    </tr>\n",
       "  </tbody>\n",
       "</table>\n",
       "</div>"
      ],
      "text/plain": [
       "                                               title  \\\n",
       "0  IRT di Badung Bali Curi Perhiasan Senilai Rp 8...   \n",
       "1  Jejak 'Protagonis' Doni Salmanan Sebelum Terje...   \n",
       "2   Kisah Kejinya Si Pembunuh Berantai 'Twitter'\\n\\n   \n",
       "3  Wanita Diperkosa 2 Pria Gemparkan Singapura, P...   \n",
       "4  Bawa Kabur Mobil Mewah Pelanggan, Karyawan Car...   \n",
       "\n",
       "                                date  \\\n",
       "0   Senin, 28 Feb 2022 13:32 WIB\\n\\n   \n",
       "1   Jumat, 04 Mar 2022 09:31 WIB\\n\\n   \n",
       "2  Minggu, 06 Mar 2022 07:09 WIB\\n\\n   \n",
       "3  Minggu, 13 Mar 2022 12:00 WIB\\n\\n   \n",
       "4   Jumat, 18 Mar 2022 16:04 WIB\\n\\n   \n",
       "\n",
       "                                         description         source  \n",
       "0  Seorang ibu rumah tangga (IRT) di Kabupaten Ba...  www.detik.com  \n",
       "1  Soreang itu sempat menjadi bulan-bulanan warga...  www.detik.com  \n",
       "2  Media sosial bisa menjadi alat yang berbahaya ...  www.detik.com  \n",
       "3  Seorang wanita berusia 32 tahun menjadi korban...  www.detik.com  \n",
       "4  Karyawan\\n\\n Dilansir dari\\n\\n \"Pelaku merupak...  www.detik.com  "
      ]
     },
     "execution_count": 4,
     "metadata": {},
     "output_type": "execute_result"
    }
   ],
   "source": [
    "df =pd.read_csv(\"scrapped_news.csv\")\n",
    "df.info()\n",
    "df.head()"
   ]
  },
  {
   "cell_type": "code",
   "execution_count": 5,
   "metadata": {
    "id": "9-vwx0uoDPSB"
   },
   "outputs": [],
   "source": [
    "column = ['Title', 'Date', 'Description', 'Source']\n",
    "df_total = pd.DataFrame()\n",
    "\n",
    "df =pd.read_csv(\"scrapped_news.csv\")\n",
    "isi=df['description']\n",
    "df = df.dropna(subset=['description'], axis=0)\n",
    "for x in range(0, df.shape[0]):\n",
    "    text = preprocessing (df.iloc[x, -2])\n",
    "    df.iloc[x, -2] = (' '.join(text)) "
   ]
  },
  {
   "cell_type": "code",
   "execution_count": 6,
   "metadata": {
    "colab": {
     "base_uri": "https://localhost:8080/",
     "height": 206
    },
    "id": "JePQlL4xDTA0",
    "outputId": "fd932787-b603-4281-95a9-ed9cebb4a9fe"
   },
   "outputs": [
    {
     "data": {
      "text/html": [
       "<div>\n",
       "<style scoped>\n",
       "    .dataframe tbody tr th:only-of-type {\n",
       "        vertical-align: middle;\n",
       "    }\n",
       "\n",
       "    .dataframe tbody tr th {\n",
       "        vertical-align: top;\n",
       "    }\n",
       "\n",
       "    .dataframe thead th {\n",
       "        text-align: right;\n",
       "    }\n",
       "</style>\n",
       "<table border=\"1\" class=\"dataframe\">\n",
       "  <thead>\n",
       "    <tr style=\"text-align: right;\">\n",
       "      <th></th>\n",
       "      <th>title</th>\n",
       "      <th>date</th>\n",
       "      <th>description</th>\n",
       "      <th>source</th>\n",
       "    </tr>\n",
       "  </thead>\n",
       "  <tbody>\n",
       "    <tr>\n",
       "      <th>786</th>\n",
       "      <td>Anjasmara Kecelakaan Sepeda Usai Dipepet Orang...</td>\n",
       "      <td>Selasa, 20 Okt 2020 16:04 WIB\\n\\n</td>\n",
       "      <td>mengalami pengalaman pahit dipepet orang diken...</td>\n",
       "      <td>www.detik.com</td>\n",
       "    </tr>\n",
       "    <tr>\n",
       "      <th>2150</th>\n",
       "      <td>Perampok Habisi Bos Toko Emas, Pembunuhan Bere...</td>\n",
       "      <td>Rabu, 22 Sep 2021 12:07 WIB\\n\\n</td>\n",
       "      <td>perampokan pembunuhan bos toko emas kota bandu...</td>\n",
       "      <td>www.detik.com</td>\n",
       "    </tr>\n",
       "    <tr>\n",
       "      <th>282</th>\n",
       "      <td>Aksi Heroik Tukang Parkir Sergap Pencuri Modus...</td>\n",
       "      <td>Senin, 31 Jan 2022 17:49 WIB\\n\\n</td>\n",
       "      <td>aksi kejahatan jalanan pencurian modus pecah k...</td>\n",
       "      <td>www.detik.com</td>\n",
       "    </tr>\n",
       "    <tr>\n",
       "      <th>378</th>\n",
       "      <td>Kekerasan, Senioritas, dan Kebutuhan Aktualisa...</td>\n",
       "      <td>Kamis, 18 Nov 2021 13:31 WIB\\n\\n</td>\n",
       "      <td>parade kekerasan tontonan media keseharian fil...</td>\n",
       "      <td>www.detik.com</td>\n",
       "    </tr>\n",
       "    <tr>\n",
       "      <th>605</th>\n",
       "      <td>Sejoli di Jakut Hampir Dibegal, Sempat Terluka...</td>\n",
       "      <td>Selasa, 18 Jan 2022 12:11 WIB\\n\\n</td>\n",
       "      <td>wanita kekasihnya korban korban putri peristiw...</td>\n",
       "      <td>www.detik.com</td>\n",
       "    </tr>\n",
       "  </tbody>\n",
       "</table>\n",
       "</div>"
      ],
      "text/plain": [
       "                                                  title  \\\n",
       "786   Anjasmara Kecelakaan Sepeda Usai Dipepet Orang...   \n",
       "2150  Perampok Habisi Bos Toko Emas, Pembunuhan Bere...   \n",
       "282   Aksi Heroik Tukang Parkir Sergap Pencuri Modus...   \n",
       "378   Kekerasan, Senioritas, dan Kebutuhan Aktualisa...   \n",
       "605   Sejoli di Jakut Hampir Dibegal, Sempat Terluka...   \n",
       "\n",
       "                                   date  \\\n",
       "786   Selasa, 20 Okt 2020 16:04 WIB\\n\\n   \n",
       "2150    Rabu, 22 Sep 2021 12:07 WIB\\n\\n   \n",
       "282    Senin, 31 Jan 2022 17:49 WIB\\n\\n   \n",
       "378    Kamis, 18 Nov 2021 13:31 WIB\\n\\n   \n",
       "605   Selasa, 18 Jan 2022 12:11 WIB\\n\\n   \n",
       "\n",
       "                                            description         source  \n",
       "786   mengalami pengalaman pahit dipepet orang diken...  www.detik.com  \n",
       "2150  perampokan pembunuhan bos toko emas kota bandu...  www.detik.com  \n",
       "282   aksi kejahatan jalanan pencurian modus pecah k...  www.detik.com  \n",
       "378   parade kekerasan tontonan media keseharian fil...  www.detik.com  \n",
       "605   wanita kekasihnya korban korban putri peristiw...  www.detik.com  "
      ]
     },
     "execution_count": 6,
     "metadata": {},
     "output_type": "execute_result"
    }
   ],
   "source": [
    "df.head()\n",
    "df_train, df_test=train_test_split(df,test_size=0.1)\n",
    "df_train.head()"
   ]
  },
  {
   "cell_type": "code",
   "execution_count": 7,
   "metadata": {
    "id": "D2lH92zUDXsC"
   },
   "outputs": [],
   "source": [
    "desc_text_train = []\n",
    "desc_text_test = []\n",
    "\n",
    "for x in range(0, df_train.shape[0]):\n",
    "  desc_text_train.append(df_train.iloc[x, -2])\n",
    "\n",
    "for x in range(0, df_test.shape[0]):\n",
    "  desc_text_test.append(df_test.iloc[x, -2])"
   ]
  },
  {
   "cell_type": "code",
   "execution_count": 8,
   "metadata": {
    "colab": {
     "base_uri": "https://localhost:8080/"
    },
    "id": "mhFbpAmoDdmE",
    "outputId": "169ffa3b-994e-46de-c18c-48b3ce900b52"
   },
   "outputs": [
    {
     "name": "stdout",
     "output_type": "stream",
     "text": [
      "<class 'pandas.core.frame.DataFrame'>\n",
      "Int64Index: 221 entries, 1935 to 1984\n",
      "Data columns (total 4 columns):\n",
      " #   Column       Non-Null Count  Dtype \n",
      "---  ------       --------------  ----- \n",
      " 0   title        221 non-null    object\n",
      " 1   date         221 non-null    object\n",
      " 2   description  221 non-null    object\n",
      " 3   source       221 non-null    object\n",
      "dtypes: object(4)\n",
      "memory usage: 8.6+ KB\n",
      "None\n",
      "Panjang Dokumen Test :  221\n",
      "------------------------------------------------------------------------------------------\n",
      "<class 'pandas.core.frame.DataFrame'>\n",
      "Int64Index: 1980 entries, 786 to 1328\n",
      "Data columns (total 4 columns):\n",
      " #   Column       Non-Null Count  Dtype \n",
      "---  ------       --------------  ----- \n",
      " 0   title        1980 non-null   object\n",
      " 1   date         1980 non-null   object\n",
      " 2   description  1980 non-null   object\n",
      " 3   source       1980 non-null   object\n",
      "dtypes: object(4)\n",
      "memory usage: 77.3+ KB\n",
      "None\n",
      "Panjang Dokumen Train :  1980\n"
     ]
    }
   ],
   "source": [
    "print(df_test.info())\n",
    "print(\"Panjang Dokumen Test : \", len(desc_text_test))\n",
    "\n",
    "print ('-'*90)\n",
    "\n",
    "print(df_train.info())\n",
    "print(\"Panjang Dokumen Train : \", len(desc_text_train))"
   ]
  },
  {
   "cell_type": "code",
   "execution_count": 9,
   "metadata": {
    "id": "P9xq5Qnnoo0-"
   },
   "outputs": [],
   "source": [
    "# Simpan teks asli dokumen\n",
    "joblib.dump(desc_text_test, \"desc_text_test.pkl\")\n",
    "joblib.dump(desc_text_train, \"desc_text_train.pkl\")\n",
    "\n",
    "# Simpan dataframe hasil text processing sebelum TF-IDF Vectorizer\n",
    "df.to_csv('df_total.csv',index=False )\n",
    "df_test.to_csv('df_test.csv', index=False)\n",
    "df_train.to_csv('df_train.csv', index=False)"
   ]
  },
  {
   "cell_type": "code",
   "execution_count": 10,
   "metadata": {
    "colab": {
     "base_uri": "https://localhost:8080/"
    },
    "id": "IvHZaK23oyCJ",
    "outputId": "cb5b4ddc-585b-4daa-fd50-215551ba5cbd"
   },
   "outputs": [
    {
     "name": "stdout",
     "output_type": "stream",
     "text": [
      "tfidf_test_matrix\n",
      "(221, 5498)\n",
      "tfidf_train_matrix\n",
      "(1980, 17112)\n"
     ]
    }
   ],
   "source": [
    "# Fit transform menggunakan TF-IDF Vectorizer\n",
    "tfidf_vectorizer = TfidfVectorizer()\n",
    "tfidf_test_matrix = tfidf_vectorizer.fit_transform(desc_text_test)\n",
    "tfidf_train_matrix = tfidf_vectorizer.fit_transform(desc_text_train)\n",
    "\n",
    "print('tfidf_test_matrix')\n",
    "print(tfidf_test_matrix.shape)\n",
    "print('tfidf_train_matrix')\n",
    "print(tfidf_train_matrix.shape)\n"
   ]
  },
  {
   "cell_type": "code",
   "execution_count": 11,
   "metadata": {
    "colab": {
     "base_uri": "https://localhost:8080/"
    },
    "id": "r57L16Mto6Wm",
    "outputId": "88472efa-452b-4c71-af27-dc71c9735ad4"
   },
   "outputs": [
    {
     "data": {
      "text/plain": [
       "['tfidf_train.pkl']"
      ]
     },
     "execution_count": 11,
     "metadata": {},
     "output_type": "execute_result"
    }
   ],
   "source": [
    "joblib.dump(tfidf_vectorizer, \"vectorizer.pkl\")\n",
    "joblib.dump(tfidf_test_matrix, \"tfidf_test.pkl\")\n",
    "joblib.dump(tfidf_train_matrix, \"tfidf_train.pkl\")"
   ]
  },
  {
   "cell_type": "code",
   "execution_count": 12,
   "metadata": {
    "colab": {
     "base_uri": "https://localhost:8080/"
    },
    "id": "8bw1Gczpo-tb",
    "outputId": "e2ada45c-9fbd-4883-9d7d-b70921ee95d5"
   },
   "outputs": [
    {
     "name": "stdout",
     "output_type": "stream",
     "text": [
      "<class 'pandas.core.frame.DataFrame'>\n",
      "Int64Index: 2200 entries, 0 to 2200\n",
      "Data columns (total 4 columns):\n",
      " #   Column       Non-Null Count  Dtype \n",
      "---  ------       --------------  ----- \n",
      " 0   title        2200 non-null   object\n",
      " 1   date         2200 non-null   object\n",
      " 2   description  2200 non-null   object\n",
      " 3   source       2200 non-null   object\n",
      "dtypes: object(4)\n",
      "memory usage: 85.9+ KB\n",
      "None\n",
      "------------------------------------------------------------------------------------------\n",
      "221\n",
      "1980\n"
     ]
    }
   ],
   "source": [
    "df_total = pd.read_csv('df_total.csv')\n",
    "df_total = df_total[pd.notnull(df_total['description'])]\n",
    "print(df_total.info())\n",
    "print ('-'*90)\n",
    "\n",
    "document_text_train= joblib.load('desc_text_train.pkl')\n",
    "document_text_test= joblib.load('desc_text_test.pkl')\n",
    "print(len(document_text_test))\n",
    "print(len(document_text_train))"
   ]
  },
  {
   "cell_type": "code",
   "execution_count": 25,
   "metadata": {
    "colab": {
     "base_uri": "https://localhost:8080/"
    },
    "id": "ZfffRyxKpEKe",
    "outputId": "0835b2cd-79cd-4265-a3d8-62f8403d0f21"
   },
   "outputs": [
    {
     "name": "stdout",
     "output_type": "stream",
     "text": [
      "['pencurian']\n",
      "\n",
      "======================\n",
      "\n",
      "Top 10 most similar documents in corpus:\n",
      "1\n",
      "No ID Dokumen  :  471\n",
      "Tanggal        :  Minggu, 20 Feb 2022 09:56 WIB\n",
      "\n",
      "\n",
      "Isi berita     :  motif motif absurd herb mullin membunuh california terkena gempa dikutip murderpedia mullin lahir april mullin normal kecilnya mullin anak cerdas sensitif usia menderita skizofrenia mengamuk membuatnya pembunuh musim panas lulus sma teman mullin dean richardson tewas kecelakaan mobil memicu perilaku anehnya membangun kuil temannya meninggal kamar tidurnya terobsesi reinkarnasi agama bencana alam narkoba kehidupan mullin perilakunya takut keluarga teman temannya didiagnosis penderita skizofrenia paranoid membantu mullin mengeluh mendengar suara suara aneh mengadopsi persona berbeda berganti ganti persona murid yoga petinju amatir\n",
      "(Score: 0.2597) \n",
      "2\n",
      "No ID Dokumen  :  837\n",
      "Tanggal        :  Senin, 21 Feb 2022 13:02 WIB\n",
      "\n",
      "\n",
      "Isi berita     :  bnn provinsi aceh menyelidiki dugaan mengusut indikasi tindak pidana pencucian uang narkoba bisnis jual beli mobil bekas kepala bidang pemberantasan bnn provinsi aceh kombes mirwazi senin mirwazi bnnp aceh laporan terkait dugaan uang kecurigaan tempat penjualan mobil bekas mobil beli bertambah laku dijual mobil bertambah jenis kendaraan mewah mirwazi tertutup informasi masyarakat peredaran narkoba aceh mengkhawatirkan peredaran sabu mirwazi penyelidikan memutuskan mata rantai peredaran mengajak masyarakat melaporkan informasi dugaan tindak pidana pencucian uang hasil penjualan narkoba mirwazi\n",
      "(Score: 0.2556) \n",
      "3\n",
      "No ID Dokumen  :  69\n",
      "Tanggal        :  Selasa, 08 Mar 2022 11:25 WIB\n",
      "\n",
      "\n",
      "Isi berita     :  ponsel laptop rumah cek korban imbau laporan kapolres bogor akbp iman imanuddin konfirmasi selasa iman mengirimkan tim reserse mengecek rumah dr dyah kasat serse kirim anggotanya memeriksa imbuh iman pencurian senin wib penghuni tidur lelap pencurian dr arum anaknya mencari cari ponselnya pagi harinya kemarin pagi jam wib anak pencurian penghuni rumah tertidur suami anak tidur penjaga rumah kamar tidur jaga nggak rumah mendengar suara maling si maling cepat sih pelaku diduga masuk jendela lantas rumah korban memanjat rumah kosong sebelah rumah korban kayaknya masuk jendela lantai rumah turun lantai\n",
      "(Score: 0.2323) \n",
      "4\n",
      "No ID Dokumen  :  1699\n",
      "Tanggal        :  Sabtu, 27 Nov 2021 19:01 WIB\n",
      "\n",
      "\n",
      "Isi berita     :  insiden kapolres metro jakarta selatan kombes azis andriansyah informasi penembakan polsek palmerah polrestro jakarta barat ya wib semalam informasi polsek palmerah polsek palmerah informasi rumah sakit pelni korban luka tembak kombes azis andriansyah wartawan polres jakarta selatan sabtu tim satreskrim polres jaksel langsung lokasi situ memperoleh konfirmasi luka orang orang dirawat rumah sakit pelni sehat polisi menginterogasi salah korban berdasarkan keterangan korban polisi rangkaian peristiwa penembakan sehat lakukan interogasi ceritanya peristiwa penembakan azis hasil interogasi olah tkp azis lokasi situlah mengambil keterangan saksi tempat korban azis diberitakan peristiwa penembakan pondok pinang kebayoran jakarta selatan orang pria dilaporkan terluka akibat penembakan polisi pengejaran terduga pelaku penembakan selidiki\n",
      "(Score: 0.2303) \n",
      "5\n",
      "No ID Dokumen  :  1108\n",
      "Tanggal        :  Jumat, 19 Jun 2020 17:24 WIB\n",
      "\n",
      "\n",
      "Isi berita     :  aksi begal menyasar pesepeda jalan panglima polim jakarta selatan viral media sosial polisi turun tangan menyelidiki kapolres jakarta selatan kombes budi sartono menerima laporan korban lp nya laporan polisinya penyelidikan anggota reskrim kombes budi sartono budi olah tempat kejadian perkara tkp polisi mencari saksi saksi lp anggota olah tkp periksa saksi korban anggota lidik budi\n",
      "(Score: 0.2086) \n",
      "6\n",
      "No ID Dokumen  :  371\n",
      "Tanggal        :  Senin, 31 Agu 2020 16:07 WIB\n",
      "\n",
      "\n",
      "Isi berita     :  saksi diduga dipukuli tahanan giat pencabutan pengaduan laporan korban nama sarpan pemberian uang santunan korban personel unit reskrim polsek percut sei tuan belah sepakat menyelesaikan permasalahan kekeluargaan saudara paksaan manapun kasat reskrim polrestabes medan kompol martuasah tobing wartawan senin pencabutan laporan sarpan surat bermaterai ditandatanganinya surat sarpan menyebut pencabutan laporan nomor lp k vii spkt restabes medan tanggal juli dasar pertimbangan hasil kesepakatan keluarga surat perdamaian ditandatangani sarpan perwakilan personel unit reskrim polsek percut sei tuan surat sepakat menyelesaikan kekeluargaan i sarpan ii luis beltran k m mewakili personel unit reskrim percut sei tuan sepakat menyelesaikan dilaporkan i kekeluargaan ii mewakili personel unit reskrim polsek percut sei tuan polrestabes maaf i insiden peristiwa penganiayaan kantor unit reskrim polsek percut sei tuan polrestabes medan i menerima permintaan maaf ii hati ikhlas paksaan tekanan manapun isi poin a surat perjanjian perdamaian poin c unit reskrim polsek percut sei tuan uang santuan biaya pengobatan sarpan akibat peristiwa dialami i ii simpati permintaan maaf uang santunan perobatan i senilai rp i menerima senang hati paksaan tekanan manapun isi poin c surat perjanjian damai sarpan diduga dipukul tahanan polsek percut sei tuan dugaan pemukulan heboh unggahan viral salah akun media sosial posting an wajah sarpan lebam diduga gara gara dipukul\n",
      "(Score: 0.2085) \n",
      "7\n",
      "No ID Dokumen  :  786\n",
      "Tanggal        :  Selasa, 18 Jan 2022 12:11 WIB\n",
      "\n",
      "\n",
      "Isi berita     :  wanita kekasihnya korban korban putri peristiwa minggu wib kekasihnya perjalanan pulang motor kronologinya putri diikuti pelaku rs mulyasari pelaku berboncengan mendekat berusaha mengambil tasnya tas putri terluka akibat sabetan senjata tajam pelaku cepat putri pergi mobil melintas teriak maling paha kejadian kekasih korban mendekat korban membawa motornya posisinya pelaku kekasih korban terkena sabetan sajam pas\n",
      "(Score: 0.1976) \n",
      "8\n",
      "No ID Dokumen  :  560\n",
      "Tanggal        :  Kamis, 24 Feb 2022 23:48 WIB\n",
      "\n",
      "\n",
      "Isi berita     :  pria berinisial ds binjai sumatera utara polsek binjai timur mengamankan laki laki pencuri kabel listrik kasi humas polres binjai iptu junaidi wartawan kamis junaidi pelaku beraksi rabu wib jalan h juanda kelurahan mencirim binjai timur ds berangkat simpang awas kelurahan timbang langkat lokasi berjalan kaki berangkat pelaku alat alat tang kombi gulung tali badan tali tambang rol gulung kabel sr berisi aluminium meter lokasi pelaku tali badan tambang memanjat tiang listrik pelaku memotong kabel listrik milik pln berisi tembaga tang kombi putus pelaku mengganti kabel milik pln putus menyambungkan kabel berisi aluminium milik pelaku dipersiapkannya proses pergantian penyambungan kabel tiang listrik tiang mustang rumah salah warga pelaku dipergoki warga posisi pelaku seng rumah warga pelaku diamankan warga dibawa polsek binjai timur menjalani proses hukum junaidi junaidi menyebut barang bukti diamankan gulungan kabel listrik berisi tembaga ukuran meter helai tali tambang tali badan ukuran meter tang kombi gulungan kabel aluminium perbuatannya pelaku dijerat pasal ayat kuhp\n",
      "(Score: 0.1961) \n",
      "9\n",
      "No ID Dokumen  :  957\n",
      "Tanggal        :  Rabu, 26 Mei 2021 09:50 WIB\n",
      "\n",
      "\n",
      "Isi berita     :  polisi menangkap pria menangkap pelaku penggorokan korban f menjalani perawatan tangkap pulang wonosobo kasat reskrim polres kendal akp tri agung suryomicho ditemui pelaku berinisial hkp warga desa sumberejo kecamatan kaliwungu kendal diamankan pulang pelariannya wonosobo selasa melacak pelaku kabur wonosobo amankan pelaku perlawanan polisi menyelidiki motif pelaku tega menganiaya teman kencannya merampas harta benda milik korban motif pelaku kesal korban korban kemauannya dituruti giliran pelaku kencan korban menolak pelaku cemburu korban teman terangnya tri agung pelaku merencanakan melukai korban pisau melukai leher korban pelaku merencanakan melukai korban pelaku pisau mencari pisau dibuang pelaku lokasi kejadian pelaku dijerat pasal berlapis kuhp pembunuhan berencana pasal pencurian kekerasan imbuhnya polisi pemeriksaan pelaku wanita warga semarang f ditemukan tergeletak bersimbah darah pinggir jalan kawasan hutan lindung kabupaten kendal jawa polisi mengungkap f dilukai pria teman kencannya korban berkenalan facebook diajak kencan bertemu pelaku korban diajak sesampainya tkp pelaku pura pura kencing korban langsung dilukai kasat reskrim polres kendal akp tri agung suryomico dihubungi pesan singkat senin pelaku membawa kabur sepeda motor barang berharga dibawa korban diambil barang sepeda motor hp perhiasan tri agung\n",
      "(Score: 0.1865) \n",
      "10\n",
      "No ID Dokumen  :  623\n",
      "Tanggal        :  Kamis, 03 Mar 2022 15:27 WIB\n",
      "\n",
      "\n",
      "Isi berita     :  penyidikan dirkrimum polda sulsel kombes onny trimurti nugroho dihubungi kombes onny penyidik sub direktorat remaja anak wanita renakta ditreskrimum polda sulsel gelar perkara rabu malam ditemukan bukti permulaan meningkatkan status penyelidikan penyidikan malam gelar dinaikkan sidik tuh cetusnya kuasa hukum korban amiruddin mengklaim gelar perkara digelar jumat besok onny meluruskan klaim gelar perkara besok penetapan tersangka onny agenda gelar perkara dikaji penyidik alat bukti menguatkan pelaku kaji jumat besok kaji onny diberitakan sub direktorat renakta ditreskrimum polda sulsel bergerak cepat mendalami dugaan pemerkosaan siswi smp berusia akbp m penyidik jemput bola korban rumah pamannya kota makassar pantauan\n",
      "(Score: 0.1843) \n"
     ]
    }
   ],
   "source": [
    "kueri='pencurian'\n",
    "kueri=preprocessing(kueri)\n",
    "kueri= [\" \".join (kueri)]\n",
    "print (kueri)\n",
    "\n",
    "tfidf_matrix =joblib.load( \"tfidf_train.pkl\" )\n",
    "tfidf_vectorizer = joblib.load( \"vectorizer.pkl\" ) \n",
    "query_vec= tfidf_vectorizer.transform(kueri)\n",
    "results=cosine_similarity(tfidf_matrix, query_vec).reshape((-1))\n",
    "#print (results)\n",
    "print(\"\\n======================\\n\")\n",
    "print(\"Top 10 most similar documents in corpus:\")\n",
    "\n",
    "j = 1\n",
    "\n",
    "for i in results.argsort()[-10:][::-1]:\n",
    "    print(j)\n",
    "    print(\"No ID Dokumen  : \", i)\n",
    "    print(\"Tanggal        : \", df_total.iloc[i,1])\n",
    "    print(\"Isi berita     : \", df_total.iloc[i,2])\n",
    "    print(\"(Score: %.4f) \" % results[i])\n",
    "    j += 1"
   ]
  }
 ],
 "metadata": {
  "colab": {
   "collapsed_sections": [],
   "name": "Preprocessing_berita.ipynb",
   "provenance": []
  },
  "kernelspec": {
   "display_name": "Python 3 (ipykernel)",
   "language": "python",
   "name": "python3"
  },
  "language_info": {
   "codemirror_mode": {
    "name": "ipython",
    "version": 3
   },
   "file_extension": ".py",
   "mimetype": "text/x-python",
   "name": "python",
   "nbconvert_exporter": "python",
   "pygments_lexer": "ipython3",
   "version": "3.9.7"
  }
 },
 "nbformat": 4,
 "nbformat_minor": 1
}
