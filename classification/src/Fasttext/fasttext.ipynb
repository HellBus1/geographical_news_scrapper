{
 "cells": [
  {
   "cell_type": "code",
   "execution_count": 2,
   "metadata": {},
   "outputs": [
    {
     "ename": "AttributeError",
     "evalue": "module 'gensim.models.fasttext' has no attribute 'load_facebook_vectors'",
     "output_type": "error",
     "traceback": [
      "\u001b[0;31m---------------------------------------------------------------------------\u001b[0m",
      "\u001b[0;31mAttributeError\u001b[0m                            Traceback (most recent call last)",
      "\u001b[0;32m/var/folders/tl/qtfjbsjd2f3f54prw95dl_5m0000gn/T/ipykernel_7207/2715656312.py\u001b[0m in \u001b[0;36m<module>\u001b[0;34m\u001b[0m\n\u001b[1;32m      2\u001b[0m \u001b[0;34m\u001b[0m\u001b[0m\n\u001b[1;32m      3\u001b[0m \u001b[0mfasttext\u001b[0m\u001b[0;34m.\u001b[0m\u001b[0mFastText\u001b[0m\u001b[0;34m.\u001b[0m\u001b[0meprint\u001b[0m \u001b[0;34m=\u001b[0m \u001b[0;32mlambda\u001b[0m \u001b[0mx\u001b[0m\u001b[0;34m:\u001b[0m \u001b[0;32mNone\u001b[0m\u001b[0;34m\u001b[0m\u001b[0;34m\u001b[0m\u001b[0m\n\u001b[0;32m----> 4\u001b[0;31m \u001b[0mft\u001b[0m \u001b[0;34m=\u001b[0m \u001b[0mfasttext\u001b[0m\u001b[0;34m.\u001b[0m\u001b[0mload_facebook_vectors\u001b[0m\u001b[0;34m(\u001b[0m\u001b[0;34m'cc.id.300.bin'\u001b[0m\u001b[0;34m)\u001b[0m\u001b[0;34m\u001b[0m\u001b[0;34m\u001b[0m\u001b[0m\n\u001b[0m\u001b[1;32m      5\u001b[0m \u001b[0;34m'Load Model Done'\u001b[0m\u001b[0;34m\u001b[0m\u001b[0;34m\u001b[0m\u001b[0m\n",
      "\u001b[0;31mAttributeError\u001b[0m: module 'gensim.models.fasttext' has no attribute 'load_facebook_vectors'"
     ]
    }
   ],
   "source": [
    "from gensim.models import fasttext\n",
    "\n",
    "fasttext.FastText.eprint = lambda x: None\n",
    "ft = fasttext.load_facebook_vectors('cc.id.300.bin')\n",
    "'Load Model Done'"
   ]
  },
  {
   "cell_type": "code",
   "execution_count": 9,
   "metadata": {},
   "outputs": [
    {
     "ename": "NameError",
     "evalue": "name 'ft' is not defined",
     "output_type": "error",
     "traceback": [
      "\u001b[0;31m---------------------------------------------------------------------------\u001b[0m",
      "\u001b[0;31mNameError\u001b[0m                                 Traceback (most recent call last)",
      "\u001b[0;32m/var/folders/tl/qtfjbsjd2f3f54prw95dl_5m0000gn/T/ipykernel_84481/1101641111.py\u001b[0m in \u001b[0;36m<module>\u001b[0;34m\u001b[0m\n\u001b[0;32m----> 1\u001b[0;31m \u001b[0mft\u001b[0m\u001b[0;34m.\u001b[0m\u001b[0mmost_similar\u001b[0m\u001b[0;34m(\u001b[0m\u001b[0;34m\"kriminalitas\"\u001b[0m\u001b[0;34m)\u001b[0m\u001b[0;34m\u001b[0m\u001b[0;34m\u001b[0m\u001b[0m\n\u001b[0m",
      "\u001b[0;31mNameError\u001b[0m: name 'ft' is not defined"
     ]
    }
   ],
   "source": [
    "ft.most_similar(\"kriminalitas\")"
   ]
  },
  {
   "cell_type": "code",
   "execution_count": 5,
   "metadata": {},
   "outputs": [
    {
     "data": {
      "text/plain": [
       "[('kejahatan', 0.7330070734024048),\n",
       " ('kriminalitas', 0.7221693992614746),\n",
       " ('kriminal.', 0.7042403817176819),\n",
       " ('kriminalnya', 0.6917382478713989),\n",
       " ('kriminil', 0.6873483657836914),\n",
       " ('nonkriminal', 0.6863387227058411),\n",
       " ('kriminal-kriminal', 0.6725375652313232),\n",
       " ('kriminalis', 0.6650954484939575),\n",
       " ('criminal', 0.6419055461883545),\n",
       " ('kriminalharian', 0.6369180679321289)]"
      ]
     },
     "execution_count": 5,
     "metadata": {},
     "output_type": "execute_result"
    }
   ],
   "source": [
    "ft.most_similar(\"kriminal\")"
   ]
  },
  {
   "cell_type": "code",
   "execution_count": 6,
   "metadata": {},
   "outputs": [
    {
     "data": {
      "text/plain": [
       "[('kejahata', 0.778333306312561),\n",
       " ('kejahatankejahatan', 0.763465166091919),\n",
       " ('kejahatannya', 0.753451406955719),\n",
       " ('kejahatn', 0.7521167993545532),\n",
       " ('kejahatan-', 0.7503376007080078),\n",
       " ('kejahataan', 0.7483679056167603),\n",
       " ('kejahatan-kejahatan', 0.7409530878067017),\n",
       " ('kriminal', 0.7330071330070496),\n",
       " ('Kejahatan', 0.7287195920944214),\n",
       " ('kejahatanya', 0.7188265919685364)]"
      ]
     },
     "execution_count": 6,
     "metadata": {},
     "output_type": "execute_result"
    }
   ],
   "source": [
    "ft.most_similar(\"kejahatan\")"
   ]
  },
  {
   "cell_type": "code",
   "execution_count": 7,
   "metadata": {},
   "outputs": [
    {
     "data": {
      "text/plain": [
       "[('pembunuhan-pembunuhan', 0.7915805578231812),\n",
       " ('pembunuhannya', 0.7829801440238953),\n",
       " ('pembunuha', 0.7653698921203613),\n",
       " ('pembunuhan2', 0.7634693384170532),\n",
       " ('Pembunuhan', 0.7323451638221741),\n",
       " ('pembunuhah', 0.7210000157356262),\n",
       " ('pembunuhan-bunuh', 0.7139256596565247),\n",
       " ('pembunuhan.', 0.7121226787567139),\n",
       " ('pembantaian', 0.7064407467842102),\n",
       " ('pembunuhan-nya', 0.6952854990959167)]"
      ]
     },
     "execution_count": 7,
     "metadata": {},
     "output_type": "execute_result"
    }
   ],
   "source": [
    "ft.most_similar(\"pembunuhan\")"
   ]
  }
 ],
 "metadata": {
  "interpreter": {
   "hash": "8e3bfc5ac744054c9787902a0204d3692d88f436b6cb2cc0caf0518cc03255ac"
  },
  "kernelspec": {
   "display_name": "Python 3.9.7 64-bit ('venv': venv)",
   "language": "python",
   "name": "python3"
  },
  "language_info": {
   "codemirror_mode": {
    "name": "ipython",
    "version": 3
   },
   "file_extension": ".py",
   "mimetype": "text/x-python",
   "name": "python",
   "nbconvert_exporter": "python",
   "pygments_lexer": "ipython3",
   "version": "3.10.2"
  },
  "orig_nbformat": 4
 },
 "nbformat": 4,
 "nbformat_minor": 2
}
