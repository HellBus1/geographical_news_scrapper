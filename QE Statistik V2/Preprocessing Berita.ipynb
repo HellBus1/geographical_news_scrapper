{
 "cells": [
  {
   "cell_type": "code",
   "execution_count": 215,
   "metadata": {},
   "outputs": [
    {
     "name": "stderr",
     "output_type": "stream",
     "text": [
      "[nltk_data] Downloading package stopwords to\n",
      "[nltk_data]     /Users/syubbanfakhriya/nltk_data...\n",
      "[nltk_data]   Package stopwords is already up-to-date!\n"
     ]
    }
   ],
   "source": [
    "# Import library-library\n",
    "import os\n",
    "import glob\n",
    "import string\n",
    "\n",
    "# Data Preparation and Preprocessing\n",
    "import pandas as pd\n",
    "import re\n",
    "import nltk\n",
    "nltk.download('stopwords')\n",
    "from nltk.corpus import stopwords\n",
    "\n",
    "# Word Embedding\n",
    "import joblib\n",
    "from sklearn.feature_extraction.text import TfidfVectorizer\n",
    "import scipy.sparse\n",
    "\n",
    "from sklearn.metrics.pairwise import cosine_similarity\n",
    "\n",
    "# Input and Expansion Query\n",
    "from textblob import TextBlob\n",
    "from nltk.tokenize import wordpunct_tokenize\n",
    "#from googletrans import Translator\n",
    "\n",
    "#Split to train and test\n",
    "from sklearn.model_selection import train_test_split"
   ]
  },
  {
   "cell_type": "code",
   "execution_count": 216,
   "metadata": {},
   "outputs": [],
   "source": [
    "excluded_words = [\"tempat\", \"waktu\", \"gempa\", \"banjir\"]\n",
    "\n",
    "NLTK_StopWords = stopwords.words('indonesian')\n",
    "NLTK_StopWords.extend([\"detik\", \"detikjatim\", \"detikjateng\", \"detikjabar\", \"detiksulsel\", \"detiksumbar\", \"detikbali\", \"detikpapua\", \"detiksulteng\", \"detikmaluku\", \"detjatim\", \"detikcom\", \"allahumma\", \"aamiin\", \"aamiin\", \"allah\", \"bismillah\"])\n",
    "NLTK_StopWords.extend([\"yg\", \"dg\", \"rt\", \"dgn\", \"ny\", \"d\", 'klo', \n",
    "                       'kalo', 'amp', 'biar', 'bikin', 'bilang', \n",
    "                       'gak', 'ga', 'krn', 'nya', 'nih', 'sih', \n",
    "                       'si', 'tau', 'tdk', 'tuh', 'utk', 'ya', \n",
    "                       'jd', 'jgn', 'sdh', 'aja', 'n', 't', \n",
    "                       'nyg', 'hehe', 'pen', 'u', 'nan', 'loh', 'rt',\n",
    "                       '&amp', 'yah'])\n",
    "txt_stopword = pd.read_csv(\"stopwords.txt\", names= [\"stopwords\"], header = None)\n",
    "\n",
    "# convert stopword string to list & append additional stopword\n",
    "NLTK_StopWords.extend(txt_stopword[\"stopwords\"][0].split(' '))\n",
    "NLTK_StopWords = set(NLTK_StopWords)"
   ]
  },
  {
   "cell_type": "code",
   "execution_count": 217,
   "metadata": {},
   "outputs": [],
   "source": [
    "def preprocessing(berita):\n",
    "    # Preprocessing\n",
    "    s = berita.lower()\n",
    "    s = s.replace('\\\\t',\" \").replace('\\\\n',\" \").replace('\\\\u',\" \").replace('\\\\',\"\")\n",
    "    s = s.encode('ascii', 'replace').decode('ascii')\n",
    "    ' '.join(re.sub(\"([@#][A-Za-z0-9]+)|(\\w+:\\/\\/\\S+)\",\" \", s).split())\n",
    "    s.replace(\"http://\", \" \").replace(\"https://\", \" \")\n",
    "    s = re.sub('\\s+', ' ', s)\n",
    "    s = s.strip()\n",
    "    s = s.translate(str.maketrans(\"\",\"\", string.punctuation))\n",
    "    s = re.sub(r'[^a-zA-Z0-9\\s]', ' ', s)\n",
    "    s = re.sub(r'\\b\\w{1,1}\\b', '', s)\n",
    "    tokens = [token for token in s.split(\" \") if token != \"\"]\n",
    "\n",
    "    # Stopwords checking\n",
    "    T = [t for t in tokens if ((t in excluded_words) or (t not in NLTK_StopWords))]\n",
    "    return T"
   ]
  },
  {
   "cell_type": "code",
   "execution_count": 218,
   "metadata": {},
   "outputs": [
    {
     "name": "stdout",
     "output_type": "stream",
     "text": [
      "<class 'pandas.core.frame.DataFrame'>\n",
      "RangeIndex: 1790 entries, 0 to 1789\n",
      "Data columns (total 4 columns):\n",
      " #   Column       Non-Null Count  Dtype \n",
      "---  ------       --------------  ----- \n",
      " 0   title        1790 non-null   object\n",
      " 1   date         1790 non-null   object\n",
      " 2   description  1790 non-null   object\n",
      " 3   source       1790 non-null   object\n",
      "dtypes: object(4)\n",
      "memory usage: 56.1+ KB\n"
     ]
    }
   ],
   "source": [
    "df =pd.read_csv(\"news.csv\")\n",
    "df.info()\n",
    "# df.head()"
   ]
  },
  {
   "cell_type": "code",
   "execution_count": 219,
   "metadata": {},
   "outputs": [],
   "source": [
    "column = ['Title', 'Date', 'Description', 'Source']\n",
    "df_total = pd.DataFrame()\n",
    "\n",
    "df = pd.read_csv(\"news.csv\")\n",
    "df = df.dropna(subset=['description'], axis=0)\n",
    "df.sort_values(\"description\", inplace = True)\n",
    "df.drop_duplicates(subset =\"description\", keep = False, inplace = True)\n",
    "\n",
    "for x in range(0, df.shape[0]):\n",
    "    text = preprocessing (df.iloc[x, -2])\n",
    "    df.iloc[x, -2] = (' '.join(text)) "
   ]
  },
  {
   "cell_type": "code",
   "execution_count": 220,
   "metadata": {},
   "outputs": [
    {
     "data": {
      "text/html": [
       "<div>\n",
       "<style scoped>\n",
       "    .dataframe tbody tr th:only-of-type {\n",
       "        vertical-align: middle;\n",
       "    }\n",
       "\n",
       "    .dataframe tbody tr th {\n",
       "        vertical-align: top;\n",
       "    }\n",
       "\n",
       "    .dataframe thead th {\n",
       "        text-align: right;\n",
       "    }\n",
       "</style>\n",
       "<table border=\"1\" class=\"dataframe\">\n",
       "  <thead>\n",
       "    <tr style=\"text-align: right;\">\n",
       "      <th></th>\n",
       "      <th>title</th>\n",
       "      <th>date</th>\n",
       "      <th>description</th>\n",
       "      <th>source</th>\n",
       "    </tr>\n",
       "  </thead>\n",
       "  <tbody>\n",
       "    <tr>\n",
       "      <th>1417</th>\n",
       "      <td>\\n        Gempa Kembali Guncang Pasaman Barat,...</td>\n",
       "      <td>Sabtu, 26 Feb 2022 00:06 WIB</td>\n",
       "      <td>badan meteorologi klimatologi geofisika bmkg m...</td>\n",
       "      <td>www.detik.com</td>\n",
       "    </tr>\n",
       "    <tr>\n",
       "      <th>560</th>\n",
       "      <td>\\n        4 Hektare Lahan Gambut di Riau Terba...</td>\n",
       "      <td>Sabtu, 05 Feb 2022 09:16 WIB</td>\n",
       "      <td>lahan gambut seluas hektare milik masyarakat d...</td>\n",
       "      <td>www.detik.com</td>\n",
       "    </tr>\n",
       "    <tr>\n",
       "      <th>1648</th>\n",
       "      <td>\\n        Topan Molave Terjang Vietnam, 2 Oran...</td>\n",
       "      <td>Rabu, 28 Okt 2020 15:33 WIB</td>\n",
       "      <td>dilaporkan tewas 26 hilang dilansir media peme...</td>\n",
       "      <td>www.detik.com</td>\n",
       "    </tr>\n",
       "    <tr>\n",
       "      <th>223</th>\n",
       "      <td>\\n        Pemukiman Warga Ludes Terbakar Gegar...</td>\n",
       "      <td>Rabu, 04 Agu 2021 16:37 WIB</td>\n",
       "      <td>warga memandangi kerusakan rumah kebakaran hut...</td>\n",
       "      <td>www.detik.com</td>\n",
       "    </tr>\n",
       "    <tr>\n",
       "      <th>1079</th>\n",
       "      <td>\\n        Longsor Tebing Anak Bengawan Solo di...</td>\n",
       "      <td>Kamis, 13 Jan 2022 10:39 WIB</td>\n",
       "      <td>longsor talut tebing sungai babadan desa babad...</td>\n",
       "      <td>www.detik.com</td>\n",
       "    </tr>\n",
       "  </tbody>\n",
       "</table>\n",
       "</div>"
      ],
      "text/plain": [
       "                                                  title  \\\n",
       "1417  \\n        Gempa Kembali Guncang Pasaman Barat,...   \n",
       "560   \\n        4 Hektare Lahan Gambut di Riau Terba...   \n",
       "1648  \\n        Topan Molave Terjang Vietnam, 2 Oran...   \n",
       "223   \\n        Pemukiman Warga Ludes Terbakar Gegar...   \n",
       "1079  \\n        Longsor Tebing Anak Bengawan Solo di...   \n",
       "\n",
       "                              date  \\\n",
       "1417  Sabtu, 26 Feb 2022 00:06 WIB   \n",
       "560   Sabtu, 05 Feb 2022 09:16 WIB   \n",
       "1648   Rabu, 28 Okt 2020 15:33 WIB   \n",
       "223    Rabu, 04 Agu 2021 16:37 WIB   \n",
       "1079  Kamis, 13 Jan 2022 10:39 WIB   \n",
       "\n",
       "                                            description         source  \n",
       "1417  badan meteorologi klimatologi geofisika bmkg m...  www.detik.com  \n",
       "560   lahan gambut seluas hektare milik masyarakat d...  www.detik.com  \n",
       "1648  dilaporkan tewas 26 hilang dilansir media peme...  www.detik.com  \n",
       "223   warga memandangi kerusakan rumah kebakaran hut...  www.detik.com  \n",
       "1079  longsor talut tebing sungai babadan desa babad...  www.detik.com  "
      ]
     },
     "execution_count": 220,
     "metadata": {},
     "output_type": "execute_result"
    }
   ],
   "source": [
    "df.head()\n",
    "df_train, df_test = train_test_split(df,test_size=0.1)\n",
    "df_train.head()"
   ]
  },
  {
   "cell_type": "code",
   "execution_count": 221,
   "metadata": {},
   "outputs": [],
   "source": [
    "desc_text_train = []\n",
    "desc_text_test = []\n",
    "\n",
    "for x in range(0, df_train.shape[0]):\n",
    "  desc_text_train.append(df_train.iloc[x, -2])\n",
    "\n",
    "for x in range(0, df_test.shape[0]):\n",
    "  desc_text_test.append(df_test.iloc[x, -2])"
   ]
  },
  {
   "cell_type": "code",
   "execution_count": 222,
   "metadata": {},
   "outputs": [
    {
     "name": "stdout",
     "output_type": "stream",
     "text": [
      "Panjang Dokumen Test :  179\n",
      "------------------------------------------------------------------------------------------\n",
      "Panjang Dokumen Train :  1604\n"
     ]
    }
   ],
   "source": [
    "# print(df_test.info())\n",
    "print(\"Panjang Dokumen Test : \", len(desc_text_test))\n",
    "\n",
    "print ('-'*90)\n",
    "\n",
    "# print(df_train.info())\n",
    "print(\"Panjang Dokumen Train : \", len(desc_text_train))"
   ]
  },
  {
   "cell_type": "code",
   "execution_count": 223,
   "metadata": {},
   "outputs": [],
   "source": [
    "# Simpan teks asli dokumen\n",
    "joblib.dump(desc_text_test, \"corpus/model/desc_text_test.pkl\")\n",
    "joblib.dump(desc_text_train, \"corpus/model/desc_text_train.pkl\")\n",
    "\n",
    "# Simpan dataframe hasil text processing sebelum TF-IDF Vectorizer\n",
    "df.to_csv('corpus/dataset/df_total.csv', index=False)\n",
    "df_test.to_csv('corpus/dataset/df_test.csv', index=False)\n",
    "df_train.to_csv('corpus/dataset/df_train.csv', index=False)\n"
   ]
  },
  {
   "cell_type": "code",
   "execution_count": 224,
   "metadata": {},
   "outputs": [
    {
     "name": "stdout",
     "output_type": "stream",
     "text": [
      "tfidf_test_matrix\n",
      "(179, 5228)\n",
      "tfidf_train_matrix\n",
      "(1604, 18077)\n"
     ]
    }
   ],
   "source": [
    "# Fit transform menggunakan TF-IDF Vectorizer\n",
    "tfidf_vectorizer = TfidfVectorizer()\n",
    "tfidf_test_matrix = tfidf_vectorizer.fit_transform(desc_text_test)\n",
    "tfidf_train_matrix = tfidf_vectorizer.fit_transform(desc_text_train)\n",
    "\n",
    "print('tfidf_test_matrix')\n",
    "print(tfidf_test_matrix.shape)\n",
    "print('tfidf_train_matrix')\n",
    "print(tfidf_train_matrix.shape)"
   ]
  },
  {
   "cell_type": "code",
   "execution_count": 225,
   "metadata": {},
   "outputs": [
    {
     "data": {
      "text/plain": [
       "['corpus/matrix/tfidf_train.pkl']"
      ]
     },
     "execution_count": 225,
     "metadata": {},
     "output_type": "execute_result"
    }
   ],
   "source": [
    "joblib.dump(tfidf_vectorizer, \"corpus/vectorizer/vectorizer.pkl\")\n",
    "joblib.dump(tfidf_test_matrix, \"corpus/matrix/tfidf_test.pkl\")\n",
    "joblib.dump(tfidf_train_matrix, \"corpus/matrix/tfidf_train.pkl\")"
   ]
  },
  {
   "cell_type": "markdown",
   "metadata": {},
   "source": [
    "### Pencarian "
   ]
  },
  {
   "cell_type": "code",
   "execution_count": 226,
   "metadata": {},
   "outputs": [
    {
     "name": "stdout",
     "output_type": "stream",
     "text": [
      "<class 'pandas.core.frame.DataFrame'>\n",
      "Int64Index: 1783 entries, 0 to 1782\n",
      "Data columns (total 4 columns):\n",
      " #   Column       Non-Null Count  Dtype \n",
      "---  ------       --------------  ----- \n",
      " 0   title        1783 non-null   object\n",
      " 1   date         1783 non-null   object\n",
      " 2   description  1783 non-null   object\n",
      " 3   source       1783 non-null   object\n",
      "dtypes: object(4)\n",
      "memory usage: 69.6+ KB\n",
      "None\n",
      "------------------------------------------------------------------------------------------\n",
      "179\n",
      "1604\n"
     ]
    }
   ],
   "source": [
    "df_total = pd.read_csv('corpus/dataset/df_total.csv')\n",
    "df_total = df_total[pd.notnull(df_total['description'])]\n",
    "print(df_total.info())\n",
    "print ('-'*90)\n",
    "\n",
    "document_text_train= joblib.load('corpus/model/desc_text_train.pkl')\n",
    "document_text_test= joblib.load('corpus/model/desc_text_test.pkl')\n",
    "print(len(document_text_test))\n",
    "print(len(document_text_train))"
   ]
  },
  {
   "cell_type": "code",
   "execution_count": 227,
   "metadata": {},
   "outputs": [
    {
     "name": "stdout",
     "output_type": "stream",
     "text": [
      "['gempa']\n",
      "\n",
      "======================\n",
      "\n",
      "Top 10 most similar documents in corpus:\n",
      "No ID Dokumen  :  1424\n",
      "Tanggal        :  Selasa, 22 Feb 2022 16:34 WIB\n",
      "Isi berita     :  kebakaran melanda pondok pesantren miftahul khoirot karawang jawa barat senin 212 kemarin kondisi terkini pesantren terbakar foto udara kondisi kamar santri mengalami kebakaran polisi menyebut kebakaran korsleting kipas angin gedung lantai akibat peristiwa maut delapan santri dikabarkan meninggal dunia\n",
      "(Score: 0.6169) \n",
      "No ID Dokumen  :  1175\n",
      "Tanggal        :  Kamis, 18 Mar 2021 16:08 WIB\n",
      "Isi berita     :  pasien dirawat rumah sakit jiwa rsj info pasien rsj diduga personel polri informasi beredar pesan grup whatsapp personel polri kabid humas polda aceh kombes winardy wartawan kamis 1832021 informasi personel polda winardy menyebut penelusuran polisi zainal dirawat rsj mengantar warga menerimanya dibawa rsj banda aceh winardy polisi asep winardy asep personel bko resimen kedung halang bogor konflik aceh berkecamuk dinyatakan hilang gempa bumi tsunami 2004 polisi koordinasi keluarga kesatuan asep hilang tsunami pasien tes dna sidik jari pengenalan tanda lahir winardy\n",
      "(Score: 0.5728) \n",
      "No ID Dokumen  :  235\n",
      "Tanggal        :  Kamis, 10 Okt 2019 12:30 WIB\n",
      "Isi berita     :  ayo cerita pengalaman upload photo album travelingmu musim kemarau debit air embung nglanggeran berkurang drastis kering kerontang pengunjung embung cantik menurun signifikan situasi terkini embung nglanggeran gunungkidul yogyakarta musim kemarau debit air embung menyusut drastis praditodetikcom pantauan susutnya debit air embung nglanggeran suasana sepi pengunjung dibilang pengunjung menurun signifikan praditodetikcom dibenarkan pengelola gunung api purba nglanggeran aris triyono 1015 ribu pengunjung turun tinggal ribu sebulan praditodetikcom pengelola menyiasati keringnya embung mengalihkan tujuan wisata pengunjung objek wisata gunung api purba nglanggeran praditodetikcom sedih kondisi embung nglanggeran musim kemarau kondisi ditolak faktor alami praditodetikcom kering kerontang traveler berkunjung embung tiket dipatok rp 10 ribu praditodetikcom\n",
      "(Score: 0.5286) \n",
      "No ID Dokumen  :  1119\n",
      "Tanggal        :  Rabu, 12 Jan 2022 12:55 WIB\n",
      "Isi berita     :  ruko ruko indomaret lantai kebakaran petugas kebakaran jalan danau sunter 1126 wib lokasinya persis danau sunter apartemen green lake 10 unit damkar kerahkan adatidaknya korban jiwa peristiwa kronologi kejadian padam 1224 wib kebakaran bangunan ruko pkl 1125 danau sunter titik kenal dpn danau sunter apartemen green lake jakarta utara pengerahan unit penanganan petugas tkp 121\n",
      "(Score: 0.5190) \n",
      "No ID Dokumen  :  1275\n",
      "Tanggal        :  Minggu, 26 Des 2021 21:21 WIB\n",
      "Isi berita     :  wakil presiden ke10 ke12 ri jk acara diaspora global aceh mengusung tema 17 years tsunami aceh global solidarity humanity sustainable developmentan aceh model jk 26 desember 2004 silam laporan peristiwa gempa aceh terkait perkembangannya peristiwa aceh gempa jk rekaman video disiarkan kantor kementerian atrbpn jakarta selatan minggu 26122021 jk menelepon gubernur aceh panglima tni kapolda gubernur sumatera utara jk pejabat dihubunginya bencana melanda negeri serambi mekah jk telepon gubernur waktu menjabat gubernur azwar abubakar jakarta menghadiri acara telepon panglima kapolda telepon gubernur sumatera utara medan jk jk menerima laporan 80 korban jiwa musibah tsunami aceh bertambah 10000 bertambah mencapai 200000 meninggal dunia ketahuilah mulamula siangnya korban 80 sore 200 besoknya berangkat 10000 laporkan presiden sat papua korban 10000 200000 jk jk menangis meninjau lokasi mayat manusia bergelimpangan akibat hantaman tsunami waktu mayat bergelimpangan menangis suasana jk\n",
      "(Score: 0.5136) \n",
      "No ID Dokumen  :  298\n",
      "Tanggal        :  Jumat, 25 Feb 2022 13:00 WIB\n",
      "Isi berita     :  badan meteorologi klimatologi geofisika 1006 wib hasil dwikorita masyarakat tenang menghindari bangunan rusak akibat gempa lerenglerang lokasi gempa gempa pasaman barat berpotensi gempa susulan menghindari bangunan retak rusak akibat gempa menghindari tebingtebing lereng gempa susulan berpotensi mengakibatkan runtuhnya batuan mengakibatkan longsor periksa pastikan bangunan tempat tinggal tahan gempa kerusakan akibat getaran gempa membahayakan kestabilan bangunan rumah gempa 62 pasaman barat sumbar menimbulkan kerusakan wilayah getarannya malaysia gempa parameternya gempa 0839 wib talamau pasaman barat sumbar hasil analisis bmkg episentrum gempa bumi terletak koordinat 014 lintang utara 9994 bujur timur tepatnya berlokasi darat jarak 12 timur laut wilayah pasaman barat sumatera barat kedalaman 10 data 1150 wib bnpb laporan warga meninggal dunia lukaluka 20 akibat gempa data kerugian material meliputi fasilitas pendidikan rusak berat unit kerusakan fasilitas perbankan balai pertemuan warga aula kantor bupati pasaman barat\n",
      "(Score: 0.5097) \n",
      "No ID Dokumen  :  639\n",
      "Tanggal        :  Minggu, 21 Nov 2021 14:00 WIB\n",
      "Isi berita     :  museum berisi lukisan patung menawan indonesia museum unik menghadirkan menarik jenis nyamuk tembakau harta sisa bencana taman mini indonesia indah tmii jakarta rumah adat museum koleksi mushaf alquran terbesar terkecil seindonesia museum memajang aneka mushaf alquran negeri ide pembangunan museum muncul presiden soeharto memajang mushaf quran terbesar indonesia mushaf dipajang festival istiqlal museum nyamuk indonesia museum kecamatan pangandaran jawa barat dimiliki departemen kesehatan ri lembaga loka penelitian pengembangan pengendalian penyakit bersumber binatang loka litbang p2b2 ciamis museum replika nyamuk ukuran dinding utamanya enam genus tingkatan koleksi nyamuk dimiliki museum aedes culex anopheles mansonia armigeres toxor museum bank indonesia dianggap unik menarik memiliki aspek informasi benda pameran mumpuni alat peraga berteknologi sejarah keuangan indonesia zaman melewati ruang ruang lengkap menyebut uniknya koleksi disajikan zaman perang modern seniman memiliki karya willem gerard hofker rudolf bonnet willem dooijewaard bali museum pasifika daerah nusa mengumpulkan perbedaan suku asia pasifik benda pajangan seni beragam museum unik bali 11 paviliun ditelusuri indonesia indochina indoeropa polynesian surabaya museum sampoerna salah museum unik indonesia museum menawarkan sejarah kretek merk sampoerna sejarah keluarga liem seeng tee pendiri sampoerna daerah solo yogyakarta menemukan museum unik berisi sejarah keraton solo keraton yogyakarta museum kabupaten sleman yogyakarta menghadirkan beragam benda pusaka seni dimiliki keraton museum tsunami aceh meraih juara kategori destinasi wisata unik terpopuler anugerah pesona indonesia api award 2020 museum berisi sejarah tsunami aceh 2004 dampak ditimbulkan kenangan korban selamat kunjungi museum museum tsunami aceh museum kabupaten sleman yogyakarta mengungkap sejarah kenangan letusan gunung merapi 2010 museum sisa hartaku berisi hartaharta tersisa ganasnya sapuan wedhus gembel letusan merapi museum etnografi pusat kajian kematian fisip unair didirikan phil toetik koesbardiati phd 25 september 2005 museum menyimpan temuan hasil galian penelitian kuliah lapangan mahasiswa antropologi dijadikan bahan pembelajaran direvitalisasi museum didirikan pusat edukasi riset media rekreasi mengangkat tema kematian 10\n",
      "(Score: 0.5061) \n",
      "No ID Dokumen  :  1145\n",
      "Tanggal        :  Minggu, 16 Jan 2022 14:23 WIB\n",
      "Isi berita     :  rumah warga kabupaten tangerang rusak akibat agus ditemui rumahnya kawasan sukadiri kabupaten tangerang minggu 1612022 agus menceritakan dinding rumahnya hancur dihantam pas gempa sore nggak roboh robohnya gempa susulan pas mandi persiapan salat magrib kedengaran suaranya agus mandi dinding rumahnya roboh tetangganya ramai rumahnya gempa agus mengetahuinya menurutnya agus mengaku bersyukur selamat tetangga ramai pas kamar mandi rumah terang dindingnya roboh gempanya nggak dirasakan rumah merasakannya kaya pria 56 mengaku mengharapkan bantuan pemerintah ruangan rumahnya temboknya hancur kejadian agus renovasi membersihkan sisasisa puing berserakan memisahkannya terpakai bantuan terima swasta semen pasir pemerintah diproses renovasi bahannya berani ahlinya ruang tamu kamar tidur temboknya hancur terbuka keluhnya agus membeberkan tinggal rumah ketiga anaknya pergi merantau berkeluarga menurutnya tinggalnya anak rumahnya retakretak pungkasnya\n",
      "(Score: 0.5026) \n",
      "No ID Dokumen  :  169\n",
      "Tanggal        :  Senin, 14 Feb 2022 17:54 WIB\n",
      "Isi berita     :  angin kencang kabupaten bungo jambi mengakibatkan sembilan tiang milik pln roboh angin kencang atap rumah warga rusak peristiwa dusun babeko kecamatan bathin kabupaten bungo jambi beruntung korban jiwa peristiwa angin kencang mulainya subuh 0300 wib angin kuat atap rumah atap rumah sadirun delapan atap rumah warga mengalami kerusakan peristiwa angin kencang kerusakan parah diperbaiki pas kejadian rumah atap rumah warga amukan angin kencang sembilan tiang milik pln roboh akibat kencangnya angin tiang pln roboh sembilan tiang jaraknya jauhjauh sadirun pantauan lapangan petugas pln memperbaiki tiang roboh aliran listrik diputus keselamatan warga\n",
      "(Score: 0.4988) \n",
      "No ID Dokumen  :  665\n",
      "Tanggal        :  Selasa, 25 Jan 2022 10:00 WIB\n",
      "Isi berita     :  intensitasnya masingmasing rentang waktu jam sesuai catatan bmkg gempa 0220 wib kekuatan 32 pusat gempa titik 902 lintang selatan 11134 bujur timur 96 tenggara pacitan kedalaman 16 gempa 29 0424 wib gempa berpusat koordinat 895 lintang selatan 11131 bujur timur 85 kota 1001 gua kedalaman 18 dikonfirmasi kepala pelaksana bpbd pacitan erwin andriatmoko membenarkan intensitas mudahmudahan mengurangi potensi megathrust diprediksi ahli selasa 2512022 pagi\n",
      "(Score: 0.4975) \n"
     ]
    }
   ],
   "source": [
    "kueri='gempa'\n",
    "kueri=preprocessing(kueri)\n",
    "kueri= [\" \".join (kueri)]\n",
    "print (kueri)\n",
    "\n",
    "tfidf_matrix =joblib.load( \"corpus/matrix/tfidf_train.pkl\" )\n",
    "tfidf_vectorizer = joblib.load( \"corpus/vectorizer/vectorizer.pkl\" ) \n",
    "query_vec= tfidf_vectorizer.transform(kueri)\n",
    "results=cosine_similarity(tfidf_matrix, query_vec).reshape((-1))\n",
    "#print (results)\n",
    "print(\"\\n======================\\n\")\n",
    "print(\"Top 10 most similar documents in corpus:\")\n",
    "\n",
    "j = 1\n",
    "\n",
    "for i in results.argsort()[-10:][::-1]:\n",
    "    print(\"No ID Dokumen  : \", i)\n",
    "    print(\"Tanggal        : \", df_total.iloc[i,1])\n",
    "    print(\"Isi berita     : \", df_total.iloc[i,2])\n",
    "    print(\"(Score: %.4f) \" % results[i])"
   ]
  }
 ],
 "metadata": {
  "kernelspec": {
   "display_name": "Python 3",
   "language": "python",
   "name": "python3"
  },
  "language_info": {
   "codemirror_mode": {
    "name": "ipython",
    "version": 3
   },
   "file_extension": ".py",
   "mimetype": "text/x-python",
   "name": "python",
   "nbconvert_exporter": "python",
   "pygments_lexer": "ipython3",
   "version": "3.9.9"
  }
 },
 "nbformat": 4,
 "nbformat_minor": 2
}
