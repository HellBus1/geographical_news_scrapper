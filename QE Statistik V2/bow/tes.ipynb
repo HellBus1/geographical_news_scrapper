{
 "cells": [
  {
   "cell_type": "code",
   "execution_count": 28,
   "metadata": {},
   "outputs": [
    {
     "name": "stdout",
     "output_type": "stream",
     "text": [
      "<class 'pandas.core.frame.DataFrame'>\n",
      "RangeIndex: 222222 entries, 0 to 222221\n",
      "Data columns (total 4 columns):\n",
      " #   Column                  Non-Null Count   Dtype \n",
      "---  ------                  --------------   ----- \n",
      " 0   Unnamed: 0              222222 non-null  int64 \n",
      " 1   tingkat setelah parent  222222 non-null  int64 \n",
      " 2   parent                  222222 non-null  object\n",
      " 3   similarity              222222 non-null  object\n",
      "dtypes: int64(2), object(2)\n",
      "memory usage: 6.8+ MB\n"
     ]
    }
   ],
   "source": [
    "import pandas as pd\n",
    "# df = pd.read_csv(\"bow_where.csv\")\n",
    "# # df.info()\n",
    "# df2 = pd.read_csv(\"bow_where_daerah.csv\")\n",
    "\n",
    "# # df2.head()\n",
    "# frames = [df, df2]\n",
    "# result = pd.concat(frames)\n",
    "\n",
    "# result.to_csv('bow_where_concat.csv')\n",
    "\n",
    "df_new = pd.read_csv('bow_where_concat.csv')\n",
    "df_new.info()"
   ]
  }
 ],
 "metadata": {
  "interpreter": {
   "hash": "8e3bfc5ac744054c9787902a0204d3692d88f436b6cb2cc0caf0518cc03255ac"
  },
  "kernelspec": {
   "display_name": "Python 3.9.9 ('venv': venv)",
   "language": "python",
   "name": "python3"
  },
  "language_info": {
   "codemirror_mode": {
    "name": "ipython",
    "version": 3
   },
   "file_extension": ".py",
   "mimetype": "text/x-python",
   "name": "python",
   "nbconvert_exporter": "python",
   "pygments_lexer": "ipython3",
   "version": "3.9.9"
  },
  "orig_nbformat": 4
 },
 "nbformat": 4,
 "nbformat_minor": 2
}
