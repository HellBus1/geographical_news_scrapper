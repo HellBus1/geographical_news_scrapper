{
 "cells": [
  {
   "cell_type": "code",
   "execution_count": 8,
   "metadata": {},
   "outputs": [
    {
     "data": {
      "text/html": [
       "<div>\n",
       "<style scoped>\n",
       "    .dataframe tbody tr th:only-of-type {\n",
       "        vertical-align: middle;\n",
       "    }\n",
       "\n",
       "    .dataframe tbody tr th {\n",
       "        vertical-align: top;\n",
       "    }\n",
       "\n",
       "    .dataframe thead th {\n",
       "        text-align: right;\n",
       "    }\n",
       "</style>\n",
       "<table border=\"1\" class=\"dataframe\">\n",
       "  <thead>\n",
       "    <tr style=\"text-align: right;\">\n",
       "      <th></th>\n",
       "      <th>tingkat setelah parent</th>\n",
       "      <th>parent</th>\n",
       "      <th>similarity</th>\n",
       "    </tr>\n",
       "  </thead>\n",
       "  <tbody>\n",
       "    <tr>\n",
       "      <th>0</th>\n",
       "      <td>1</td>\n",
       "      <td>daerah</td>\n",
       "      <td>[('wilayah', 0.7908145189285278), ('kawasan', ...</td>\n",
       "    </tr>\n",
       "    <tr>\n",
       "      <th>1</th>\n",
       "      <td>2</td>\n",
       "      <td>wilayah</td>\n",
       "      <td>[('daerah', 0.7908145785331726), ('kawasan', 0...</td>\n",
       "    </tr>\n",
       "    <tr>\n",
       "      <th>2</th>\n",
       "      <td>2</td>\n",
       "      <td>kawasan</td>\n",
       "      <td>[('wilayah', 0.7835985422134399), ('daerah', 0...</td>\n",
       "    </tr>\n",
       "    <tr>\n",
       "      <th>3</th>\n",
       "      <td>2</td>\n",
       "      <td>didaerah</td>\n",
       "      <td>[('diwilayah', 0.7900596857070923), ('daerah',...</td>\n",
       "    </tr>\n",
       "    <tr>\n",
       "      <th>4</th>\n",
       "      <td>2</td>\n",
       "      <td>daerahnya</td>\n",
       "      <td>[('daerah', 0.631923258304596), ('wilayahnya',...</td>\n",
       "    </tr>\n",
       "  </tbody>\n",
       "</table>\n",
       "</div>"
      ],
      "text/plain": [
       "   tingkat setelah parent     parent  \\\n",
       "0                       1     daerah   \n",
       "1                       2    wilayah   \n",
       "2                       2    kawasan   \n",
       "3                       2   didaerah   \n",
       "4                       2  daerahnya   \n",
       "\n",
       "                                          similarity  \n",
       "0  [('wilayah', 0.7908145189285278), ('kawasan', ...  \n",
       "1  [('daerah', 0.7908145785331726), ('kawasan', 0...  \n",
       "2  [('wilayah', 0.7835985422134399), ('daerah', 0...  \n",
       "3  [('diwilayah', 0.7900596857070923), ('daerah',...  \n",
       "4  [('daerah', 0.631923258304596), ('wilayahnya',...  "
      ]
     },
     "execution_count": 8,
     "metadata": {},
     "output_type": "execute_result"
    }
   ],
   "source": [
    "import pandas as pd\n",
    "# df = pd.read_csv(\"bow_where_b.csv\")\n",
    "# df2 = pd.read_csv(\"bow_where_daerah.csv\")\n",
    "\n",
    "# df2.head()\n",
    "# frames = [df, df2]\n",
    "# result = pd.concat(frames)\n",
    "# result.info()\n",
    "\n",
    "# result.to_csv('bow_where_concat.csv', index=False)\n",
    "\n",
    "df_new = pd.read_csv('bow_where_daerah.csv')\n",
    "# df_new = df_new.loc[:, ~df_new.columns.str.contains('^Unnamed')]\n",
    "df_new.head()\n",
    "# df_new.to_csv('bow_where_concat.csv')"
   ]
  }
 ],
 "metadata": {
  "interpreter": {
   "hash": "8e3bfc5ac744054c9787902a0204d3692d88f436b6cb2cc0caf0518cc03255ac"
  },
  "kernelspec": {
   "display_name": "Python 3.9.9 ('venv': venv)",
   "language": "python",
   "name": "python3"
  },
  "language_info": {
   "codemirror_mode": {
    "name": "ipython",
    "version": 3
   },
   "file_extension": ".py",
   "mimetype": "text/x-python",
   "name": "python",
   "nbconvert_exporter": "python",
   "pygments_lexer": "ipython3",
   "version": "3.9.9"
  },
  "orig_nbformat": 4
 },
 "nbformat": 4,
 "nbformat_minor": 2
}
