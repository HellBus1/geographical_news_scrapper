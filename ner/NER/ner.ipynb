{
 "cells": [
  {
   "cell_type": "code",
   "execution_count": 1,
   "metadata": {},
   "outputs": [],
   "source": [
    "import spacy\n",
    "  \n",
    "nlp = spacy.load('en_core_web_sm')\n",
    "  \n",
    "sentence = \"majelis hakim pengadilan negeri rantauprapat menjatuhkan vonis penjara terdakwa terdakwa terbukti sah bersalah tindak pidana permufakatan jahat menawarkan dijual menjual membeli perantara jual menukar menyerahkan menerima narkotika golongan i beratnya melebihi gram ketua majelis hakim delta tantama membacakan putusan selasa menjatuhkan pidana terdakwa irman pasaribu pidana penjara denda rp miliar ketentuan denda dibayar diganti kurungan penjara sambungnya majelis hakim delta tamtama welly irdianto hendrik tarigan menetapkan harta man batak dimiliki dirampas negara harta diperoleh dikembalikan keluarga terdakwa harta dirampas unit mobil delapan sertifikat tanah bangunan uang senilai rp juta rekening bank dirampas harta dikembalikan unit mobil enam sertifikat tanah bangunan harta dikembalikan istri man batak bernama nurainun keterangan saksi persidangan terdakwa man batak bisnis jual beli sabu hartanya diperoleh kembalikan keluarganya hakim jaksa penuntut kejaksaan negeri labuhanbatu mengajukan banding banding putusan hakim kasi intel firman simorangkir pengacara terdakwa tengku fitra yupina pikir pikir terkait putusan putusan berat menghormati menentukan sikap berkoordinasi klien putusan rendah tuntutan jaksa penjara seumur hidup jaksa menuntut harta benda man batak dirampas\"\n",
    "  \n",
    "doc = nlp(sentence)\n",
    "  \n",
    "for ent in doc.ents:\n",
    "    print(ent.text, ent.start_char, ent.end_char, ent.label_)"
   ]
  }
 ],
 "metadata": {
  "interpreter": {
   "hash": "14d135845b4420f182ac77ee6b5c0deec044b592a80e9353f0df39bb07f4e36b"
  },
  "kernelspec": {
   "display_name": "Python 3 (ipykernel)",
   "language": "python",
   "name": "python3"
  },
  "language_info": {
   "codemirror_mode": {
    "name": "ipython",
    "version": 3
   },
   "file_extension": ".py",
   "mimetype": "text/x-python",
   "name": "python",
   "nbconvert_exporter": "python",
   "pygments_lexer": "ipython3",
   "version": "3.9.7"
  }
 },
 "nbformat": 4,
 "nbformat_minor": 2
}
