{
 "cells": [
  {
   "cell_type": "code",
   "execution_count": 21,
   "metadata": {},
   "outputs": [],
   "source": [
    "import matplotlib.pyplot as plt\n",
    "%matplotlib inline\n",
    "import seaborn as sns\n",
    "from sklearn.metrics import classification_report\n",
    "from sklearn.metrics import accuracy_score\n",
    "from sklearn.model_selection import train_test_split\n",
    "from sklearn.linear_model import LogisticRegression\n",
    "import pandas as pd"
   ]
  },
  {
   "cell_type": "code",
   "execution_count": 22,
   "metadata": {},
   "outputs": [],
   "source": [
    "df=pd.read_csv(\"/Users/adi/Desktop/TA_Adi_V2/QE Statistik V2/logistic_regression/dataset/dataset_keparahan.csv\")"
   ]
  },
  {
   "cell_type": "code",
   "execution_count": 23,
   "metadata": {},
   "outputs": [
    {
     "data": {
      "text/html": [
       "<div>\n",
       "<style scoped>\n",
       "    .dataframe tbody tr th:only-of-type {\n",
       "        vertical-align: middle;\n",
       "    }\n",
       "\n",
       "    .dataframe tbody tr th {\n",
       "        vertical-align: top;\n",
       "    }\n",
       "\n",
       "    .dataframe thead th {\n",
       "        text-align: right;\n",
       "    }\n",
       "</style>\n",
       "<table border=\"1\" class=\"dataframe\">\n",
       "  <thead>\n",
       "    <tr style=\"text-align: right;\">\n",
       "      <th></th>\n",
       "      <th>No Document</th>\n",
       "      <th>title</th>\n",
       "      <th>Description</th>\n",
       "      <th>Mati</th>\n",
       "      <th>Luka</th>\n",
       "      <th>Kerugian Barang</th>\n",
       "      <th>Kerugian Uang</th>\n",
       "      <th>Pemerkosaan</th>\n",
       "      <th>Keparahan</th>\n",
       "    </tr>\n",
       "  </thead>\n",
       "  <tbody>\n",
       "    <tr>\n",
       "      <th>0</th>\n",
       "      <td>0</td>\n",
       "      <td>Maling Motor Parlente di Pasuruan Gondol Motor...</td>\n",
       "      <td>\\-\\n\\nMaling perlente beraksi di sebuah klinik...</td>\n",
       "      <td>0</td>\n",
       "      <td>0</td>\n",
       "      <td>1</td>\n",
       "      <td>0</td>\n",
       "      <td>0</td>\n",
       "      <td>1</td>\n",
       "    </tr>\n",
       "    <tr>\n",
       "      <th>1</th>\n",
       "      <td>1</td>\n",
       "      <td>2 Komplotan Maling Motor Asal Tangerang dan Le...</td>\n",
       "      <td>\\-\\n\\nPolsek Neglasari meringkus dua komplotan...</td>\n",
       "      <td>0</td>\n",
       "      <td>0</td>\n",
       "      <td>2</td>\n",
       "      <td>0</td>\n",
       "      <td>0</td>\n",
       "      <td>1</td>\n",
       "    </tr>\n",
       "    <tr>\n",
       "      <th>2</th>\n",
       "      <td>2</td>\n",
       "      <td>Pria di Dairi Nekat Habisi Oppungnya demi Perh...</td>\n",
       "      <td>\\-\\n\\nSeorang pria di Kabupaten Dairi, bernama...</td>\n",
       "      <td>1</td>\n",
       "      <td>0</td>\n",
       "      <td>1</td>\n",
       "      <td>1</td>\n",
       "      <td>0</td>\n",
       "      <td>3</td>\n",
       "    </tr>\n",
       "    <tr>\n",
       "      <th>3</th>\n",
       "      <td>3</td>\n",
       "      <td>Korban Curanmor Silakan Merapat, Ada 7 Mobil-4...</td>\n",
       "      <td>\\-\\n\\nPolres Bogor menyita 7 mobil dan 48 moto...</td>\n",
       "      <td>0</td>\n",
       "      <td>0</td>\n",
       "      <td>7</td>\n",
       "      <td>0</td>\n",
       "      <td>0</td>\n",
       "      <td>3</td>\n",
       "    </tr>\n",
       "    <tr>\n",
       "      <th>4</th>\n",
       "      <td>4</td>\n",
       "      <td>Kepergok Curi Motor Mahasiswa USU, 2 Pria Ini ...</td>\n",
       "      <td>\\-\\n\\n2 pelaku pencuri sepeda motor milik maha...</td>\n",
       "      <td>0</td>\n",
       "      <td>1</td>\n",
       "      <td>2</td>\n",
       "      <td>0</td>\n",
       "      <td>0</td>\n",
       "      <td>3</td>\n",
       "    </tr>\n",
       "    <tr>\n",
       "      <th>...</th>\n",
       "      <td>...</td>\n",
       "      <td>...</td>\n",
       "      <td>...</td>\n",
       "      <td>...</td>\n",
       "      <td>...</td>\n",
       "      <td>...</td>\n",
       "      <td>...</td>\n",
       "      <td>...</td>\n",
       "      <td>...</td>\n",
       "    </tr>\n",
       "    <tr>\n",
       "      <th>1122</th>\n",
       "      <td>1202</td>\n",
       "      <td>Maling Spesialis Rumah Kosong Diciduk di Bantul</td>\n",
       "      <td>\\-\\n\\nPolisi menciduk pria inisial FA (28) kar...</td>\n",
       "      <td>0</td>\n",
       "      <td>0</td>\n",
       "      <td>1</td>\n",
       "      <td>0</td>\n",
       "      <td>0</td>\n",
       "      <td>1</td>\n",
       "    </tr>\n",
       "    <tr>\n",
       "      <th>1123</th>\n",
       "      <td>1203</td>\n",
       "      <td>Ini TKP Penemuan Mayat Gadis ABG Korban Pembun...</td>\n",
       "      <td>\\-\\n\\nWarga Desa Kaliputih, Kecamatan Alian, K...</td>\n",
       "      <td>1</td>\n",
       "      <td>0</td>\n",
       "      <td>1</td>\n",
       "      <td>0</td>\n",
       "      <td>0</td>\n",
       "      <td>3</td>\n",
       "    </tr>\n",
       "    <tr>\n",
       "      <th>1124</th>\n",
       "      <td>1204</td>\n",
       "      <td>Tetangga Curi Duit Wakil Ketua DPRD Bone Rp 64...</td>\n",
       "      <td>\\-\\n\\nPolisi menetapkan 4 orang tersangka dala...</td>\n",
       "      <td>0</td>\n",
       "      <td>0</td>\n",
       "      <td>0</td>\n",
       "      <td>640000000</td>\n",
       "      <td>0</td>\n",
       "      <td>3</td>\n",
       "    </tr>\n",
       "    <tr>\n",
       "      <th>1125</th>\n",
       "      <td>1205</td>\n",
       "      <td>CIMB Niaga Buka Suara Terkait Perampokan Bank ...</td>\n",
       "      <td>\\-\\n\\nPria berinisial BS (43) ditangkap dan di...</td>\n",
       "      <td>0</td>\n",
       "      <td>0</td>\n",
       "      <td>0</td>\n",
       "      <td>0</td>\n",
       "      <td>0</td>\n",
       "      <td>1</td>\n",
       "    </tr>\n",
       "    <tr>\n",
       "      <th>1126</th>\n",
       "      <td>1206</td>\n",
       "      <td>Kisah Pendakwah Gadungan Arab Saudi yang Siksa...</td>\n",
       "      <td>\\-\\n\\nNama Fayhan Al-Ghamdi memenuhi headline ...</td>\n",
       "      <td>1</td>\n",
       "      <td>0</td>\n",
       "      <td>0</td>\n",
       "      <td>0</td>\n",
       "      <td>0</td>\n",
       "      <td>3</td>\n",
       "    </tr>\n",
       "  </tbody>\n",
       "</table>\n",
       "<p>1127 rows × 9 columns</p>\n",
       "</div>"
      ],
      "text/plain": [
       "      No Document                                              title  \\\n",
       "0               0  Maling Motor Parlente di Pasuruan Gondol Motor...   \n",
       "1               1  2 Komplotan Maling Motor Asal Tangerang dan Le...   \n",
       "2               2  Pria di Dairi Nekat Habisi Oppungnya demi Perh...   \n",
       "3               3  Korban Curanmor Silakan Merapat, Ada 7 Mobil-4...   \n",
       "4               4  Kepergok Curi Motor Mahasiswa USU, 2 Pria Ini ...   \n",
       "...           ...                                                ...   \n",
       "1122         1202    Maling Spesialis Rumah Kosong Diciduk di Bantul   \n",
       "1123         1203  Ini TKP Penemuan Mayat Gadis ABG Korban Pembun...   \n",
       "1124         1204  Tetangga Curi Duit Wakil Ketua DPRD Bone Rp 64...   \n",
       "1125         1205  CIMB Niaga Buka Suara Terkait Perampokan Bank ...   \n",
       "1126         1206  Kisah Pendakwah Gadungan Arab Saudi yang Siksa...   \n",
       "\n",
       "                                            Description  Mati  Luka  \\\n",
       "0     \\-\\n\\nMaling perlente beraksi di sebuah klinik...     0     0   \n",
       "1     \\-\\n\\nPolsek Neglasari meringkus dua komplotan...     0     0   \n",
       "2     \\-\\n\\nSeorang pria di Kabupaten Dairi, bernama...     1     0   \n",
       "3     \\-\\n\\nPolres Bogor menyita 7 mobil dan 48 moto...     0     0   \n",
       "4     \\-\\n\\n2 pelaku pencuri sepeda motor milik maha...     0     1   \n",
       "...                                                 ...   ...   ...   \n",
       "1122  \\-\\n\\nPolisi menciduk pria inisial FA (28) kar...     0     0   \n",
       "1123  \\-\\n\\nWarga Desa Kaliputih, Kecamatan Alian, K...     1     0   \n",
       "1124  \\-\\n\\nPolisi menetapkan 4 orang tersangka dala...     0     0   \n",
       "1125  \\-\\n\\nPria berinisial BS (43) ditangkap dan di...     0     0   \n",
       "1126  \\-\\n\\nNama Fayhan Al-Ghamdi memenuhi headline ...     1     0   \n",
       "\n",
       "      Kerugian Barang  Kerugian Uang  Pemerkosaan  Keparahan  \n",
       "0                   1              0            0          1  \n",
       "1                   2              0            0          1  \n",
       "2                   1              1            0          3  \n",
       "3                   7              0            0          3  \n",
       "4                   2              0            0          3  \n",
       "...               ...            ...          ...        ...  \n",
       "1122                1              0            0          1  \n",
       "1123                1              0            0          3  \n",
       "1124                0      640000000            0          3  \n",
       "1125                0              0            0          1  \n",
       "1126                0              0            0          3  \n",
       "\n",
       "[1127 rows x 9 columns]"
      ]
     },
     "execution_count": 23,
     "metadata": {},
     "output_type": "execute_result"
    }
   ],
   "source": [
    "df"
   ]
  },
  {
   "cell_type": "code",
   "execution_count": 24,
   "metadata": {},
   "outputs": [],
   "source": [
    "df.drop('No Document', axis=1, inplace=True)\n",
    "df.drop('title', axis=1, inplace=True)\n",
    "df.drop('Description', axis=1, inplace=True)"
   ]
  },
  {
   "cell_type": "code",
   "execution_count": 25,
   "metadata": {},
   "outputs": [
    {
     "name": "stdout",
     "output_type": "stream",
     "text": [
      "<class 'pandas.core.frame.DataFrame'>\n",
      "RangeIndex: 1127 entries, 0 to 1126\n",
      "Data columns (total 6 columns):\n",
      " #   Column           Non-Null Count  Dtype\n",
      "---  ------           --------------  -----\n",
      " 0   Mati             1127 non-null   int64\n",
      " 1   Luka             1127 non-null   int64\n",
      " 2   Kerugian Barang  1127 non-null   int64\n",
      " 3   Kerugian Uang    1127 non-null   int64\n",
      " 4   Pemerkosaan      1127 non-null   int64\n",
      " 5   Keparahan        1127 non-null   int64\n",
      "dtypes: int64(6)\n",
      "memory usage: 53.0 KB\n"
     ]
    }
   ],
   "source": [
    "df.info()"
   ]
  },
  {
   "cell_type": "code",
   "execution_count": 26,
   "metadata": {},
   "outputs": [],
   "source": [
    "X = df.iloc[:,df.columns != 'Keparahan']\n",
    "y = df.Keparahan"
   ]
  },
  {
   "cell_type": "code",
   "execution_count": 27,
   "metadata": {},
   "outputs": [
    {
     "data": {
      "text/plain": [
       "<matplotlib.legend.Legend at 0x7fe009664bb0>"
      ]
     },
     "execution_count": 27,
     "metadata": {},
     "output_type": "execute_result"
    },
    {
     "data": {
      "image/png": "[encoded data removed]",
      "text/plain": [
       "<Figure size 432x288 with 1 Axes>"
      ]
     },
     "metadata": {
      "needs_background": "light"
     },
     "output_type": "display_data"
    }
   ],
   "source": [
    "plt.xlabel('Features')\n",
    "plt.ylabel('Keparahan')\n",
    "\n",
    "pltX=df.loc[:,'Mati']\n",
    "pltY=df.loc[:,'Keparahan']\n",
    "plt.scatter(pltX,pltY,color='blue',label='Mati')\n",
    "\n",
    "pltX=df.loc[:,'Luka']\n",
    "pltY=df.loc[:,'Keparahan']\n",
    "plt.scatter(pltX,pltY,color='green',label='Luka')\n",
    "\n",
    "pltX=df.loc[:,'Kerugian Barang']\n",
    "pltY=df.loc[:,'Keparahan']\n",
    "plt.scatter(pltX,pltY,color='red',label='Kerugian Barang')\n",
    "\n",
    "pltX=df.loc[:,'Kerugian Uang']\n",
    "pltY=df.loc[:,'Keparahan']\n",
    "plt.scatter(pltX,pltY,color='yellow',label='Kerugian Uang')\n",
    "\n",
    "pltX=df.loc[:,'Pemerkosaan']\n",
    "pltY=df.loc[:,'Keparahan']\n",
    "plt.scatter(pltX,pltY,color='black',label='Pemerkosaan')\n",
    "\n",
    "plt.legend(loc=4)"
   ]
  },
  {
   "cell_type": "code",
   "execution_count": 44,
   "metadata": {},
   "outputs": [],
   "source": [
    "X_train,x_test,y_train,y_test=train_test_split(X,y,test_size=0.2,random_state=80)"
   ]
  },
  {
   "cell_type": "code",
   "execution_count": 45,
   "metadata": {},
   "outputs": [
    {
     "data": {
      "text/plain": [
       "LogisticRegression()"
      ]
     },
     "execution_count": 45,
     "metadata": {},
     "output_type": "execute_result"
    }
   ],
   "source": [
    "model=LogisticRegression()\n",
    "model.fit(X_train,y_train)"
   ]
  },
  {
   "cell_type": "code",
   "execution_count": 46,
   "metadata": {},
   "outputs": [],
   "source": [
    "predictions=model.predict(x_test)"
   ]
  },
  {
   "cell_type": "code",
   "execution_count": 47,
   "metadata": {},
   "outputs": [
    {
     "data": {
      "text/plain": [
       "array([3, 3, 3, 3, 3, 3, 3, 3, 3, 3, 3, 3, 3, 3, 3, 3, 3, 3, 3, 3, 3, 3,\n",
       "       3, 3, 3, 3, 3, 3, 3, 3, 3, 3, 3, 3, 3, 3, 3, 3, 3, 3, 3, 3, 3, 3,\n",
       "       3, 3, 3, 3, 3, 3, 3, 3, 3, 3, 3, 3, 3, 3, 3, 3, 3, 3, 3, 3, 3, 3,\n",
       "       3, 3, 3, 3, 3, 3, 3, 3, 3, 3, 3, 3, 3, 3, 3, 3, 3, 3, 3, 3, 3, 3,\n",
       "       3, 3, 3, 3, 3, 3, 3, 3, 3, 3, 3, 3, 3, 3, 3, 3, 3, 3, 3, 3, 3, 3,\n",
       "       3, 3, 3, 3, 3, 3, 3, 3, 3, 3, 3, 3, 3, 3, 3, 3, 3, 3, 3, 3, 3, 3,\n",
       "       3, 3, 3, 3, 3, 3, 3, 3, 3, 3, 3, 3, 3, 3, 3, 3, 3, 3, 3, 3, 3, 3,\n",
       "       3, 3, 3, 3, 3, 3, 3, 3, 3, 3, 3, 3, 3, 3, 3, 3, 3, 3, 3, 3, 3, 3,\n",
       "       3, 3, 3, 3, 3, 3, 3, 3, 3, 3, 3, 3, 3, 3, 3, 3, 3, 3, 3, 3, 3, 3,\n",
       "       3, 3, 3, 3, 3, 3, 3, 3, 3, 3, 3, 3, 3, 3, 3, 3, 3, 3, 3, 3, 3, 3,\n",
       "       3, 3, 3, 3, 3, 3])"
      ]
     },
     "execution_count": 47,
     "metadata": {},
     "output_type": "execute_result"
    }
   ],
   "source": [
    "predictions"
   ]
  },
  {
   "cell_type": "code",
   "execution_count": 48,
   "metadata": {},
   "outputs": [
    {
     "name": "stdout",
     "output_type": "stream",
     "text": [
      "              precision    recall  f1-score   support\n",
      "\n",
      "           1       0.00      0.00      0.00        57\n",
      "           2       0.00      0.00      0.00        23\n",
      "           3       0.65      1.00      0.78       146\n",
      "\n",
      "    accuracy                           0.65       226\n",
      "   macro avg       0.22      0.33      0.26       226\n",
      "weighted avg       0.42      0.65      0.51       226\n",
      "\n",
      "0.6460176991150443\n"
     ]
    },
    {
     "name": "stderr",
     "output_type": "stream",
     "text": [
      "/Users/adi/opt/anaconda3/lib/python3.9/site-packages/sklearn/metrics/_classification.py:1248: UndefinedMetricWarning: Precision and F-score are ill-defined and being set to 0.0 in labels with no predicted samples. Use `zero_division` parameter to control this behavior.\n",
      "  _warn_prf(average, modifier, msg_start, len(result))\n",
      "/Users/adi/opt/anaconda3/lib/python3.9/site-packages/sklearn/metrics/_classification.py:1248: UndefinedMetricWarning: Precision and F-score are ill-defined and being set to 0.0 in labels with no predicted samples. Use `zero_division` parameter to control this behavior.\n",
      "  _warn_prf(average, modifier, msg_start, len(result))\n",
      "/Users/adi/opt/anaconda3/lib/python3.9/site-packages/sklearn/metrics/_classification.py:1248: UndefinedMetricWarning: Precision and F-score are ill-defined and being set to 0.0 in labels with no predicted samples. Use `zero_division` parameter to control this behavior.\n",
      "  _warn_prf(average, modifier, msg_start, len(result))\n"
     ]
    }
   ],
   "source": [
    "print(classification_report(y_test,predictions))\n",
    "\n",
    "print(accuracy_score(y_test,predictions))"
   ]
  }
 ],
 "metadata": {
  "kernelspec": {
   "display_name": "Python 3.9.7 ('base')",
   "language": "python",
   "name": "python3"
  },
  "language_info": {
   "codemirror_mode": {
    "name": "ipython",
    "version": 3
   },
   "file_extension": ".py",
   "mimetype": "text/x-python",
   "name": "python",
   "nbconvert_exporter": "python",
   "pygments_lexer": "ipython3",
   "version": "3.9.7"
  },
  "orig_nbformat": 4,
  "vscode": {
   "interpreter": {
    "hash": "14d135845b4420f182ac77ee6b5c0deec044b592a80e9353f0df39bb07f4e36b"
   }
  }
 },
 "nbformat": 4,
 "nbformat_minor": 2
}
