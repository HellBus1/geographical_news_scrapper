{
 "cells": [
  {
   "cell_type": "code",
   "execution_count": 1,
   "metadata": {},
   "outputs": [],
   "source": [
    "import json\n",
    "\n",
    "f= open('annotations.json')\n",
    "TRAIN_DATA = json.load(f)"
   ]
  },
  {
   "cell_type": "code",
   "execution_count": 2,
   "metadata": {},
   "outputs": [
    {
     "data": {
      "text/plain": [
       "{'classes': ['LOKASI'],\n",
       " 'annotations': [['ilmuwan dunia kaget atas dahsyatnya tsunami yang menerjang palu, sulawesi tengah.\\r',\n",
       "   {'entities': [[59, 63, 'LOKASI'], [65, 80, 'LOKASI']]}],\n",
       "  ['seorang wanita tewas mengenaskan tertabrak kereta di perlintasan stasiun pondok kopi, jakarta timur.\\r',\n",
       "   {'entities': [[86, 99, 'LOKASI']]}],\n",
       "  ['kecelakaan melibatkan mobil minibus dengan kereta api terjadi di bekasi, jawa barat.\\r',\n",
       "   {'entities': [[65, 71, 'LOKASI'], [73, 83, 'LOKASI']]}],\n",
       "  ['sebuah mobil honda jazz mengalami kecelakaan tunggal di gerbang tol cibubur 1.\\r',\n",
       "   {'entities': [[68, 75, 'LOKASI']]}],\n",
       "  ['kecelakaan ini terjadi di jalan raya galis desa pegandingan kecamatan galis.\\r',\n",
       "   {'entities': [[70, 75, 'LOKASI']]}],\n",
       "  ['tim sar gabungan terus melakukan pencarian korban tenggamnya kmp yunicee yang tenggelam di perairan selat bali.\\r',\n",
       "   {'entities': [[106, 110, 'LOKASI']]}],\n",
       "  ['mobil gran max nopol b 9528 kce tertabrak kereta di perlintasan tanpa palang pintu, jalan benteng, kabupaten ciamis, jawa barat, selasa (23/1/2018) siang.\\r',\n",
       "   {'entities': [[109, 115, 'LOKASI'], [117, 127, 'LOKASI']]}],\n",
       "  ['ilmuwan dunia kaget atas dahsyatnya tsunami yang menerjang sulsel\\r',\n",
       "   {'entities': [[59, 65, 'LOKASI']]}],\n",
       "  ['ilmuwan dunia kaget atas dahsyatnya tsunami yang menerjang sultra\\r',\n",
       "   {'entities': [[59, 65, 'LOKASI']]}],\n",
       "  ['ilmuwan dunia kaget atas dahsyatnya tsunami yang menerjang sumbar\\r',\n",
       "   {'entities': [[59, 65, 'LOKASI']]}],\n",
       "  ['ilmuwan dunia kaget atas dahsyatnya tsunami yang menerjang sumsel\\r',\n",
       "   {'entities': [[59, 65, 'LOKASI']]}],\n",
       "  ['ilmuwan dunia kaget atas dahsyatnya tsunami yang menerjang sumut\\r',\n",
       "   {'entities': [[59, 64, 'LOKASI']]}],\n",
       "  ['ilmuwan dunia kaget atas dahsyatnya tsunami yang menerjang kaltim\\r',\n",
       "   {'entities': [[59, 65, 'LOKASI']]}],\n",
       "  ['ilmuwan dunia kaget atas dahsyatnya tsunami yang menerjang kaltara\\r',\n",
       "   {'entities': [[59, 66, 'LOKASI']]}],\n",
       "  ['ilmuwan dunia kaget atas dahsyatnya tsunami yang menerjang kalteng\\r',\n",
       "   {'entities': [[59, 66, 'LOKASI']]}],\n",
       "  ['ilmuwan dunia kaget atas dahsyatnya tsunami yang menerjang jatim\\r',\n",
       "   {'entities': [[59, 64, 'LOKASI']]}],\n",
       "  ['ilmuwan dunia kaget atas dahsyatnya tsunami yang menerjang jateng\\r',\n",
       "   {'entities': [[59, 65, 'LOKASI']]}],\n",
       "  ['ilmuwan dunia kaget atas dahsyatnya tsunami yang menerjang jabodetabek\\r',\n",
       "   {'entities': [[59, 70, 'LOKASI']]}],\n",
       "  ['ilmuwan dunia kaget atas dahsyatnya tsunami yang menerjang jabar\\r',\n",
       "   {'entities': [[59, 64, 'LOKASI']]}],\n",
       "  ['ilmuwan dunia kaget atas dahsyatnya tsunami yang menerjang diy\\r',\n",
       "   {'entities': [[59, 62, 'LOKASI']]}],\n",
       "  ['ilmuwan dunia kaget atas dahsyatnya tsunami yang menerjang kalbar\\r',\n",
       "   {'entities': [[59, 65, 'LOKASI']]}],\n",
       "  ['ilmuwan dunia kaget atas dahsyatnya tsunami yang menerjang sulteng\\r',\n",
       "   {'entities': [[59, 66, 'LOKASI']]}],\n",
       "  ['ilmuwan dunia kaget atas dahsyatnya tsunami yang menerjang sulbar\\r',\n",
       "   {'entities': [[59, 65, 'LOKASI']]}],\n",
       "  ['ilmuwan dunia kaget atas dahsyatnya tsunami yang menerjang pasbar\\r',\n",
       "   {'entities': [[59, 65, 'LOKASI']]}],\n",
       "  ['ilmuwan dunia kaget atas dahsyatnya tsunami yang menerjang jakbar\\r',\n",
       "   {'entities': [[59, 65, 'LOKASI']]}],\n",
       "  ['ilmuwan dunia kaget atas dahsyatnya tsunami yang menerjang jaktim\\r',\n",
       "   {'entities': [[59, 65, 'LOKASI']]}],\n",
       "  ['ilmuwan dunia kaget atas dahsyatnya tsunami yang menerjang jakpus\\r',\n",
       "   {'entities': [[59, 65, 'LOKASI']]}],\n",
       "  ['ilmuwan dunia kaget atas dahsyatnya tsunami yang menerjang jaksel\\r',\n",
       "   {'entities': [[59, 65, 'LOKASI']]}],\n",
       "  ['ilmuwan dunia kaget atas dahsyatnya tsunami yang menerjang jakut\\r',\n",
       "   {'entities': [[59, 64, 'LOKASI']]}],\n",
       "  ['ilmuwan dunia kaget atas dahsyatnya tsunami yang menerjang tangsel\\r',\n",
       "   {'entities': [[59, 66, 'LOKASI']]}],\n",
       "  ['ilmuwan dunia kaget atas dahsyatnya tsunami yang menerjang aceh\\r',\n",
       "   {'entities': [[59, 63, 'LOKASI']]}],\n",
       "  ['ilmuwan dunia kaget atas dahsyatnya tsunami yang menerjang nad\\r',\n",
       "   {'entities': [[59, 62, 'LOKASI']]}]]}"
      ]
     },
     "execution_count": 2,
     "metadata": {},
     "output_type": "execute_result"
    }
   ],
   "source": [
    "TRAIN_DATA"
   ]
  },
  {
   "cell_type": "code",
   "execution_count": 3,
   "metadata": {},
   "outputs": [
    {
     "name": "stderr",
     "output_type": "stream",
     "text": [
      "d:\\HERRI\\Tugas Akhir\\pra\\geographical_news_scrapper\\venv\\lib\\site-packages\\tqdm\\auto.py:22: TqdmWarning: IProgress not found. Please update jupyter and ipywidgets. See https://ipywidgets.readthedocs.io/en/stable/user_install.html\n",
      "  from .autonotebook import tqdm as notebook_tqdm\n",
      "100%|██████████| 32/32 [00:00<00:00, 2293.38it/s]\n"
     ]
    }
   ],
   "source": [
    "import spacy\n",
    "from spacy.tokens import DocBin\n",
    "from tqdm import tqdm\n",
    "\n",
    "nlp = spacy.blank(\"id\")\n",
    "# the DocBin will store the example documents\n",
    "db = DocBin()\n",
    "for text, annotations in tqdm(TRAIN_DATA['annotations']):\n",
    "    doc = nlp(text)\n",
    "    ents = []\n",
    "    for start, end, label in annotations['entities']:\n",
    "        span = doc.char_span(start, end, label=label,alignment_mode='contract')\n",
    "        if span is None:\n",
    "            print('Skipping entity')\n",
    "        else:\n",
    "            ents.append(span)\n",
    "    doc.ents = ents\n",
    "    db.add(doc)\n",
    "db.to_disk(\"./train.spacy\")"
   ]
  }
 ],
 "metadata": {
  "kernelspec": {
   "display_name": "Python 3.8.8 ('venv': venv)",
   "language": "python",
   "name": "python3"
  },
  "language_info": {
   "codemirror_mode": {
    "name": "ipython",
    "version": 3
   },
   "file_extension": ".py",
   "mimetype": "text/x-python",
   "name": "python",
   "nbconvert_exporter": "python",
   "pygments_lexer": "ipython3",
   "version": "3.8.8"
  },
  "orig_nbformat": 4,
  "vscode": {
   "interpreter": {
    "hash": "6343607a20e82ef6625b7fa1bae99c65a25c983ca57e45f4fe7d94f1371f6b71"
   }
  }
 },
 "nbformat": 4,
 "nbformat_minor": 2
}
