{
 "cells": [
  {
   "cell_type": "code",
   "execution_count": 1,
   "metadata": {},
   "outputs": [],
   "source": [
    "import gensim"
   ]
  },
  {
   "cell_type": "code",
   "execution_count": 3,
   "metadata": {},
   "outputs": [],
   "source": [
    "path = './model/idwiki_word2vec_200_new/idwiki_word2vec_200_new_lower.model'\n",
    "id_w2v = gensim.models.word2vec.Word2Vec.load(path)\n"
   ]
  },
  {
   "cell_type": "code",
   "execution_count": 4,
   "metadata": {},
   "outputs": [
    {
     "data": {
      "text/plain": [
       "[('kekerasan', 0.6600056886672974),\n",
       " ('kejahatan', 0.6485456228256226),\n",
       " ('pemerkosaan', 0.6454994082450867),\n",
       " ('rasisme', 0.6409823894500732),\n",
       " ('intimidasi', 0.6399812698364258),\n",
       " ('diskriminasi', 0.6323241591453552),\n",
       " ('terorisme', 0.6228174567222595),\n",
       " ('perkosaan', 0.6209455132484436),\n",
       " ('nepotisme', 0.6201228499412537),\n",
       " ('pelecehan', 0.6139492988586426)]"
      ]
     },
     "execution_count": 4,
     "metadata": {},
     "output_type": "execute_result"
    }
   ],
   "source": [
    "w1=\"kriminalitas\" \n",
    "id_w2v.wv.most_similar(positive=w1)"
   ]
  },
  {
   "cell_type": "code",
   "execution_count": 5,
   "metadata": {},
   "outputs": [
    {
     "data": {
      "text/plain": [
       "[('intimidasi', 0.712372362613678),\n",
       " ('pemerkosaan', 0.681024432182312),\n",
       " ('penyiksaan', 0.6784852147102356),\n",
       " ('diskriminasi', 0.6765977740287781),\n",
       " ('kejahatan', 0.6740831732749939),\n",
       " ('pemaksaan', 0.6714295744895935),\n",
       " ('kebencian', 0.6674339771270752),\n",
       " ('rasisme', 0.6645455360412598),\n",
       " ('perkosaan', 0.6628375053405762),\n",
       " ('kriminalitas', 0.6600057482719421)]"
      ]
     },
     "execution_count": 5,
     "metadata": {},
     "output_type": "execute_result"
    }
   ],
   "source": [
    "w1=\"kekerasan\" \n",
    "id_w2v.wv.most_similar(positive=w1)"
   ]
  },
  {
   "cell_type": "code",
   "execution_count": 6,
   "metadata": {},
   "outputs": [
    {
     "data": {
      "text/plain": [
       "[('pelecehan', 0.7989924550056458),\n",
       " ('perkosaan', 0.7891415953636169),\n",
       " ('penyiksaan', 0.7389665842056274),\n",
       " ('penculikan', 0.7260032296180725),\n",
       " ('sodomi', 0.7092133164405823),\n",
       " ('pembunuhan', 0.7058183550834656),\n",
       " ('mutilasi', 0.6910873651504517),\n",
       " ('kekerasan', 0.681024432182312),\n",
       " ('intimidasi', 0.6687672734260559),\n",
       " ('pemukulan', 0.6651917099952698)]"
      ]
     },
     "execution_count": 6,
     "metadata": {},
     "output_type": "execute_result"
    }
   ],
   "source": [
    "w1=\"pemerkosaan\" \n",
    "id_w2v.wv.most_similar(positive=w1)"
   ]
  },
  {
   "cell_type": "code",
   "execution_count": 8,
   "metadata": {},
   "outputs": [
    {
     "data": {
      "text/plain": [
       "[('kriminal', 0.720436155796051),\n",
       " ('kekerasan', 0.6740831732749939),\n",
       " ('terorisme', 0.6611036658287048),\n",
       " ('pelanggaran', 0.6517055630683899),\n",
       " ('kriminalitas', 0.6485456228256226),\n",
       " ('ketidakadilan', 0.6485176086425781),\n",
       " ('penipuan', 0.6403815150260925),\n",
       " ('pemerkosaan', 0.6348280906677246),\n",
       " ('kekejaman', 0.6339557766914368),\n",
       " ('penyiksaan', 0.6140637397766113)]"
      ]
     },
     "execution_count": 8,
     "metadata": {},
     "output_type": "execute_result"
    }
   ],
   "source": [
    "w1=\"kejahatan\" \n",
    "id_w2v.wv.most_similar(positive=w1)"
   ]
  },
  {
   "cell_type": "code",
   "execution_count": 9,
   "metadata": {},
   "outputs": [
    {
     "data": {
      "text/plain": [
       "[('penculikan', 0.7981066703796387),\n",
       " ('pembantaian', 0.7117460370063782),\n",
       " ('pemerkosaan', 0.7058182954788208),\n",
       " ('penembakan', 0.6888574957847595),\n",
       " ('pengkhianatan', 0.6714953184127808),\n",
       " ('perkosaan', 0.6669597029685974),\n",
       " ('pembunuhannya', 0.6613022089004517),\n",
       " ('perampokan', 0.6576054692268372),\n",
       " ('kekejaman', 0.6573950052261353),\n",
       " ('eksekusi', 0.6428205966949463)]"
      ]
     },
     "execution_count": 9,
     "metadata": {},
     "output_type": "execute_result"
    }
   ],
   "source": [
    "w1=\"pembunuhan\" \n",
    "id_w2v.wv.most_similar(positive=w1)"
   ]
  },
  {
   "cell_type": "code",
   "execution_count": 10,
   "metadata": {},
   "outputs": [
    {
     "data": {
      "text/plain": [
       "[('pencurian', 0.745660662651062),\n",
       " ('penipuan', 0.6862764954566956),\n",
       " ('penjarahan', 0.6762911677360535),\n",
       " ('penculikan', 0.6704522967338562),\n",
       " ('penggerebekan', 0.6624623537063599),\n",
       " ('pemerasan', 0.6579110622406006),\n",
       " ('pembunuhan', 0.6576054692268372),\n",
       " ('penembakan', 0.6527762413024902),\n",
       " ('merampok', 0.6468507051467896),\n",
       " ('penyanderaan', 0.6434707045555115)]"
      ]
     },
     "execution_count": 10,
     "metadata": {},
     "output_type": "execute_result"
    }
   ],
   "source": [
    "w1=\"perampokan\" \n",
    "id_w2v.wv.most_similar(positive=w1)"
   ]
  },
  {
   "cell_type": "code",
   "execution_count": 11,
   "metadata": {},
   "outputs": [
    {
     "data": {
      "text/plain": [
       "[('pembunuhan', 0.7981066703796387),\n",
       " ('pemerkosaan', 0.7260031700134277),\n",
       " ('perkosaan', 0.7159233689308167),\n",
       " ('perampokan', 0.6704522371292114),\n",
       " ('pengkhianatan', 0.6653614044189453),\n",
       " ('penyanderaan', 0.6403673887252808),\n",
       " ('pencurian', 0.6385448575019836),\n",
       " ('pemukulan', 0.6384387612342834),\n",
       " ('penipuan', 0.6356688737869263),\n",
       " ('penembakan', 0.6341409087181091)]"
      ]
     },
     "execution_count": 11,
     "metadata": {},
     "output_type": "execute_result"
    }
   ],
   "source": [
    "w1=\"penculikan\" \n",
    "id_w2v.wv.most_similar(positive=w1)"
   ]
  },
  {
   "cell_type": "code",
   "execution_count": 12,
   "metadata": {},
   "outputs": [
    {
     "data": {
      "text/plain": [
       "[('penyanderaan', 0.7304391860961914),\n",
       " ('pembantaian', 0.7226998209953308),\n",
       " ('pengeboman', 0.7014217972755432),\n",
       " ('pembunuhan', 0.6888575553894043),\n",
       " ('pemboman', 0.670600414276123),\n",
       " ('penggerebekan', 0.6579594016075134),\n",
       " ('perampokan', 0.6527761816978455),\n",
       " ('peledakan', 0.6475258469581604),\n",
       " ('insiden', 0.6415975689888),\n",
       " ('penculikan', 0.6341409087181091)]"
      ]
     },
     "execution_count": 12,
     "metadata": {},
     "output_type": "execute_result"
    }
   ],
   "source": [
    "w1=\"penembakan\" \n",
    "id_w2v.wv.most_similar(positive=w1)"
   ]
  },
  {
   "cell_type": "code",
   "execution_count": 13,
   "metadata": {},
   "outputs": [
    {
     "data": {
      "text/plain": [
       "[('intimidasi', 0.7648037075996399),\n",
       " ('pengabaian', 0.721386194229126),\n",
       " ('pemerasan', 0.7125533223152161),\n",
       " ('perkosaan', 0.6845114827156067),\n",
       " ('penindasan', 0.6791183948516846),\n",
       " ('penyiksaan', 0.6790651082992554),\n",
       " ('aborsi', 0.6749920845031738),\n",
       " ('kekerasan', 0.6714295744895935),\n",
       " ('paksaan', 0.6702403426170349),\n",
       " ('pengucilan', 0.6601719260215759)]"
      ]
     },
     "execution_count": 13,
     "metadata": {},
     "output_type": "execute_result"
    }
   ],
   "source": [
    "w1=\"pemaksaan\" \n",
    "id_w2v.wv.most_similar(positive=w1)"
   ]
  },
  {
   "cell_type": "code",
   "execution_count": 15,
   "metadata": {},
   "outputs": [
    {
     "data": {
      "text/plain": [
       "[('penahanan', 0.742695152759552),\n",
       " ('pemerkosaan', 0.7389666438102722),\n",
       " ('intimidasi', 0.7382861375808716),\n",
       " ('kekejaman', 0.7354074120521545),\n",
       " ('penganiayaan', 0.712319016456604),\n",
       " ('mutilasi', 0.6938841938972473),\n",
       " ('eksekusi', 0.6817963719367981),\n",
       " ('pemaksaan', 0.6790651082992554),\n",
       " ('kekerasan', 0.6784852147102356),\n",
       " ('pemerasan', 0.6749935150146484)]"
      ]
     },
     "execution_count": 15,
     "metadata": {},
     "output_type": "execute_result"
    }
   ],
   "source": [
    "w1=\"penyiksaan\" \n",
    "id_w2v.wv.most_similar(positive=w1)"
   ]
  },
  {
   "cell_type": "code",
   "execution_count": 16,
   "metadata": {},
   "outputs": [
    {
     "data": {
      "text/plain": [
       "[('teroris', 0.7018745541572571),\n",
       " ('spionase', 0.6870896816253662),\n",
       " ('kejahatan', 0.6611037254333496),\n",
       " ('rasisme', 0.657060980796814),\n",
       " ('teror', 0.6247195601463318),\n",
       " ('kekerasan', 0.6229608058929443),\n",
       " ('kriminalitas', 0.6228175163269043),\n",
       " ('subversi', 0.6197921633720398),\n",
       " ('perompakan', 0.6110156178474426),\n",
       " ('kriminal', 0.6056592464447021)]"
      ]
     },
     "execution_count": 16,
     "metadata": {},
     "output_type": "execute_result"
    }
   ],
   "source": [
    "w1=\"terorisme\" \n",
    "id_w2v.wv.most_similar(positive=w1)"
   ]
  },
  {
   "cell_type": "code",
   "execution_count": 17,
   "metadata": {},
   "outputs": [
    {
     "data": {
      "text/plain": [
       "[('penipuan', 0.7923715114593506),\n",
       " ('perampokan', 0.7456607222557068),\n",
       " ('pemerasan', 0.7181767225265503),\n",
       " ('penggelapan', 0.6989721059799194),\n",
       " ('vandalisme', 0.6868906617164612),\n",
       " ('penyitaan', 0.679584801197052),\n",
       " ('pemalsuan', 0.6639373302459717),\n",
       " ('penyelundupan', 0.6636830568313599),\n",
       " ('perkosaan', 0.662825345993042),\n",
       " ('perusakan', 0.6443256139755249)]"
      ]
     },
     "execution_count": 17,
     "metadata": {},
     "output_type": "execute_result"
    }
   ],
   "source": [
    "w1=\"pencurian\" \n",
    "id_w2v.wv.most_similar(positive=w1)"
   ]
  },
  {
   "cell_type": "code",
   "execution_count": 20,
   "metadata": {},
   "outputs": [
    {
     "data": {
      "text/plain": [
       "[('penyeludupan', 0.764089822769165),\n",
       " ('narkotika', 0.7095047235488892),\n",
       " ('pemerasan', 0.6672091484069824),\n",
       " ('pencurian', 0.6636830568313599),\n",
       " ('kokain', 0.636557936668396),\n",
       " ('perompakan', 0.6304801106452942),\n",
       " ('penipuan', 0.6234810948371887),\n",
       " ('narkoba', 0.6187915205955505),\n",
       " ('narkotik', 0.6133367419242859),\n",
       " ('penggelapan', 0.6105679869651794)]"
      ]
     },
     "execution_count": 20,
     "metadata": {},
     "output_type": "execute_result"
    }
   ],
   "source": [
    "w1=\"penyelundupan\" \n",
    "id_w2v.wv.most_similar(positive=w1)"
   ]
  },
  {
   "cell_type": "code",
   "execution_count": 21,
   "metadata": {},
   "outputs": [
    {
     "data": {
      "text/plain": [
       "[('kutang', 0.752038300037384),\n",
       " ('kuntilanak', 0.700542688369751),\n",
       " ('rayuan', 0.6874220967292786),\n",
       " ('kuburans', 0.6847763061523438),\n",
       " ('insyaf', 0.6804409623146057),\n",
       " ('copet', 0.676407516002655),\n",
       " ('begal', 0.6716671586036682),\n",
       " ('pitung', 0.6705791354179382),\n",
       " ('bejo', 0.6649426221847534),\n",
       " ('ateng', 0.6641521453857422)]"
      ]
     },
     "execution_count": 21,
     "metadata": {},
     "output_type": "execute_result"
    }
   ],
   "source": [
    "w1=\"maling\" \n",
    "id_w2v.wv.most_similar(positive=w1)"
   ]
  },
  {
   "cell_type": "code",
   "execution_count": 22,
   "metadata": {},
   "outputs": [
    {
     "data": {
      "text/plain": [
       "[('perkosaan', 0.6038538813591003),\n",
       " ('pencurian', 0.5780425667762756),\n",
       " ('perampokan', 0.574123203754425),\n",
       " ('penculikan', 0.5373794436454773),\n",
       " ('penikaman', 0.521955132484436),\n",
       " ('pemerkosaan', 0.5204684734344482),\n",
       " ('rawagede', 0.5156387686729431),\n",
       " ('penyanderaan', 0.5064994096755981),\n",
       " ('kdrt', 0.50601726770401),\n",
       " ('kecurangan', 0.505681574344635)]"
      ]
     },
     "execution_count": 22,
     "metadata": {},
     "output_type": "execute_result"
    }
   ],
   "source": [
    "w1=\"pembegalan\" \n",
    "id_w2v.wv.most_similar(positive=w1)"
   ]
  }
 ],
 "metadata": {
  "interpreter": {
   "hash": "42ac47a8779bcd025d05ca1c229cf7179de3a284af7b78a37bccb9cb59cddb95"
  },
  "kernelspec": {
   "display_name": "Python 3.10.2 ('venv': venv)",
   "language": "python",
   "name": "python3"
  },
  "language_info": {
   "codemirror_mode": {
    "name": "ipython",
    "version": 3
   },
   "file_extension": ".py",
   "mimetype": "text/x-python",
   "name": "python",
   "nbconvert_exporter": "python",
   "pygments_lexer": "ipython3",
   "version": "3.10.2"
  },
  "orig_nbformat": 4
 },
 "nbformat": 4,
 "nbformat_minor": 2
}
