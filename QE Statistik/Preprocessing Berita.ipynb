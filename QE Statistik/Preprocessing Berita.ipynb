{
 "cells": [
  {
   "cell_type": "code",
   "execution_count": 1,
   "metadata": {},
   "outputs": [
    {
     "name": "stderr",
     "output_type": "stream",
     "text": [
      "[nltk_data] Downloading package stopwords to\n",
      "[nltk_data]     C:\\Users\\User\\AppData\\Roaming\\nltk_data...\n",
      "[nltk_data]   Package stopwords is already up-to-date!\n"
     ]
    }
   ],
   "source": [
    "# Import library-library\n",
    "import os\n",
    "import glob\n",
    "\n",
    "# Data Preparation and Preprocessing\n",
    "import pandas as pd\n",
    "import re\n",
    "import nltk\n",
    "nltk.download('stopwords')\n",
    "from nltk.corpus import stopwords\n",
    "NLTK_StopWords = stopwords.words('indonesian')\n",
    "NLTK_StopWords = set(NLTK_StopWords)\n",
    "\n",
    "# Word Embedding\n",
    "import joblib\n",
    "from sklearn.feature_extraction.text import TfidfVectorizer\n",
    "import scipy.sparse\n",
    "\n",
    "from sklearn.metrics.pairwise import cosine_similarity\n",
    "\n",
    "# Input and Expansion Query\n",
    "from textblob import TextBlob\n",
    "import nltk\n",
    "from nltk.tokenize import wordpunct_tokenize\n",
    "#from googletrans import Translator\n",
    "\n",
    "#Split to train and test\n",
    "from sklearn.model_selection import train_test_split"
   ]
  },
  {
   "cell_type": "code",
   "execution_count": 2,
   "metadata": {},
   "outputs": [],
   "source": [
    "def preprocessing(berita):\n",
    "    s = berita.lower()\n",
    "    s = s.replace('\\n', ' ')\n",
    "    s = s.replace('\\r', ' ')\n",
    "    s = re.sub(r'[^a-zA-Z0-9\\s]', ' ', s)\n",
    "    tokens = [token for token in s.split(\" \") if token != \"\"]\n",
    "    T = [t for t in tokens if (((t.lower() == \"tempat\") or (t.lower() == \"waktu\") or (t.lower() == \"hari\")) or (t not in NLTK_StopWords))]\n",
    "    return T"
   ]
  },
  {
   "cell_type": "code",
   "execution_count": 3,
   "metadata": {
    "scrolled": true
   },
   "outputs": [
    {
     "name": "stdout",
     "output_type": "stream",
     "text": [
      "['mencoba', 'preprocessing']\n"
     ]
    }
   ],
   "source": [
    "text=preprocessing('saya Mencoba menggunakan preprocessing')\n",
    "print (text)"
   ]
  },
  {
   "cell_type": "code",
   "execution_count": 4,
   "metadata": {},
   "outputs": [
    {
     "data": {
      "text/html": [
       "<div>\n",
       "<style scoped>\n",
       "    .dataframe tbody tr th:only-of-type {\n",
       "        vertical-align: middle;\n",
       "    }\n",
       "\n",
       "    .dataframe tbody tr th {\n",
       "        vertical-align: top;\n",
       "    }\n",
       "\n",
       "    .dataframe thead th {\n",
       "        text-align: right;\n",
       "    }\n",
       "</style>\n",
       "<table border=\"1\" class=\"dataframe\">\n",
       "  <thead>\n",
       "    <tr style=\"text-align: right;\">\n",
       "      <th></th>\n",
       "      <th>title</th>\n",
       "      <th>date</th>\n",
       "      <th>description</th>\n",
       "      <th>source</th>\n",
       "    </tr>\n",
       "  </thead>\n",
       "  <tbody>\n",
       "    <tr>\n",
       "      <th>0</th>\n",
       "      <td>Motor Kecepatan Tinggi Tabrakan dengan Truk di...</td>\n",
       "      <td>Kamis, 17 Mar 2022 10:53 WIB\\n\\n</td>\n",
       "      <td>lalu lintas terjadi di Pamulang,\\n\\n Peristiwa...</td>\n",
       "      <td>www.detik.com</td>\n",
       "    </tr>\n",
       "    <tr>\n",
       "      <th>1</th>\n",
       "      <td>Pilu Ortu Cari Handi hingga Kesaksian Getir di...</td>\n",
       "      <td>Rabu, 16 Mar 2022 12:04 WIB\\n\\n</td>\n",
       "      <td>Etes Hidayatullah, ayah\\n\\n Peristiwa terjadi ...</td>\n",
       "      <td>www.detik.com</td>\n",
       "    </tr>\n",
       "    <tr>\n",
       "      <th>2</th>\n",
       "      <td>Perbaikan Jembatan Ngantru yang Ambles Tuntas,...</td>\n",
       "      <td>Kamis, 17 Mar 2022 10:33 WIB\\n\\n</td>\n",
       "      <td>Perbaikan\\n\\n \"Jembatan yang mengalami kerusak...</td>\n",
       "      <td>www.detik.com</td>\n",
       "    </tr>\n",
       "    <tr>\n",
       "      <th>3</th>\n",
       "      <td>Seorang Warga Tewas Tertabrak Mobil di Tol Pan...</td>\n",
       "      <td>Selasa, 15 Mar 2022 23:57 WIB\\n\\n</td>\n",
       "      <td>Seorang warga tertabrak mobil di Jalan\\n\\n Per...</td>\n",
       "      <td>www.detik.com</td>\n",
       "    </tr>\n",
       "    <tr>\n",
       "      <th>4</th>\n",
       "      <td>Kecelakaan Maut 3 Kendaraan di Bukateja, 2 Ora...</td>\n",
       "      <td>Kamis, 17 Mar 2022 08:42 WIB\\n\\n</td>\n",
       "      <td>Kecelakaan maut terjadi di depan SPBU Desa Baj...</td>\n",
       "      <td>www.detik.com</td>\n",
       "    </tr>\n",
       "  </tbody>\n",
       "</table>\n",
       "</div>"
      ],
      "text/plain": [
       "                                               title  \\\n",
       "0  Motor Kecepatan Tinggi Tabrakan dengan Truk di...   \n",
       "1  Pilu Ortu Cari Handi hingga Kesaksian Getir di...   \n",
       "2  Perbaikan Jembatan Ngantru yang Ambles Tuntas,...   \n",
       "3  Seorang Warga Tewas Tertabrak Mobil di Tol Pan...   \n",
       "4  Kecelakaan Maut 3 Kendaraan di Bukateja, 2 Ora...   \n",
       "\n",
       "                                date  \\\n",
       "0   Kamis, 17 Mar 2022 10:53 WIB\\n\\n   \n",
       "1    Rabu, 16 Mar 2022 12:04 WIB\\n\\n   \n",
       "2   Kamis, 17 Mar 2022 10:33 WIB\\n\\n   \n",
       "3  Selasa, 15 Mar 2022 23:57 WIB\\n\\n   \n",
       "4   Kamis, 17 Mar 2022 08:42 WIB\\n\\n   \n",
       "\n",
       "                                         description         source  \n",
       "0  lalu lintas terjadi di Pamulang,\\n\\n Peristiwa...  www.detik.com  \n",
       "1  Etes Hidayatullah, ayah\\n\\n Peristiwa terjadi ...  www.detik.com  \n",
       "2  Perbaikan\\n\\n \"Jembatan yang mengalami kerusak...  www.detik.com  \n",
       "3  Seorang warga tertabrak mobil di Jalan\\n\\n Per...  www.detik.com  \n",
       "4  Kecelakaan maut terjadi di depan SPBU Desa Baj...  www.detik.com  "
      ]
     },
     "execution_count": 4,
     "metadata": {},
     "output_type": "execute_result"
    }
   ],
   "source": [
    "df =pd.read_csv(\"scrapped_news.csv\")\n",
    "df.head()"
   ]
  },
  {
   "cell_type": "code",
   "execution_count": 13,
   "metadata": {},
   "outputs": [
    {
     "name": "stdout",
     "output_type": "stream",
     "text": [
      "lintas pamulang peristiwa jalan pajajaran pamulang barat pamulang rabu 16 3 22 30 wib tepatnya danau sasak pamulang melaju kencang arah berlawanan kendaraan sepeda motor honda scoopy dikendarai f mendahului kendaraan sepeda motor identitasnya kanit laka polres tangsel iptu nanda keterangannya kamis 17 3 2022 hati hati pemotor tertabrak pemotor mengalami luka parah pemotor dilarikan rumah sakit akibat kecelakaan lintas pengendara sepeda motor honda scoopy saudara f mengalami luka terbuka perut dievakuasi rsup fatmawati menjalani perawatan pemotor dinyatakan meninggal dunia meninggal dunia iptu nanda\n"
     ]
    }
   ],
   "source": [
    "column = ['Title', 'Date', 'Description','Source']\n",
    "df_total = pd.DataFrame()\n",
    "df =pd.read_csv(\"scrapped_news.csv\")\n",
    "# print(df.head())\n",
    "isi=df['description']\n",
    "df = df.dropna(subset=['description'], axis=0)\n",
    "text = preprocessing (df.iloc[0, -2])\n",
    "df.iloc[0, -2] = (' '.join(text)) \n",
    "print(df.iloc[0, -2])\n",
    "\n",
    "# for x in range(0, df.shape[0]):\n",
    "#     text = preprocessing (df.iloc[x, -2])\n",
    "#     # document_text.append(df.iloc[x, -2])\n",
    "#     df.iloc[x, -2] = (' '.join(text)) "
   ]
  },
  {
   "cell_type": "code",
   "execution_count": 6,
   "metadata": {},
   "outputs": [
    {
     "data": {
      "text/html": [
       "<div>\n",
       "<style scoped>\n",
       "    .dataframe tbody tr th:only-of-type {\n",
       "        vertical-align: middle;\n",
       "    }\n",
       "\n",
       "    .dataframe tbody tr th {\n",
       "        vertical-align: top;\n",
       "    }\n",
       "\n",
       "    .dataframe thead th {\n",
       "        text-align: right;\n",
       "    }\n",
       "</style>\n",
       "<table border=\"1\" class=\"dataframe\">\n",
       "  <thead>\n",
       "    <tr style=\"text-align: right;\">\n",
       "      <th></th>\n",
       "      <th>title</th>\n",
       "      <th>date</th>\n",
       "      <th>description</th>\n",
       "      <th>source</th>\n",
       "    </tr>\n",
       "  </thead>\n",
       "  <tbody>\n",
       "    <tr>\n",
       "      <th>584</th>\n",
       "      <td>Bocah Bagas, Cacat karena Ditabrak Mobil Bank ...</td>\n",
       "      <td>Rabu, 10 Des 2014 13:49 WIB\\n\\n</td>\n",
       "      <td>kisah pilu bocah bernama bagas tri hermawan 7 ...</td>\n",
       "      <td>www.detik.com</td>\n",
       "    </tr>\n",
       "    <tr>\n",
       "      <th>190</th>\n",
       "      <td>Terobos Perlintasan Kereta di Depok, Mahasiswi...</td>\n",
       "      <td>Kamis, 20 Jan 2022 16:19 WIB\\n\\n</td>\n",
       "      <td>wanita bernama bonita melia tewas ditabrak krl...</td>\n",
       "      <td>www.detik.com</td>\n",
       "    </tr>\n",
       "    <tr>\n",
       "      <th>272</th>\n",
       "      <td>Polisi Ganti Sepeda Pedagang Mainan yang Gagal...</td>\n",
       "      <td>Minggu, 08 Agu 2021 07:41 WIB\\n\\n</td>\n",
       "      <td>wangga sari alias sepedanya rusak camat ganti ...</td>\n",
       "      <td>www.detik.com</td>\n",
       "    </tr>\n",
       "    <tr>\n",
       "      <th>853</th>\n",
       "      <td>Jasad Polisi Korban Kecelakaan KA Brantas Vs M...</td>\n",
       "      <td>Senin, 14 Des 2020 17:04 WIB\\n\\n</td>\n",
       "      <td>gabungan berisikan 2 anggota polri 1 anggota t...</td>\n",
       "      <td>www.detik.com</td>\n",
       "    </tr>\n",
       "    <tr>\n",
       "      <th>1337</th>\n",
       "      <td>Gagal Salip Truk, Seorang Biker di Gresik Tewa...</td>\n",
       "      <td>Senin, 07 Mar 2022 15:23 WIB\\n\\n</td>\n",
       "      <td>truk motor jalan mayjen sungkono gresik kecela...</td>\n",
       "      <td>www.detik.com</td>\n",
       "    </tr>\n",
       "  </tbody>\n",
       "</table>\n",
       "</div>"
      ],
      "text/plain": [
       "                                                  title  \\\n",
       "584   Bocah Bagas, Cacat karena Ditabrak Mobil Bank ...   \n",
       "190   Terobos Perlintasan Kereta di Depok, Mahasiswi...   \n",
       "272   Polisi Ganti Sepeda Pedagang Mainan yang Gagal...   \n",
       "853   Jasad Polisi Korban Kecelakaan KA Brantas Vs M...   \n",
       "1337  Gagal Salip Truk, Seorang Biker di Gresik Tewa...   \n",
       "\n",
       "                                   date  \\\n",
       "584     Rabu, 10 Des 2014 13:49 WIB\\n\\n   \n",
       "190    Kamis, 20 Jan 2022 16:19 WIB\\n\\n   \n",
       "272   Minggu, 08 Agu 2021 07:41 WIB\\n\\n   \n",
       "853    Senin, 14 Des 2020 17:04 WIB\\n\\n   \n",
       "1337   Senin, 07 Mar 2022 15:23 WIB\\n\\n   \n",
       "\n",
       "                                            description         source  \n",
       "584   kisah pilu bocah bernama bagas tri hermawan 7 ...  www.detik.com  \n",
       "190   wanita bernama bonita melia tewas ditabrak krl...  www.detik.com  \n",
       "272   wangga sari alias sepedanya rusak camat ganti ...  www.detik.com  \n",
       "853   gabungan berisikan 2 anggota polri 1 anggota t...  www.detik.com  \n",
       "1337  truk motor jalan mayjen sungkono gresik kecela...  www.detik.com  "
      ]
     },
     "execution_count": 6,
     "metadata": {},
     "output_type": "execute_result"
    }
   ],
   "source": [
    "df.head()\n",
    "df_train,df_test=train_test_split(df,test_size=0.1)\n",
    "df_train.head()"
   ]
  },
  {
   "cell_type": "code",
   "execution_count": 7,
   "metadata": {},
   "outputs": [],
   "source": [
    "document_text_train = []\n",
    "document_text_test = []\n",
    "for x in range(0, df_train.shape[0]):\n",
    "    document_text_train.append(df_train.iloc[x, -2])\n",
    "for x in range(0, df_test.shape[0]):\n",
    "    document_text_test.append(df_test.iloc[x, -2])"
   ]
  },
  {
   "cell_type": "code",
   "execution_count": 8,
   "metadata": {},
   "outputs": [],
   "source": [
    "teks_train = []\n",
    "teks_test = []\n",
    "\n",
    "for i in range(df_test.shape[0]):\n",
    "        teks_test.append(df_test.iloc[i, 2])\n",
    "for i in range(df_train.shape[0]):\n",
    "        teks_train.append(df_train.iloc[i, 2])"
   ]
  },
  {
   "cell_type": "code",
   "execution_count": 11,
   "metadata": {},
   "outputs": [
    {
     "name": "stdout",
     "output_type": "stream",
     "text": [
      "<class 'pandas.core.frame.DataFrame'>\n",
      "Int64Index: 158 entries, 1341 to 1077\n",
      "Data columns (total 4 columns):\n",
      " #   Column       Non-Null Count  Dtype \n",
      "---  ------       --------------  ----- \n",
      " 0   title        158 non-null    object\n",
      " 1   date         158 non-null    object\n",
      " 2   description  158 non-null    object\n",
      " 3   source       158 non-null    object\n",
      "dtypes: object(4)\n",
      "memory usage: 6.2+ KB\n",
      "None\n",
      "<class 'pandas.core.frame.DataFrame'>\n",
      "Int64Index: 1419 entries, 584 to 1451\n",
      "Data columns (total 4 columns):\n",
      " #   Column       Non-Null Count  Dtype \n",
      "---  ------       --------------  ----- \n",
      " 0   title        1419 non-null   object\n",
      " 1   date         1419 non-null   object\n",
      " 2   description  1419 non-null   object\n",
      " 3   source       1419 non-null   object\n",
      "dtypes: object(4)\n",
      "memory usage: 55.4+ KB\n",
      "None\n",
      "------------------------------------------------------------------------------------------\n",
      "Panjang Dokumen Teks :  158\n",
      "Panjang Dokumen Teks :  1419\n"
     ]
    }
   ],
   "source": [
    "print(df_test.info())\n",
    "print(df_train.info())\n",
    "print ('-'*90)\n",
    "print(\"Panjang Dokumen Teks : \", len(document_text_test))\n",
    "print(\"Panjang Dokumen Teks : \", len(document_text_train))\n",
    "#print(len(document_text))"
   ]
  },
  {
   "cell_type": "code",
   "execution_count": 12,
   "metadata": {},
   "outputs": [
    {
     "data": {
      "text/html": [
       "<div>\n",
       "<style scoped>\n",
       "    .dataframe tbody tr th:only-of-type {\n",
       "        vertical-align: middle;\n",
       "    }\n",
       "\n",
       "    .dataframe tbody tr th {\n",
       "        vertical-align: top;\n",
       "    }\n",
       "\n",
       "    .dataframe thead th {\n",
       "        text-align: right;\n",
       "    }\n",
       "</style>\n",
       "<table border=\"1\" class=\"dataframe\">\n",
       "  <thead>\n",
       "    <tr style=\"text-align: right;\">\n",
       "      <th></th>\n",
       "      <th>title</th>\n",
       "      <th>date</th>\n",
       "      <th>description</th>\n",
       "      <th>source</th>\n",
       "    </tr>\n",
       "  </thead>\n",
       "  <tbody>\n",
       "    <tr>\n",
       "      <th>0</th>\n",
       "      <td>Motor Kecepatan Tinggi Tabrakan dengan Truk di...</td>\n",
       "      <td>Kamis, 17 Mar 2022 10:53 WIB\\n\\n</td>\n",
       "      <td>lintas pamulang peristiwa jalan pajajaran pamu...</td>\n",
       "      <td>www.detik.com</td>\n",
       "    </tr>\n",
       "    <tr>\n",
       "      <th>1</th>\n",
       "      <td>Pilu Ortu Cari Handi hingga Kesaksian Getir di...</td>\n",
       "      <td>Rabu, 16 Mar 2022 12:04 WIB\\n\\n</td>\n",
       "      <td>etes hidayatullah ayah peristiwa rabu 8 12 sor...</td>\n",
       "      <td>www.detik.com</td>\n",
       "    </tr>\n",
       "    <tr>\n",
       "      <th>2</th>\n",
       "      <td>Perbaikan Jembatan Ngantru yang Ambles Tuntas,...</td>\n",
       "      <td>Kamis, 17 Mar 2022 10:33 WIB\\n\\n</td>\n",
       "      <td>perbaikan jembatan mengalami kerusakan jembata...</td>\n",
       "      <td>www.detik.com</td>\n",
       "    </tr>\n",
       "    <tr>\n",
       "      <th>3</th>\n",
       "      <td>Seorang Warga Tewas Tertabrak Mobil di Tol Pan...</td>\n",
       "      <td>Selasa, 15 Mar 2022 23:57 WIB\\n\\n</td>\n",
       "      <td>warga tertabrak mobil jalan peristiwa km 67 60...</td>\n",
       "      <td>www.detik.com</td>\n",
       "    </tr>\n",
       "    <tr>\n",
       "      <th>4</th>\n",
       "      <td>Kecelakaan Maut 3 Kendaraan di Bukateja, 2 Ora...</td>\n",
       "      <td>Kamis, 17 Mar 2022 08:42 WIB\\n\\n</td>\n",
       "      <td>kecelakaan maut spbu desa bajong kecamatan buk...</td>\n",
       "      <td>www.detik.com</td>\n",
       "    </tr>\n",
       "  </tbody>\n",
       "</table>\n",
       "</div>"
      ],
      "text/plain": [
       "                                               title  \\\n",
       "0  Motor Kecepatan Tinggi Tabrakan dengan Truk di...   \n",
       "1  Pilu Ortu Cari Handi hingga Kesaksian Getir di...   \n",
       "2  Perbaikan Jembatan Ngantru yang Ambles Tuntas,...   \n",
       "3  Seorang Warga Tewas Tertabrak Mobil di Tol Pan...   \n",
       "4  Kecelakaan Maut 3 Kendaraan di Bukateja, 2 Ora...   \n",
       "\n",
       "                                date  \\\n",
       "0   Kamis, 17 Mar 2022 10:53 WIB\\n\\n   \n",
       "1    Rabu, 16 Mar 2022 12:04 WIB\\n\\n   \n",
       "2   Kamis, 17 Mar 2022 10:33 WIB\\n\\n   \n",
       "3  Selasa, 15 Mar 2022 23:57 WIB\\n\\n   \n",
       "4   Kamis, 17 Mar 2022 08:42 WIB\\n\\n   \n",
       "\n",
       "                                         description         source  \n",
       "0  lintas pamulang peristiwa jalan pajajaran pamu...  www.detik.com  \n",
       "1  etes hidayatullah ayah peristiwa rabu 8 12 sor...  www.detik.com  \n",
       "2  perbaikan jembatan mengalami kerusakan jembata...  www.detik.com  \n",
       "3  warga tertabrak mobil jalan peristiwa km 67 60...  www.detik.com  \n",
       "4  kecelakaan maut spbu desa bajong kecamatan buk...  www.detik.com  "
      ]
     },
     "execution_count": 12,
     "metadata": {},
     "output_type": "execute_result"
    }
   ],
   "source": [
    "df.head()"
   ]
  },
  {
   "cell_type": "code",
   "execution_count": 13,
   "metadata": {},
   "outputs": [],
   "source": [
    "# Simpan teks asli dokumen\n",
    "joblib.dump(document_text_test, \"document_text_test.pkl\")\n",
    "joblib.dump(document_text_train, \"document_text_train.pkl\")\n",
    "# Simpan dataframe hasil text processing sebelum TF-IDF Vectorizer\n",
    "df.to_csv('df_total.csv',index=False )\n",
    "df_train.to_csv('df_train.csv', index=False)\n",
    "df_test.to_csv('df_test.csv', index=False)\n"
   ]
  },
  {
   "cell_type": "code",
   "execution_count": 14,
   "metadata": {},
   "outputs": [
    {
     "name": "stdout",
     "output_type": "stream",
     "text": [
      "tfidf_test_matrix\n",
      "(158, 4668)\n",
      "tfidf_train_matrix\n",
      "(1419, 15632)\n"
     ]
    }
   ],
   "source": [
    "# Fit transform menggunakan TF-IDF Vectorizer\n",
    "tfidf_vectorizer = TfidfVectorizer()\n",
    "tfidf_test_matrix = tfidf_vectorizer.fit_transform(teks_test)\n",
    "tfidf_train_matrix = tfidf_vectorizer.fit_transform(teks_train)\n",
    "\n",
    "print('tfidf_test_matrix')\n",
    "print(tfidf_test_matrix.shape)\n",
    "print('tfidf_train_matrix')\n",
    "print(tfidf_train_matrix.shape)\n",
    "# print(tfidf_matrix)"
   ]
  },
  {
   "cell_type": "code",
   "execution_count": 15,
   "metadata": {},
   "outputs": [
    {
     "data": {
      "text/plain": [
       "['tfidf_train.pkl']"
      ]
     },
     "execution_count": 15,
     "metadata": {},
     "output_type": "execute_result"
    }
   ],
   "source": [
    "joblib.dump(tfidf_vectorizer, \"vectorizer.pkl\")\n",
    "joblib.dump(tfidf_test_matrix, \"tfidf_test.pkl\")\n",
    "joblib.dump(tfidf_train_matrix, \"tfidf_train.pkl\")"
   ]
  },
  {
   "cell_type": "markdown",
   "metadata": {},
   "source": [
    "### Pencarian "
   ]
  },
  {
   "cell_type": "code",
   "execution_count": 16,
   "metadata": {},
   "outputs": [
    {
     "name": "stdout",
     "output_type": "stream",
     "text": [
      "<class 'pandas.core.frame.DataFrame'>\n",
      "Int64Index: 1576 entries, 0 to 1576\n",
      "Data columns (total 4 columns):\n",
      " #   Column       Non-Null Count  Dtype \n",
      "---  ------       --------------  ----- \n",
      " 0   title        1576 non-null   object\n",
      " 1   date         1576 non-null   object\n",
      " 2   description  1576 non-null   object\n",
      " 3   source       1576 non-null   object\n",
      "dtypes: object(4)\n",
      "memory usage: 61.6+ KB\n",
      "None\n",
      "------------------------------------------------------------------------------------------\n",
      "<class 'pandas.core.frame.DataFrame'>\n",
      "Int64Index: 158 entries, 0 to 157\n",
      "Data columns (total 4 columns):\n",
      " #   Column       Non-Null Count  Dtype \n",
      "---  ------       --------------  ----- \n",
      " 0   title        158 non-null    object\n",
      " 1   date         158 non-null    object\n",
      " 2   description  158 non-null    object\n",
      " 3   source       158 non-null    object\n",
      "dtypes: object(4)\n",
      "memory usage: 6.2+ KB\n",
      "None\n",
      "------------------------------------------------------------------------------------------\n",
      "158\n",
      "1419\n"
     ]
    }
   ],
   "source": [
    "df_total = pd.read_csv('df_total.csv')\n",
    "df_total = df_total[pd.notnull(df_total['description'])]\n",
    "df_test = pd.read_csv('df_test.csv')\n",
    "df_test = df_test[pd.notnull(df_test['description'])]\n",
    "print(df_total.info())\n",
    "print ('-'*90)\n",
    "print(df_test.info())\n",
    "print ('-'*90)\n",
    "document_text_train= joblib.load('document_text_train.pkl')\n",
    "document_text_test= joblib.load('document_text_test.pkl')\n",
    "print(len(document_text_test))\n",
    "print(len(document_text_train))"
   ]
  },
  {
   "cell_type": "code",
   "execution_count": 17,
   "metadata": {},
   "outputs": [
    {
     "name": "stdout",
     "output_type": "stream",
     "text": [
      "Lalin truk di jakarta\n",
      "['lalin truk jakarta']\n",
      "\n",
      "======================\n",
      "\n",
      "Top 10 most similar documents in corpus:\n",
      "1\n",
      "No ID Dokumen  :  306\n",
      "Tanggal        :  Kamis, 20 Mei 2021 13:59 WIB\n",
      "\n",
      "\n",
      "Isi berita     :  bantuan pedagang es buah konter hp korban pimpinan kementerian kelautan perikanan atensi korban menugaskan tim kamis tanggal 20 mei 2021 menemui korban bantuan kepala biro humas kerja negeri kkp agung tri prasetyo keterangan diterima mengatensi kejadian bantuan korban salah korban pedagang buah dibawa rs cipto mangunkusumo pengobatannya dibiayai menyelesaikan pembiayaan perawatan rs kontrol perawatan lanjutan bantuan kerahiman korban pedagang buah ruko bantuan kerugian materi korban pedagang buah agung membenarkan mobil berpelat merah menabrak ruko pedagang buah konter hp rabu 19 5 kendaraan operasional itjen kkp orang mobil kendaraan mengalami kecelakaan agung penyebab kecelakaan pengemudi kaget ponsel meledak berdasarkan keterangan pengemudi elektrik baterai hp mengakibatkan ledakan hp pengemudi terkejut lepas kontrol kemudi menyebabkan kendaraan menabrak ruko pedagang es buah diberitakan mobil pelat merah nopol b 8912 wu menabrak pedagang es buah ruko kawasan senen jakarta pusat mobil iya mobil dinas kementerian kkp kasat lantas polres metro jakarta pusat kompol lilik sumardji dihubungi rabu 19 5 2021 mobil dinas dikemudikan pria berinisial d ditetapkan tersangka dijerat pasal 310 uu nomor 22 2009 lintas angkutan jalan peristiwa kecelakaan siang 12 00 wib d mengemudikan mobil pelat merah mengaku kehilangan kendali korban jiwa peristiwa pedagang es buah tertabrak mengalami memar pinggang dirawat rumah sakit\n",
      "(Score: 0.1974) \n",
      "2\n",
      "No ID Dokumen  :  1220\n",
      "Tanggal        :  Selasa, 14 Des 2021 21:31 WIB\n",
      "\n",
      "\n",
      "Isi berita     :  herry wirawan pemerkosa belasan santriwati bandung kabar subang rangkuman jabar hari bunda forum anak daerah fad jawa barat atalia praratya mengungkap data terbaru korban pemerkosaan herry wirawan atalia santriwati diduga diperkosa herry mencapai 13 orang korban simpang siur 20 orang 20 itupun korban 13 korban 7 saksi atalia kantor kejaksaan kejati jawa barat jalan naripan kota bandung selasa 14 12 2021 atalia mengawal pendampingan korban pemprov jabar mendorong institusi pendidikan tempat ramah anak polisi menyelidiki kekerasan rumah tangga kdrt suami istrinya polisi mengungkap motif kdrt lantaran cemburu pelaku korban suami istri pelapor istrinya terlapor suaminya inisialnya b motifnya suaminya cemburu kasat reskrim polrestabes bandung akbp rudi trihandoyo mapolrestabes bandung jalan jawa kota bandung selasa 14 12 2021 rudi kecemburuan suami korban pelaku memeriksa ponsel korban ditemukan mencurigakan video tiktok rudi bentuk video hp istrinya ditemukan tiktok cemburu suaminya cemburu kekerasan istrinya rudi muda mudi hilang misterius tertabrak mobil perbatasan bandung garut hilang enam hari handi harisaputra 18 salsabila 14 dinyatakan hilang misterius rabu 8 12 ayah handi entes hidayatullah kabar handi pacarnya salsa tertabrak mobil jalan raya limbangan garut hari rabu handi sals berboncengan pakai motor kejadiannya kecelakaan langsung pulang pekerjaan entes wartawan selasa 14 12 2021 entes mengaku langsung lokasi kejadian putranya salsa tempat keterangan saksi saksi lokasi korban dievakuasi mobil berwarna hitam diduga menabrak warga lihat ngasih tau korban langsung dibawa arah limbangan entes presiden joko widodo menaruh perhatian khusus pemerkosaan 12 santriwati herry wirawan jokowi penanganan hukuman herry memperhatikan kondisi korban arahan jokowi menteri pemberdayaan perempuan perlindungan anak pppa bintang puspayoga terjun mengawal berkoordinasi kejaksaan kejati jawa barat terkait presiden perhatian khusus bintang kantor kejati jabar jalan naripan kota bandung selasa 14 12 2021 arahannya bintang presiden menginstruksikan negara hadir tindakan salah satunya mengawal presiden memerintahkan berkoordinasi lintas sektoral kejati bertindak cepat intinya presiden perhatian serius kejahatan bintang hari 120 proses penyelidikan pembunuhan anak subang bergulir petugas pemeriksaan saksi saksi mengumpulkan barang bukti memeriksa saksi saksi waktu mengarah nama nama tersangka pembunuhan mohon doanya kapolda jabar irjen pol suntana mapolres subang selasa 14 12 2021 irjen pol suntana masyarakat mendoakan kepolisian 120 hari cepat terungkap mohon doa restunya insyaallah berupaya\n",
      "(Score: 0.1828) \n",
      "3\n",
      "No ID Dokumen  :  164\n",
      "Tanggal        :  Senin, 07 Feb 2022 19:44 WIB\n",
      "\n",
      "\n",
      "Isi berita     :  mobil confero bernopol n 1835 ga ditumpangi orang terseret 50 meter ringsek terbalik sisi rel kereta api peristiwa mobil dikendarai ongki agus 41 warga sedati sidoarjo melaju arah barat timur perlintasan kereta api palang pintu sang sopir langsung menerobosnya bersamaan munculah kereta api rapih dhoho arah blitar kediri kecelakaan dihindarkan kasat lantas polres kediri akp bobby m zulfikar kecelakaan oukul 15 00 wib 4 orang mobil mengalami luka berat korban dibawa rumah sakit arga husada mobil dikendarai korban ringsek rusak parah satlantas polres kediri penyelidikan kecelakaan peristiwa\n",
      "(Score: 0.1632) \n",
      "4\n",
      "No ID Dokumen  :  354\n",
      "Tanggal        :  Kamis, 25 Feb 2021 11:54 WIB\n",
      "\n",
      "\n",
      "Isi berita     :  barang terlibat kecelakaan pelintasan palang pintu tegal ratu ciwandan cilegon korban jiwa peristiwa 07 51 wib sopir mobil nomor polisi a 279 fr melintas pelintasan kereta api palang pintu kompleks sinyar ciwandan akibat terhalang jarak pandang sopir mengendalikan kendaraannya melintasi rel kereta kompleks sinyar palang pintu arah cilegon berdasarkan keterangan korban kejadian jarak pandang melintasi rel kereta tertabrak lokomotif cc 206 1388 kapolsek ciwandan akp ali rahman keterangannya kamis 25 2 2021 ali waktu bersamaan kereta barang melaju arah jakarta stasiun cigading kereta menabrak mobil korban jiwa peristiwa kejadian korban nggak materi doang mobil ringsek mobil dievakuasi kondisi ringsek kecelakaan ditangani unit laka lantas polres cilegon\n",
      "(Score: 0.1488) \n",
      "5\n",
      "No ID Dokumen  :  616\n",
      "Tanggal        :  Minggu, 21 Des 2014 16:34 WIB\n",
      "\n",
      "\n",
      "Isi berita     :  pabrikan mobil mungil mewah inggris mini menarik 846 unit mobil mini cooper hardtop model 2015 2014 alasannya sandaran kursi penumpang bermasalah menimbulkan risiko fatal\n",
      "(Score: 0.1478) \n",
      "6\n",
      "No ID Dokumen  :  156\n",
      "Tanggal        :  Kamis, 17 Feb 2022 17:41 WIB\n",
      "\n",
      "\n",
      "Isi berita     :  pengendara motor remaja perempuan inisial ks 16 masuk ruas masuknya gerbang cikampek halim masuk tol pelanggaran ditambah kecelakaan pemotor tilangnya ya kasat lantas polres metro jakarta timur akbp edy surasa dihubungi kamis 17 2 2022 edy pemotor ks dikenai pasal pelanggaran tertib rambu lintas sanksi tilang diterapkan ks pemotor tertabrak mobil lokasi motor masuk tol pelanggaran kayak terkait pemobil inisial as 47 menabrak pemotor ks lokasi disimpulkan pelaku pelanggaran lintas polisi menggali keterangan terlibat laka tangani periksa disimpulkan dalami aksi ks masuk ruas tol japek pagi melawan arah tertabrak mobil kasat pjr ditlantas polda metro jaya kompol sutikno aksi nekat ks menyebabkan kecelakaan lintas lokasi ks nekat melawan arah tertabrak mobil dikemudikan pria inisial as 47 kendaraan roda bekasi melawan arah arah barat km 0 800 kendaraan roda kaget jatuh lajur 3 sutikno mencoba melawan arah ruas tol motor korban tertabrak mobil ks tergeletak jalan iya lawan arah salah jalan sutikno ks melintas ruas tol japek gerbang tol halim lokasi sutikno palang ks leluasa melintas salah jalan ruas tol japek masuk tol tol berusaha kanan halim nggak gerbang tolnya halim nggak gerbang tolnya arah cikampek terang sutikno foto foto diterima korban tergeletak jalan sutikno pemotor ks kondisi selamat intinya korban jiwa nggak terang sutikno\n",
      "(Score: 0.1470) \n",
      "7\n",
      "No ID Dokumen  :  1266\n",
      "Tanggal        :  Selasa, 28 Des 2021 13:32 WIB\n",
      "\n",
      "\n",
      "Isi berita     :  maut melibatkan truk kontainer daerah cikarang barat kabupaten bekasi truk kontainer dikemudikan pria inisial dw menabrak iya info anggota kendaraan menabrak pemulung pinggir jalan peristiwa 07 15 wib pemulung inisial s korban satunya luka ringan argo argo peristiwa nahas truk kontainer nomor polisi b 9143 tei melaju jakarta cikarang lokasi sopir truk kehilangan kendali truk menabrak pohon kiri mobil membentur pemulung lokasi kecelakaan diduga lokasi kejadian diduga mengantuk kendaraan oleng kiri menabrak pohon samping kiri kendaraan nya membentur pejalan kaki pn s berjalan sisi kiri jalan argo akibat kejadian kecelakaan lintas pejalan kaki pn mengalami luka luka dibawa sopir truk dibawa satlantas polres metro bekasi sopir menjalani pemeriksaan terperiksa pungkas argo\n",
      "(Score: 0.1450) \n",
      "8\n",
      "No ID Dokumen  :  169\n",
      "Tanggal        :  Senin, 07 Mar 2022 05:55 WIB\n",
      "\n",
      "\n",
      "Isi berita     :  pengendara sepeda motor kecelakaan desa karangsari kecamatan karangmoncol purbalingga jawa nahas terjatuh motor tubuhnya terpental menjalani perawatan rumah sakit hari korban meninggal dunia minggu 6 3 anggota polisi menjalani pemerikaaan propam polres purbalingga terkait kecelakaan era peristiwa pemotor bernama tuswanto 24 mengendarai sepeda motor arah karangmoncol jumat 4 3 17 30 wib cuaca hujan jalanan licin korban diduga terpeleset jatuh terpental jalan turunan kondisi hujan licin korban pakai motor modifikasi ban motor jatuh sisi kiri pengendara terlempar kanan mobil anggota berpapasan tubuhnya masuk kolong mobil era anggota polisi menurutnya melaju arah bobotsari karangmoncol anggotanya memeriksa kejadian kecelakaan daerah kronologis kejadian pengendara nama tuswanto 24 pakai sepeda motor vixion nomor modifikasi ban jatuh posisi menurun motor terpental kiri korban era menyebut peristiwa hujan diduga jalanan licin menyebabkan motor kehilangan kendali ketabrak saksi periksa jatuh duluan olah tkp jatuh duluan terseret nggak korban dirawat igd rs siaga medika kapolres purbalingga akbp era jhony kurniawan konfirmasi era menyebut korban mengalami luka kepala kaki luka lecet kepala samping kiri fraktur paha kanan terang era menyebut anggotanya diperiksa propam polres purbalingga 2 orang saksi diperiksa keterangan orang saksi korban jatuh duluan perkembangan pungkas korban kecelakaan sepeda motor masuk kolong mobil polisi purbalingga jawa jumat 4 3 meninggal dunia korban menjalani perawatan hari rumah sakit siaga medika korban meninggal dunia rs siaga medika hari 09 00 wib kapolres purbalingga akbp era jhony kurniawan hasil olah tkp kantornya minggu 6 3 era luka dialami korban fraktur paha kiri korban mengalami luka robek kepala sisi kiri luka lecet tangan kejadian korban helm jatuh kepalanya terbentur aspal fatal mengakibatkan gegar otak era kejadian pemeriksaan olah tkp lokasi kecelakaan pemeriksaan anggota saksi saksi kapolres purbalingga akbp era johny kurniawan keterangan tertulisnya minggu 6 3 kejadian anggota satlantas melaksanakan tugas tkp kecelakaan lintas tabrak lari korban meninggal kecamatan karangmoncol perjalanan mobil satlantas berpapasan sepeda motor jenis yamaha vixion sepeda motor oleng benturan mobil polisi sepeda motor terjatuh kiri pengendaranya terjatuh kanan masuk kolong mobil tempat kejadian pengemudi kendaraan dinas berusaha menghindari kecelakaan dibuktikan hasil olah tkp posisi kendaraan bergeser arah kiri miring 30 derajat kapolres akibatnya pemotor menderita luka mengenakan helm kepalanya menderita luka benturan aspal kapolres terkait anggota kepolisian mengendarai mobil dinas hasil pemeriksaan seksi propam ditemukan kelalaian pelanggaran pelaksanaan tugas motor terlibat kecelakaan mengalami modifikasi ban ukuran dilengkapi pelat nomor spion lampu utama sepeda motor dikendarai laju kencang dikuatkan keterangan saksi masyarakat kejadian langsung kapolres\n",
      "(Score: 0.1384) \n",
      "9\n",
      "No ID Dokumen  :  609\n",
      "Tanggal        :  Jumat, 29 Agu 2014 18:20 WIB\n",
      "\n",
      "\n",
      "Isi berita     :  alphard tertabrak kereta api perlintasan ka patal senayan 45 a kelurahan grogol utara kecamatan kebayoran jakarta selatan pagi kecelakaan parah kondisi perlintasa ka sore\n",
      "(Score: 0.1370) \n",
      "10\n",
      "No ID Dokumen  :  1355\n",
      "Tanggal        :  Selasa, 08 Mar 2022 14:20 WIB\n",
      "\n",
      "\n",
      "Isi berita     :  kecelakaan maut melibatkan mobil pemadam kebakaran damkar pengendara sepeda motor kabupaten sragen orang tewas peristiwa kasat lantas polres sragen akp abipraya guntur s peristiwa simpang alun alun sragen selasa 8 3 2022 09 20 wib mobil damkar ad 9004 xy melintas arah selatan utara bersamaan orang berboncengan honda vario ad 5652 im arah timur barat waktu lampu arah timur hijau abipraya dihubungi menduga mobil damkar melanggar lampu lintas keterangan mobil damkar menyalakan sirine akibatnya kecelakaan terhindarkan pengendara sepeda motor tewas membonceng mengalami luka luka pengemudi meninggal dunia dibonceng mengalami luka luka kepolisian memeriksa saksi saksi sopir damkar korban luka warga menyaksikan kejadian lakukan penyelidikan melengkapi keterangan saksi korban tutup abipraya\n",
      "(Score: 0.1364) \n"
     ]
    }
   ],
   "source": [
    "kueri='Lalin truk di jakarta'\n",
    "print (kueri)\n",
    "kueri=preprocessing(kueri)\n",
    "kueri= [\" \".join (kueri)]\n",
    "print (kueri)\n",
    "\n",
    "tfidf_matrix =joblib.load( \"tfidf_train.pkl\" )\n",
    "tfidf_vectorizer = joblib.load( \"vectorizer.pkl\" ) \n",
    "query_vec= tfidf_vectorizer.transform(kueri)\n",
    "results=cosine_similarity(tfidf_matrix, query_vec).reshape((-1))\n",
    "#print (results)\n",
    "print(\"\\n======================\\n\")\n",
    "print(\"Top 10 most similar documents in corpus:\")\n",
    "\n",
    "j = 1\n",
    "\n",
    "for i in results.argsort()[-10:][::-1]:\n",
    "    print(j)\n",
    "    print(\"No ID Dokumen  : \", i)\n",
    "    print(\"Tanggal        : \", df_total.iloc[i,1])\n",
    "    print(\"Isi berita     : \", df_total.iloc[i,2])\n",
    "    print(\"(Score: %.4f) \" % results[i])\n",
    "    j += 1"
   ]
  }
 ],
 "metadata": {
  "kernelspec": {
   "display_name": "Python 3",
   "language": "python",
   "name": "python3"
  },
  "language_info": {
   "codemirror_mode": {
    "name": "ipython",
    "version": 3
   },
   "file_extension": ".py",
   "mimetype": "text/x-python",
   "name": "python",
   "nbconvert_exporter": "python",
   "pygments_lexer": "ipython3",
   "version": "3.8.8"
  }
 },
 "nbformat": 4,
 "nbformat_minor": 2
}
